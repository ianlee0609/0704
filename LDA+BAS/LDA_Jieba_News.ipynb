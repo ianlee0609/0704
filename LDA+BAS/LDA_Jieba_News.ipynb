{
 "cells": [
  {
   "cell_type": "code",
   "execution_count": 8,
   "metadata": {
    "collapsed": false
   },
   "outputs": [
    {
     "name": "stderr",
     "output_type": "stream",
     "text": [
      "C:\\Python27\\Anaconda2\\lib\\site-packages\\bs4\\__init__.py:166: UserWarning: No parser was explicitly specified, so I'm using the best available HTML parser for this system (\"lxml\"). This usually isn't a problem, but if you run this code on another system, or in a different virtual environment, it may use a different parser and behave differently.\n",
      "\n",
      "To get rid of this warning, change this:\n",
      "\n",
      " BeautifulSoup([your markup])\n",
      "\n",
      "to this:\n",
      "\n",
      " BeautifulSoup([your markup], \"lxml\")\n",
      "\n",
      "  markup_type=markup_type))\n"
     ]
    }
   ],
   "source": [
    "import requests\n",
    "import jieba\n",
    "import re\n",
    "import jieba.posseg\n",
    "from bs4 import BeautifulSoup as bs\n",
    "test=[]\n",
    "corpus1 = []\n",
    "cuts=[]\n",
    "res = requests.get('http://www.appledaily.com.tw/realtimenews/section/new/')\n",
    "# soup = bs(res.text)\n",
    "NO=1\n",
    "\n",
    "#抓10頁蘋果日報\n",
    "for page in range(1,10):\n",
    "    aws = requests.get('http://www.appledaily.com.tw/realtimenews/section/new/'+str(page))\n",
    "    soup = bs(aws.text) \n",
    "    for title in soup.select('.rtddt'):\n",
    "       \n",
    "        for content in title.select('a'):\n",
    "            \n",
    "            newURL='http://www.appledaily.com.tw/'+content['href']\n",
    "            res2=requests.get(newURL)\n",
    "            soup2=bs( res2.text)\n",
    "            for articulum in soup2.select('.articulum'):\n",
    "                \n",
    "                \n",
    "                Sindex=articulum.text.index('googletag')\n",
    "                test+=articulum.text[0:Sindex]\n",
    "                NewArticulum= articulum.text[0:Sindex]\n",
    "                \n",
    "                ReArticulum = re.sub(\"[A-Za-z0-9]\", \"\", NewArticulum)\n",
    "                \n",
    "                #去除停用词  \n",
    "                stopwords = {}.fromkeys(stpwrdlst)  \n",
    "\n",
    "                segs = jieba.cut(ReArticulum, cut_all=False)  \n",
    "                final = ''  \n",
    "                for seg in segs:  \n",
    "                    seg = seg.encode(\"utf8\")\n",
    "                    if seg not in stopwords:  \n",
    "                            final += seg+\" \"\n",
    "                            \n",
    "                file= str(NO)+\".txt\"\n",
    "                f=open('D:/000/pos/'+file,'w')\n",
    "                \n",
    "                f.write(final+\"\\n\")\n",
    "\n",
    "                f.close()\n",
    "                NO+=1\n",
    "# for ele in test:\n",
    "#     cuts=[]\n",
    "#     for cut in jieba.posseg.cut(ele):\n",
    "#         #jieba.posseg.cut(ele)\n",
    "#         if(cut.flag=='n'): \n",
    "\n",
    "jieba.set_dictionary('C:\\Users\\qoo\\dict.txt')\n",
    "#             cuts.append(cut.word)\n",
    "#         print cut\n",
    "#         corpus1.append(cuts)\n",
    "# print corpus1"
   ]
  },
  {
   "cell_type": "code",
   "execution_count": 1,
   "metadata": {
    "collapsed": false
   },
   "outputs": [
    {
     "name": "stdout",
     "output_type": "stream",
     "text": [
      "天氣真好 888 和 的。\n"
     ]
    },
    {
     "ename": "NameError",
     "evalue": "name 're' is not defined",
     "output_type": "error",
     "traceback": [
      "\u001b[1;31m---------------------------------------------------------------------------\u001b[0m",
      "\u001b[1;31mNameError\u001b[0m                                 Traceback (most recent call last)",
      "\u001b[1;32m<ipython-input-1-a2f965f17999>\u001b[0m in \u001b[0;36m<module>\u001b[1;34m()\u001b[0m\n\u001b[0;32m      2\u001b[0m \u001b[0mb\u001b[0m\u001b[1;33m=\u001b[0m\u001b[1;33m(\u001b[0m\u001b[1;34m\"天氣真好 888 和 的。\"\u001b[0m\u001b[1;33m)\u001b[0m\u001b[1;33m\u001b[0m\u001b[0m\n\u001b[0;32m      3\u001b[0m \u001b[1;32mprint\u001b[0m \u001b[0mb\u001b[0m\u001b[1;33m\u001b[0m\u001b[0m\n\u001b[1;32m----> 4\u001b[1;33m \u001b[0ma\u001b[0m \u001b[1;33m=\u001b[0m \u001b[0mre\u001b[0m\u001b[1;33m.\u001b[0m\u001b[0msub\u001b[0m\u001b[1;33m(\u001b[0m\u001b[1;34m\"[A-Za-z0-9]\"\u001b[0m\u001b[1;33m,\u001b[0m \u001b[1;34m\"\"\u001b[0m\u001b[1;33m,\u001b[0m \u001b[0mb\u001b[0m\u001b[1;33m)\u001b[0m\u001b[1;33m\u001b[0m\u001b[0m\n\u001b[0m\u001b[0;32m      5\u001b[0m \u001b[1;31m#去除停用词\u001b[0m\u001b[1;33m\u001b[0m\u001b[1;33m\u001b[0m\u001b[0m\n\u001b[0;32m      6\u001b[0m \u001b[0mstopwords\u001b[0m \u001b[1;33m=\u001b[0m \u001b[1;33m{\u001b[0m\u001b[1;33m}\u001b[0m\u001b[1;33m.\u001b[0m\u001b[0mfromkeys\u001b[0m\u001b[1;33m(\u001b[0m\u001b[0mstpwrdlst\u001b[0m\u001b[1;33m)\u001b[0m\u001b[1;33m\u001b[0m\u001b[0m\n",
      "\u001b[1;31mNameError\u001b[0m: name 're' is not defined"
     ]
    }
   ],
   "source": [
    "import jieba\n",
    "b=(\"天氣真好 888 和 的。\")\n",
    "print b\n",
    "a = re.sub(\"[A-Za-z0-9]\", \"\", b)\n",
    "#去除停用词  \n",
    "stopwords = {}.fromkeys(stpwrdlst)  \n",
    "segs = jieba.cut(a, cut_all=False)  \n",
    "final = ''  \n",
    "for seg in segs:  \n",
    "    seg = seg.encode('utf-8')  \n",
    "    if seg not in stopwords:  \n",
    "            final += seg+\" \"\n",
    "print final"
   ]
  },
  {
   "cell_type": "code",
   "execution_count": 2,
   "metadata": {
    "collapsed": false
   },
   "outputs": [
    {
     "name": "stdout",
     "output_type": "stream",
     "text": [
      "中文\n"
     ]
    }
   ],
   "source": [
    "#去除符號,數字\n",
    "import re\n",
    "b=\"我是。a\"\n",
    "s = u\"中文bab#$%$#%#$2123\"\n",
    "r = re.sub(\"[A-Za-z0-9\\[\\`\\~\\!\\@\\#\\$\\^\\&\\*\\(\\)\\=\\|\\{\\}\\'\\:\\;\\'\\,\\[\\]\\.\\<\\>\\/\\?\\~\\！\\@\\#\\\\\\&\\*\\%]\", \"\", s)\n",
    "print r\n"
   ]
  },
  {
   "cell_type": "code",
   "execution_count": 6,
   "metadata": {
    "collapsed": false
   },
   "outputs": [
    {
     "name": "stderr",
     "output_type": "stream",
     "text": [
      "Building prefix dict from C:\\Users\\qoo\\dict.txt ...\n",
      "DEBUG:jieba:Building prefix dict from C:\\Users\\qoo\\dict.txt ...\n",
      "Loading model from cache c:\\users\\qoo\\appdata\\local\\temp\\jieba.ue6c4b4709909b7110069926ff0ce5220.cache\n",
      "DEBUG:jieba:Loading model from cache c:\\users\\qoo\\appdata\\local\\temp\\jieba.ue6c4b4709909b7110069926ff0ce5220.cache\n",
      "Loading model cost 0.492 seconds.\n",
      "DEBUG:jieba:Loading model cost 0.492 seconds.\n",
      "Prefix dict has been built succesfully.\n",
      "DEBUG:jieba:Prefix dict has been built succesfully.\n"
     ]
    },
    {
     "name": "stdout",
     "output_type": "stream",
     "text": [
      "故宫 著名 景 包括 乾 清宫 太和殿 中乾 清宫 精美 \n"
     ]
    }
   ],
   "source": [
    "import jieba  \n",
    "  \n",
    "#去除停用词  \n",
    "stopwords = {}.fromkeys(stpwrdlst)  \n",
    "text = \"的的故宫的著名景包括乾清宫9、太和殿和。其，中乾清宫非常精美。\"  \n",
    "segs = jieba.cut(text, cut_all=False)  \n",
    "final = ''  \n",
    "for seg in segs:  \n",
    "    seg = seg.encode('utf-8')  \n",
    "    if seg not in stopwords:  \n",
    "            final += seg+\" \"\n",
    "            \n",
    "print final\n"
   ]
  },
  {
   "cell_type": "code",
   "execution_count": 4,
   "metadata": {
    "collapsed": false
   },
   "outputs": [],
   "source": [
    "#停用詞表\n",
    "stpwrdpath = \"C:\\Users\\qoo\\stopword.txt\"\n",
    "stpwrd_dic = open(stpwrdpath, 'rb')\n",
    "stpwrd_content = stpwrd_dic.read()\n",
    "\n",
    "#将停用词表转换为list  \n",
    "stpwrdlst = stpwrd_content.splitlines()\n",
    "stpwrdlst.append('／')\n",
    "stpwrdlst.append(' ')\n",
    "stpwrdlst.append('「')\n",
    "stpwrdlst.append('」')\n",
    "stpwrd_dic.close()\n"
   ]
  },
  {
   "cell_type": "code",
   "execution_count": 5,
   "metadata": {
    "collapsed": false
   },
   "outputs": [
    {
     "name": "stdout",
     "output_type": "stream",
     "text": [
      "我我我 \n"
     ]
    }
   ],
   "source": [
    "a=\"我我我 \"\n",
    "\n",
    "print a.decode(\"utf8\")\n"
   ]
  },
  {
   "cell_type": "code",
   "execution_count": 20,
   "metadata": {
    "collapsed": false
   },
   "outputs": [
    {
     "name": "stdout",
     "output_type": "stream",
     "text": [
      "過 馬路 要 小心 \n"
     ]
    }
   ],
   "source": [
    "msg=\"\"\n",
    "for ele in jieba.cut('過馬路要小心'):\n",
    "    msg+=ele+\" \"\n",
    "print msg"
   ]
  },
  {
   "cell_type": "code",
   "execution_count": null,
   "metadata": {
    "collapsed": true
   },
   "outputs": [],
   "source": []
  }
 ],
 "metadata": {
  "kernelspec": {
   "display_name": "Python 2",
   "language": "python",
   "name": "python2"
  },
  "language_info": {
   "codemirror_mode": {
    "name": "ipython",
    "version": 2
   },
   "file_extension": ".py",
   "mimetype": "text/x-python",
   "name": "python",
   "nbconvert_exporter": "python",
   "pygments_lexer": "ipython2",
   "version": "2.7.11"
  }
 },
 "nbformat": 4,
 "nbformat_minor": 0
}
