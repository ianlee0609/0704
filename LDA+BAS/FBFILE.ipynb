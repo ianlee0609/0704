{
 "cells": [
  {
   "cell_type": "code",
   "execution_count": 2,
   "metadata": {
    "collapsed": true
   },
   "outputs": [
    {
     "name": "stdout",
     "output_type": "stream",
     "text": [
      "0\n",
      "{\"probability\": {\"neg\": 0.22531846855219551, \"neutral\": 0.084284385065714951, \"pos\": 0.77468153144780449}, \"label\": \"pos\"}\n",
      "1\n",
      "{\"probability\": {\"neg\": 0.22531846855219551, \"neutral\": 0.084284385065714951, \"pos\": 0.77468153144780449}, \"label\": \"pos\"}\n",
      "2\n",
      "{\"probability\": {\"neg\": 0.22531846855219551, \"neutral\": 0.084284385065714951, \"pos\": 0.77468153144780449}, \"label\": \"pos\"}\n",
      "3\n",
      "{\"probability\": {\"neg\": 0.22531846855219551, \"neutral\": 0.084284385065714951, \"pos\": 0.77468153144780449}, \"label\": \"pos\"}\n",
      "4\n",
      "{\"probability\": {\"neg\": 0.22531846855219551, \"neutral\": 0.084284385065714951, \"pos\": 0.77468153144780449}, \"label\": \"pos\"}\n",
      "5\n",
      "{\"probability\": {\"neg\": 0.22531846855219551, \"neutral\": 0.084284385065714951, \"pos\": 0.77468153144780449}, \"label\": \"pos\"}\n",
      "6\n",
      "{\"probability\": {\"neg\": 0.22531846855219551, \"neutral\": 0.084284385065714951, \"pos\": 0.77468153144780449}, \"label\": \"pos\"}\n",
      "7\n",
      "{\"probability\": {\"neg\": 0.22531846855219551, \"neutral\": 0.084284385065714951, \"pos\": 0.77468153144780449}, \"label\": \"pos\"}\n",
      "8\n",
      "{\"probability\": {\"neg\": 0.22531846855219551, \"neutral\": 0.084284385065714951, \"pos\": 0.77468153144780449}, \"label\": \"pos\"}\n",
      "9\n",
      "{\"probability\": {\"neg\": 0.22531846855219551, \"neutral\": 0.084284385065714951, \"pos\": 0.77468153144780449}, \"label\": \"pos\"}\n",
      "10\n",
      "{\"probability\": {\"neg\": 0.22531846855219551, \"neutral\": 0.084284385065714951, \"pos\": 0.77468153144780449}, \"label\": \"pos\"}\n",
      "11\n",
      "{\"probability\": {\"neg\": 0.22531846855219551, \"neutral\": 0.084284385065714951, \"pos\": 0.77468153144780449}, \"label\": \"pos\"}\n",
      "12\n",
      "{\"probability\": {\"neg\": 0.22531846855219551, \"neutral\": 0.084284385065714951, \"pos\": 0.77468153144780449}, \"label\": \"pos\"}\n",
      "13\n",
      "{\"probability\": {\"neg\": 0.22531846855219551, \"neutral\": 0.084284385065714951, \"pos\": 0.77468153144780449}, \"label\": \"pos\"}\n",
      "14\n",
      "{\"probability\": {\"neg\": 0.22531846855219551, \"neutral\": 0.084284385065714951, \"pos\": 0.77468153144780449}, \"label\": \"pos\"}\n",
      "15\n"
     ]
    },
    {
     "ename": "KeyboardInterrupt",
     "evalue": "",
     "output_type": "error",
     "traceback": [
      "\u001b[1;31m---------------------------------------------------------------------------\u001b[0m",
      "\u001b[1;31mKeyboardInterrupt\u001b[0m                         Traceback (most recent call last)",
      "\u001b[1;32m<ipython-input-2-643e2328be51>\u001b[0m in \u001b[0;36m<module>\u001b[1;34m()\u001b[0m\n\u001b[0;32m      3\u001b[0m     \u001b[1;32mprint\u001b[0m \u001b[0mi\u001b[0m\u001b[1;33m\u001b[0m\u001b[0m\n\u001b[0;32m      4\u001b[0m     \u001b[0mdata\u001b[0m \u001b[1;33m=\u001b[0m \u001b[0murllib\u001b[0m\u001b[1;33m.\u001b[0m\u001b[0murlencode\u001b[0m\u001b[1;33m(\u001b[0m\u001b[1;33m{\u001b[0m\u001b[1;34m\"text\"\u001b[0m\u001b[1;33m:\u001b[0m \u001b[1;34m\"I'm a very good boy \"\u001b[0m\u001b[1;33m}\u001b[0m\u001b[1;33m)\u001b[0m\u001b[1;33m\u001b[0m\u001b[0m\n\u001b[1;32m----> 5\u001b[1;33m     \u001b[0mu\u001b[0m \u001b[1;33m=\u001b[0m \u001b[0murllib\u001b[0m\u001b[1;33m.\u001b[0m\u001b[0murlopen\u001b[0m\u001b[1;33m(\u001b[0m\u001b[1;34m\"http://text-processing.com/api/sentiment/\"\u001b[0m\u001b[1;33m,\u001b[0m \u001b[0mdata\u001b[0m\u001b[1;33m)\u001b[0m\u001b[1;33m\u001b[0m\u001b[0m\n\u001b[0m\u001b[0;32m      6\u001b[0m     \u001b[0mthe_page\u001b[0m \u001b[1;33m=\u001b[0m \u001b[0mu\u001b[0m\u001b[1;33m.\u001b[0m\u001b[0mread\u001b[0m\u001b[1;33m(\u001b[0m\u001b[1;33m)\u001b[0m\u001b[1;33m\u001b[0m\u001b[0m\n\u001b[0;32m      7\u001b[0m     \u001b[1;32mprint\u001b[0m \u001b[0mthe_page\u001b[0m\u001b[1;33m\u001b[0m\u001b[0m\n",
      "\u001b[1;32mC:\\Python27\\Anaconda2\\lib\\urllib.pyc\u001b[0m in \u001b[0;36murlopen\u001b[1;34m(url, data, proxies, context)\u001b[0m\n\u001b[0;32m     87\u001b[0m         \u001b[1;32mreturn\u001b[0m \u001b[0mopener\u001b[0m\u001b[1;33m.\u001b[0m\u001b[0mopen\u001b[0m\u001b[1;33m(\u001b[0m\u001b[0murl\u001b[0m\u001b[1;33m)\u001b[0m\u001b[1;33m\u001b[0m\u001b[0m\n\u001b[0;32m     88\u001b[0m     \u001b[1;32melse\u001b[0m\u001b[1;33m:\u001b[0m\u001b[1;33m\u001b[0m\u001b[0m\n\u001b[1;32m---> 89\u001b[1;33m         \u001b[1;32mreturn\u001b[0m \u001b[0mopener\u001b[0m\u001b[1;33m.\u001b[0m\u001b[0mopen\u001b[0m\u001b[1;33m(\u001b[0m\u001b[0murl\u001b[0m\u001b[1;33m,\u001b[0m \u001b[0mdata\u001b[0m\u001b[1;33m)\u001b[0m\u001b[1;33m\u001b[0m\u001b[0m\n\u001b[0m\u001b[0;32m     90\u001b[0m \u001b[1;32mdef\u001b[0m \u001b[0murlretrieve\u001b[0m\u001b[1;33m(\u001b[0m\u001b[0murl\u001b[0m\u001b[1;33m,\u001b[0m \u001b[0mfilename\u001b[0m\u001b[1;33m=\u001b[0m\u001b[0mNone\u001b[0m\u001b[1;33m,\u001b[0m \u001b[0mreporthook\u001b[0m\u001b[1;33m=\u001b[0m\u001b[0mNone\u001b[0m\u001b[1;33m,\u001b[0m \u001b[0mdata\u001b[0m\u001b[1;33m=\u001b[0m\u001b[0mNone\u001b[0m\u001b[1;33m,\u001b[0m \u001b[0mcontext\u001b[0m\u001b[1;33m=\u001b[0m\u001b[0mNone\u001b[0m\u001b[1;33m)\u001b[0m\u001b[1;33m:\u001b[0m\u001b[1;33m\u001b[0m\u001b[0m\n\u001b[0;32m     91\u001b[0m     \u001b[1;32mglobal\u001b[0m \u001b[0m_urlopener\u001b[0m\u001b[1;33m\u001b[0m\u001b[0m\n",
      "\u001b[1;32mC:\\Python27\\Anaconda2\\lib\\urllib.pyc\u001b[0m in \u001b[0;36mopen\u001b[1;34m(self, fullurl, data)\u001b[0m\n\u001b[0;32m    213\u001b[0m                 \u001b[1;32mreturn\u001b[0m \u001b[0mgetattr\u001b[0m\u001b[1;33m(\u001b[0m\u001b[0mself\u001b[0m\u001b[1;33m,\u001b[0m \u001b[0mname\u001b[0m\u001b[1;33m)\u001b[0m\u001b[1;33m(\u001b[0m\u001b[0murl\u001b[0m\u001b[1;33m)\u001b[0m\u001b[1;33m\u001b[0m\u001b[0m\n\u001b[0;32m    214\u001b[0m             \u001b[1;32melse\u001b[0m\u001b[1;33m:\u001b[0m\u001b[1;33m\u001b[0m\u001b[0m\n\u001b[1;32m--> 215\u001b[1;33m                 \u001b[1;32mreturn\u001b[0m \u001b[0mgetattr\u001b[0m\u001b[1;33m(\u001b[0m\u001b[0mself\u001b[0m\u001b[1;33m,\u001b[0m \u001b[0mname\u001b[0m\u001b[1;33m)\u001b[0m\u001b[1;33m(\u001b[0m\u001b[0murl\u001b[0m\u001b[1;33m,\u001b[0m \u001b[0mdata\u001b[0m\u001b[1;33m)\u001b[0m\u001b[1;33m\u001b[0m\u001b[0m\n\u001b[0m\u001b[0;32m    216\u001b[0m         \u001b[1;32mexcept\u001b[0m \u001b[0msocket\u001b[0m\u001b[1;33m.\u001b[0m\u001b[0merror\u001b[0m\u001b[1;33m,\u001b[0m \u001b[0mmsg\u001b[0m\u001b[1;33m:\u001b[0m\u001b[1;33m\u001b[0m\u001b[0m\n\u001b[0;32m    217\u001b[0m             \u001b[1;32mraise\u001b[0m \u001b[0mIOError\u001b[0m\u001b[1;33m,\u001b[0m \u001b[1;33m(\u001b[0m\u001b[1;34m'socket error'\u001b[0m\u001b[1;33m,\u001b[0m \u001b[0mmsg\u001b[0m\u001b[1;33m)\u001b[0m\u001b[1;33m,\u001b[0m \u001b[0msys\u001b[0m\u001b[1;33m.\u001b[0m\u001b[0mexc_info\u001b[0m\u001b[1;33m(\u001b[0m\u001b[1;33m)\u001b[0m\u001b[1;33m[\u001b[0m\u001b[1;36m2\u001b[0m\u001b[1;33m]\u001b[0m\u001b[1;33m\u001b[0m\u001b[0m\n",
      "\u001b[1;32mC:\\Python27\\Anaconda2\\lib\\urllib.pyc\u001b[0m in \u001b[0;36mopen_http\u001b[1;34m(self, url, data)\u001b[0m\n\u001b[0;32m    348\u001b[0m         \u001b[1;32mif\u001b[0m \u001b[0mrealhost\u001b[0m\u001b[1;33m:\u001b[0m \u001b[0mh\u001b[0m\u001b[1;33m.\u001b[0m\u001b[0mputheader\u001b[0m\u001b[1;33m(\u001b[0m\u001b[1;34m'Host'\u001b[0m\u001b[1;33m,\u001b[0m \u001b[0mrealhost\u001b[0m\u001b[1;33m)\u001b[0m\u001b[1;33m\u001b[0m\u001b[0m\n\u001b[0;32m    349\u001b[0m         \u001b[1;32mfor\u001b[0m \u001b[0margs\u001b[0m \u001b[1;32min\u001b[0m \u001b[0mself\u001b[0m\u001b[1;33m.\u001b[0m\u001b[0maddheaders\u001b[0m\u001b[1;33m:\u001b[0m \u001b[0mh\u001b[0m\u001b[1;33m.\u001b[0m\u001b[0mputheader\u001b[0m\u001b[1;33m(\u001b[0m\u001b[1;33m*\u001b[0m\u001b[0margs\u001b[0m\u001b[1;33m)\u001b[0m\u001b[1;33m\u001b[0m\u001b[0m\n\u001b[1;32m--> 350\u001b[1;33m         \u001b[0mh\u001b[0m\u001b[1;33m.\u001b[0m\u001b[0mendheaders\u001b[0m\u001b[1;33m(\u001b[0m\u001b[0mdata\u001b[0m\u001b[1;33m)\u001b[0m\u001b[1;33m\u001b[0m\u001b[0m\n\u001b[0m\u001b[0;32m    351\u001b[0m         \u001b[0merrcode\u001b[0m\u001b[1;33m,\u001b[0m \u001b[0merrmsg\u001b[0m\u001b[1;33m,\u001b[0m \u001b[0mheaders\u001b[0m \u001b[1;33m=\u001b[0m \u001b[0mh\u001b[0m\u001b[1;33m.\u001b[0m\u001b[0mgetreply\u001b[0m\u001b[1;33m(\u001b[0m\u001b[1;33m)\u001b[0m\u001b[1;33m\u001b[0m\u001b[0m\n\u001b[0;32m    352\u001b[0m         \u001b[0mfp\u001b[0m \u001b[1;33m=\u001b[0m \u001b[0mh\u001b[0m\u001b[1;33m.\u001b[0m\u001b[0mgetfile\u001b[0m\u001b[1;33m(\u001b[0m\u001b[1;33m)\u001b[0m\u001b[1;33m\u001b[0m\u001b[0m\n",
      "\u001b[1;32mC:\\Python27\\Anaconda2\\lib\\httplib.pyc\u001b[0m in \u001b[0;36mendheaders\u001b[1;34m(self, message_body)\u001b[0m\n\u001b[0;32m   1051\u001b[0m         \u001b[1;32melse\u001b[0m\u001b[1;33m:\u001b[0m\u001b[1;33m\u001b[0m\u001b[0m\n\u001b[0;32m   1052\u001b[0m             \u001b[1;32mraise\u001b[0m \u001b[0mCannotSendHeader\u001b[0m\u001b[1;33m(\u001b[0m\u001b[1;33m)\u001b[0m\u001b[1;33m\u001b[0m\u001b[0m\n\u001b[1;32m-> 1053\u001b[1;33m         \u001b[0mself\u001b[0m\u001b[1;33m.\u001b[0m\u001b[0m_send_output\u001b[0m\u001b[1;33m(\u001b[0m\u001b[0mmessage_body\u001b[0m\u001b[1;33m)\u001b[0m\u001b[1;33m\u001b[0m\u001b[0m\n\u001b[0m\u001b[0;32m   1054\u001b[0m \u001b[1;33m\u001b[0m\u001b[0m\n\u001b[0;32m   1055\u001b[0m     \u001b[1;32mdef\u001b[0m \u001b[0mrequest\u001b[0m\u001b[1;33m(\u001b[0m\u001b[0mself\u001b[0m\u001b[1;33m,\u001b[0m \u001b[0mmethod\u001b[0m\u001b[1;33m,\u001b[0m \u001b[0murl\u001b[0m\u001b[1;33m,\u001b[0m \u001b[0mbody\u001b[0m\u001b[1;33m=\u001b[0m\u001b[0mNone\u001b[0m\u001b[1;33m,\u001b[0m \u001b[0mheaders\u001b[0m\u001b[1;33m=\u001b[0m\u001b[1;33m{\u001b[0m\u001b[1;33m}\u001b[0m\u001b[1;33m)\u001b[0m\u001b[1;33m:\u001b[0m\u001b[1;33m\u001b[0m\u001b[0m\n",
      "\u001b[1;32mC:\\Python27\\Anaconda2\\lib\\httplib.pyc\u001b[0m in \u001b[0;36m_send_output\u001b[1;34m(self, message_body)\u001b[0m\n\u001b[0;32m    895\u001b[0m             \u001b[0mmsg\u001b[0m \u001b[1;33m+=\u001b[0m \u001b[0mmessage_body\u001b[0m\u001b[1;33m\u001b[0m\u001b[0m\n\u001b[0;32m    896\u001b[0m             \u001b[0mmessage_body\u001b[0m \u001b[1;33m=\u001b[0m \u001b[0mNone\u001b[0m\u001b[1;33m\u001b[0m\u001b[0m\n\u001b[1;32m--> 897\u001b[1;33m         \u001b[0mself\u001b[0m\u001b[1;33m.\u001b[0m\u001b[0msend\u001b[0m\u001b[1;33m(\u001b[0m\u001b[0mmsg\u001b[0m\u001b[1;33m)\u001b[0m\u001b[1;33m\u001b[0m\u001b[0m\n\u001b[0m\u001b[0;32m    898\u001b[0m         \u001b[1;32mif\u001b[0m \u001b[0mmessage_body\u001b[0m \u001b[1;32mis\u001b[0m \u001b[1;32mnot\u001b[0m \u001b[0mNone\u001b[0m\u001b[1;33m:\u001b[0m\u001b[1;33m\u001b[0m\u001b[0m\n\u001b[0;32m    899\u001b[0m             \u001b[1;31m#message_body was not a string (i.e. it is a file) and\u001b[0m\u001b[1;33m\u001b[0m\u001b[1;33m\u001b[0m\u001b[0m\n",
      "\u001b[1;32mC:\\Python27\\Anaconda2\\lib\\httplib.pyc\u001b[0m in \u001b[0;36msend\u001b[1;34m(self, data)\u001b[0m\n\u001b[0;32m    857\u001b[0m         \u001b[1;32mif\u001b[0m \u001b[0mself\u001b[0m\u001b[1;33m.\u001b[0m\u001b[0msock\u001b[0m \u001b[1;32mis\u001b[0m \u001b[0mNone\u001b[0m\u001b[1;33m:\u001b[0m\u001b[1;33m\u001b[0m\u001b[0m\n\u001b[0;32m    858\u001b[0m             \u001b[1;32mif\u001b[0m \u001b[0mself\u001b[0m\u001b[1;33m.\u001b[0m\u001b[0mauto_open\u001b[0m\u001b[1;33m:\u001b[0m\u001b[1;33m\u001b[0m\u001b[0m\n\u001b[1;32m--> 859\u001b[1;33m                 \u001b[0mself\u001b[0m\u001b[1;33m.\u001b[0m\u001b[0mconnect\u001b[0m\u001b[1;33m(\u001b[0m\u001b[1;33m)\u001b[0m\u001b[1;33m\u001b[0m\u001b[0m\n\u001b[0m\u001b[0;32m    860\u001b[0m             \u001b[1;32melse\u001b[0m\u001b[1;33m:\u001b[0m\u001b[1;33m\u001b[0m\u001b[0m\n\u001b[0;32m    861\u001b[0m                 \u001b[1;32mraise\u001b[0m \u001b[0mNotConnected\u001b[0m\u001b[1;33m(\u001b[0m\u001b[1;33m)\u001b[0m\u001b[1;33m\u001b[0m\u001b[0m\n",
      "\u001b[1;32mC:\\Python27\\Anaconda2\\lib\\httplib.pyc\u001b[0m in \u001b[0;36mconnect\u001b[1;34m(self)\u001b[0m\n\u001b[0;32m    834\u001b[0m         \u001b[1;34m\"\"\"Connect to the host and port specified in __init__.\"\"\"\u001b[0m\u001b[1;33m\u001b[0m\u001b[0m\n\u001b[0;32m    835\u001b[0m         self.sock = self._create_connection((self.host,self.port),\n\u001b[1;32m--> 836\u001b[1;33m                                            self.timeout, self.source_address)\n\u001b[0m\u001b[0;32m    837\u001b[0m \u001b[1;33m\u001b[0m\u001b[0m\n\u001b[0;32m    838\u001b[0m         \u001b[1;32mif\u001b[0m \u001b[0mself\u001b[0m\u001b[1;33m.\u001b[0m\u001b[0m_tunnel_host\u001b[0m\u001b[1;33m:\u001b[0m\u001b[1;33m\u001b[0m\u001b[0m\n",
      "\u001b[1;32mC:\\Python27\\Anaconda2\\lib\\socket.pyc\u001b[0m in \u001b[0;36mcreate_connection\u001b[1;34m(address, timeout, source_address)\u001b[0m\n\u001b[0;32m    564\u001b[0m             \u001b[1;32mif\u001b[0m \u001b[0msource_address\u001b[0m\u001b[1;33m:\u001b[0m\u001b[1;33m\u001b[0m\u001b[0m\n\u001b[0;32m    565\u001b[0m                 \u001b[0msock\u001b[0m\u001b[1;33m.\u001b[0m\u001b[0mbind\u001b[0m\u001b[1;33m(\u001b[0m\u001b[0msource_address\u001b[0m\u001b[1;33m)\u001b[0m\u001b[1;33m\u001b[0m\u001b[0m\n\u001b[1;32m--> 566\u001b[1;33m             \u001b[0msock\u001b[0m\u001b[1;33m.\u001b[0m\u001b[0mconnect\u001b[0m\u001b[1;33m(\u001b[0m\u001b[0msa\u001b[0m\u001b[1;33m)\u001b[0m\u001b[1;33m\u001b[0m\u001b[0m\n\u001b[0m\u001b[0;32m    567\u001b[0m             \u001b[1;32mreturn\u001b[0m \u001b[0msock\u001b[0m\u001b[1;33m\u001b[0m\u001b[0m\n\u001b[0;32m    568\u001b[0m \u001b[1;33m\u001b[0m\u001b[0m\n",
      "\u001b[1;32mC:\\Python27\\Anaconda2\\lib\\socket.pyc\u001b[0m in \u001b[0;36mmeth\u001b[1;34m(name, self, *args)\u001b[0m\n\u001b[0;32m    226\u001b[0m \u001b[1;33m\u001b[0m\u001b[0m\n\u001b[0;32m    227\u001b[0m \u001b[1;32mdef\u001b[0m \u001b[0mmeth\u001b[0m\u001b[1;33m(\u001b[0m\u001b[0mname\u001b[0m\u001b[1;33m,\u001b[0m\u001b[0mself\u001b[0m\u001b[1;33m,\u001b[0m\u001b[1;33m*\u001b[0m\u001b[0margs\u001b[0m\u001b[1;33m)\u001b[0m\u001b[1;33m:\u001b[0m\u001b[1;33m\u001b[0m\u001b[0m\n\u001b[1;32m--> 228\u001b[1;33m     \u001b[1;32mreturn\u001b[0m \u001b[0mgetattr\u001b[0m\u001b[1;33m(\u001b[0m\u001b[0mself\u001b[0m\u001b[1;33m.\u001b[0m\u001b[0m_sock\u001b[0m\u001b[1;33m,\u001b[0m\u001b[0mname\u001b[0m\u001b[1;33m)\u001b[0m\u001b[1;33m(\u001b[0m\u001b[1;33m*\u001b[0m\u001b[0margs\u001b[0m\u001b[1;33m)\u001b[0m\u001b[1;33m\u001b[0m\u001b[0m\n\u001b[0m\u001b[0;32m    229\u001b[0m \u001b[1;33m\u001b[0m\u001b[0m\n\u001b[0;32m    230\u001b[0m \u001b[1;32mfor\u001b[0m \u001b[0m_m\u001b[0m \u001b[1;32min\u001b[0m \u001b[0m_socketmethods\u001b[0m\u001b[1;33m:\u001b[0m\u001b[1;33m\u001b[0m\u001b[0m\n",
      "\u001b[1;31mKeyboardInterrupt\u001b[0m: "
     ]
    }
   ],
   "source": [
    "import urllib\n",
    "for i in  range(0,1000):\n",
    "    print i \n",
    "    data = urllib.urlencode({\"text\": \"I'm a very good boy \"}) \n",
    "    u = urllib.urlopen(\"http://text-processing.com/api/sentiment/\", data)\n",
    "    the_page = u.read()\n",
    "    print the_page"
   ]
  },
  {
   "cell_type": "code",
   "execution_count": 86,
   "metadata": {
    "collapsed": false
   },
   "outputs": [
    {
     "name": "stdout",
     "output_type": "stream",
     "text": [
      "<type 'str'>\n",
      "朋友 林怡瑄 Tina Chen 陳雅芝 Cl Tsai Elaine Liu 陳喬媗 莊惟庭 陳思樺 Nini Tsai Bossanova Chu 蔡曉瑄 Anthony Ng Len Chen Ying-Chieh Chen 高昱棻 李佳熹 黃彥傑 Yu-Wen Sally Peng Emma Lee 吳睿哲 Melody Wang Andy Chien 凌旌榮 Kao Yi Kuo Chang Scofield Jerry Helen Bee Jack Feng 周伶 Jian Sheng-jhe 褚于萱 陳行遠 Chien Weng Vr Chen 李仕崇 Victoria Chen 感動回憶 Chong Pan Ng Bill Wang Joanne Yu John Man 黃詩軒 Jessie Chang Eva Lai 胡家豪 Aaron Hong 蔡雀風京 鄧家宜 Jessica Cheng Hsin Lien 魏念霆 Chi Yue Li Mei Chuang Hu 陳建良 戴錡錡 陳璇璇 吳貞緯 Wendy Ma 賴瑞 林郁捷 方均孟 曹雅茹 徐悅慈 Rachel Chen 郭欣慈 黃大維 Melody F. Chiang Mingwei Meii 賀元立 Peter Lee 松本 ライト 高沛辰 歐亦峻 貢丸 辜泓文 樊雨竺 李柏志 Andrea Wang (andreawang3108@gmail.com) Allen Jeng-Wei Wu 陳妍諠 謝耗 鍾睿年 林銘嬋 Harris Chen 李思葶 Chih-Ling Chen Hui Chun Chu 游芯瑀 康家禎 郭羽婕 Tzu Ying JerMing Tiyo 李富楷 楊占煊 Hsuan-Lu Lucy 屠海峰 翁子珺 唐國耕 張永欣 黎芙萱 李俊佑 Aoi Chang 許自濠 YunCheng Lee 邱郁雯 路東東 湘湘 藍少甫 Elena Ann 陳建任 May Lin Apple Tseng Desmond Shih Brandon Lin Yi Chen Wang Yi Ru 羅珊 蕭仲傑 吳明同 宋宇軒 李品寬 林磐石 (t100a50302@ntut.org.tw) 高渝翔 楊哲瑀 周師丞 Abugi Lin Chang Hao 駱泰翔 (a488585455@hotmail.com) 何小降 溫語煖 王俊承 王晧軒 許崇堂 鄭奕洲 杜承鴻 袁玉哲 徐庭萱 Yuyun Hsueh 王別洋 Andy Lee 蔡宛儒 李傳捷 陳郁璇 林毓品 溫大鈞 林家任 林家宏 李品蓉 曹雯惠 Charlotte You Alice Chung Anna Chang 宋品承 陳柏霖 楊嘉騏 蔡孟潔 Annie Chen 沉醉 Cat Cheng Kai Ren Yang 林楷傑 Tom Huang 黃麒睿 黃薇德 李品璇 朱偉恩 林宗翰 郭宗維 李語軒 莊姚明 Livia Liao 胡霈倢 洪靖凱 黃子睿 王友倫 黃元妤 許紫瑄 曾立傑 廖家樑 王嘉鼎 周翔緯 Tzu-chao Hsu 侯騏杰 Oba Tsai 洪書婷 Nancy Tao Herfina Tedjo Warsito 李博逸 曾文宏 James Tsai 陳冠榮 李昊哲 Jonathan Wu 孔德晟 Jung Yu Yang 許又中 張有志 李冠儀 曹雅琪 吳東哲 吳珮雯 瑪蕾李 蔡瑋瑋 林滾滾 洪詩翔 Kun-Tai Chang 廖本霖 Jin Zhan Tian 薇同學 陳柏銨 高家翎 陳伯先 連挺宏 趙博炫 JR Boracay 陳宥安 Yiyi Hsieh 何必〃 梁家傑 蘇昱昕 曹藏華 梅有救 黃彥瑋 陳彥宇 陳暐哲 Guang Yan Han (oa58106213@gmail.com) Christopher Cho 王琮雯 陳威廷 Hank Su 王昱婷 張子凌 鄭皓中 鍾采瑜 顏家麒 紀國生 詹筱菁 張立祥 吳坤泉 何昱澍 Alvin Chen Cool Long 駱泰 宏 黃繹衡 陳致文 蕭佳燊 林佳儀 Sharon Chen 朱彥儒 蘋果泥 劉千誼 饒庭宇 王威堯 李佩如 Jason Wu 李品佑 Mark Chen 劉京瑋 林新宇 王世任 何必呢 李岳軒 連庭輝 謝予涵 何易宸 阮祥誌 Jimmy Li 張雅嵐 曾彥竣 Chen Liang Yu 程威傑 陳家祥 賴大偉 德奎侯 林邦 周秉賢 陳宏甫 Joanne Liao 許庭庭 Valentine Julio 吉伯溫 林祖罵 胡鐘躍 葉韜 Miriam Chang 鄭竹軒 蔡文翔 Freddy Yang Ruby Wang 魏宇辰 林佳緯 張柏正 唐賢融 Ming-Yu Hsu 金元恩 許少愷 Alex Yo 陳伃柔 Angel Lee 陳羽婕 張大可 李承維 廖馥瑜 黃彥傑 唐莘 Grimmy Chen 廖文琳 林珮雯 伊佐那 周傳欣 羅美薇 佘宗淇 曹恒恩 潘祐霖 施兆隆 王筱茹 張躍瑋 李修智 葉又穎 蔡崇信 段宏翰 鄭楷騰 黃郁菱 Mei Mei Qiwang Tsai 張詒鈞 唐閎騏 Hsi Yun Chi 陳雍潤 林鼓恩 宋怡儒 許修瑋 Funky-Chicken Chen 張喬心 張介騰 陳俊源 Tony Pan 黃啟倫 Szu Yun Lai 張銘恩 羅友富 蕭翰陽 蔡松霖 賴宇恩 陸建綱 邱政 劉耀鴻 吳俊毅 翟平皓 Rong Dian Li 艾比妹 林聰儒 康皓 張育瑞 劉奕 米修 Jeff Mai 溫彥 劉子睿 江佳玲 陳宇翔 羅向庭 曹哲愷 Pinky Choü 鍾育瑋 張鈞俋 成適郝 陳彥廷 Yi-Han Genuine 蔡卉婷 后葳 彼得林 Kuo Sheng Li 黃助教 林鼎崴 洪慈吟 陳原一 李嘉臻 Sam Kon Haushiuan Tsai 王泰翔 (tirio312@gmail.com) 張弼恩 林家欣 許珮琪 YaoLin Hsieh 洪儀蓁 Shelly Lu 林組長 Tammy Chang 虞景良 李尉菱 李丞翰 徐楨棟 Laila Chu 黎一鞍 盧冠廷 簡琬庭 鄧友豪 陳宥宇 詹凱喬 王慧縈 (s89086guy@gmail.com) 張益瑞 (yes70321123@icloud.com) 楊雅筑 王君豪 黃柏維 徐尚永 Peter Cheng 黃意心 李明龍 周伯宇 劉冠熲 李糧旭 凱萬 曾怡琄 涂承翔 張紘銘 陳柏堯 Wan-Ying Wu 許安宇 張季桓 陳明謙 PinYang Lin Asir Dresser 高毓承 怡慈陳 王樂樂 凃嘉昀 李政育 張明恩 陳添志 Wei Yen Chang 李打紅 李打蘭 Terry Chang 李打紫 Fate Jacky 張嘉興 李打黃 李宜庭 邱煒翔 陳雍嫩 呂菀瑄 林哲偉 吳京恩 Claire Chen 三星極品聰 黃旭晨 Yen Kai Chien Liangliang Liu 廖昱筌 沈展毅 蔡蕙伃 鍾和宏 Demi Kai 謝登元 Sheng Hung Lin 顏宏哲 施羿兆 莊舒婷 張語歆 簡宇彥 張任宏 Melody Sweet Grace Chang 楊雅純 陳軒農 游斯涵 陳煜翔 楊東霖 姜穎 張家瑋 黃學涵 Jeff Tseng 戴心蓓 黃品婷 王欣平 Lala WU 簡碧嫺 夏新 林宛陵 季立 李芳秀 黃種慶 戴智皓 黃文斾 鄭淑芬 施威丞 張貴珠 武冰川 范家賢 James  Lin 林威宇 Carol Chang-Pennington 柳馥 欧阳洋 陳昱涵 小陳 Jay  Chen 黃心怡 竇札 陳泓瑜 Smap  Aki 王馨慧 Carine Chen 陳宥家 HoHo Hsu Ryan  Han Ricky  Chen 陳彥儒 許富翔 廖奕棋 楊杰昇 高吉力 陳小銨 吳亭儒 王睿廷 鄭宇峻 張子凌 陳安安 黃與容 劉芸 張松芳 牧愷 張貴珠 涂雪鳳 Aichu Chang 小鹿 Erik Andren Heinrich Kaku Chen Len Tzuyin Wang 蔡協哲 Len Chen 翁鈺婷 Len Chen 李昊威 ベニ タカ Raphael Chen 楊政凱 Len Chen 林佳瑩 林炳宏 吳禹彤 牛金材 黎沛 莊文傑 Liu Jian Hong Johnny Bee 羅予廷 Apple Yan Anna Chin 張小豪 Henglai Lee Millet Ho Koon Jieng Wong 張壯嘉 石征和 甘博仁 李子妮 Zai Tomi 曹若雪 太好騙 愛傑 超淡定 姜明鳳 陳冠妘 \n"
     ]
    }
   ],
   "source": [
    "from bs4 import BeautifulSoup as bs\n",
    "f=open('D:/downloads/html/friends.txt','r')\n",
    "read= f.readline()\n",
    "\n",
    "\n",
    "f.close()\n",
    "soup=bs(read)\n",
    "new=\"\"\n",
    "for ele in soup.select('li'):\n",
    "    if 'href' not in str(ele):\n",
    "        new+=ele.text.encode('utf8')+\" \"\n",
    "#         new.append(ele.text.encode('utf-8'))\n",
    "    \n",
    "w=open('D:/downloads/html/Newfriends.txt','w')\n",
    "print type(new)\n",
    "w.write(new)\n",
    "w.close()     \n",
    "\n",
    "\n",
    "r = open('D:/downloads/html/Newfriends.txt', 'r')\n",
    "print r.read().decode('utf8')\n",
    "r.close()"
   ]
  },
  {
   "cell_type": "code",
   "execution_count": 85,
   "metadata": {
    "collapsed": true
   },
   "outputs": [],
   "source": [
    "w.close()\n",
    "r.close()\n",
    "f.close()"
   ]
  },
  {
   "cell_type": "code",
   "execution_count": null,
   "metadata": {
    "collapsed": true
   },
   "outputs": [],
   "source": []
  }
 ],
 "metadata": {
  "kernelspec": {
   "display_name": "Python 2",
   "language": "python",
   "name": "python2"
  },
  "language_info": {
   "codemirror_mode": {
    "name": "ipython",
    "version": 2
   },
   "file_extension": ".py",
   "mimetype": "text/x-python",
   "name": "python",
   "nbconvert_exporter": "python",
   "pygments_lexer": "ipython2",
   "version": "2.7.11"
  }
 },
 "nbformat": 4,
 "nbformat_minor": 0
}
