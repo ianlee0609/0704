{
 "cells": [
  {
   "cell_type": "code",
   "execution_count": 105,
   "metadata": {
    "collapsed": false
   },
   "outputs": [],
   "source": [
    "import requests\n",
    "import jieba\n",
    "from bs4 import BeautifulSoup as bs\n",
    "test=[]\n",
    "corpus1 = []\n",
    "cuts=[]\n",
    "res = requests.get('http://m.match.net.tw/mi/news/list/1/1')\n",
    "soup = bs(res.text)\n",
    "   \n",
    "for title in soup.select('.JQellipsis'):\n",
    "    test.append(title.text)\n",
    "\n",
    "\n",
    "for ele in test:\n",
    "    cuts=[]\n",
    "    for cut in jieba.cut(ele):\n",
    "        \n",
    "        cuts.append(cut)\n",
    "    corpus1.append(cuts)\n",
    "\n",
    "\n",
    "#for word in corpus:\n",
    " #   print word[0][0]\n",
    "# print corpus[0]\n",
    "# for cut in corpus[0][0]:\n",
    "#     print cut"
   ]
  },
  {
   "cell_type": "code",
   "execution_count": null,
   "metadata": {
    "collapsed": true
   },
   "outputs": [],
   "source": [
    "from sklearn.feature_extraction.text import CountVectorizer\n",
    "import jieba\n",
    "\n",
    "corpus = []\n",
    "corpus.extend([' '.join(jieba.cut(ele)) for ele in test])\n",
    "print corpus"
   ]
  },
  {
   "cell_type": "code",
   "execution_count": 139,
   "metadata": {
    "collapsed": false
   },
   "outputs": [
    {
     "name": "stdout",
     "output_type": "stream",
     "text": [
      "0.005*恐陷 + 0.005*牛奶 + 0.005*愛滋風暴 + 0.005*替代 + 0.005*針當 + 0.005*毒品 + 0.005*主委 + 0.005*不宜 + 0.005*林佳龍 + 0.005*市首長\n",
      "0.007*！ + 0.007*正副 + 0.007*由 + 0.006*選舉 + 0.006*議長 + 0.006*投票 + 0.005*、 + 0.005*改記名 + 0.004*桃園 + 0.004*119App\n",
      "0.006*% + 0.005*抵廣島 + 0.005*不會 + 0.005*訪問 + 0.005*道歉 + 0.005*周刊 + 0.005*時報 + 0.005*心血管 + 0.005*停經婦 + 0.005*疾病\n",
      "0.006*： + 0.006*在 + 0.006*沒有 + 0.005*投票 + 0.005*激動 + 0.005*內心 + 0.005*三讀 + 0.005*的 + 0.004*林奏延 + 0.004*賴清德\n",
      "0.005*企都 + 0.005*南向 + 0.005*有何不可 + 0.005*金河 + 0.005*謝 + 0.005*連陸 + 0.005*綜指 + 0.005*震盪近 + 0.005*散戶 + 0.005*上證\n",
      "0.006*推遲 + 0.005*台作證 + 0.005*Hydis + 0.005*關廠 + 0.005*抗爭案 + 0.005*韓人來 + 0.004*意外 + 0.004*航特部 + 0.004*輕傷 + 0.004*墜\n",
      "0.007*劑 + 0.005*防腐 + 0.005*端午 + 0.005*3 + 0.005*沒 + 0.005*矮化 + 0.005*稱謂 + 0.005*  + 0.004*： + 0.004*　\n",
      "0.007*邱義仁 + 0.007*係 + 0.006*李全教 + 0.006*台 + 0.006*4 + 0.005*, + 0.005*7 + 0.005*上班 + 0.005*工資要 + 0.005*節\n",
      "0.007*問廣島 + 0.007*今訪 + 0.007*日 + 0.006*歐巴馬 + 0.005*凶宅 + 0.005*隱匿 + 0.005*出售 + 0.005*遭控 + 0.005*張淳淳 + 0.005*審無罪\n",
      "0.005*妝 + 0.005*鄰家 + 0.005*桃花 + 0.004*均 + 0.004*各大賣場 + 0.004*問題 + 0.004*已 + 0.004*新北 + 0.004*燕麥片 + 0.004*實根據\n"
     ]
    }
   ],
   "source": [
    "from nltk.tokenize import RegexpTokenizer\n",
    "from stop_words import get_stop_words\n",
    "from nltk.stem.porter import PorterStemmer\n",
    "from gensim import corpora, models\n",
    "import gensim\n",
    "\n",
    "tokenizer = RegexpTokenizer(r'\\w+')\n",
    "\n",
    "# create English stop words list\n",
    "en_stop = get_stop_words('en')\n",
    "\n",
    "# Create p_stemmer of class PorterStemmer\n",
    "p_stemmer = PorterStemmer()\n",
    "    \n",
    "# create sample documents\n",
    "doc_a = \"Brocolli is good to eat. My brother likes to eat good brocolli, but not my mother.\"\n",
    "doc_b = \"My mother spends a lot of time driving my brother around to baseball practice.\"\n",
    "doc_c = \"Some health experts suggest that driving may cause increased tension and blood pressure.\"\n",
    "doc_d = \"I often feel pressure to perform well at school, but my mother never seems to drive my brother to do better.\"\n",
    "doc_e = \"Health professionals say that brocolli is good for your health.\" \n",
    "\n",
    "# compile sample documents into a list\n",
    "doc_set = [doc_a, doc_b, doc_c, doc_d, doc_e]\n",
    "\n",
    "\n",
    "# list for tokenized documents in loop\n",
    "texts = []\n",
    "\n",
    "# loop through document list\n",
    "for i in doc_set:\n",
    "    \n",
    "    # clean and tokenize document string\n",
    "    raw = i.lower()\n",
    "    tokens = tokenizer.tokenize(raw)\n",
    "\n",
    "    # remove stop words from tokens\n",
    "    stopped_tokens = [i for i in tokens if not i in en_stop]\n",
    "    \n",
    "    # stem tokens\n",
    "    stemmed_tokens = [p_stemmer.stem(i) for i in stopped_tokens]\n",
    "    \n",
    "    # add tokens to list\n",
    "    texts.append(stemmed_tokens)\n",
    "\n",
    "# turn our tokenized documents into a id <-> term dictionary\n",
    "\n",
    "texts=corpus1\n",
    "dic = corpora.Dictionary(texts)\n",
    "corpus = [dic.doc2bow(text) for text in texts]\n",
    "tfidf = models.TfidfModel(corpus)\n",
    "corpus_tfidf = tfidf[corpus]\n",
    "lda = models.LdaModel(corpus_tfidf, id2word = dic, num_topics = 10, passes=20)\n",
    "corpus_lda = lda[corpus_tfidf]\n",
    "for i in range(0, 10):\n",
    "     print lda.print_topic(i)\n",
    "# generate LDA model\n"
   ]
  },
  {
   "cell_type": "code",
   "execution_count": null,
   "metadata": {
    "collapsed": true
   },
   "outputs": [],
   "source": []
  },
  {
   "cell_type": "code",
   "execution_count": 134,
   "metadata": {
    "collapsed": false
   },
   "outputs": [
    {
     "name": "stdout",
     "output_type": "stream",
     "text": [
      "替代\n"
     ]
    }
   ],
   "source": [
    "a=u'\\u66ff\\u4ee3'\n",
    "print a.encode('utf-8')"
   ]
  },
  {
   "cell_type": "code",
   "execution_count": 57,
   "metadata": {
    "collapsed": false
   },
   "outputs": [
    {
     "name": "stdout",
     "output_type": "stream",
     "text": [
      "[5, [5]]\n"
     ]
    }
   ],
   "source": [
    "a=[]\n",
    "a.append(5)\n",
    "a.append([5])\n",
    "print a"
   ]
  },
  {
   "cell_type": "code",
   "execution_count": null,
   "metadata": {
    "collapsed": true
   },
   "outputs": [],
   "source": []
  },
  {
   "cell_type": "code",
   "execution_count": null,
   "metadata": {
    "collapsed": true
   },
   "outputs": [],
   "source": []
  }
 ],
 "metadata": {
  "kernelspec": {
   "display_name": "Python 2",
   "language": "python",
   "name": "python2"
  },
  "language_info": {
   "codemirror_mode": {
    "name": "ipython",
    "version": 2
   },
   "file_extension": ".py",
   "mimetype": "text/x-python",
   "name": "python",
   "nbconvert_exporter": "python",
   "pygments_lexer": "ipython2",
   "version": "2.7.11"
  }
 },
 "nbformat": 4,
 "nbformat_minor": 0
}
