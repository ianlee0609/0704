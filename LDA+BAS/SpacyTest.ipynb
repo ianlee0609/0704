{
 "cells": [
  {
   "cell_type": "code",
   "execution_count": 2,
   "metadata": {
    "collapsed": true
   },
   "outputs": [],
   "source": [
    "from spacy.en import English\n",
    "nlp = English()"
   ]
  },
  {
   "cell_type": "code",
   "execution_count": 27,
   "metadata": {
    "collapsed": false
   },
   "outputs": [
    {
     "name": "stdout",
     "output_type": "stream",
     "text": [
      "Best\n",
      "New York\n",
      "Saturday\n",
      "morning\n"
     ]
    }
   ],
   "source": [
    "\n",
    "tokens = nlp(u'Mr. Best flew to New York on Saturday morning.')\n",
    "ents = list(tokens.ents)\n",
    "\n",
    "# print  ents[3].label_\n",
    "for i in ents :\n",
    "    print i.orth_\n",
    "\n",
    "assert ents[0].string == ents[0].string"
   ]
  },
  {
   "cell_type": "code",
   "execution_count": 28,
   "metadata": {
    "collapsed": false
   },
   "outputs": [
    {
     "name": "stdout",
     "output_type": "stream",
     "text": [
      "(u'NP', u'The sentence', '<--', u'has')\n",
      "(u'NP', u'this example', '<--', u'in')\n",
      "(u'NP', u'three noun chunks', '<--', u'has')\n"
     ]
    }
   ],
   "source": [
    "doc = nlp(u'The sentence in this example has three noun chunks.')\n",
    "for chunk in doc.noun_chunks:\n",
    "    print(chunk.label_, chunk.orth_, '<--', chunk.root.head.orth_)"
   ]
  },
  {
   "cell_type": "code",
   "execution_count": 48,
   "metadata": {
    "collapsed": false
   },
   "outputs": [
    {
     "name": "stdout",
     "output_type": "stream",
     "text": [
      "three\n"
     ]
    }
   ],
   "source": [
    "\n",
    "for ent in doc.ents:\n",
    "    print ent"
   ]
  },
  {
   "cell_type": "code",
   "execution_count": 67,
   "metadata": {
    "collapsed": false
   },
   "outputs": [],
   "source": [
    "from PyDictionary import PyDictionary\n",
    "dictionary=PyDictionary()"
   ]
  },
  {
   "cell_type": "code",
   "execution_count": 73,
   "metadata": {
    "collapsed": false
   },
   "outputs": [
    {
     "name": "stdout",
     "output_type": "stream",
     "text": [
      "[u'flick', u'picture', u'show', u'cinema', u'feature']\n",
      "[u'layer', u'fold', u'skin', u'integument', u'cloud']\n"
     ]
    }
   ],
   "source": [
    "print dictionary.synonym(\"movie\")\n",
    "print dictionary.synonym(\"films\")"
   ]
  },
  {
   "cell_type": "code",
   "execution_count": 2,
   "metadata": {
    "collapsed": true
   },
   "outputs": [],
   "source": [
    "from spacy.en import English\n",
    "parser = English()"
   ]
  },
  {
   "cell_type": "code",
   "execution_count": 20,
   "metadata": {
    "collapsed": false
   },
   "outputs": [
    {
     "name": "stdout",
     "output_type": "stream",
     "text": [
      "<spacy.lexeme.Lexeme object at 0x0000000071FFA0D8>\n",
      "Top 20 most similar words to NASA:\n",
      "videogame\n",
      "wargame\n",
      "matchup\n",
      "mmorpg\n",
      "match-up\n",
      "platformer\n",
      "games\n",
      "boardgame\n",
      "gamebook\n",
      "mmo\n",
      "season-opener\n",
      "ballgame\n",
      "punch-out\n",
      "bioshock\n",
      "damacy\n",
      "minigame\n",
      "doubleheader\n",
      "rpg\n",
      "clincher\n",
      "shadowrun\n",
      "littlebigplanet\n",
      "tourney\n",
      "maplestory\n",
      "scrimmages\n",
      "superbowl\n",
      "alcs\n",
      "psychonauts\n",
      "timesplitters\n",
      "cluedo\n",
      "xenogears\n",
      "matchups\n",
      "tensei\n",
      "webisode\n",
      "platformers\n",
      "battlezone\n",
      "yahtzee\n",
      "nlcs\n",
      "match-ups\n",
      "supercard\n",
      "rpgs\n"
     ]
    }
   ],
   "source": [
    "\n",
    "from numpy import dot\n",
    "from numpy.linalg import norm\n",
    "\n",
    "# you can access known words from the parser's vocabulary\n",
    "nasa = parser.vocab[u'game']\n",
    "\n",
    "# cosine similarity\n",
    "cosine = lambda v1, v2: dot(v1, v2) / (norm(v1) * norm(v2))\n",
    "\n",
    "for w in parser.vocab :\n",
    "    print w\n",
    "    break\n",
    "# gather all known words, take only the lowercased versions\n",
    "allWords = list(w for w in parser.vocab if w.has_vector and w.orth_.islower() and w.lower_ != \"game\")\n",
    "\n",
    "# sort by similarity to NASA\n",
    "allWords.sort(key=lambda w: cosine(w.repvec, nasa.repvec))\n",
    "allWords.reverse()\n",
    "print(\"Top 20 most similar words to NASA:\")\n",
    "for word in allWords[:40]:   \n",
    "    print(word.orth_)"
   ]
  },
  {
   "cell_type": "code",
   "execution_count": null,
   "metadata": {
    "collapsed": true
   },
   "outputs": [],
   "source": []
  }
 ],
 "metadata": {
  "kernelspec": {
   "display_name": "Python 2",
   "language": "python",
   "name": "python2"
  },
  "language_info": {
   "codemirror_mode": {
    "name": "ipython",
    "version": 2
   },
   "file_extension": ".py",
   "mimetype": "text/x-python",
   "name": "python",
   "nbconvert_exporter": "python",
   "pygments_lexer": "ipython2",
   "version": "2.7.11"
  }
 },
 "nbformat": 4,
 "nbformat_minor": 0
}
