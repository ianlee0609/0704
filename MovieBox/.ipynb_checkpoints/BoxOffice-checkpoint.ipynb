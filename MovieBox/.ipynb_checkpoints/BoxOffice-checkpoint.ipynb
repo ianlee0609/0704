{
 "cells": [
  {
   "cell_type": "code",
   "execution_count": 4,
   "metadata": {
    "collapsed": false
   },
   "outputs": [
    {
     "name": "stdout",
     "output_type": "stream",
     "text": [
      "401614622\n"
     ]
    }
   ],
   "source": [
    "import requests\n",
    "from bs4 import BeautifulSoup as bs\n",
    "res=requests.get('http://www.boxofficemojo.com/yearly/chart/?page=2&view=releasedate&view2=domestic&yr=2015&p=.htm')\n",
    "\n",
    "soup=bs(res.text)\n",
    "money=\"\"\n",
    "for toInt in soup.select('td td tr + tr td + td b')[1].text[1:].split(','):\n",
    "    money+=toInt\n",
    "    \n",
    "Fmoney=int(money,10)\n",
    "\n",
    "    \n",
    "        "
   ]
  },
  {
   "cell_type": "code",
   "execution_count": 131,
   "metadata": {
    "collapsed": false
   },
   "outputs": [],
   "source": [
    "Year=2014\n",
    "res=requests.get('http://www.boxofficemojo.com/yearly/chart/?page=1&view=releasedate&view2=domestic&yr='+str(Year)+'&p=.htm')\n",
    "\n",
    "\n",
    "soup=bs(res.text)\n",
    "Array=soup.select('td td tr + tr td + td b')\n",
    "\n",
    "id=1\n",
    "for i in range(0,len(Array)) :\n",
    "    #兩兩一組\n",
    "    if i %2==1:\n",
    "        continue\n",
    "        \n",
    "    #抓演員\n",
    "    Url='http://www.boxofficemojo.com/'\n",
    "    Url+= Array[i].select('a')[0]['href']\n",
    "    \n",
    "    \n",
    "    NameArray=GetName(Url)\n",
    "    DirectorName=NameArray[0]\n",
    "    WriterName=NameArray[1]\n",
    "    ActorName=NameArray[2]\n",
    "    \n",
    "    #電影名稱,票房\n",
    "    MovieName=Array[i].text\n",
    "    TotalGross=Array[i+1].text\n",
    "    money=\"\"\n",
    "    \n",
    "    #票房轉換INT格式\n",
    "    for toInt in TotalGross[1:].split(','):\n",
    "        money+=toInt\n",
    "    Fmoney=int(money,10)\n",
    "    \n",
    "    \n",
    "    insertSQL()\n",
    "    \n",
    "    id+=1\n",
    "#     print DirectorName+'\\n'+WriterName+'\\n'+ActorName\n",
    "#     print MovieName+\" \"+str(Fmoney)\n",
    "    \n",
    "\n"
   ]
  },
  {
   "cell_type": "code",
   "execution_count": 122,
   "metadata": {
    "collapsed": false
   },
   "outputs": [],
   "source": [
    "def GetName(Url):\n",
    "    res=requests.get(Url)\n",
    "\n",
    "    soup=bs(res.text)\n",
    "    Array=soup.select('  td td td td + td font')\n",
    "    DirectorName=\"\"\n",
    "    WriterName=\"\"\n",
    "    ActorName=\"\"\n",
    "    for ele in Array:\n",
    "        for a in  ele.select('a'):\n",
    "            if 'Director' in str(a) and 'chart' in str(a):\n",
    "                DirectorName+= a.text+\",\"\n",
    "            if 'Writer' in str(a) and 'chart' in str(a):\n",
    "                WriterName+= a.text+\",\"\n",
    "            if 'Actor' in str(a) and 'chart' in str(a):\n",
    "                ActorName+= a.text+\",\"\n",
    "    DirectorName=DirectorName[:-1]\n",
    "    WriterName=WriterName[:-1]\n",
    "    ActorName=ActorName[:-1]\n",
    "    return [DirectorName,WriterName,ActorName]"
   ]
  },
  {
   "cell_type": "code",
   "execution_count": 119,
   "metadata": {
    "collapsed": true
   },
   "outputs": [],
   "source": [
    "import pyodbc\n",
    "conn=pyodbc.connect('DRIVER={SQL Server};SERVER=163.14.72.42;DATABASE=FB_IMDB;UID=sa;PWD=scucc')\n",
    "cursor=conn.cursor()"
   ]
  },
  {
   "cell_type": "code",
   "execution_count": 120,
   "metadata": {
    "collapsed": true
   },
   "outputs": [],
   "source": [
    "def insertSQL():\n",
    "   \n",
    "    command='INSERT INTO BoxOffice (Year,id,MovieName,TotalGross,Director,Writer,Actor) VALUES (?,?,?,?,?,?,?)'\n",
    "    \n",
    "    cursor.execute(command,(Year,id,MovieName,Fmoney,DirectorName,WriterName,ActorName))\n",
    "    conn.commit()"
   ]
  },
  {
   "cell_type": "code",
   "execution_count": 116,
   "metadata": {
    "collapsed": false
   },
   "outputs": [],
   "source": [
    "conn.close()"
   ]
  },
  {
   "cell_type": "code",
   "execution_count": 123,
   "metadata": {
    "collapsed": false
   },
   "outputs": [
    {
     "name": "stdout",
     "output_type": "stream",
     "text": [
      "1\n"
     ]
    }
   ],
   "source": [
    "print 1"
   ]
  },
  {
   "cell_type": "code",
   "execution_count": null,
   "metadata": {
    "collapsed": true
   },
   "outputs": [],
   "source": []
  }
 ],
 "metadata": {
  "kernelspec": {
   "display_name": "Python 2",
   "language": "python",
   "name": "python2"
  },
  "language_info": {
   "codemirror_mode": {
    "name": "ipython",
    "version": 2
   },
   "file_extension": ".py",
   "mimetype": "text/x-python",
   "name": "python",
   "nbconvert_exporter": "python",
   "pygments_lexer": "ipython2",
   "version": "2.7.11"
  }
 },
 "nbformat": 4,
 "nbformat_minor": 0
}
