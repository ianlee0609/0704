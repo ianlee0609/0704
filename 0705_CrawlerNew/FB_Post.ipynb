{
 "cells": [
  {
   "cell_type": "code",
   "execution_count": 7,
   "metadata": {
    "collapsed": false
   },
   "outputs": [
    {
     "name": "stdout",
     "output_type": "stream",
     "text": [
      "23\n"
     ]
    },
    {
     "data": {
      "text/plain": [
       "100"
      ]
     },
     "execution_count": 7,
     "metadata": {},
     "output_type": "execute_result"
    }
   ],
   "source": [
    " import json\n",
    "import requests\n",
    "import string\n",
    "from collections import Counter\n",
    "\n",
    "\n",
    "ACCESSTOKEN  = 'EAACEdEose0cBAMmMSI5xJSiCRvwW4fOcr3UKkZCVEJik6V6fVoMohsrnafuO7TtavYhLIQpluuzdBXpeisBSTfpY0ynM5LYv2RmL7oWRtUUA7H0HJx9pUirSoqNz4KspWdGUUQT4Iu6gIfwxPL9uktGgdGy0NUrZAPgvdzogZDZD'\n",
    "PostUrl ='https://graph.facebook.com/v2.5/15925638948/posts?limit=100&fields=attachments,message,created_time,shares&access_token='+ACCESSTOKEN\n",
    "\n",
    "res = requests.get(PostUrl)\n",
    "\n",
    "jd = json.loads(res.text)\n",
    "\n",
    "PostID= jd['data'][0]['id']\n",
    "print jd['data'][0]['shares']['count']\n",
    "len(jd['data'])\n",
    "\n",
    "\n"
   ]
  },
  {
   "cell_type": "code",
   "execution_count": 8,
   "metadata": {
    "collapsed": false
   },
   "outputs": [
    {
     "name": "stdout",
     "output_type": "stream",
     "text": [
      "6607306\n"
     ]
    }
   ],
   "source": [
    "\n",
    "PostUrl ='https://graph.facebook.com/v2.5/15925638948?fields=likes&access_token='+ACCESSTOKEN\n",
    "\n",
    "res = requests.get(PostUrl)\n",
    "\n",
    "jd = json.loads(res.text)\n",
    "\n",
    "Fans= jd['likes']\n",
    "\n",
    "print Fans\n"
   ]
  },
  {
   "cell_type": "code",
   "execution_count": 19,
   "metadata": {
    "collapsed": true
   },
   "outputs": [],
   "source": [
    "def insertSQL():\n",
    "    command=\"INSERT INTO FBPost (PostNO,Created_Time,Message,ID,AttatchTitle,AttatchMessage,ShareCount,Fans,Crawler_Time,CommentCount,LikeCount) VALUES (?,?,?,?,?,?,?,?,?,?,?)\"\n",
    "\n",
    "    cursor.execute(command,(PostNO,created_time,Postmessage,id,attatchTitle,attatchMessage,ShareCount,Fans,Crawler_Time,CommentCount,LikeCount))\n",
    "    conn.commit()\n",
    "\n",
    "# rows = cursor.fetchall()\n",
    "# for row in rows:"
   ]
  },
  {
   "cell_type": "code",
   "execution_count": 20,
   "metadata": {
    "collapsed": false
   },
   "outputs": [
    {
     "name": "stdout",
     "output_type": "stream",
     "text": [
      "Crawler_Time:11\n",
      "11\n"
     ]
    },
    {
     "ename": "KeyError",
     "evalue": "'paging'",
     "output_type": "error",
     "traceback": [
      "\u001b[1;31m---------------------------------------------------------------------------\u001b[0m",
      "\u001b[1;31mKeyError\u001b[0m                                  Traceback (most recent call last)",
      "\u001b[1;32m<ipython-input-20-8fa453a294f6>\u001b[0m in \u001b[0;36m<module>\u001b[1;34m()\u001b[0m\n\u001b[0;32m     54\u001b[0m \u001b[1;33m\u001b[0m\u001b[0m\n\u001b[0;32m     55\u001b[0m \u001b[1;33m\u001b[0m\u001b[0m\n\u001b[1;32m---> 56\u001b[1;33m         \u001b[0mCommentCount\u001b[0m\u001b[1;33m=\u001b[0m\u001b[0mComment\u001b[0m\u001b[1;33m(\u001b[0m\u001b[0mid\u001b[0m\u001b[1;33m)\u001b[0m\u001b[1;33m\u001b[0m\u001b[0m\n\u001b[0m\u001b[0;32m     57\u001b[0m         \u001b[0mLikeCount\u001b[0m\u001b[1;33m=\u001b[0m\u001b[0mLike\u001b[0m\u001b[1;33m(\u001b[0m\u001b[0mid\u001b[0m\u001b[1;33m)\u001b[0m\u001b[1;33m\u001b[0m\u001b[0m\n\u001b[0;32m     58\u001b[0m \u001b[1;33m\u001b[0m\u001b[0m\n",
      "\u001b[1;32m<ipython-input-14-f9485c7ee80c>\u001b[0m in \u001b[0;36mComment\u001b[1;34m(PostID)\u001b[0m\n\u001b[0;32m     16\u001b[0m \u001b[1;33m\u001b[0m\u001b[0m\n\u001b[0;32m     17\u001b[0m     \u001b[0mCommentNO\u001b[0m\u001b[1;33m=\u001b[0m\u001b[1;36m1\u001b[0m\u001b[1;33m\u001b[0m\u001b[0m\n\u001b[1;32m---> 18\u001b[1;33m     \u001b[1;32mwhile\u001b[0m \u001b[1;34m'next'\u001b[0m \u001b[1;32min\u001b[0m \u001b[0mCommentJd\u001b[0m\u001b[1;33m[\u001b[0m\u001b[1;34m'paging'\u001b[0m\u001b[1;33m]\u001b[0m \u001b[1;33m:\u001b[0m\u001b[1;33m\u001b[0m\u001b[0m\n\u001b[0m\u001b[0;32m     19\u001b[0m \u001b[1;33m\u001b[0m\u001b[0m\n\u001b[0;32m     20\u001b[0m         \u001b[1;32mfor\u001b[0m \u001b[0mdata\u001b[0m \u001b[1;32min\u001b[0m \u001b[0mCommentJd\u001b[0m\u001b[1;33m[\u001b[0m\u001b[1;34m'data'\u001b[0m\u001b[1;33m]\u001b[0m\u001b[1;33m:\u001b[0m\u001b[1;33m\u001b[0m\u001b[0m\n",
      "\u001b[1;31mKeyError\u001b[0m: 'paging'"
     ]
    }
   ],
   "source": [
    "import pyodbc\n",
    "conn = pyodbc.connect('DRIVER={SQL Server};SERVER=163.14.68.48;DATABASE=FB_NewCrawler;UID=sa;PWD=scucc')\n",
    "cursor = conn.cursor()\n",
    "\n",
    "#粉絲\n",
    "ACCESSTOKEN  = 'EAACEdEose0cBAMmMSI5xJSiCRvwW4fOcr3UKkZCVEJik6V6fVoMohsrnafuO7TtavYhLIQpluuzdBXpeisBSTfpY0ynM5LYv2RmL7oWRtUUA7H0HJx9pUirSoqNz4KspWdGUUQT4Iu6gIfwxPL9uktGgdGy0NUrZAPgvdzogZDZD'\n",
    "PostUrl ='https://graph.facebook.com/v2.5/15925638948?fields=likes&access_token='+ACCESSTOKEN\n",
    "res = requests.get(PostUrl)\n",
    "jd = json.loads(res.text)\n",
    "Fans= jd['likes']\n",
    "\n",
    "\n",
    "#PO文\n",
    "PostUrl ='https://graph.facebook.com/v2.5/15925638948/posts?limit=100&fields=attachments,message,created_time,shares&access_token='+ACCESSTOKEN\n",
    "res = requests.get(PostUrl)\n",
    "jd = json.loads(res.text)\n",
    "\n",
    "\n",
    "\n",
    "PostNO=1\n",
    "end=0\n",
    "\n",
    "#時間\n",
    "Crawler_Time = raw_input(\"Crawler_Time:\")\n",
    "print Crawler_Time\n",
    "\n",
    "while( 'next' in jd['paging'] ):\n",
    "    if end==1:\n",
    "        break\n",
    "    \n",
    "    for post in jd['data']:\n",
    "        attatchTitle=\"\"\n",
    "        attatchMessage=\"\"\n",
    "        CommentCount=0\n",
    "        LikeCount=0\n",
    "        ShareCount=0\n",
    "        Postmessage=\"\"\n",
    "        \n",
    "        #例外\n",
    "        if('message'in post):\n",
    "            Postmessage=post['message']\n",
    "        if('shares'in post):\n",
    "            ShareCount=post['shares']['count']\n",
    "        created_time=post['created_time']\n",
    "            \n",
    "        id=post['id']\n",
    "        \n",
    "        #attachments\n",
    "        if('attachments' in post):\n",
    "            if('title' in post['attachments']['data'][0]):\n",
    "                attatchTitle=post['attachments']['data'][0]['title']\n",
    "            if('description' in post['attachments']['data'][0]):\n",
    "                attatchMessage=post['attachments']['data'][0]['description']\n",
    "\n",
    "\n",
    "        CommentCount=Comment(id)\n",
    "        LikeCount=Like(id)\n",
    "        \n",
    "#         print CommentCount\n",
    "        insertSQL()\n",
    "        \n",
    "        if (PostNO%100==0):\n",
    "            url=jd['paging']['next']\n",
    "\n",
    "            res=requests.get(url)\n",
    "            jd = json.loads(res.text)\n",
    "        PostNO+=1\n",
    "        \n",
    "        #停止點\n",
    "        if (id=='15925638948_10154438254293949'):\n",
    "            end=1\n",
    "            print \"end\"\n",
    "            break\n",
    "    \n",
    "        \n",
    "\n",
    "cursor.close()\n",
    "conn.close()   "
   ]
  },
  {
   "cell_type": "code",
   "execution_count": 14,
   "metadata": {
    "collapsed": false
   },
   "outputs": [],
   "source": [
    "def Comment(PostID):\n",
    "    CommentUrl ='https://graph.facebook.com/v2.5/'+PostID+'/comments?fields=like_count,message,comment_count,from,id,comments,likes&limit=1000&access_token='+ACCESSTOKEN\n",
    "\n",
    "    CommentRes = requests.get(CommentUrl)\n",
    "\n",
    "    CommentJd = json.loads(CommentRes.text)\n",
    "    \n",
    "    \n",
    "    global like_count\n",
    "    global message\n",
    "    global comment_count\n",
    "    global Name\n",
    "    global UserID\n",
    "    global CommentID\n",
    "    global CommentNO\n",
    "    \n",
    "    CommentNO=1\n",
    "    while 'next' in CommentJd['paging'] :\n",
    "        \n",
    "        for data in CommentJd['data']:\n",
    "            like_count= data['like_count']\n",
    "            message=data['message']\n",
    "            comment_count=data['comment_count']\n",
    "\n",
    "            Name= data['from']['name']\n",
    "            UserID= data['from']['id']\n",
    "            CommentID=data['id']\n",
    "\n",
    "            InsertComment()\n",
    "            if(CommentNO%1000==0):\n",
    "            \n",
    "                CommentUrl=CommentJd['paging']['next']\n",
    "                time.sleep(1)\n",
    "                CommentRes=requests.get(CommentUrl)\n",
    "                CommentJd = json.loads(CommentRes.text)\n",
    "            \n",
    "\n",
    "            CommentNO+=1\n",
    "    \n",
    "          \n",
    "    for data in CommentJd['data']:\n",
    "        like_count= data['like_count']\n",
    "        message=data['message']\n",
    "        comment_count=data['comment_count']\n",
    "\n",
    "        Name= data['from']['name']\n",
    "        UserID= data['from']['id']\n",
    "        CommentID=data['id']\n",
    "\n",
    "        InsertComment()\n",
    "\n",
    "        CommentNO+=1\n",
    "        \n",
    "        \n",
    "    return len(CommentJd['data'])\n",
    "    \n",
    "    \n",
    "    \n",
    "    \n",
    "    \n",
    "    "
   ]
  },
  {
   "cell_type": "code",
   "execution_count": 13,
   "metadata": {
    "collapsed": true
   },
   "outputs": [],
   "source": [
    "def InsertComment():\n",
    "    command=\"INSERT INTO FBComment (PostNO,CommentNO,Name,Message,CommentID,UserID,LikeCount,ReplyCount) VALUES (?,?,?,?,?,?,?,?)\"\n",
    "\n",
    "    cursor.execute(command,(PostNO,CommentNO,Name,message,CommentID,UserID,like_count,comment_count))\n",
    "    conn.commit()"
   ]
  },
  {
   "cell_type": "code",
   "execution_count": 106,
   "metadata": {
    "collapsed": false
   },
   "outputs": [],
   "source": [
    "Comment('15925638948_10154438254293949')"
   ]
  },
  {
   "cell_type": "code",
   "execution_count": null,
   "metadata": {
    "collapsed": true
   },
   "outputs": [],
   "source": []
  },
  {
   "cell_type": "code",
   "execution_count": 16,
   "metadata": {
    "collapsed": true
   },
   "outputs": [],
   "source": [
    "def InsertLike():\n",
    "    command=\"INSERT INTO FBPostLike (PostNO,LikeNO,UserID,UserName) VALUES (?,?,?,?)\"\n",
    "\n",
    "    cursor.execute(command,(PostNO,LikeNO,UserID,UserName))\n",
    "    conn.commit()"
   ]
  },
  {
   "cell_type": "code",
   "execution_count": null,
   "metadata": {
    "collapsed": true
   },
   "outputs": [],
   "source": []
  },
  {
   "cell_type": "code",
   "execution_count": 37,
   "metadata": {
    "collapsed": true
   },
   "outputs": [],
   "source": [
    "\n",
    "cursor.close()\n",
    "conn.close() "
   ]
  },
  {
   "cell_type": "code",
   "execution_count": 14,
   "metadata": {
    "collapsed": true
   },
   "outputs": [],
   "source": [
    "import pyodbc\n",
    "conn = pyodbc.connect('DRIVER={SQL Server};SERVER=163.14.68.48;DATABASE=FB_NewCrawler;UID=sa;PWD=scucc')\n",
    "cursor = conn.cursor()"
   ]
  },
  {
   "cell_type": "code",
   "execution_count": 11,
   "metadata": {
    "collapsed": false
   },
   "outputs": [],
   "source": [
    "def Like(PostID):\n",
    "    global LikeNO\n",
    "    global UserName\n",
    "    global UserID\n",
    "  \n",
    "    \n",
    "    \n",
    "    LikeNO=1\n",
    "    LikeUrl ='https://graph.facebook.com/v2.5/'+PostID+'/likes?pretty=0&limit=1000&access_token='+ACCESSTOKEN\n",
    "\n",
    "    LikeRes = requests.get(LikeUrl)\n",
    "\n",
    "    LikeJd = json.loads(LikeRes.text)\n",
    "    while 'next' in LikeJd['paging']:\n",
    "        for data in LikeJd['data']:\n",
    "            UserName= data['name']\n",
    "            UserID= data['id']\n",
    "            InsertLike()\n",
    "            if(LikeNO%1000==0):\n",
    "                LikeUrl=LikeJd['paging']['next']\n",
    "                #time.sleep(0.1)\n",
    "                LikeRes=requests.get(LikeUrl)\n",
    "                LikeJd = json.loads(LikeRes.text)\n",
    "            LikeNO+=1\n",
    "            \n",
    "        \n",
    "    for data in LikeJd['data']:\n",
    "        UserName= data['name']\n",
    "        UserID= data['id']\n",
    "        InsertLike()\n",
    "        LikeNO+=1\n",
    "    return len(LikeJd['data'])\n",
    "    \n",
    "    "
   ]
  },
  {
   "cell_type": "code",
   "execution_count": 143,
   "metadata": {
    "collapsed": false
   },
   "outputs": [
    {
     "data": {
      "text/plain": [
       "760"
      ]
     },
     "execution_count": 143,
     "metadata": {},
     "output_type": "execute_result"
    }
   ],
   "source": [
    "Like('15925638948_10154438254293949')"
   ]
  },
  {
   "cell_type": "code",
   "execution_count": 5,
   "metadata": {
    "collapsed": false
   },
   "outputs": [
    {
     "name": "stdout",
     "output_type": "stream",
     "text": [
      "[1, 2, 3]\n",
      "[4, 5]\n"
     ]
    }
   ],
   "source": [
    "Test=[4,5,1,2,3]\n",
    "old=[1,2,3]\n",
    "\n",
    "for ele in  Test:\n",
    "    if ele in old:\n",
    "        index= Test.index(ele)\n",
    "        theOld=Test[index:]\n",
    "        theNew=Test[:index]\n",
    "        break\n",
    "print theOld\n",
    "print theNew"
   ]
  },
  {
   "cell_type": "code",
   "execution_count": null,
   "metadata": {
    "collapsed": true
   },
   "outputs": [],
   "source": []
  },
  {
   "cell_type": "code",
   "execution_count": null,
   "metadata": {
    "collapsed": true
   },
   "outputs": [],
   "source": []
  },
  {
   "cell_type": "code",
   "execution_count": null,
   "metadata": {
    "collapsed": true
   },
   "outputs": [],
   "source": []
  }
 ],
 "metadata": {
  "kernelspec": {
   "display_name": "Python 2",
   "language": "python",
   "name": "python2"
  },
  "language_info": {
   "codemirror_mode": {
    "name": "ipython",
    "version": 2
   },
   "file_extension": ".py",
   "mimetype": "text/x-python",
   "name": "python",
   "nbconvert_exporter": "python",
   "pygments_lexer": "ipython2",
   "version": "2.7.11"
  }
 },
 "nbformat": 4,
 "nbformat_minor": 0
}
