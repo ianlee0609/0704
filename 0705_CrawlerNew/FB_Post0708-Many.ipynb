{
 "cells": [
  {
   "cell_type": "code",
   "execution_count": 60,
   "metadata": {
    "collapsed": false
   },
   "outputs": [
    {
     "name": "stdout",
     "output_type": "stream",
     "text": [
      "98\n"
     ]
    },
    {
     "data": {
      "text/plain": [
       "100"
      ]
     },
     "execution_count": 60,
     "metadata": {},
     "output_type": "execute_result"
    }
   ],
   "source": [
    " import json\n",
    "import requests\n",
    "import string\n",
    "from collections import Counter\n",
    "import time\n",
    "\n",
    "\n",
    "ACCESSTOKEN  = 'EAAEXVBeJumcBADJoWXBQrGsJZCaCnfoOIaxzHssVxjJVJUZC2TCCfzHsH99EZBSg3Y9HMQKXjizPO4k0WVskfAm9t2TnjZCBJdg734PJJfLKD5BBCrNGJO0RLMbhEr4ZANOzwOvzy47XJ1eqHC1mkLLpYbmddXlZB8R7EF8kJjmAZDZD'\n",
    "PostUrl ='https://graph.facebook.com/v2.5/15925638948/posts?limit=100&fields=attachments,message,created_time,shares&access_token='+ACCESSTOKEN\n",
    "\n",
    "res = requests.get(PostUrl)\n",
    "\n",
    "jd = json.loads(res.text)\n",
    "\n",
    "PostID= jd['data'][0]['id']\n",
    "print jd['data'][0]['shares']['count']\n",
    "len(jd['data'])\n",
    "\n",
    "\n"
   ]
  },
  {
   "cell_type": "code",
   "execution_count": 3,
   "metadata": {
    "collapsed": false
   },
   "outputs": [
    {
     "name": "stdout",
     "output_type": "stream",
     "text": [
      "6635899\n"
     ]
    }
   ],
   "source": [
    "#粉絲抓取\n",
    "\n",
    "PostUrl ='https://graph.facebook.com/v2.5/15925638948?fields=likes&access_token='+ACCESSTOKEN\n",
    "\n",
    "res = requests.get(PostUrl)\n",
    "\n",
    "jd = json.loads(res.text)\n",
    "\n",
    "Fans= jd['likes']\n",
    "\n",
    "print Fans\n",
    "def inserFans():\n",
    "    command=\"INSERT INTO FBFans (Crawler_Time,Fans) VALUES (?,?)\"\n",
    "\n",
    "    cursor.execute(command,(Crawler_Time,Fans))\n",
    "    conn.commit()\n"
   ]
  },
  {
   "cell_type": "code",
   "execution_count": 4,
   "metadata": {
    "collapsed": false
   },
   "outputs": [
    {
     "data": {
      "text/plain": [
       "1"
      ]
     },
     "execution_count": 4,
     "metadata": {},
     "output_type": "execute_result"
    }
   ],
   "source": [
    "#判斷起始NO\n",
    "#IDrow\n",
    "\n",
    "import pyodbc\n",
    "conn = pyodbc.connect('DRIVER={SQL Server};SERVER=163.14.68.48;DATABASE=FB_NewCrawler;UID=sa;PWD=scucc')\n",
    "cursor = conn.cursor()\n",
    "cursor.execute(\"select * from FBPostData   order by PostNO asc\")\n",
    "\n",
    "def Second():\n",
    "    conn = pyodbc.connect('DRIVER={SQL Server};SERVER=163.14.68.48;DATABASE=FB_NewCrawler;UID=sa;PWD=scucc')\n",
    "    cursor = conn.cursor()\n",
    "    cursor.execute(\"select * from FBPostData   order by PostNO asc\")\n",
    "    global rows\n",
    "    rows = cursor.fetchall()\n",
    "    global IDrows\n",
    "    \n",
    "    IDrows=[]\n",
    "#自動判斷1 或是第二次以上NO   \n",
    "    try:\n",
    "        PostNO= rows[-1][0]+1\n",
    "        for row in rows:\n",
    "            IDrows.append( row[-1])\n",
    "        return PostNO\n",
    "    except:\n",
    "        return 1\n",
    "Second()"
   ]
  },
  {
   "cell_type": "code",
   "execution_count": null,
   "metadata": {
    "collapsed": true
   },
   "outputs": [],
   "source": []
  },
  {
   "cell_type": "code",
   "execution_count": 5,
   "metadata": {
    "collapsed": false
   },
   "outputs": [],
   "source": [
    "#偵測PO文NO\n",
    "\n",
    "def PostNOdetect(id):\n",
    "    \n",
    "    \n",
    "    for row in rows:\n",
    "        if row[-1]==id:\n",
    "            NO=row[0]\n",
    "            \n",
    "    return NO\n",
    "\n",
    "#PostNOdetect('15925638948_10154486947508949')"
   ]
  },
  {
   "cell_type": "code",
   "execution_count": 6,
   "metadata": {
    "collapsed": true
   },
   "outputs": [],
   "source": [
    "#PO文 抓入SQL\n",
    "\n",
    "def insertSQL(id,PostNO):\n",
    "    status='new'\n",
    "    \n",
    "    #如果是舊的PO文\n",
    "    if(id in IDrows ):\n",
    "        status='old'\n",
    "        PostNO=PostNOdetect(id)\n",
    "    \n",
    "    if(status=='new'):\n",
    "        command=\"INSERT INTO FBPostData (PostNO,Created_Time,Message,ID,AttatchTitle,AttatchMessage,Crawler_Time) VALUES (?,?,?,?,?,?,?)\"\n",
    "\n",
    "        cursor.execute(command,(PostNO,created_time,Postmessage,id,attatchTitle,attatchMessage,Crawler_Time))\n",
    "        \n",
    "    command=\"INSERT INTO FBPostChange (PostNO,LikeCount,CommentCount,ShareCount,Crawler_Time) VALUES (?,?,?,?,?)\"\n",
    "\n",
    "    cursor.execute(command,(PostNO,LikeCount,CommentCount,ShareCount,Crawler_Time))\n",
    "    \n",
    "# rows = cursor.fetchall()\n",
    "# for row in rows:"
   ]
  },
  {
   "cell_type": "code",
   "execution_count": 7,
   "metadata": {
    "collapsed": false
   },
   "outputs": [
    {
     "data": {
      "text/plain": [
       "1"
      ]
     },
     "execution_count": 7,
     "metadata": {},
     "output_type": "execute_result"
    }
   ],
   "source": [
    "#判斷起始NO\n",
    "\n",
    "\n",
    "\n",
    "def CommentSecond(PostNO):\n",
    "    global CommentIDrows\n",
    "    global Commentrows\n",
    "    CommentIDrows=[]\n",
    "    Commentrows=[]\n",
    "    \n",
    "    cursor.execute(\"select * from FBCommentData where PostNO=?  order by CommentNO asc\",PostNO)\n",
    "    Commentrows = cursor.fetchall()\n",
    "    try:\n",
    "        CommentNO= Commentrows[-1][1]+1\n",
    "        for row in Commentrows:\n",
    "            CommentIDrows.append( row[-3])\n",
    "\n",
    "        return CommentNO\n",
    "    except:\n",
    "        return 1\n",
    "CommentSecond(3)\n"
   ]
  },
  {
   "cell_type": "code",
   "execution_count": 8,
   "metadata": {
    "collapsed": false
   },
   "outputs": [],
   "source": [
    "def CommentNOdetect(id):\n",
    "    for row in Commentrows:\n",
    "        if row[-3]==id:\n",
    "            CommentNO=row[1]\n",
    "    return CommentNO\n",
    "\n",
    "#CommentNOdetect('10154486947508949_10154487300663949')"
   ]
  },
  {
   "cell_type": "code",
   "execution_count": 9,
   "metadata": {
    "collapsed": false
   },
   "outputs": [],
   "source": [
    "def Comment(PostID):\n",
    "    start =time.time()\n",
    "    \n",
    "    CommentUrl ='https://graph.facebook.com/v2.5/'+PostID+'/comments?fields=like_count,message,comment_count,from,id&limit=200&access_token='+ACCESSTOKEN\n",
    "\n",
    "    CommentRes = requests.get(CommentUrl)\n",
    "\n",
    "    CommentJd = json.loads(CommentRes.text)\n",
    "    \n",
    "    \n",
    "    global like_count\n",
    "    global message\n",
    "    global comment_count\n",
    "    global Name\n",
    "    global UserID\n",
    "    global CommentID\n",
    "    global CommentNO\n",
    "    global CommentStatus\n",
    "    \n",
    "    CommentStatus='new'\n",
    "    CommentNO=CommentSecond(PostNO)\n",
    "    \n",
    "    #CommentNO=1\n",
    "    \n",
    "    try:\n",
    "        bug=CommentJd['paging']\n",
    "    except:\n",
    "        print PostID\n",
    "        return 0\n",
    "    end =time.time()\n",
    "    time1= end-start\n",
    "    HowMuch=str(len(CommentJd['data']))\n",
    "    print '評論載入成功:'+HowMuch+'筆 '+str(time1)+'秒'\n",
    "    \n",
    "    \n",
    "   \n",
    "    \n",
    "    start =time.time()\n",
    "    \n",
    "    while 'next' in CommentJd['paging'] :\n",
    "        \n",
    "        \n",
    "        for data in CommentJd['data']:\n",
    "            like_count= data['like_count']\n",
    "            message=data['message']\n",
    "            comment_count=data['comment_count']\n",
    "\n",
    "            Name= data['from']['name']\n",
    "            UserID= data['from']['id']\n",
    "            CommentID=data['id']\n",
    "            \n",
    "                \n",
    "            #插入    \n",
    "            InsertComment(CommentID,CommentNO)\n",
    "            \n",
    "            if(CommentID==CommentJd['data'][-1]['id']):\n",
    "\n",
    "                CommentUrl=CommentJd['paging']['next']\n",
    "                time.sleep(1)\n",
    "                CommentRes=requests.get(CommentUrl)\n",
    "                CommentJd = json.loads(CommentRes.text)\n",
    "\n",
    "            \n",
    "            CommentNO+=1\n",
    "            \n",
    "    for data in CommentJd['data']:\n",
    "        like_count= data['like_count']\n",
    "        message=data['message']\n",
    "        comment_count=data['comment_count']\n",
    "\n",
    "        Name= data['from']['name']\n",
    "        UserID= data['from']['id']\n",
    "        CommentID=data['id']\n",
    "        #插入\n",
    "        InsertComment(CommentID,CommentNO)\n",
    "\n",
    "        CommentNO+=1\n",
    "        \n",
    "    end=time.time()\n",
    "    time1=end-start\n",
    "    print '資料輸入完畢:'+str(time1)+'秒'\n",
    "    \n",
    "        \n",
    "    return CommentNO-1\n",
    "    \n",
    "    \n",
    "    \n",
    "# Comment('15925638948_10154512960348949')    \n",
    "    \n",
    "    "
   ]
  },
  {
   "cell_type": "code",
   "execution_count": 10,
   "metadata": {
    "collapsed": true
   },
   "outputs": [],
   "source": [
    "def InsertComment(CommentID,CommentNO):\n",
    "    CommentStatus='new'\n",
    "    if(CommentID in CommentIDrows ):\n",
    "        CommentStatus='old'\n",
    "        CommentNO=CommentNOdetect(CommentID)\n",
    "    \n",
    "    if(CommentStatus=='new'):\n",
    "        command=\"INSERT INTO FBCommentData (PostNO,CommentNO,Name,Message,CommentID,UserID,Crawler_Time) VALUES (?,?,?,?,?,?,?)\"\n",
    "\n",
    "        cursor.execute(command,(PostNO,CommentNO,Name,message,CommentID,UserID,Crawler_Time))\n",
    "\n",
    "    \n",
    "    command=\"INSERT INTO FBCommentChange (PostNO,CommentNO,LikeCount,ReplyCount,Crawler_Time) VALUES (?,?,?,?,?)\"\n",
    "\n",
    "    cursor.execute(command,(PostNO,CommentNO,like_count,comment_count,Crawler_Time))\n"
   ]
  },
  {
   "cell_type": "code",
   "execution_count": 11,
   "metadata": {
    "collapsed": false
   },
   "outputs": [
    {
     "data": {
      "text/plain": [
       "3"
      ]
     },
     "execution_count": 11,
     "metadata": {},
     "output_type": "execute_result"
    }
   ],
   "source": [
    "#判斷起始NO\n",
    "\n",
    "\n",
    "\n",
    "def LikeSecond(PostNO):\n",
    "    global LikeIDrows\n",
    "    global Likerows\n",
    "    LikeIDrows=[]\n",
    "    Likerows=[]\n",
    "    \n",
    "    cursor.execute(\"select * from FBPostLikeChange where PostNO=?  order by LikeNO asc\",PostNO)\n",
    "    Likerows = cursor.fetchall()\n",
    "    try:\n",
    "        LikeNO= Likerows[-1][1]+1\n",
    "        for row in Likerows:\n",
    "            LikeIDrows.append( row[2])\n",
    "\n",
    "        return LikeNO\n",
    "    except:\n",
    "        return 1\n",
    "LikeSecond(1)\n"
   ]
  },
  {
   "cell_type": "code",
   "execution_count": 12,
   "metadata": {
    "collapsed": true
   },
   "outputs": [],
   "source": [
    "def LikeNOdetect(id):\n",
    "    for row in Likerows:\n",
    "        if row[2]==id:\n",
    "            LikeNO=row[1]\n",
    "    return LikeNO\n",
    "\n",
    "#CommentNOdetect('10154486947508949_10154487300663949')"
   ]
  },
  {
   "cell_type": "code",
   "execution_count": 34,
   "metadata": {
    "collapsed": true
   },
   "outputs": [],
   "source": [
    "def InsertLike(UserID,LikeNO):\n",
    "    \n",
    "    LikeStatus='new'\n",
    "    if(UserID in LikeIDrows ):\n",
    "        LikeStatus='old'\n",
    "#         LikeNO=LikeNOdetect(UserID)\n",
    "    \n",
    "    if LikeStatus=='new':\n",
    "        \n",
    "        Values.append((PostNO,LikeNO,UserID,UserName,Crawler_Time))\n",
    "        \n",
    "        "
   ]
  },
  {
   "cell_type": "code",
   "execution_count": 58,
   "metadata": {
    "collapsed": false
   },
   "outputs": [],
   "source": [
    "def Like(PostID):\n",
    "    global LikeNO\n",
    "    global UserName\n",
    "    global UserID\n",
    "    global CommentStatus\n",
    "    global Values\n",
    "    Values=[]\n",
    "    command=\"INSERT  INTO FBPostLikeChange (PostNO,LikeNO,UserID,UserName,Crawler_Time) VALUES (?,?,?,?,?)\"\n",
    "    \n",
    "    start=time.time()\n",
    "    CommentStatus='new'\n",
    "    \n",
    "    LikeNO= LikeSecond(PostNO)\n",
    "    \n",
    "    LikeUrl ='https://graph.facebook.com/v2.5/'+PostID+'/likes?pretty=0&limit=1000&access_token='+ACCESSTOKEN\n",
    "\n",
    "    LikeRes = requests.get(LikeUrl)\n",
    "\n",
    "    LikeJd = json.loads(LikeRes.text)\n",
    "    end =time.time()\n",
    "    time1= end-start\n",
    "    HowMuch=str(len(LikeJd['data']))\n",
    "    print '讚數載入成功:'+HowMuch+'個 '+str(time1)+'秒'\n",
    "    \n",
    "    start=time.time()\n",
    "    try:\n",
    "        while 'next' in LikeJd['paging']:\n",
    "            for data in LikeJd['data']:\n",
    "                UserName= data['name']\n",
    "                UserID= data['id']\n",
    "                InsertLike(UserID,LikeNO)\n",
    "                if(UserID== LikeJd['data'][-1]['id']):\n",
    "                    LikeUrl=LikeJd['paging']['next']\n",
    "                    #time.sleep(0.1)\n",
    "                    LikeRes=requests.get(LikeUrl)\n",
    "                    LikeJd = json.loads(LikeRes.text)\n",
    "                LikeNO+=1\n",
    "    except:\n",
    "        return 0\n",
    "            \n",
    "        \n",
    "    for data in LikeJd['data']:\n",
    "        UserName= data['name']\n",
    "        UserID= data['id']\n",
    "        InsertLike(UserID,LikeNO)\n",
    "        LikeNO+=1\n",
    "        \n",
    "  \n",
    "    cursor.executemany(command, Values)\n",
    "    conn.commit()\n",
    "    end =time.time()\n",
    "    time1= end-start\n",
    "    HowMuch=str(len(LikeJd['data']))\n",
    "    print '資料輸入成功:'+HowMuch+'個 '+str(time1)+'秒'\n",
    "    \n",
    "    return LikeNO-1\n",
    "    \n",
    "    "
   ]
  },
  {
   "cell_type": "code",
   "execution_count": 14,
   "metadata": {
    "collapsed": false
   },
   "outputs": [
    {
     "name": "stdout",
     "output_type": "stream",
     "text": [
      "1\n"
     ]
    }
   ],
   "source": [
    "cursor.execute(\"select * from FBPostData   order by PostNO asc\")\n",
    "rows = cursor.fetchall()\n",
    "print rows[0][0]\n"
   ]
  },
  {
   "cell_type": "code",
   "execution_count": 94,
   "metadata": {
    "collapsed": false
   },
   "outputs": [
    {
     "name": "stdout",
     "output_type": "stream",
     "text": [
      "24\n",
      "21\n"
     ]
    }
   ],
   "source": [
    "PostUrl =('https://graph.facebook.com/v2.7/15925638948_10154512299018949/comments?fields=id,from,message,'\n",
    "          'comment_count,comments.limit(50){from,message,like_count},'\n",
    "          'like_count,likes.limit(1000){username,id}&limit=100&access_token='+ACCESSTOKEN)\n",
    "res = requests.get(PostUrl)\n",
    "jd = json.loads(res.text)\n",
    "print jd['data'][1]['comment_count']\n",
    "print len(jd['data'][1]['comments']['data'])"
   ]
  },
  {
   "cell_type": "code",
   "execution_count": 96,
   "metadata": {
    "collapsed": false
   },
   "outputs": [
    {
     "data": {
      "text/plain": [
       "274"
      ]
     },
     "execution_count": 96,
     "metadata": {},
     "output_type": "execute_result"
    }
   ],
   "source": [
    "len(jd['data'][4]['likes']['data'])"
   ]
  },
  {
   "cell_type": "code",
   "execution_count": 97,
   "metadata": {
    "collapsed": false
   },
   "outputs": [
    {
     "name": "stdout",
     "output_type": "stream",
     "text": [
      "150\n"
     ]
    }
   ],
   "source": [
    "PostUrl =('https://graph.facebook.com/v2.7/15925638948_10154512960348949?fields=comments.limit(200)&access_token='+ACCESSTOKEN)\n",
    "res = requests.get(PostUrl)\n",
    "jd = json.loads(res.text)\n",
    "print len(jd['comments']['data'])"
   ]
  },
  {
   "cell_type": "code",
   "execution_count": null,
   "metadata": {
    "collapsed": false
   },
   "outputs": [
    {
     "name": "stdout",
     "output_type": "stream",
     "text": [
      "Crawler_Time:20160729\n",
      "20160729\n",
      "評論載入成功:26筆 0.732000112534秒\n",
      "資料輸入完畢:0.53200006485秒\n",
      "讚數載入成功:427個 0.511999845505秒\n",
      "資料輸入成功:427個 9.49300003052秒\n",
      "評論載入成功:32筆 0.348000049591秒\n",
      "資料輸入完畢:0.644000053406秒\n",
      "讚數載入成功:190個 0.353999853134秒\n",
      "資料輸入成功:190個 3.66799998283秒\n",
      "評論載入成功:12筆 0.398999929428秒\n",
      "資料輸入完畢:0.237999916077秒\n",
      "讚數載入成功:243個 0.351999998093秒\n",
      "資料輸入成功:243個 5.92100000381秒\n",
      "評論載入成功:2筆 0.306999921799秒\n",
      "資料輸入完畢:0.039999961853秒\n",
      "讚數載入成功:81個 0.301000118256秒\n",
      "資料輸入成功:81個 1.52599978447秒\n",
      "評論載入成功:200筆 0.733000040054秒\n",
      "資料輸入完畢:10.4429998398秒\n",
      "讚數載入成功:1000個 0.927999973297秒\n"
     ]
    }
   ],
   "source": [
    "#開爬\n",
    "\n",
    "import pyodbc\n",
    "conn = pyodbc.connect('DRIVER={SQL Server};SERVER=163.14.68.48;DATABASE=FB_NewCrawler;UID=sa;PWD=scucc')\n",
    "cursor = conn.cursor()\n",
    "\n",
    "\n",
    "#狀態初始化\n",
    "end=0\n",
    "status='new'\n",
    "IDrows=[]\n",
    "global PostNO\n",
    "\n",
    "PostNO=Second()\n",
    "\n",
    "\n",
    "#粉絲\n",
    "\n",
    "PostUrl ='https://graph.facebook.com/v2.5/15925638948?fields=likes&access_token='+ACCESSTOKEN\n",
    "res = requests.get(PostUrl)\n",
    "jd = json.loads(res.text)\n",
    "Fans= jd['likes']\n",
    "\n",
    "\n",
    "#PO文\n",
    "PostUrl ='https://graph.facebook.com/v2.5/15925638948/posts?limit=100&fields=attachments,message,created_time,shares&access_token='+ACCESSTOKEN\n",
    "res = requests.get(PostUrl)\n",
    "jd = json.loads(res.text)\n",
    "\n",
    "\n",
    "\n",
    "\n",
    "#時間\n",
    "Crawler_Time = raw_input(\"Crawler_Time:\")\n",
    "print Crawler_Time\n",
    "\n",
    "# inserFans()\n",
    "\n",
    "\n",
    "\n",
    "while( 'next' in jd['paging'] ):\n",
    "    status='new'\n",
    "    if end==1:\n",
    "        break\n",
    "    \n",
    "    for post in jd['data']:\n",
    "        attatchTitle=\"\"\n",
    "        attatchMessage=\"\"\n",
    "        CommentCount=0\n",
    "        LikeCount=0\n",
    "        ShareCount=0\n",
    "        Postmessage=\"\"\n",
    "        \n",
    "        #例外\n",
    "        if('message'in post):\n",
    "            Postmessage=post['message']\n",
    "        if('shares'in post):\n",
    "            ShareCount=post['shares']['count']\n",
    "        created_time=post['created_time']\n",
    "            \n",
    "        id=post['id']\n",
    "\n",
    "        \n",
    "        #attachments\n",
    "        if('attachments' in post):\n",
    "            if('title' in post['attachments']['data'][0]):\n",
    "                attatchTitle=post['attachments']['data'][0]['title']\n",
    "            if('description' in post['attachments']['data'][0]):\n",
    "                attatchMessage=post['attachments']['data'][0]['description']\n",
    "\n",
    "        if(id in IDrows ):\n",
    "            status='old'\n",
    "            PostNO=PostNOdetect(id)\n",
    "        CommentCount=0\n",
    "        CommentCount=Comment(id)\n",
    "        LikeCount=0\n",
    "        LikeCount=Like(id)\n",
    "        \n",
    "#         print CommentCount\n",
    "        insertSQL(id,PostNO)\n",
    "        \n",
    "        if (id==jd['data'][-1]['id']):\n",
    "            url=jd['paging']['next']\n",
    "\n",
    "            res=requests.get(url)\n",
    "            jd = json.loads(res.text)\n",
    "        \n",
    "        PostNO+=1\n",
    "\n",
    "  \n",
    "    \n",
    "        \n",
    "        #停止點\n",
    "        if (id=='15925638948_10154512135443949'):\n",
    "            end=1\n",
    "            \n",
    "            break\n",
    "            \n",
    "    \n",
    "conn.commit()\n",
    "print \"end\"\n",
    "cursor.close()\n",
    "conn.close()   "
   ]
  },
  {
   "cell_type": "code",
   "execution_count": 62,
   "metadata": {
    "collapsed": false
   },
   "outputs": [],
   "source": [
    "cursor.close()\n",
    "conn.close()  "
   ]
  },
  {
   "cell_type": "code",
   "execution_count": 45,
   "metadata": {
    "collapsed": false
   },
   "outputs": [
    {
     "name": "stdout",
     "output_type": "stream",
     "text": [
      "end\n"
     ]
    }
   ],
   "source": [
    "conn = pyodbc.connect('DRIVER={SQL Server};SERVER=163.14.68.48;DATABASE=FB_NewCrawler;UID=sa;PWD=scucc')\n",
    "cursor = conn.cursor()\n",
    "query = \"INSERT INTO FBPostLikeChange (PostNO,LikeNO,UserID,UserName,Crawler_Time) VALUES (?,?,?,?,?)\"\n",
    "values = []\n",
    "\n",
    "values.append((1, 2, 3, 4,5))\n",
    "values.append((2, 2, 3, 4,5))\n",
    "cursor.executemany(query, values)\n",
    "conn.commit()\n",
    "print 'end'\n",
    "cursor.close()\n",
    "conn.close()  "
   ]
  },
  {
   "cell_type": "code",
   "execution_count": 57,
   "metadata": {
    "collapsed": false
   },
   "outputs": [
    {
     "name": "stdout",
     "output_type": "stream",
     "text": [
      "陣列讀取中\n",
      "陣列讀取完畢\n",
      "資料輸入中\n",
      "資料輸入完必\n",
      "18.8329999447\n"
     ]
    }
   ],
   "source": [
    "\n",
    "\n",
    "conn = pyodbc.connect('DRIVER={SQL Server};SERVER=163.14.68.48;DATABASE=FB_NewCrawler;UID=sa;PWD=scucc')\n",
    "cursor = conn.cursor()\n",
    "query = \"INSERT INTO FBPostLikeChange (PostNO,LikeNO,UserID,UserName,Crawler_Time) VALUES (?,?,?,?,?)\"\n",
    "values = []\n",
    "start=time.time()\n",
    "print '陣列讀取中'\n",
    "for i in range(0,1000):\n",
    "    values.append((i, 0, 0, 0,0))\n",
    "print '陣列讀取完畢'\n",
    "print '資料輸入中'\n",
    "cursor.executemany(query, values)\n",
    "conn.commit()\n",
    "end =time.time()\n",
    "time1= end-start\n",
    "\n",
    "print '資料輸入完必'\n",
    "print time1\n",
    "cursor.close()\n",
    "conn.close()  "
   ]
  },
  {
   "cell_type": "code",
   "execution_count": 56,
   "metadata": {
    "collapsed": false
   },
   "outputs": [
    {
     "name": "stdout",
     "output_type": "stream",
     "text": [
      "資料輸入中\n",
      "19.2949998379\n",
      "資料輸入完畢\n",
      "end\n"
     ]
    }
   ],
   "source": [
    "import pyodbc\n",
    "conn = pyodbc.connect('DRIVER={SQL Server};SERVER=163.14.68.48;DATABASE=FB_fanpage;UID=sa;PWD=scucc')\n",
    "cursor = conn.cursor()\n",
    "   \n",
    "sql_posts=\"INSERT INTO post(postNum,fanpageNum,postId,postMessage,postTime,postStory) VALUES (?,?,?,?,?,?)\"\n",
    "print '資料輸入中'\n",
    "start=time.time()\n",
    "for n in range(0,1000):\n",
    "    cursor.execute(sql_posts,(n,n,n,n,n,n))    \n",
    "    \n",
    "\n",
    "conn.commit() \n",
    "end =time.time()\n",
    "time1= end-start\n",
    "print time1\n",
    "print '資料輸入完畢'\n",
    "\n",
    "cursor.close()\n",
    "conn.close()\n",
    "print \"end\""
   ]
  }
 ],
 "metadata": {
  "anaconda-cloud": {},
  "kernelspec": {
   "display_name": "Python [Root]",
   "language": "python",
   "name": "Python [Root]"
  },
  "language_info": {
   "codemirror_mode": {
    "name": "ipython",
    "version": 2
   },
   "file_extension": ".py",
   "mimetype": "text/x-python",
   "name": "python",
   "nbconvert_exporter": "python",
   "pygments_lexer": "ipython2",
   "version": "2.7.12"
  }
 },
 "nbformat": 4,
 "nbformat_minor": 0
}
