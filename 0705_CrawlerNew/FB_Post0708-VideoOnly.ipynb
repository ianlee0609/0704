{
 "cells": [
  {
   "cell_type": "code",
   "execution_count": 2,
   "metadata": {
    "collapsed": false,
    "nbpresent": {
     "id": "68a5d74f-b9b6-43fe-a16b-b36b2c3ec74c"
    }
   },
   "outputs": [
    {
     "name": "stdout",
     "output_type": "stream",
     "text": [
      "77\n"
     ]
    },
    {
     "data": {
      "text/plain": [
       "100"
      ]
     },
     "execution_count": 2,
     "metadata": {},
     "output_type": "execute_result"
    }
   ],
   "source": [
    " import json\n",
    "import requests\n",
    "import string\n",
    "from collections import Counter\n",
    "import time\n",
    "\n",
    "\n",
    "ACCESSTOKEN  = 'EAACEdEose0cBAL1BRcAUqpV3Lw4X9NZB62Js8ew3zTtQQJNSJyijiWglthZBNCvoh1vO8pZCcBFMYI7OYhFzjsA99sjS2LLAvZCOHDMF9ZAPmCNim2ZAtVblNq7MK7L3qZA2SmtLPWPEg9uBy18Wx0aqMFXamRCwnZAGNhwcDpEgfQZDZD'\n",
    "PostUrl ='https://graph.facebook.com/v2.5/15925638948/posts?limit=100&fields=attachments,message,created_time,shares&access_token='+ACCESSTOKEN\n",
    "\n",
    "res = requests.get(PostUrl)\n",
    "\n",
    "jd = json.loads(res.text)\n",
    "\n",
    "\n",
    "PostID= jd['data'][0]['id']\n",
    "print jd['data'][1]['shares']['count']\n",
    "len(jd['data'])\n",
    "\n",
    "\n"
   ]
  },
  {
   "cell_type": "code",
   "execution_count": 3,
   "metadata": {
    "collapsed": false,
    "nbpresent": {
     "id": "f9bde740-9444-423c-b4e4-fc6af84c138a"
    }
   },
   "outputs": [
    {
     "name": "stdout",
     "output_type": "stream",
     "text": [
      "6723260\n"
     ]
    }
   ],
   "source": [
    "#粉絲抓取\n",
    "\n",
    "PostUrl ='https://graph.facebook.com/v2.5/15925638948?fields=likes&access_token='+ACCESSTOKEN\n",
    "\n",
    "res = requests.get(PostUrl)\n",
    "\n",
    "jd = json.loads(res.text)\n",
    "\n",
    "Fans= jd['likes']\n",
    "\n",
    "print Fans\n",
    "def inserFans():\n",
    "    command=\"INSERT INTO FBFans (Crawler_Time,Fans) VALUES (?,?)\"\n",
    "\n",
    "    cursor.execute(command,(Crawler_Time,Fans))\n",
    "    conn.commit()\n"
   ]
  },
  {
   "cell_type": "code",
   "execution_count": 4,
   "metadata": {
    "collapsed": false,
    "nbpresent": {
     "id": "f725cf3e-0b88-42a7-8127-31e50e04a336"
    }
   },
   "outputs": [],
   "source": [
    "\n",
    "import pyodbc\n",
    "conn = pyodbc.connect('DRIVER={SQL Server};SERVER=163.14.72.42;DATABASE=FB_NewCrawler;UID=sa;PWD=scucc')\n",
    "cursor = conn.cursor()"
   ]
  },
  {
   "cell_type": "code",
   "execution_count": 5,
   "metadata": {
    "collapsed": false,
    "nbpresent": {
     "id": "848cf0f9-ea6f-4c26-9bc9-763d67d050f9"
    }
   },
   "outputs": [
    {
     "data": {
      "text/plain": [
       "[(3, 4151, 516, 1346, u'20161012', 4, 0, 8),\n",
       " (3, 4147, 516, 1338, u'20161010', 2, 0, -1),\n",
       " (3, 4145, 516, 1339, u'20161009', 6, 0, 13),\n",
       " (3, 4139, 516, 1326, u'20160824', 1, 0, 0),\n",
       " (3, 4139, 516, 1326, u'20160825', 0, 0, 0),\n",
       " (3, 4139, 516, 1327, u'20160829', 0, 0, 1),\n",
       " (3, 4138, 516, 1326, u'20160823', 1, 0, 3),\n",
       " (3, 4138, 515, 1328, u'20160904', -1, -1, 2),\n",
       " (3, 4137, 516, 1323, u'20160811', 7, 0, 5),\n",
       " (3, 4137, 516, 1325, u'20160812', 0, 0, 2),\n",
       " (3, 4137, 516, 1325, u'20160814', 0, 0, 2),\n",
       " (3, 4137, 516, 1326, u'20160822', 0, 0, 3),\n",
       " (3, 4137, 515, 1329, u'20160905', -2, -1, 3),\n",
       " (3, 4136, 516, 1325, u'20160813', -1, 0, 2),\n",
       " (3, 4136, 516, 1325, u'20160815', -1, 0, 2),\n",
       " (3, 4136, 516, 1333, u'20161008', -3, 0, 7),\n",
       " (3, 4136, 515, 1327, u'20160902', -3, -1, 1),\n",
       " (3, 4136, 515, 1327, u'20160903', -3, -1, 1),\n",
       " (3, 4135, 516, 1325, u'20160820', -2, 0, 2),\n",
       " (3, 4134, 516, 1325, u'20160819', -3, 0, 2),\n",
       " (3, 4133, 516, 1325, u'20160817', -4, 0, 2),\n",
       " (3, 4132, 516, 1325, u'20160816', -5, 0, 2),\n",
       " (3, 4131, 515, 1328, u'20160909', -8, -1, 2),\n",
       " (3, 4130, 516, 1318, u'20160807', 5, 0, -1),\n",
       " (3, 4130, 516, 1318, u'20160809', 0, 0, 0),\n",
       " (3, 4130, 516, 1319, u'20160808', 0, 0, 1),\n",
       " (3, 4128, 515, 1328, u'20160910', -11, -1, 2),\n",
       " (3, 4128, 515, 1328, u'20160912', -11, -1, 2),\n",
       " (3, 4127, 516, 1328, u'20160916', -12, 0, 2),\n",
       " (3, 4126, 516, 1328, u'20160917', -13, 0, 2),\n",
       " (3, 4126, 516, 1328, u'20160914', -13, 0, 2),\n",
       " (3, 4126, 516, 1329, u'20160928', -13, 0, 3),\n",
       " (3, 4125, 516, 1319, u'20160806', 4125, 516, 1319),\n",
       " (3, 4125, 516, 1328, u'20160918', -14, 0, 2),\n",
       " (3, 4125, 516, 1329, u'20160926', -14, 0, 3),\n",
       " (3, 4124, 516, 1328, u'20160915', -15, 0, 2),\n",
       " (3, 4124, 516, 1329, u'20160927', -15, 0, 3),\n",
       " (3, 4124, 516, 1329, u'20161003', -15, 0, 3),\n",
       " (3, 4124, 516, 1329, u'20160924', -15, 0, 3),\n",
       " (3, 4124, 516, 1329, u'20160925', -15, 0, 3),\n",
       " (3, 4123, 516, 1329, u'20160930', -16, 0, 3),\n",
       " (3, 4123, 516, 1329, u'20161004', -16, 0, 3),\n",
       " (3, 4123, 516, 1329, u'20160923', -16, 0, 3),\n",
       " (3, 4123, 516, 1329, u'20161002', -16, 0, 3),\n",
       " (3, 4123, 516, 1329, u'20161001', -16, 0, 3),\n",
       " (3, 4123, 516, 1329, u'20160922', -16, 0, 3),\n",
       " (3, 4123, 515, 1328, u'20160913', -16, -1, 2),\n",
       " (3, 4122, 516, 1328, u'20160919', -17, 0, 2),\n",
       " (3, 4122, 516, 1328, u'20160919', -17, 0, 2),\n",
       " (3, 4122, 516, 1329, u'20160921', -17, 0, 3),\n",
       " (3, 4122, 516, 1329, u'20160920', -17, 0, 3),\n",
       " (3, 4122, 516, 1329, u'20161007', -17, 0, 3),\n",
       " (3, 4121, 516, 1329, u'20160929', -18, 0, 3),\n",
       " (3, 4120, 516, 1329, u'20161005', -19, 0, 3),\n",
       " (3, 4120, 516, 1329, u'20161006', -19, 0, 3)]"
      ]
     },
     "execution_count": 5,
     "metadata": {},
     "output_type": "execute_result"
    }
   ],
   "source": [
    "def SharesSecond(PostNO):\n",
    "\n",
    "    cursor.execute(\"select * from FBPostChange where PostNO=? order by LikeCount desc,CommentCount desc,ShareCount\",PostNO)\n",
    "    Postrows = cursor.fetchall()\n",
    "    \n",
    "    try:\n",
    "        Postrows[0]\n",
    "        return Postrows\n",
    "    except:\n",
    "        return [(0,0,0,0,0)]\n",
    "SharesSecond(3)"
   ]
  },
  {
   "cell_type": "code",
   "execution_count": 6,
   "metadata": {
    "collapsed": false
   },
   "outputs": [
    {
     "data": {
      "text/plain": [
       "[(1, 1, 0, 0, u'20160815', 0, 0),\n",
       " (1, 1, 0, 0, u'20160807', 0, 0),\n",
       " (1, 1, 0, 0, u'20160813', 0, 0),\n",
       " (1, 1, 0, 0, u'20160914', 0, 0),\n",
       " (1, 1, 0, 0, u'20161003', 0, 0),\n",
       " (1, 1, 0, 0, u'20161010', 0, 0),\n",
       " (1, 1, 0, 0, u'20160822', 0, 0),\n",
       " (1, 1, 0, 0, u'20160903', 0, 0),\n",
       " (1, 1, 0, 0, u'20160912', 0, 0),\n",
       " (1, 1, 0, 0, u'20160922', 0, 0),\n",
       " (1, 1, 0, 0, u'20161009', 0, 0),\n",
       " (1, 1, 0, 0, u'20160809', 0, 0),\n",
       " (1, 1, 0, 0, u'20160913', 0, 0),\n",
       " (1, 1, 0, 0, u'20160921', 0, 0),\n",
       " (1, 1, 0, 0, u'20160926', 0, 0),\n",
       " (1, 1, 0, 0, u'20161005', 0, 0),\n",
       " (1, 1, 0, 0, u'20160819', 0, 0),\n",
       " (1, 1, 0, 0, u'20160902', 0, 0),\n",
       " (1, 1, 0, 0, u'20160812', 0, 0),\n",
       " (1, 1, 0, 0, u'20160924', 0, 0),\n",
       " (1, 1, 0, 0, u'20160928', 0, 0),\n",
       " (1, 1, 0, 0, u'20161007', 0, 0),\n",
       " (1, 1, 0, 0, u'20160817', 0, 0),\n",
       " (1, 1, 0, 0, u'20160824', 0, 0),\n",
       " (1, 1, 0, 0, u'20160904', 0, 0),\n",
       " (1, 1, 0, 0, u'20160915', 0, 0),\n",
       " (1, 1, 0, 0, u'20160919', 0, 0),\n",
       " (1, 1, 0, 0, u'20160919', 0, 0),\n",
       " (1, 1, 0, 0, u'20161006', 0, 0),\n",
       " (1, 1, 0, 0, u'20161012', 0, 0),\n",
       " (1, 1, 0, 0, u'20160814', 0, 0),\n",
       " (1, 1, 0, 0, u'20160820', 0, 0),\n",
       " (1, 1, 0, 0, u'20160825', 0, 0),\n",
       " (1, 1, 0, 0, u'20160905', 0, 0),\n",
       " (1, 1, 0, 0, u'20160916', 0, 0),\n",
       " (1, 1, 0, 0, u'20160918', 0, 0),\n",
       " (1, 1, 0, 0, u'20160920', 0, 0),\n",
       " (1, 1, 0, 0, u'20161002', 0, 0),\n",
       " (1, 1, 0, 0, u'20160811', 0, 0),\n",
       " (1, 1, 0, 0, u'20160910', 0, 0),\n",
       " (1, 1, 0, 0, u'20160923', 0, 0),\n",
       " (1, 1, 0, 0, u'20160925', 0, 0),\n",
       " (1, 1, 0, 0, u'20160927', 0, 0),\n",
       " (1, 1, 0, 0, u'20160930', 0, 0),\n",
       " (1, 1, 0, 0, u'20161001', 0, 0),\n",
       " (1, 1, 0, 0, u'20161004', 0, 0),\n",
       " (1, 1, 0, 0, u'20161008', 0, 0),\n",
       " (1, 1, 0, 0, u'20160816', 0, 0),\n",
       " (1, 1, 0, 0, u'20160823', 0, 0),\n",
       " (1, 1, 0, 0, u'20160806', 0, 0),\n",
       " (1, 1, 0, 0, u'20160829', 0, 0),\n",
       " (1, 1, 0, 0, u'20160808', 0, 0),\n",
       " (1, 1, 0, 0, u'20160909', 0, 0),\n",
       " (1, 1, 0, 0, u'20160917', 0, 0),\n",
       " (1, 1, 0, 0, u'20160929', 0, 0)]"
      ]
     },
     "execution_count": 6,
     "metadata": {},
     "output_type": "execute_result"
    }
   ],
   "source": [
    "def CommentChange(PostNO,CommentNO):\n",
    "\n",
    "    cursor.execute(\"select * from FBCommentChange where PostNO=? and CommentNO=? order by LikeCount desc,ReplyCount desc\",PostNO,CommentNO)\n",
    "    CommentChangerows = cursor.fetchall()\n",
    "    \n",
    "    try:\n",
    "        CommentChangerows[0]\n",
    "        return CommentChangerows\n",
    "    except:\n",
    "        return [(0,0,0,0,0)]\n",
    "CommentChange(1,1)"
   ]
  },
  {
   "cell_type": "code",
   "execution_count": 7,
   "metadata": {
    "collapsed": false
   },
   "outputs": [
    {
     "data": {
      "text/plain": [
       "[(3, 1, 1, 7, u'20160814', 0),\n",
       " (3, 1, 1, 7, u'20160815', 0),\n",
       " (3, 1, 1, 7, u'20160816', 0),\n",
       " (3, 1, 1, 7, u'20160817', 0),\n",
       " (3, 1, 1, 7, u'20160819', 0),\n",
       " (3, 1, 1, 7, u'20160820', 0),\n",
       " (3, 1, 1, 7, u'20160822', 0),\n",
       " (3, 1, 1, 7, u'20160823', 0),\n",
       " (3, 1, 1, 7, u'20160824', 0),\n",
       " (3, 1, 1, 7, u'20160825', 0),\n",
       " (3, 1, 1, 7, u'20160808', 0),\n",
       " (3, 1, 1, 7, u'20160807', 0),\n",
       " (3, 1, 1, 7, u'20160829', 0),\n",
       " (3, 1, 1, 7, u'20160806', 7),\n",
       " (3, 1, 1, 7, u'20160902', 0),\n",
       " (3, 1, 1, 7, u'20160903', 0),\n",
       " (3, 1, 1, 7, u'20160809', 0),\n",
       " (3, 1, 1, 7, u'20160811', 0),\n",
       " (3, 1, 1, 7, u'20160812', 0),\n",
       " (3, 1, 1, 7, u'20160813', 0),\n",
       " (3, 1, 1, 7, u'20160904', 0),\n",
       " (3, 1, 1, 7, u'20160905', 0),\n",
       " (3, 1, 1, 7, u'20160909', 0),\n",
       " (3, 1, 1, 7, u'20160910', 0),\n",
       " (3, 1, 1, 7, u'20160912', 0),\n",
       " (3, 1, 1, 7, u'20160913', 0),\n",
       " (3, 1, 1, 7, u'20160914', 0),\n",
       " (3, 1, 1, 7, u'20160915', 0),\n",
       " (3, 1, 1, 7, u'20160916', 0),\n",
       " (3, 1, 1, 7, u'20160917', 0),\n",
       " (3, 1, 1, 7, u'20160918', 0),\n",
       " (3, 1, 1, 7, u'20160919', 0),\n",
       " (3, 1, 1, 7, u'20160919', 0),\n",
       " (3, 1, 1, 7, u'20160920', 0),\n",
       " (3, 1, 1, 7, u'20160921', 0),\n",
       " (3, 1, 1, 7, u'20160922', 0),\n",
       " (3, 1, 1, 7, u'20160923', 0),\n",
       " (3, 1, 1, 7, u'20160924', 0),\n",
       " (3, 1, 1, 7, u'20160925', 0),\n",
       " (3, 1, 1, 7, u'20160926', 0),\n",
       " (3, 1, 1, 7, u'20160927', 0),\n",
       " (3, 1, 1, 7, u'20160928', 0),\n",
       " (3, 1, 1, 7, u'20160929', 0),\n",
       " (3, 1, 1, 7, u'20160930', 0),\n",
       " (3, 1, 1, 7, u'20161001', 0),\n",
       " (3, 1, 1, 7, u'20161002', 0),\n",
       " (3, 1, 1, 7, u'20161003', 0),\n",
       " (3, 1, 1, 7, u'20161004', 0),\n",
       " (3, 1, 1, 7, u'20161005', 0),\n",
       " (3, 1, 1, 7, u'20161006', 0),\n",
       " (3, 1, 1, 7, u'20161007', 0),\n",
       " (3, 1, 1, 7, u'20161008', 0),\n",
       " (3, 1, 1, 7, u'20161009', 0),\n",
       " (3, 1, 1, 7, u'20161010', 0),\n",
       " (3, 1, 1, 7, u'20161012', 0)]"
      ]
     },
     "execution_count": 7,
     "metadata": {},
     "output_type": "execute_result"
    }
   ],
   "source": [
    "def ReplyChange(PostNO,CommentNO,ReplyNO):\n",
    "\n",
    "    cursor.execute(\"select * from FBReplyChange where PostNO=? and CommentNO=? and ReplyNO=? order by LikeCount desc\",PostNO,CommentNO,ReplyNO)\n",
    "    ReplyChangerows = cursor.fetchall()\n",
    "    \n",
    "    try:\n",
    "        ReplyChangerows[0]\n",
    "        return ReplyChangerows\n",
    "    except:\n",
    "        return [(0,0,0,0,0)]\n",
    "ReplyChange(3,1,1)"
   ]
  },
  {
   "cell_type": "code",
   "execution_count": 8,
   "metadata": {
    "collapsed": false,
    "nbpresent": {
     "id": "6119a7f8-d42c-452e-9435-a7421ad989c8"
    }
   },
   "outputs": [],
   "source": [
    "#判斷起始NO\n",
    "#IDrow\n",
    "\n",
    "cursor.execute(\"select * from FBPostData   order by PostNO asc\")\n",
    "\n",
    "def Second():\n",
    "    conn = pyodbc.connect('DRIVER={SQL Server};SERVER=163.14.72.42;DATABASE=FB_NewCrawler;UID=sa;PWD=scucc')\n",
    "    cursor = conn.cursor()\n",
    "    cursor.execute(\"select * from FBPostData   order by PostNO asc\")\n",
    "    global rows\n",
    "    rows = cursor.fetchall()\n",
    "    global IDrows\n",
    "    \n",
    "    IDrows=[]\n",
    "#自動判斷1 或是第二次以上NO   \n",
    "    try:\n",
    "        PostNO= rows[-1][0]\n",
    "        for row in rows:\n",
    "            IDrows.append( row[-1])\n",
    "        return PostNO\n",
    "    except:\n",
    "        return 0\n"
   ]
  },
  {
   "cell_type": "code",
   "execution_count": null,
   "metadata": {
    "collapsed": false,
    "nbpresent": {
     "id": "20bad9a3-283d-4ba7-b7ed-c0e6caac9931"
    }
   },
   "outputs": [],
   "source": []
  },
  {
   "cell_type": "code",
   "execution_count": 9,
   "metadata": {
    "collapsed": true,
    "nbpresent": {
     "id": "b315b281-d434-413b-8f5d-a672ff450058"
    }
   },
   "outputs": [],
   "source": [
    "#偵測PO文NO\n",
    "\n",
    "def PostNOdetect(id):\n",
    "    \n",
    "    \n",
    "    for row in rows:\n",
    "        if row[-1]==id:\n",
    "            NO=row[0]\n",
    "            \n",
    "    return NO\n",
    "\n",
    "#PostNOdetect('15925638948_10154486947508949')"
   ]
  },
  {
   "cell_type": "code",
   "execution_count": 10,
   "metadata": {
    "collapsed": false,
    "nbpresent": {
     "id": "0d939b18-5e5a-40b3-b786-0dbee85aa774"
    }
   },
   "outputs": [],
   "source": [
    "#PO文 抓入SQL\n",
    "\n",
    "def insertSQL(id,PostNO):\n",
    "    status='new'\n",
    "    \n",
    "    #如果是舊的PO文\n",
    "    if(id in IDrows ):\n",
    "        status='old'\n",
    "        PostNO=PostNOdetect(id)\n",
    "    \n",
    "    if(status=='new'):\n",
    "        command=\"INSERT INTO FBPostData (PostNO,Created_Time,Message,ID,AttatchTitle,AttatchMessage,Crawler_Time) VALUES (?,?,?,?,?,?,?)\"\n",
    "\n",
    "        cursor.execute(command,(PostNO,created_time,Postmessage,id,attatchTitle,attatchMessage,Crawler_Time))\n",
    "        \n",
    "    command=\"INSERT INTO FBPostChange (PostNO,LikeCount,CommentCount,ShareCount,Crawler_Time,LikeIncrease,CommentIncrease,ShareIncrease) VALUES (?,?,?,?,?,?,?,?)\"\n",
    "\n",
    "    cursor.execute(command,(PostNO,LikeCount,CommentCount,ShareCount,Crawler_Time,LikeIncrease,CommentIncrease,ShareIncrease))\n",
    "    \n",
    "# rows = cursor.fetchall()\n",
    "# for row in rows:"
   ]
  },
  {
   "cell_type": "markdown",
   "metadata": {},
   "source": [
    "# 按讚區"
   ]
  },
  {
   "cell_type": "code",
   "execution_count": 11,
   "metadata": {
    "collapsed": false,
    "nbpresent": {
     "id": "0669996a-a92d-4696-b480-8a700877e738"
    }
   },
   "outputs": [
    {
     "data": {
      "text/plain": [
       "0"
      ]
     },
     "execution_count": 11,
     "metadata": {},
     "output_type": "execute_result"
    }
   ],
   "source": [
    "#判斷起始NO\n",
    "\n",
    "\n",
    "\n",
    "def LikeSecond(PostNO):\n",
    "    global LikeIDrows\n",
    "    global Likerows\n",
    "    LikeIDrows=[]\n",
    "    Likerows=[]\n",
    "    \n",
    "    cursor.execute(\"select * from FBPostLikeChange where PostNO=?  order by LikeNO asc\",PostNO)\n",
    "    Likerows = cursor.fetchall()\n",
    "    try:\n",
    "        LikeNO= Likerows[-1][1]\n",
    "        for row in Likerows:\n",
    "            LikeIDrows.append( row[2])\n",
    "\n",
    "        return LikeNO\n",
    "    except:\n",
    "        return 0\n",
    "LikeSecond(2)\n"
   ]
  },
  {
   "cell_type": "code",
   "execution_count": 12,
   "metadata": {
    "collapsed": false,
    "nbpresent": {
     "id": "44c52f44-e7c6-42ce-acac-400923e774a7"
    }
   },
   "outputs": [],
   "source": [
    "def LikeNOdetect(id):\n",
    "    for row in Likerows:\n",
    "        if row[2]==id:\n",
    "            LikeNO=row[1]\n",
    "    return LikeNO\n",
    "\n",
    "#CommentNOdetect('10154486947508949_10154487300663949')"
   ]
  },
  {
   "cell_type": "code",
   "execution_count": 13,
   "metadata": {
    "collapsed": true,
    "nbpresent": {
     "id": "c50d3645-f42e-4c50-89f1-6fb9c665d5b9"
    }
   },
   "outputs": [],
   "source": [
    "def InsertLike(UserID,LikeNO):\n",
    "    \n",
    "    LikeStatus='new'\n",
    "    if(UserID in LikeIDrows ):\n",
    "        LikeStatus='old'\n",
    "        \n",
    "        return LikeNO\n",
    "    \n",
    "    if LikeStatus=='new':\n",
    "        LikeNO+=1\n",
    "#         command=\"INSERT INTO FBPostLikeChange (PostNO,LikeNO,UserID,UserName,Crawler_Time) VALUES (?,?,?,?,?)\"\n",
    "\n",
    "#         cursor.execute(command,(PostNO,LikeNO,UserID,UserName,Crawler_Time))\n",
    "        return LikeNO"
   ]
  },
  {
   "cell_type": "code",
   "execution_count": 14,
   "metadata": {
    "collapsed": false,
    "nbpresent": {
     "id": "a58b1ccf-8321-4744-9697-c8bc65625e51"
    }
   },
   "outputs": [],
   "source": [
    "def Like(PostID):\n",
    "    \n",
    "    global UserName\n",
    "    global UserID\n",
    "    global CommentStatus\n",
    "\n",
    "    \n",
    "    start=time.time()\n",
    "    CommentStatus='new'\n",
    "    \n",
    "    LikeNO= LikeSecond(PostNO)\n",
    "    \n",
    "    LikeUrl ='https://graph.facebook.com/v2.5/'+PostID+'/likes?pretty=0&limit=1000&access_token='+ACCESSTOKEN\n",
    "\n",
    "    LikeRes = requests.get(LikeUrl)\n",
    "\n",
    "    LikeJd = json.loads(LikeRes.text)\n",
    "    end =time.time()\n",
    "    time1= end-start\n",
    "    HowMuch=str(len(LikeJd['data']))\n",
    "#     print '讚數載入成功:'+HowMuch+'個 '+str(time1)+'秒'\n",
    "    \n",
    "    start=time.time()\n",
    "    try:\n",
    "        while 'next' in LikeJd['paging']:\n",
    "            for data in LikeJd['data']:\n",
    "                UserName= data['name']\n",
    "                UserID= data['id']\n",
    "                LikeNO=InsertLike(UserID,LikeNO)\n",
    "                if(UserID== LikeJd['data'][-1]['id']):\n",
    "                    LikeUrl=LikeJd['paging']['next']\n",
    "                    #time.sleep(0.1)\n",
    "                    LikeRes=requests.get(LikeUrl)\n",
    "                    LikeJd = json.loads(LikeRes.text)    \n",
    "    except:\n",
    "        return 0\n",
    "            \n",
    "        \n",
    "    for data in LikeJd['data']:\n",
    "        UserName= data['name']\n",
    "        UserID= data['id']\n",
    "        LikeNO=InsertLike(UserID,LikeNO)\n",
    "        \n",
    "        \n",
    "    end =time.time()\n",
    "    time1= end-start\n",
    "    HowMuch=str(len(LikeJd['data']))\n",
    "#     print '讚數輸入成功:'+str(LikeNO)+'個 '+str(time1)+'秒'\n",
    "    return LikeNO\n",
    "    \n",
    "    "
   ]
  },
  {
   "cell_type": "markdown",
   "metadata": {},
   "source": [
    "# 評論區"
   ]
  },
  {
   "cell_type": "code",
   "execution_count": 15,
   "metadata": {
    "collapsed": false,
    "nbpresent": {
     "id": "3f5f2197-833b-41e9-a1d8-80c131b5de4e"
    }
   },
   "outputs": [
    {
     "data": {
      "text/plain": [
       "26"
      ]
     },
     "execution_count": 15,
     "metadata": {},
     "output_type": "execute_result"
    }
   ],
   "source": [
    "\n",
    "#判斷起始NO\n",
    "\n",
    "\n",
    "\n",
    "def CommentSecond(PostNO):\n",
    "    global CommentIDrows\n",
    "    global Commentrows\n",
    "    CommentIDrows=[]\n",
    "    Commentrows=[]\n",
    "    \n",
    "    cursor.execute(\"select * from FBCommentData where PostNO=?  order by CommentNO asc\",PostNO)\n",
    "    Commentrows = cursor.fetchall()\n",
    "    try:\n",
    "        CommentNO= Commentrows[-1][1]\n",
    "        for row in Commentrows:\n",
    "            CommentIDrows.append( row[-3])\n",
    "\n",
    "        return CommentNO\n",
    "    except:\n",
    "        return 0\n",
    "CommentSecond(1)\n"
   ]
  },
  {
   "cell_type": "code",
   "execution_count": 16,
   "metadata": {
    "collapsed": true,
    "nbpresent": {
     "id": "c9f8994b-fa67-4845-95aa-bf4824cece97"
    }
   },
   "outputs": [],
   "source": [
    "def CommentNOdetect(id):\n",
    "    for row in Commentrows:\n",
    "        if row[-3]==id:\n",
    "            CommentNO=row[1]\n",
    "    return CommentNO\n",
    "\n",
    "#CommentNOdetect('10154486947508949_10154487300663949')"
   ]
  },
  {
   "cell_type": "code",
   "execution_count": 17,
   "metadata": {
    "collapsed": false,
    "nbpresent": {
     "id": "34f0f24d-6211-43f3-8422-2f680c16758c"
    }
   },
   "outputs": [],
   "source": [
    "def InsertComment(data,PostNO,CommentNO,comment_count):\n",
    "    \n",
    "    like_count= data['like_count']\n",
    "    message=data['message']\n",
    "#     comment_count=data['comment_count']\n",
    "\n",
    "    Name= data['from']['name']\n",
    "    UserID= data['from']['id']\n",
    "    CommentID=data['id']\n",
    "    Created_Time=data['created_time']\n",
    "    \n",
    "    CommentStatus='new'\n",
    "    if(CommentID in CommentIDrows ):\n",
    "        CommentStatus='old'\n",
    "        CommentNO2=CommentNOdetect(CommentID)\n",
    "        \n",
    "        Commentrow=CommentChange(PostNO,CommentNO2)\n",
    "        PreLike=Commentrow[0][2]\n",
    "        PreComment=Commentrow[0][3]\n",
    "        ReplyIncrease=comment_count-PreComment\n",
    "        LikeIncrease=like_count-PreLike\n",
    "        \n",
    "        \n",
    "        command=\"INSERT INTO FBCommentChange (PostNO,CommentNO,LikeCount,ReplyCount,Crawler_Time,LikeIncrease,ReplyIncrease) VALUES (?,?,?,?,?,?,?)\"\n",
    "        cursor.execute(command,(PostNO,CommentNO2,like_count,comment_count,Crawler_Time,LikeIncrease,ReplyIncrease))\n",
    "        return CommentNO2\n",
    "    \n",
    "    if(CommentStatus=='new'):\n",
    "        CommentNO+=1\n",
    "        \n",
    "        \n",
    "        Commentrow=CommentChange(PostNO,CommentNO)\n",
    "        PreLike=Commentrow[0][2]\n",
    "        PreComment=Commentrow[0][3]\n",
    "        ReplyIncrease=comment_count-PreComment\n",
    "        LikeIncrease=like_count-PreLike\n",
    "        \n",
    "        \n",
    "        command=\"INSERT INTO FBCommentData (PostNO,CommentNO,Name,Message,CommentID,UserID,Crawler_Time,Created_Time) VALUES (?,?,?,?,?,?,?,?)\"\n",
    "        cursor.execute(command,(PostNO,CommentNO,Name,message,CommentID,UserID,Crawler_Time,Created_Time))\n",
    "        command=\"INSERT INTO FBCommentChange (PostNO,CommentNO,LikeCount,ReplyCount,Crawler_Time,LikeIncrease,ReplyIncrease) VALUES (?,?,?,?,?,?,?)\"\n",
    "        cursor.execute(command,(PostNO,CommentNO,like_count,comment_count,Crawler_Time,LikeIncrease,ReplyIncrease))\n",
    "        \n",
    "        \n",
    "        \n",
    "        return CommentNO\n"
   ]
  },
  {
   "cell_type": "code",
   "execution_count": 18,
   "metadata": {
    "collapsed": false,
    "nbpresent": {
     "id": "16f860eb-92ae-494a-ba59-a98ca4ec4602"
    }
   },
   "outputs": [],
   "source": [
    "def Comment(PostID):\n",
    "    \n",
    "    global PostNO\n",
    "    start =time.time()\n",
    "    \n",
    "    CommentUrl =('https://graph.facebook.com/v2.5/'+PostID+'/comments?'\n",
    "                'fields=id,from,message,like_count,comment_count,created_time,'\n",
    "                'comments.limit(200){from,message,like_count,created_time}&limit=200&access_token='+ACCESSTOKEN)\n",
    "\n",
    "    CommentRes = requests.get(CommentUrl)\n",
    "\n",
    "    CommentJd = json.loads(CommentRes.text)\n",
    "    \n",
    "\n",
    "    CommentNO=CommentSecond(PostNO)\n",
    "    \n",
    "    \n",
    "    \n",
    "    try:\n",
    "        bug=CommentJd['paging']\n",
    "    except:\n",
    "        print PostID\n",
    "        return 0\n",
    "\n",
    "    end =time.time()\n",
    "    time1= end-start\n",
    "    HowMuch=str(len(CommentJd['data']))\n",
    "#     print '評論載入成功:'+HowMuch+'筆 '+str(time1)+'秒'\n",
    "\n",
    "    \n",
    "    start =time.time()\n",
    "    MaxCommentNO=0\n",
    "    while 'next' in CommentJd['paging'] :\n",
    "        \n",
    "        \n",
    "        for data in CommentJd['data']:\n",
    "            comment_count=commentcount(data)\n",
    "            CommentID=data['id']\n",
    "                \n",
    "            #插入\n",
    "            returnNO=InsertComment(data,PostNO,CommentNO,comment_count)\n",
    "            if MaxCommentNO<returnNO:\n",
    "                MaxCommentNO=returnNO\n",
    "            CommentNO=returnNO\n",
    "            \n",
    "            Reply(data,PostNO,CommentNO)\n",
    "            \n",
    "            if(CommentID==CommentJd['data'][-1]['id']):\n",
    "\n",
    "                CommentUrl=CommentJd['paging']['next']\n",
    "                time.sleep(1)\n",
    "                CommentRes=requests.get(CommentUrl)\n",
    "                CommentJd = json.loads(CommentRes.text)\n",
    "                try:\n",
    "                    bug=CommentJd['paging']\n",
    "                except:\n",
    "                    print PostID\n",
    "                    return 0\n",
    "            \n",
    "            \n",
    "            \n",
    "    for data in CommentJd['data']:\n",
    "        comment_count=commentcount(data)\n",
    "        \n",
    "        #插入\n",
    "        returnNO=InsertComment(data,PostNO,CommentNO,comment_count)\n",
    "        if MaxCommentNO<returnNO:\n",
    "            MaxCommentNO=returnNO\n",
    "        CommentNO=returnNO\n",
    "        \n",
    "        Reply(data,PostNO,CommentNO)\n",
    "      \n",
    "    end=time.time()\n",
    "    time1=end-start\n",
    "#     print '評論輸入完畢:'+str(CommentNO)+\"筆 \"+str(time1)+'秒'\n",
    "    \n",
    "        \n",
    "    return MaxCommentNO\n",
    "    \n",
    "    \n",
    "    \n",
    "# Comment('15925638948_10154512960348949')    \n",
    "    \n",
    "    "
   ]
  },
  {
   "cell_type": "code",
   "execution_count": 19,
   "metadata": {
    "collapsed": true
   },
   "outputs": [],
   "source": [
    "def commentcount(data):\n",
    "    \n",
    "    try:\n",
    "        CommentCount= len(data['comments']['data'])\n",
    "        \n",
    "    except:\n",
    "        CommentCount=0\n",
    "        return CommentCount\n",
    "    return CommentCount"
   ]
  },
  {
   "cell_type": "code",
   "execution_count": 20,
   "metadata": {
    "collapsed": false
   },
   "outputs": [],
   "source": [
    "def ReplyNOdetect(id):\n",
    "    for row in Replyrows:\n",
    "        if row[-3]==id:\n",
    "            ReplyNO=row[2]\n",
    "    return ReplyNO\n",
    "\n"
   ]
  },
  {
   "cell_type": "code",
   "execution_count": 21,
   "metadata": {
    "collapsed": false
   },
   "outputs": [],
   "source": [
    "def Reply(data,PostNO,CommentNO):\n",
    "    \n",
    "    try:\n",
    "        CommentCount= len(data['comments']['data'])\n",
    "        \n",
    "    except:\n",
    "        CommentCount=0\n",
    "        return CommentCount\n",
    "    \n",
    "    ReplyNO=ReplySecond(PostNO,CommentNO)\n",
    "    \n",
    "    for a in data['comments']['data']:\n",
    "         \n",
    "        ReplyNO=insertReply(a,PostNO,CommentNO,ReplyNO)\n",
    "       \n",
    "        \n",
    "    "
   ]
  },
  {
   "cell_type": "code",
   "execution_count": 22,
   "metadata": {
    "collapsed": false
   },
   "outputs": [],
   "source": [
    "def insertReply(data,PostNO,CommentNO,ReplyNO):\n",
    "    \n",
    "    like_count= data['like_count']\n",
    "    message=data['message']\n",
    "    Name= data['from']['name']\n",
    "    UserID= data['from']['id']\n",
    "    CommentID=data['id']\n",
    "    Created_Time=data['created_time']\n",
    "    ReplyStatus='new'\n",
    "    if(CommentID in ReplyIDrows ):\n",
    "        ReplyStatus='old'\n",
    "        ReplyNO2=ReplyNOdetect(CommentID)\n",
    "        \n",
    "        Replyrow=ReplyChange(PostNO,CommentNO,ReplyNO2)\n",
    "        PreLike=Replyrow[0][3]\n",
    "        \n",
    "        LikeIncrease=like_count-PreLike\n",
    "        \n",
    "        command=\"INSERT INTO FBReplyChange (PostNO,CommentNO,ReplyNO,LikeCount,Crawler_Time,LikeIncrease) VALUES (?,?,?,?,?,?)\"\n",
    "        cursor.execute(command,(PostNO,CommentNO,ReplyNO2,like_count,Crawler_Time,LikeIncrease))\n",
    "        return ReplyNO\n",
    "    \n",
    "    if(ReplyStatus=='new'):\n",
    "        ReplyNO+=1\n",
    "        \n",
    "        Replyrow=ReplyChange(PostNO,CommentNO,ReplyNO)\n",
    "        PreLike=Replyrow[0][3]\n",
    "        LikeIncrease=like_count-PreLike\n",
    "        \n",
    "        command=\"INSERT INTO FBReplyData (PostNO,CommentNO,ReplyNO,Name,Message,ReplyID,UserID,Crawler_Time,Created_Time) VALUES (?,?,?,?,?,?,?,?,?)\"\n",
    "        cursor.execute(command,(PostNO,CommentNO,ReplyNO,Name,message,CommentID,UserID,Crawler_Time,Created_Time))\n",
    "        command=\"INSERT INTO FBReplyChange (PostNO,CommentNO,ReplyNO,LikeCount,Crawler_Time,LikeIncrease) VALUES (?,?,?,?,?,?)\"\n",
    "        cursor.execute(command,(PostNO,CommentNO,ReplyNO,like_count,Crawler_Time,LikeIncrease))\n",
    "        return ReplyNO\n",
    "\n",
    "    \n",
    "  \n",
    "    "
   ]
  },
  {
   "cell_type": "code",
   "execution_count": 23,
   "metadata": {
    "collapsed": false
   },
   "outputs": [
    {
     "data": {
      "text/plain": [
       "0"
      ]
     },
     "execution_count": 23,
     "metadata": {},
     "output_type": "execute_result"
    }
   ],
   "source": [
    "#判斷起始NO\n",
    "\n",
    "\n",
    "\n",
    "def ReplySecond(PostNO,CommentNO):\n",
    "    global ReplyIDrows\n",
    "    global Replyrows\n",
    "    ReplyIDrows=[]\n",
    "    Replyrows=[]\n",
    "    \n",
    "    cursor.execute(\"select * from FBReplyData where PostNO=? and CommentNO=?  order by ReplyNO asc\",PostNO,CommentNO)\n",
    "    Replyrows = cursor.fetchall()\n",
    "    try:\n",
    "        ReplyNO= Replyrows[-1][2]\n",
    "        for row in Replyrows:\n",
    "            ReplyIDrows.append( row[-3])\n",
    "\n",
    "        return ReplyNO\n",
    "    except:\n",
    "        return 0\n",
    "ReplySecond(1,1)\n"
   ]
  },
  {
   "cell_type": "code",
   "execution_count": null,
   "metadata": {
    "collapsed": false,
    "nbpresent": {
     "id": "4cedf1fb-90fd-4d4f-bb19-1bed05e15d29"
    }
   },
   "outputs": [],
   "source": []
  },
  {
   "cell_type": "code",
   "execution_count": null,
   "metadata": {
    "collapsed": false,
    "nbpresent": {
     "id": "02a79e1d-4291-42d1-ba6c-8187ed7d67af"
    }
   },
   "outputs": [],
   "source": []
  },
  {
   "cell_type": "code",
   "execution_count": 24,
   "metadata": {
    "collapsed": false,
    "nbpresent": {
     "id": "6935324e-6eb4-440f-92de-bd841ba3700e"
    }
   },
   "outputs": [
    {
     "name": "stdout",
     "output_type": "stream",
     "text": [
      "1\n"
     ]
    }
   ],
   "source": [
    "print 1"
   ]
  },
  {
   "cell_type": "markdown",
   "metadata": {
    "collapsed": true,
    "nbpresent": {
     "id": "aa190ed6-f32f-4c2b-8595-19db6e607a97"
    }
   },
   "source": [
    "# 主要程式區"
   ]
  },
  {
   "cell_type": "code",
   "execution_count": 24,
   "metadata": {
    "collapsed": false,
    "nbpresent": {
     "id": "56e3dd0a-9595-4bfa-9b39-4196264e38d3"
    },
    "scrolled": false
   },
   "outputs": [
    {
     "name": "stdout",
     "output_type": "stream",
     "text": [
      "Crawler_Time:20161012\n",
      "20161012\n",
      "第53篇文章\n",
      "評論今日221筆  評論昨日:221筆\n",
      "LIKE今日221筆  LIKE昨日:221筆\n",
      "第54篇文章\n",
      "評論今日72筆  評論昨日:72筆\n",
      "LIKE今日72筆  LIKE昨日:72筆\n",
      "第55篇文章\n",
      "評論今日41筆  評論昨日:41筆\n",
      "LIKE今日41筆  LIKE昨日:41筆\n",
      "第56篇文章\n",
      "評論今日453筆  評論昨日:453筆\n",
      "LIKE今日453筆  LIKE昨日:453筆\n",
      "第57篇文章\n",
      "評論今日1116筆  評論昨日:1116筆\n",
      "LIKE今日1116筆  LIKE昨日:1116筆\n",
      "第52篇文章\n",
      "評論今日389筆  評論昨日:389筆\n",
      "LIKE今日389筆  LIKE昨日:389筆\n",
      "第51篇文章\n",
      "評論今日70筆  評論昨日:70筆\n",
      "LIKE今日70筆  LIKE昨日:70筆\n",
      "第50篇文章\n",
      "評論今日413筆  評論昨日:413筆\n",
      "LIKE今日413筆  LIKE昨日:413筆\n",
      "第48篇文章\n",
      "評論今日26筆  評論昨日:26筆\n",
      "LIKE今日26筆  LIKE昨日:26筆\n",
      "第49篇文章\n",
      "評論今日646筆  評論昨日:646筆\n",
      "LIKE今日646筆  LIKE昨日:646筆\n",
      "第46篇文章\n",
      "評論今日423筆  評論昨日:423筆\n",
      "LIKE今日423筆  LIKE昨日:423筆\n",
      "第47篇文章\n",
      "評論今日23筆  評論昨日:23筆\n",
      "LIKE今日23筆  LIKE昨日:23筆\n",
      "第43篇文章\n",
      "評論今日37筆  評論昨日:37筆\n",
      "LIKE今日37筆  LIKE昨日:37筆\n",
      "第44篇文章\n",
      "評論今日26筆  評論昨日:26筆\n",
      "LIKE今日26筆  LIKE昨日:26筆\n",
      "第45篇文章\n",
      "評論今日159筆  評論昨日:159筆\n",
      "LIKE今日159筆  LIKE昨日:159筆\n",
      "第42篇文章\n",
      "評論今日157筆  評論昨日:157筆\n",
      "LIKE今日157筆  LIKE昨日:157筆\n",
      "第40篇文章\n",
      "評論今日28筆  評論昨日:28筆\n",
      "LIKE今日28筆  LIKE昨日:28筆\n",
      "第41篇文章\n",
      "評論今日92筆  評論昨日:92筆\n",
      "LIKE今日92筆  LIKE昨日:92筆\n",
      "第39篇文章\n",
      "評論今日1162筆  評論昨日:1162筆\n",
      "LIKE今日1162筆  LIKE昨日:1162筆\n",
      "Game of Thrones\n",
      "Game of Thrones\n",
      "Game of Thrones\n",
      "第38篇文章\n",
      "評論今日184筆  評論昨日:184筆\n",
      "LIKE今日184筆  LIKE昨日:184筆\n",
      "第36篇文章\n",
      "評論今日144筆  評論昨日:144筆\n",
      "LIKE今日144筆  LIKE昨日:144筆\n",
      "Game of Thrones\n",
      "第37篇文章\n",
      "評論今日620筆  評論昨日:620筆\n",
      "LIKE今日620筆  LIKE昨日:620筆\n",
      "第35篇文章\n",
      "評論今日1669筆  評論昨日:1669筆\n",
      "LIKE今日1669筆  LIKE昨日:1669筆\n",
      "第34篇文章\n",
      "評論今日178筆  評論昨日:178筆\n",
      "LIKE今日178筆  LIKE昨日:178筆\n",
      "第32篇文章\n",
      "評論今日184筆  評論昨日:184筆\n",
      "LIKE今日184筆  LIKE昨日:184筆\n",
      "第33篇文章\n",
      "評論今日161筆  評論昨日:161筆\n",
      "LIKE今日161筆  LIKE昨日:161筆\n",
      "第30篇文章\n",
      "評論今日95筆  評論昨日:95筆\n",
      "LIKE今日95筆  LIKE昨日:95筆\n",
      "第31篇文章\n",
      "評論今日1341筆  評論昨日:1341筆\n",
      "LIKE今日1341筆  LIKE昨日:1341筆\n",
      "第29篇文章\n",
      "評論今日894筆  評論昨日:894筆\n",
      "LIKE今日894筆  LIKE昨日:894筆\n",
      "第28篇文章\n",
      "評論今日269筆  評論昨日:269筆\n",
      "LIKE今日269筆  LIKE昨日:269筆\n",
      "第26篇文章\n",
      "評論今日684筆  評論昨日:684筆\n",
      "LIKE今日684筆  LIKE昨日:684筆\n",
      "第27篇文章\n",
      "評論今日37筆  評論昨日:37筆\n",
      "LIKE今日37筆  LIKE昨日:37筆\n",
      "第23篇文章\n",
      "評論今日676筆  評論昨日:676筆\n",
      "LIKE今日676筆  LIKE昨日:676筆\n",
      "第24篇文章\n",
      "評論今日176筆  評論昨日:176筆\n",
      "LIKE今日176筆  LIKE昨日:176筆\n",
      "第25篇文章\n",
      "評論今日332筆  評論昨日:332筆\n",
      "LIKE今日332筆  LIKE昨日:332筆\n",
      "第22篇文章\n",
      "評論今日447筆  評論昨日:447筆\n",
      "LIKE今日447筆  LIKE昨日:447筆\n",
      "第21篇文章\n",
      "評論今日115筆  評論昨日:115筆\n",
      "LIKE今日115筆  LIKE昨日:115筆\n",
      "第20篇文章\n",
      "評論今日261筆  評論昨日:261筆\n",
      "LIKE今日261筆  LIKE昨日:261筆\n",
      "第19篇文章\n",
      "評論今日141筆  評論昨日:141筆\n",
      "LIKE今日141筆  LIKE昨日:141筆\n",
      "第17篇文章\n",
      "評論今日490筆  評論昨日:490筆\n",
      "LIKE今日490筆  LIKE昨日:490筆\n",
      "第18篇文章\n",
      "評論今日18筆  評論昨日:17筆\n",
      "LIKE今日18筆  LIKE昨日:17筆\n",
      "第14篇文章\n",
      "評論今日162筆  評論昨日:162筆\n",
      "LIKE今日162筆  LIKE昨日:162筆\n",
      "第15篇文章\n",
      "評論今日905筆  評論昨日:905筆\n",
      "LIKE今日905筆  LIKE昨日:905筆\n",
      "第16篇文章\n",
      "評論今日323筆  評論昨日:323筆\n",
      "LIKE今日323筆  LIKE昨日:323筆\n",
      "第13篇文章\n",
      "評論今日92筆  評論昨日:92筆\n",
      "LIKE今日92筆  LIKE昨日:92筆\n",
      "第12篇文章\n",
      "評論今日8筆  評論昨日:8筆\n",
      "LIKE今日8筆  LIKE昨日:8筆\n",
      "第1篇文章\n",
      "評論今日25筆  評論昨日:25筆\n",
      "LIKE今日25筆  LIKE昨日:25筆\n",
      "第2篇文章\n",
      "評論今日258筆  評論昨日:258筆\n",
      "LIKE今日258筆  LIKE昨日:258筆\n",
      "第3篇文章\n",
      "評論今日516筆  評論昨日:516筆\n",
      "LIKE今日516筆  LIKE昨日:516筆\n",
      "第4篇文章\n",
      "評論今日2791筆  評論昨日:2791筆\n",
      "LIKE今日2791筆  LIKE昨日:2791筆\n",
      "第5篇文章\n",
      "評論今日619筆  評論昨日:619筆\n",
      "LIKE今日619筆  LIKE昨日:619筆\n",
      "Game of Thrones\n",
      "第6篇文章\n",
      "評論今日2219筆  評論昨日:2219筆\n",
      "LIKE今日2219筆  LIKE昨日:2219筆\n",
      "第7篇文章\n",
      "評論今日85筆  評論昨日:85筆\n",
      "LIKE今日85筆  LIKE昨日:85筆\n",
      "第8篇文章\n",
      "評論今日74筆  評論昨日:74筆\n",
      "LIKE今日74筆  LIKE昨日:74筆\n",
      "第9篇文章\n",
      "評論今日5筆  評論昨日:5筆\n",
      "LIKE今日5筆  LIKE昨日:5筆\n",
      "第10篇文章\n",
      "評論今日659筆  評論昨日:659筆\n",
      "LIKE今日659筆  LIKE昨日:659筆\n",
      "第11篇文章\n",
      "評論今日95筆  評論昨日:95筆\n",
      "LIKE今日95筆  LIKE昨日:95筆\n",
      "end\n"
     ]
    }
   ],
   "source": [
    "\n",
    "\n",
    "import pyodbc\n",
    "conn = pyodbc.connect('DRIVER={SQL Server};SERVER=163.14.72.42;DATABASE=FB_NewCrawler;UID=sa;PWD=scucc')\n",
    "cursor = conn.cursor()\n",
    "\n",
    "\n",
    "#狀態初始化\n",
    "end=0\n",
    "status='new'\n",
    "IDrows=[]\n",
    "\n",
    "\n",
    "PostNO=Second()\n",
    "\n",
    "\n",
    "#時間\n",
    "Crawler_Time = raw_input(\"Crawler_Time:\")\n",
    "print Crawler_Time\n",
    "\n",
    "#粉絲\n",
    "PostUrl ='https://graph.facebook.com/v2.5/15925638948?fields=likes&access_token='+ACCESSTOKEN\n",
    "res = requests.get(PostUrl)\n",
    "jd = json.loads(res.text)\n",
    "Fans= jd['likes']\n",
    "\n",
    "VideoUrl ='https://graph.facebook.com/v2.5/15925638948/videos?limit=200&access_token='+ACCESSTOKEN\n",
    "VideoRes = requests.get(VideoUrl)\n",
    "Videojd = json.loads(VideoRes.text)\n",
    "\n",
    "inserFans()\n",
    "\n",
    "\n",
    "\n",
    "\n",
    "\n",
    "while( 'next' in Videojd['paging'] ):\n",
    "    \n",
    "    for data in Videojd['data']:\n",
    "\n",
    "        VtoPID= '15925638948_'+data['id']\n",
    "\n",
    "        PostUrl ='https://graph.facebook.com/v2.5/'+VtoPID+'/?fields=attachments,message,created_time,shares&access_token='+ACCESSTOKEN\n",
    "\n",
    "        res = requests.get(PostUrl)\n",
    "\n",
    "        jd = json.loads(res.text)\n",
    "\n",
    "        status='new'\n",
    "        \n",
    "    \n",
    "    \n",
    "        post=jd\n",
    "        attatchTitle=\"\"\n",
    "        attatchMessage=\"\"\n",
    "        CommentCount=0\n",
    "        LikeCount=0\n",
    "        ShareCount=0\n",
    "        Postmessage=\"\"\n",
    "        \n",
    "        #例外\n",
    "        if('message'in post):\n",
    "            Postmessage=post['message']\n",
    "        if('shares'in post):\n",
    "            ShareCount=post['shares']['count']\n",
    "        created_time=post['created_time']\n",
    "            \n",
    "        id=post['id']\n",
    "        \n",
    "        \n",
    "       \n",
    "        \n",
    "        if 'Game of Thrones' in  Postmessage:\n",
    "            print 'Game of Thrones'\n",
    "            continue\n",
    "        \n",
    "        \n",
    "        #attachments\n",
    "        if('attachments' in post):\n",
    "            if('title' in post['attachments']['data'][0]):\n",
    "                attatchTitle=post['attachments']['data'][0]['title']\n",
    "            if('description' in post['attachments']['data'][0]):\n",
    "                attatchMessage=post['attachments']['data'][0]['description']\n",
    "        if (data['id']==Videojd['data'][-1]['id']):\n",
    "            VideoUrl=Videojd['paging']['next']\n",
    "\n",
    "            VideoRes = requests.get(VideoUrl)\n",
    "            Videojd = json.loads(VideoRes.text)        \n",
    "                \n",
    "        if('trailer' not in Postmessage.lower() and 'trailer'not in attatchTitle.lower() and  'trailer' not in attatchMessage.lower() ):\n",
    "            continue\n",
    "        \n",
    "        PostNO+=1\n",
    "        \n",
    "        if(id in IDrows ):\n",
    "            status='old'\n",
    "            PostNO=PostNOdetect(id)\n",
    "        print '第'+str(PostNO)+'篇文章'\n",
    "        \n",
    "        \n",
    "        Postrow=SharesSecond(PostNO)\n",
    "       \n",
    "        PreLikeCount=Postrow[0][1]\n",
    "        PreCommentCount=Postrow[0][2]\n",
    "        PreShareCount=Postrow[0][3]\n",
    "        \n",
    "        CommentCount=0\n",
    "        CommentCount=Comment(id)\n",
    "        CommentIncrease=CommentCount-PreCommentCount\n",
    "        print\"評論今日\"+str(CommentCount)+ \"筆  評論昨日:\" +str(PreCommentCount)+\"筆\"\n",
    "        \n",
    "\n",
    "        LikeCount=0\n",
    "        LikeCount=Like(id)\n",
    "        LikeIncrease=LikeCount-PreLikeCount\n",
    "        print \"LIKE今日\"+str(CommentCount)+ \"筆  LIKE昨日:\" +str(PreCommentCount)+\"筆\"\n",
    "        \n",
    "        ShareIncrease=ShareCount-PreShareCount\n",
    "        \n",
    "#         print\"Shares更新:\" +str(ShareIncrease)+\"筆\"\n",
    "        \n",
    "        insertSQL(id,PostNO)\n",
    "        \n",
    "        if (data['id']==Videojd['data'][-1]['id']):\n",
    "            VideoUrl=Videojd['paging']['next']\n",
    "\n",
    "            VideoRes = requests.get(VideoUrl)\n",
    "            Videojd = json.loads(VideoRes.text)\n",
    "\n",
    "        conn.commit()\n",
    "    \n",
    "        if data['id']=='10154438254293949':\n",
    "            end=1\n",
    "            break\n",
    "    if data['id']=='10154438254293949':\n",
    "        end=1\n",
    "        break\n",
    "print \"end\"\n",
    "cursor.close()\n",
    "conn.close()   "
   ]
  },
  {
   "cell_type": "code",
   "execution_count": null,
   "metadata": {
    "collapsed": false
   },
   "outputs": [
    {
     "name": "stdout",
     "output_type": "stream",
     "text": [
      "inputNO:20161001\n"
     ]
    }
   ],
   "source": [
    "import pyodbc\n",
    "conn = pyodbc.connect('DRIVER={SQL Server};SERVER=163.14.72.42;DATABASE=FB_NewCrawler;UID=sa;PWD=scucc')\n",
    "cursor = conn.cursor()\n",
    "inputNO = raw_input(\"inputNO:\")\n",
    "\n",
    "cursor.execute(\"select * from FBPostData where PostNO<? order by PostNO asc\",inputNO)\n",
    "Videorows = cursor.fetchall()\n",
    "#狀態初始化\n",
    "end=0\n",
    "status='new'\n",
    "IDrows=[]\n",
    "\n",
    "\n",
    "PostNO=Second()\n",
    "\n",
    "\n",
    "\n",
    "\n",
    "#時間\n",
    "Crawler_Time = raw_input(\"Crawler_Time:\")\n",
    "print Crawler_Time\n",
    "\n",
    "for Videorow in Videorows:\n",
    "    VtoPID=Videorow[-1]\n",
    "            \n",
    "\n",
    "    PostUrl ='https://graph.facebook.com/v2.5/'+VtoPID+'/?fields=attachments,message,created_time,shares&access_token='+ACCESSTOKEN\n",
    "\n",
    "    res = requests.get(PostUrl)\n",
    "\n",
    "    jd = json.loads(res.text)\n",
    "\n",
    "    status='new'\n",
    "    post=jd\n",
    "    attatchTitle=\"\"\n",
    "    attatchMessage=\"\"\n",
    "    CommentCount=0\n",
    "    LikeCount=0\n",
    "    ShareCount=0\n",
    "    Postmessage=\"\"\n",
    "\n",
    "    #例外\n",
    "    if('message'in post):\n",
    "        Postmessage=post['message']\n",
    "    if('shares'in post):\n",
    "        ShareCount=post['shares']['count']\n",
    "    \n",
    "    created_time=post['created_time']\n",
    "    print id\n",
    "    id=post['id']\n",
    "\n",
    "\n",
    "    \n",
    "\n",
    "    if 'Game of Thrones' in  Postmessage:\n",
    "        print 'Game of Thrones'\n",
    "        continue\n",
    "\n",
    "\n",
    "    #attachments\n",
    "    if('attachments' in post):\n",
    "        if('title' in post['attachments']['data'][0]):\n",
    "            attatchTitle=post['attachments']['data'][0]['title']\n",
    "        if('description' in post['attachments']['data'][0]):\n",
    "            attatchMessage=post['attachments']['data'][0]['description']\n",
    "\n",
    "\n",
    "    if('trailer' not in Postmessage.lower() and 'trailer'not in attatchTitle.lower() and  'trailer' not in attatchMessage.lower() ):\n",
    "        continue\n",
    "\n",
    "    \n",
    "\n",
    "    if(id in IDrows ):\n",
    "        status='old'\n",
    "        PostNO=PostNOdetect(id)\n",
    "        \n",
    "    print '第'+str(PostNO)+'篇文章'\n",
    "\n",
    "\n",
    "    Postrow=SharesSecond(PostNO)\n",
    "\n",
    "    PreLikeCount=Postrow[0][1]\n",
    "    PreCommentCount=Postrow[0][2]\n",
    "    PreShareCount=Postrow[0][3]\n",
    "\n",
    "    CommentCount=0\n",
    "    CommentCount=Comment(id)\n",
    "    CommentIncrease=CommentCount-PreCommentCount\n",
    "    print\"評論今日\"+str(CommentCount)+ \"筆  評論昨日:\" +str(PreCommentCount)+\"筆\"\n",
    "\n",
    "\n",
    "    LikeCount=0\n",
    "    LikeCount=Like(id)\n",
    "    LikeIncrease=LikeCount-PreLikeCount\n",
    "    print \"LIKE今日\"+str(CommentCount)+ \"筆  LIKE昨日:\" +str(PreCommentCount)+\"筆\"\n",
    "\n",
    "    ShareIncrease=ShareCount-PreShareCount\n",
    "\n",
    "#         print\"Shares更新:\" +str(ShareIncrease)+\"筆\"\n",
    "\n",
    "    insertSQL(id,PostNO)\n",
    "\n",
    "  \n",
    "\n",
    "    conn.commit()\n",
    "    if end==1:\n",
    "        break\n",
    "\n",
    "\n",
    "print \"end\"\n",
    "cursor.close()\n",
    "conn.close()   \n",
    "    "
   ]
  },
  {
   "cell_type": "markdown",
   "metadata": {
    "nbpresent": {
     "id": "f38278cb-e7e6-42b7-b204-17fccea76d2d"
    }
   },
   "source": [
    "# 開關區\n"
   ]
  },
  {
   "cell_type": "code",
   "execution_count": 27,
   "metadata": {
    "collapsed": false,
    "nbpresent": {
     "id": "b5515713-b8f2-46ab-acde-356743333e68"
    }
   },
   "outputs": [],
   "source": [
    "cursor.close()\n",
    "conn.close()  "
   ]
  },
  {
   "cell_type": "code",
   "execution_count": 455,
   "metadata": {
    "collapsed": true
   },
   "outputs": [],
   "source": [
    "\n",
    "import pyodbc\n",
    "conn = pyodbc.connect('DRIVER={SQL Server};SERVER=163.14.68.48;DATABASE=FB_NewCrawler;UID=sa;PWD=scucc')\n",
    "cursor = conn.cursor()"
   ]
  },
  {
   "cell_type": "markdown",
   "metadata": {
    "collapsed": false,
    "nbpresent": {
     "id": "1699983a-f7a2-4ad0-8d42-65f1128071e3"
    }
   },
   "source": [
    "# 測試區"
   ]
  },
  {
   "cell_type": "code",
   "execution_count": 50,
   "metadata": {
    "collapsed": true
   },
   "outputs": [],
   "source": [
    "def NOCrawler():\n",
    "    \n",
    "    array=['Game of Thrones']"
   ]
  },
  {
   "cell_type": "code",
   "execution_count": null,
   "metadata": {
    "collapsed": true
   },
   "outputs": [],
   "source": [
    "15925638948?fields=videos.limit(200)"
   ]
  },
  {
   "cell_type": "code",
   "execution_count": 43,
   "metadata": {
    "collapsed": false
   },
   "outputs": [
    {
     "name": "stdout",
     "output_type": "stream",
     "text": [
      "15925638948_10154517994048949\n",
      "15925638948_10154517966318949\n"
     ]
    }
   ],
   "source": [
    "VideoUrl ='https://graph.facebook.com/v2.5/15925638948/videos?limit=200&access_token='+ACCESSTOKEN\n",
    "VideoRes = requests.get(VideoUrl)\n",
    "Videojd = json.loads(VideoRes.text)\n",
    "for data in Videojd['data']:\n",
    "    \n",
    "    VtoPID= '15925638948_'+data['id']\n",
    "    \n",
    "    PostUrl ='https://graph.facebook.com/v2.5/'+VtoPID+'/?fields=attachments,message,created_time,shares&access_token='+ACCESSTOKEN\n",
    "\n",
    "    res = requests.get(PostUrl)\n",
    "\n",
    "    jd = json.loads(res.text)\n",
    "    \n",
    "    print jd['id']\n",
    "    \n",
    "    if data['id']=='10154517966318949':\n",
    "        break\n",
    "    \n",
    "    \n"
   ]
  },
  {
   "cell_type": "code",
   "execution_count": null,
   "metadata": {
    "collapsed": true
   },
   "outputs": [],
   "source": []
  }
 ],
 "metadata": {
  "anaconda-cloud": {},
  "kernelspec": {
   "display_name": "Python [Root]",
   "language": "python",
   "name": "Python [Root]"
  },
  "language_info": {
   "codemirror_mode": {
    "name": "ipython",
    "version": 2
   },
   "file_extension": ".py",
   "mimetype": "text/x-python",
   "name": "python",
   "nbconvert_exporter": "python",
   "pygments_lexer": "ipython2",
   "version": "2.7.12"
  }
 },
 "nbformat": 4,
 "nbformat_minor": 0
}
