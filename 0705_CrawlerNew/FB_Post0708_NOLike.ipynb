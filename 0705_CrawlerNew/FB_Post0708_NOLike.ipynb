{
 "cells": [
  {
   "cell_type": "code",
   "execution_count": 2,
   "metadata": {
    "collapsed": false
   },
   "outputs": [
    {
     "name": "stdout",
     "output_type": "stream",
     "text": [
      "31\n"
     ]
    },
    {
     "data": {
      "text/plain": [
       "100"
      ]
     },
     "execution_count": 2,
     "metadata": {},
     "output_type": "execute_result"
    }
   ],
   "source": [
    " import json\n",
    "import requests\n",
    "import string\n",
    "from collections import Counter\n",
    "import time\n",
    "\n",
    "\n",
    "ACCESSTOKEN  = 'EAACEdEose0cBAF4jtckRxbok2QKqmOR0BEA5N11neqxnLeBLId5Qgrlj7n0fXYhxaOWv8yjcIXhI9OFbR5WnpHhZBQZBQoFUOcHvA2f6vWnwYRbRr53JqptvXEKiijq52fHueym62aCBgHC31rnfPM3WN2oOyPVsJpYiJRYgZDZD'\n",
    "PostUrl ='https://graph.facebook.com/v2.5/15925638948/posts?limit=100&fields=attachments,message,created_time,shares&access_token='+ACCESSTOKEN\n",
    "\n",
    "res = requests.get(PostUrl)\n",
    "\n",
    "jd = json.loads(res.text)\n",
    "\n",
    "PostID= jd['data'][0]['id']\n",
    "print jd['data'][0]['shares']['count']\n",
    "len(jd['data'])\n",
    "\n",
    "\n"
   ]
  },
  {
   "cell_type": "code",
   "execution_count": 3,
   "metadata": {
    "collapsed": false
   },
   "outputs": [
    {
     "name": "stdout",
     "output_type": "stream",
     "text": [
      "6636560\n"
     ]
    }
   ],
   "source": [
    "#粉絲抓取\n",
    "\n",
    "PostUrl ='https://graph.facebook.com/v2.5/15925638948?fields=likes&access_token='+ACCESSTOKEN\n",
    "\n",
    "res = requests.get(PostUrl)\n",
    "\n",
    "jd = json.loads(res.text)\n",
    "\n",
    "Fans= jd['likes']\n",
    "\n",
    "print Fans\n",
    "def inserFans():\n",
    "    command=\"INSERT INTO FBFans (Crawler_Time,Fans) VALUES (?,?)\"\n",
    "\n",
    "    cursor.execute(command,(Crawler_Time,Fans))\n",
    "    conn.commit()\n"
   ]
  },
  {
   "cell_type": "code",
   "execution_count": 4,
   "metadata": {
    "collapsed": true
   },
   "outputs": [],
   "source": [
    "\n",
    "import pyodbc\n",
    "conn = pyodbc.connect('DRIVER={SQL Server};SERVER=163.14.68.48;DATABASE=FB_NewCrawler;UID=sa;PWD=scucc')\n",
    "cursor = conn.cursor()"
   ]
  },
  {
   "cell_type": "code",
   "execution_count": 5,
   "metadata": {
    "collapsed": false
   },
   "outputs": [
    {
     "data": {
      "text/plain": [
       "[(1, 233, 11, 31, u'11', 233, 11, 31)]"
      ]
     },
     "execution_count": 5,
     "metadata": {},
     "output_type": "execute_result"
    }
   ],
   "source": [
    "def SharesSecond(PostNO):\n",
    "\n",
    "    cursor.execute(\"select * from FBPostChange where PostNO=? order by LikeCount desc\",PostNO)\n",
    "    Postrows = cursor.fetchall()\n",
    "    \n",
    "    try:\n",
    "        Postrows[0]\n",
    "        return Postrows\n",
    "    except:\n",
    "        return [(0,0,0,0,0)]\n",
    "SharesSecond(1)"
   ]
  },
  {
   "cell_type": "code",
   "execution_count": 6,
   "metadata": {
    "collapsed": false
   },
   "outputs": [
    {
     "data": {
      "text/plain": [
       "3"
      ]
     },
     "execution_count": 6,
     "metadata": {},
     "output_type": "execute_result"
    }
   ],
   "source": [
    "#判斷起始NO\n",
    "#IDrow\n",
    "\n",
    "cursor.execute(\"select * from FBPostData   order by PostNO asc\")\n",
    "\n",
    "def Second():\n",
    "    conn = pyodbc.connect('DRIVER={SQL Server};SERVER=163.14.68.48;DATABASE=FB_NewCrawler;UID=sa;PWD=scucc')\n",
    "    cursor = conn.cursor()\n",
    "    cursor.execute(\"select * from FBPostData   order by PostNO asc\")\n",
    "    global rows\n",
    "    rows = cursor.fetchall()\n",
    "    global IDrows\n",
    "    \n",
    "    IDrows=[]\n",
    "#自動判斷1 或是第二次以上NO   \n",
    "    try:\n",
    "        PostNO= rows[-1][0]+1\n",
    "        for row in rows:\n",
    "            IDrows.append( row[-1])\n",
    "        return PostNO\n",
    "    except:\n",
    "        return 1\n",
    "Second()"
   ]
  },
  {
   "cell_type": "code",
   "execution_count": null,
   "metadata": {
    "collapsed": true
   },
   "outputs": [],
   "source": []
  },
  {
   "cell_type": "code",
   "execution_count": 7,
   "metadata": {
    "collapsed": false
   },
   "outputs": [],
   "source": [
    "#偵測PO文NO\n",
    "\n",
    "def PostNOdetect(id):\n",
    "    \n",
    "    \n",
    "    for row in rows:\n",
    "        if row[-1]==id:\n",
    "            NO=row[0]\n",
    "            \n",
    "    return NO\n",
    "\n",
    "#PostNOdetect('15925638948_10154486947508949')"
   ]
  },
  {
   "cell_type": "code",
   "execution_count": 8,
   "metadata": {
    "collapsed": true
   },
   "outputs": [],
   "source": [
    "#PO文 抓入SQL\n",
    "\n",
    "def insertSQL(id,PostNO):\n",
    "    status='new'\n",
    "    \n",
    "    #如果是舊的PO文\n",
    "    if(id in IDrows ):\n",
    "        status='old'\n",
    "        PostNO=PostNOdetect(id)\n",
    "    \n",
    "    if(status=='new'):\n",
    "        command=\"INSERT INTO FBPostData (PostNO,Created_Time,Message,ID,AttatchTitle,AttatchMessage,Crawler_Time) VALUES (?,?,?,?,?,?,?)\"\n",
    "\n",
    "        cursor.execute(command,(PostNO,created_time,Postmessage,id,attatchTitle,attatchMessage,Crawler_Time))\n",
    "        \n",
    "    command=\"INSERT INTO FBPostChange (PostNO,LikeCount,CommentCount,ShareCount,Crawler_Time,LikeIncrease,CommentIncrease,ShareIncrease) VALUES (?,?,?,?,?,?,?,?)\"\n",
    "\n",
    "    cursor.execute(command,(PostNO,LikeCount,CommentCount,ShareCount,Crawler_Time,LikeIncrease,CommentIncrease,ShareIncrease))\n",
    "    \n",
    "# rows = cursor.fetchall()\n",
    "# for row in rows:"
   ]
  },
  {
   "cell_type": "code",
   "execution_count": 9,
   "metadata": {
    "collapsed": false
   },
   "outputs": [
    {
     "data": {
      "text/plain": [
       "1"
      ]
     },
     "execution_count": 9,
     "metadata": {},
     "output_type": "execute_result"
    }
   ],
   "source": [
    "#判斷起始NO\n",
    "\n",
    "\n",
    "\n",
    "def CommentSecond(PostNO):\n",
    "    global CommentIDrows\n",
    "    global Commentrows\n",
    "    CommentIDrows=[]\n",
    "    Commentrows=[]\n",
    "    \n",
    "    cursor.execute(\"select * from FBCommentData where PostNO=?  order by CommentNO asc\",PostNO)\n",
    "    Commentrows = cursor.fetchall()\n",
    "    try:\n",
    "        CommentNO= Commentrows[-1][1]+1\n",
    "        for row in Commentrows:\n",
    "            CommentIDrows.append( row[-3])\n",
    "\n",
    "        return CommentNO\n",
    "    except:\n",
    "        return 1\n",
    "CommentSecond(3)\n"
   ]
  },
  {
   "cell_type": "code",
   "execution_count": 10,
   "metadata": {
    "collapsed": false
   },
   "outputs": [],
   "source": [
    "def CommentNOdetect(id):\n",
    "    for row in Commentrows:\n",
    "        if row[-3]==id:\n",
    "            CommentNO=row[1]\n",
    "    return CommentNO\n",
    "\n",
    "#CommentNOdetect('10154486947508949_10154487300663949')"
   ]
  },
  {
   "cell_type": "code",
   "execution_count": 11,
   "metadata": {
    "collapsed": true
   },
   "outputs": [],
   "source": [
    "def InsertComment(CommentID,CommentNO):\n",
    "    CommentStatus='new'\n",
    "    if(CommentID in CommentIDrows ):\n",
    "        CommentStatus='old'\n",
    "        CommentNO2=CommentNOdetect(CommentID)\n",
    "        command=\"INSERT INTO FBCommentChange (PostNO,CommentNO,LikeCount,ReplyCount,Crawler_Time) VALUES (?,?,?,?,?)\"\n",
    "        cursor.execute(command,(PostNO,CommentNO2,like_count,comment_count,Crawler_Time))\n",
    "        return CommentNO\n",
    "    \n",
    "    if(CommentStatus=='new'):\n",
    "        command=\"INSERT INTO FBCommentData (PostNO,CommentNO,Name,Message,CommentID,UserID,Crawler_Time) VALUES (?,?,?,?,?,?,?)\"\n",
    "        cursor.execute(command,(PostNO,CommentNO,Name,message,CommentID,UserID,Crawler_Time))\n",
    "        command=\"INSERT INTO FBCommentChange (PostNO,CommentNO,LikeCount,ReplyCount,Crawler_Time) VALUES (?,?,?,?,?)\"\n",
    "        cursor.execute(command,(PostNO,CommentNO,like_count,comment_count,Crawler_Time))\n",
    "        return CommentNO+1\n"
   ]
  },
  {
   "cell_type": "code",
   "execution_count": 12,
   "metadata": {
    "collapsed": false
   },
   "outputs": [],
   "source": [
    "def Comment(PostID):\n",
    "    start =time.time()\n",
    "    \n",
    "    CommentUrl ='https://graph.facebook.com/v2.5/'+PostID+'/comments?fields=like_count,message,comment_count,from,id&limit=200&access_token='+ACCESSTOKEN\n",
    "\n",
    "    CommentRes = requests.get(CommentUrl)\n",
    "\n",
    "    CommentJd = json.loads(CommentRes.text)\n",
    "    \n",
    "    \n",
    "    global like_count\n",
    "    global message\n",
    "    global comment_count\n",
    "    global Name\n",
    "    global UserID\n",
    "    global CommentID\n",
    "    \n",
    "    global CommentStatus\n",
    "    \n",
    "    CommentStatus='new'\n",
    "    CommentNO=CommentSecond(PostNO)\n",
    "    \n",
    "    \n",
    "    \n",
    "    try:\n",
    "        bug=CommentJd['paging']\n",
    "    except:\n",
    "        print PostID\n",
    "        return 0\n",
    "    \n",
    "    \n",
    "    end =time.time()\n",
    "    time1= end-start\n",
    "    HowMuch=str(len(CommentJd['data']))\n",
    "    print '評論載入成功:'+HowMuch+'筆 '+str(time1)+'秒'\n",
    "    \n",
    "    \n",
    "   \n",
    "    \n",
    "    start =time.time()\n",
    "    \n",
    "    while 'next' in CommentJd['paging'] :\n",
    "        \n",
    "        \n",
    "        for data in CommentJd['data']:\n",
    "            like_count= data['like_count']\n",
    "            message=data['message']\n",
    "            comment_count=data['comment_count']\n",
    "\n",
    "            Name= data['from']['name']\n",
    "            UserID= data['from']['id']\n",
    "            CommentID=data['id']\n",
    "            \n",
    "                \n",
    "            #插入    \n",
    "            CommentNO=InsertComment(CommentID,CommentNO)\n",
    "            \n",
    "            if(CommentID==CommentJd['data'][-1]['id']):\n",
    "\n",
    "                CommentUrl=CommentJd['paging']['next']\n",
    "                time.sleep(1)\n",
    "                CommentRes=requests.get(CommentUrl)\n",
    "                CommentJd = json.loads(CommentRes.text)\n",
    "\n",
    "            \n",
    "            \n",
    "            \n",
    "    for data in CommentJd['data']:\n",
    "        like_count= data['like_count']\n",
    "        message=data['message']\n",
    "        comment_count=data['comment_count']\n",
    "\n",
    "        Name= data['from']['name']\n",
    "        UserID= data['from']['id']\n",
    "        CommentID=data['id']\n",
    "        #插入\n",
    "        CommentNO=InsertComment(CommentID,CommentNO)\n",
    "        \n",
    "    end=time.time()\n",
    "    time1=end-start\n",
    "    print '評論輸入完畢:'+str(CommentNO-1)+\"筆 \"+str(time1)+'秒'\n",
    "    \n",
    "        \n",
    "    return CommentNO-1\n",
    "    \n",
    "    \n",
    "    \n",
    "# Comment('15925638948_10154512960348949')    \n",
    "    \n",
    "    "
   ]
  },
  {
   "cell_type": "code",
   "execution_count": 13,
   "metadata": {
    "collapsed": false
   },
   "outputs": [
    {
     "data": {
      "text/plain": [
       "1"
      ]
     },
     "execution_count": 13,
     "metadata": {},
     "output_type": "execute_result"
    }
   ],
   "source": [
    "#判斷起始NO\n",
    "\n",
    "\n",
    "\n",
    "def LikeSecond(PostNO):\n",
    "    global LikeIDrows\n",
    "    global Likerows\n",
    "    LikeIDrows=[]\n",
    "    Likerows=[]\n",
    "    \n",
    "    cursor.execute(\"select * from FBPostLikeChange where PostNO=?  order by LikeNO asc\",PostNO)\n",
    "    Likerows = cursor.fetchall()\n",
    "    try:\n",
    "        LikeNO= Likerows[-1][1]+1\n",
    "        for row in Likerows:\n",
    "            LikeIDrows.append( row[2])\n",
    "\n",
    "        return LikeNO\n",
    "    except:\n",
    "        return 1\n",
    "LikeSecond(2)\n"
   ]
  },
  {
   "cell_type": "code",
   "execution_count": 163,
   "metadata": {
    "collapsed": true
   },
   "outputs": [],
   "source": [
    "def LikeNOdetect(id):\n",
    "    for row in Likerows:\n",
    "        if row[2]==id:\n",
    "            LikeNO=row[1]\n",
    "    return LikeNO\n",
    "\n",
    "#CommentNOdetect('10154486947508949_10154487300663949')"
   ]
  },
  {
   "cell_type": "code",
   "execution_count": 164,
   "metadata": {
    "collapsed": false
   },
   "outputs": [],
   "source": [
    "def InsertLike(UserID,LikeNO):\n",
    "    \n",
    "    LikeStatus='new'\n",
    "    if(UserID in LikeIDrows ):\n",
    "        LikeStatus='old'\n",
    "        \n",
    "        return LikeNO\n",
    "    \n",
    "    if LikeStatus=='new':\n",
    "        \n",
    "#         command=\"INSERT INTO FBPostLikeChange (PostNO,LikeNO,UserID,UserName,Crawler_Time) VALUES (?,?,?,?,?)\"\n",
    "\n",
    "#         cursor.execute(command,(PostNO,LikeNO,UserID,UserName,Crawler_Time))\n",
    "        return LikeNO+1"
   ]
  },
  {
   "cell_type": "code",
   "execution_count": 165,
   "metadata": {
    "collapsed": false
   },
   "outputs": [],
   "source": [
    "def Like(PostID):\n",
    "    \n",
    "    global UserName\n",
    "    global UserID\n",
    "    global CommentStatus\n",
    "   \n",
    "    start=time.time()\n",
    "    CommentStatus='new'\n",
    "    \n",
    "    LikeNO= LikeSecond(PostNO)\n",
    "    \n",
    "    LikeUrl ='https://graph.facebook.com/v2.5/'+PostID+'/likes?pretty=0&limit=1000&access_token='+ACCESSTOKEN\n",
    "\n",
    "    LikeRes = requests.get(LikeUrl)\n",
    "\n",
    "    LikeJd = json.loads(LikeRes.text)\n",
    "    end =time.time()\n",
    "    time1= end-start\n",
    "    HowMuch=str(len(LikeJd['data']))\n",
    "    print '讚數載入成功:'+HowMuch+'個 '+str(time1)+'秒'\n",
    "    \n",
    "    start=time.time()\n",
    "    try:\n",
    "        while 'next' in LikeJd['paging']:\n",
    "            for data in LikeJd['data']:\n",
    "                UserName= data['name']\n",
    "                UserID= data['id']\n",
    "                LikeNO=InsertLike(UserID,LikeNO)\n",
    "                if(UserID== LikeJd['data'][-1]['id']):\n",
    "                    LikeUrl=LikeJd['paging']['next']\n",
    "                    #time.sleep(0.1)\n",
    "                    LikeRes=requests.get(LikeUrl)\n",
    "                    LikeJd = json.loads(LikeRes.text)\n",
    "                \n",
    "    except:\n",
    "        return 0\n",
    "            \n",
    "        \n",
    "    for data in LikeJd['data']:\n",
    "        UserName= data['name']\n",
    "        UserID= data['id']\n",
    "        LikeNO=InsertLike(UserID,LikeNO)\n",
    "        \n",
    "        \n",
    "    end =time.time()\n",
    "    time1= end-start\n",
    "    HowMuch=str(len(LikeJd['data']))\n",
    "    print '讚數輸入成功:'+str(LikeNO-1)+'個 '+str(time1)+'秒'\n",
    "    return LikeNO-1\n",
    "    \n",
    "    "
   ]
  },
  {
   "cell_type": "code",
   "execution_count": null,
   "metadata": {
    "collapsed": true
   },
   "outputs": [],
   "source": []
  },
  {
   "cell_type": "code",
   "execution_count": null,
   "metadata": {
    "collapsed": true
   },
   "outputs": [],
   "source": []
  },
  {
   "cell_type": "code",
   "execution_count": null,
   "metadata": {
    "collapsed": true
   },
   "outputs": [],
   "source": []
  },
  {
   "cell_type": "code",
   "execution_count": null,
   "metadata": {
    "collapsed": true
   },
   "outputs": [],
   "source": []
  },
  {
   "cell_type": "code",
   "execution_count": 166,
   "metadata": {
    "collapsed": false
   },
   "outputs": [
    {
     "name": "stdout",
     "output_type": "stream",
     "text": [
      "Crawler_Time:11\n",
      "11\n",
      "評論載入成功:11筆 0.269999980927秒\n",
      "評論輸入完畢:11筆 0.230999946594秒\n",
      "更新:11筆\n",
      "讚數載入成功:233個 0.31200003624秒\n",
      "讚數輸入成功:233個 0.000999927520752秒\n",
      "更新:233筆\n",
      "Shares更新:31筆\n",
      "評論載入成功:36筆 0.348000049591秒\n",
      "評論輸入完畢:36筆 0.744000196457秒\n",
      "更新:36筆\n",
      "讚數載入成功:672個 0.536999940872秒\n",
      "讚數輸入成功:672個 0.00100016593933秒\n",
      "更新:672筆\n",
      "Shares更新:147筆\n",
      "end\n"
     ]
    }
   ],
   "source": [
    "#開爬\n",
    "\n",
    "import pyodbc\n",
    "conn = pyodbc.connect('DRIVER={SQL Server};SERVER=163.14.68.48;DATABASE=FB_NewCrawler;UID=sa;PWD=scucc')\n",
    "cursor = conn.cursor()\n",
    "\n",
    "\n",
    "#狀態初始化\n",
    "end=0\n",
    "status='new'\n",
    "IDrows=[]\n",
    "\n",
    "\n",
    "PostNO=Second()\n",
    "\n",
    "\n",
    "#粉絲\n",
    "\n",
    "PostUrl ='https://graph.facebook.com/v2.5/15925638948?fields=likes&access_token='+ACCESSTOKEN\n",
    "res = requests.get(PostUrl)\n",
    "jd = json.loads(res.text)\n",
    "Fans= jd['likes']\n",
    "\n",
    "\n",
    "#PO文\n",
    "PostUrl ='https://graph.facebook.com/v2.5/15925638948/posts?limit=100&fields=attachments,message,created_time,shares&access_token='+ACCESSTOKEN\n",
    "res = requests.get(PostUrl)\n",
    "jd = json.loads(res.text)\n",
    "\n",
    "\n",
    "\n",
    "\n",
    "#時間\n",
    "Crawler_Time = raw_input(\"Crawler_Time:\")\n",
    "print Crawler_Time\n",
    "\n",
    "# inserFans()\n",
    "\n",
    "\n",
    "\n",
    "while( 'next' in jd['paging'] ):\n",
    "    status='new'\n",
    "    if end==1:\n",
    "        break\n",
    "    \n",
    "    for post in jd['data']:\n",
    "        attatchTitle=\"\"\n",
    "        attatchMessage=\"\"\n",
    "        CommentCount=0\n",
    "        LikeCount=0\n",
    "        ShareCount=0\n",
    "        Postmessage=\"\"\n",
    "        \n",
    "        #例外\n",
    "        if('message'in post):\n",
    "            Postmessage=post['message']\n",
    "        if('shares'in post):\n",
    "            ShareCount=post['shares']['count']\n",
    "        created_time=post['created_time']\n",
    "            \n",
    "        id=post['id']\n",
    "\n",
    "        \n",
    "        #attachments\n",
    "        if('attachments' in post):\n",
    "            if('title' in post['attachments']['data'][0]):\n",
    "                attatchTitle=post['attachments']['data'][0]['title']\n",
    "            if('description' in post['attachments']['data'][0]):\n",
    "                attatchMessage=post['attachments']['data'][0]['description']\n",
    "\n",
    "        if(id in IDrows ):\n",
    "            status='old'\n",
    "            PostNO=PostNOdetect(id)\n",
    "        \n",
    "        Postrow=SharesSecond(PostNO)\n",
    "       \n",
    "        PreLikeCount=Postrow[0][1]\n",
    "        PreCommentCount=Postrow[0][2]\n",
    "        PreShareCount=Postrow[0][3]\n",
    "\n",
    "        CommentCount=0\n",
    "        CommentCount=Comment(id)\n",
    "        CommentIncrease=CommentCount-PreCommentCount\n",
    "        print\"更新:\" +str(CommentIncrease)+\"筆\"\n",
    "        \n",
    "\n",
    "        LikeCount=0\n",
    "        LikeCount=Like(id)\n",
    "        LikeIncrease=LikeCount-PreLikeCount\n",
    "        print\"更新:\" +str(LikeIncrease)+\"筆\"\n",
    "        \n",
    "        ShareIncrease=ShareCount-PreShareCount\n",
    "        print\"Shares更新:\" +str(ShareIncrease)+\"筆\"\n",
    "        \n",
    "        insertSQL(id,PostNO)\n",
    "        \n",
    "        if (id==jd['data'][-1]['id']):\n",
    "            url=jd['paging']['next']\n",
    "\n",
    "            res=requests.get(url)\n",
    "            jd = json.loads(res.text)\n",
    "        \n",
    "        PostNO+=1\n",
    "\n",
    "  \n",
    "    \n",
    "        \n",
    "        #停止點\n",
    "        if (id=='15925638948_10154509502158949'):\n",
    "            end=1\n",
    "            \n",
    "            break\n",
    "            \n",
    "    \n",
    "conn.commit()\n",
    "print \"end\"\n",
    "cursor.close()\n",
    "conn.close()   "
   ]
  },
  {
   "cell_type": "code",
   "execution_count": null,
   "metadata": {
    "collapsed": false
   },
   "outputs": [],
   "source": [
    "cursor.execute(\"select * from FBPostData   order by PostNO asc\")\n",
    "rows = cursor.fetchall()\n",
    "print rows[0][0]\n"
   ]
  },
  {
   "cell_type": "code",
   "execution_count": null,
   "metadata": {
    "collapsed": false
   },
   "outputs": [],
   "source": [
    "cursor.close()\n",
    "conn.close()  "
   ]
  },
  {
   "cell_type": "code",
   "execution_count": 80,
   "metadata": {
    "collapsed": false
   },
   "outputs": [
    {
     "name": "stdout",
     "output_type": "stream",
     "text": [
      "4\n"
     ]
    }
   ],
   "source": [
    "A=2\n",
    "\n",
    "b()\n",
    "\n",
    "print A\n"
   ]
  },
  {
   "cell_type": "code",
   "execution_count": 78,
   "metadata": {
    "collapsed": true
   },
   "outputs": [],
   "source": [
    "def aa():\n",
    "    global A\n",
    "    A+=2\n",
    "def b():\n",
    "    \n",
    "    aa()\n",
    "    "
   ]
  }
 ],
 "metadata": {
  "anaconda-cloud": {},
  "kernelspec": {
   "display_name": "Python [Root]",
   "language": "python",
   "name": "Python [Root]"
  },
  "language_info": {
   "codemirror_mode": {
    "name": "ipython",
    "version": 2
   },
   "file_extension": ".py",
   "mimetype": "text/x-python",
   "name": "python",
   "nbconvert_exporter": "python",
   "pygments_lexer": "ipython2",
   "version": "2.7.12"
  }
 },
 "nbformat": 4,
 "nbformat_minor": 0
}
