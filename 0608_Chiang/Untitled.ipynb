{
 "cells": [
  {
   "cell_type": "code",
   "execution_count": 25,
   "metadata": {
    "collapsed": false
   },
   "outputs": [
    {
     "name": "stdout",
     "output_type": "stream",
     "text": [
      "{u'created_time': u'2016-03-17T02:32:44+0000', u'message': u\"Who is he I've only seen him in Divergent the movie.\", u'from': {u'name': u'Linda Love-Dupree', u'id': u'166955773683966'}, u'id': u'10154149873453949_10154152658048949'}\n",
      "fq\n"
     ]
    }
   ],
   "source": [
    "import requests\n",
    "import json\n",
    "\n",
    "\n",
    "token='EAACEdEose0cBALOkRxwbFe8WD0RpSIlRI73JULcWZBWMdpoTXMZA7AAGKWeRdtkZAkw6mQiH6oTN7YxfpbG4QC1agxAXhVjAccmwP2Snl54qGtGQYd2rgHtRX9YfBtaZBI4BkHVjiInZAOUMXdvNzsiYWK7RuwE0mPcVLXtoA3AZDZD'\n",
    "url='https://graph.facebook.com/v2.5/10154149873453949_10154152658048949?access_token='+token\n",
    "\n",
    "res=requests.get(url)\n",
    "jd=json.loads(res.text)\n",
    "print jd\n",
    "if 'posts' not in jd:\n",
    "    print 'fq'\n",
    "PostNO=1\n",
    "# print len( jd['posts']['data'])\n",
    "# for data in jd['posts']['data']:\n",
    "#     Message=\" \"\n",
    "#     if 'message'in data:\n",
    "#         Message= data['message']\n",
    "#     Time=data['created_time']\n",
    "#     ID=data['id']\n",
    "#     insertSQL()\n",
    "#     PostNO+=1"
   ]
  },
  {
   "cell_type": "code",
   "execution_count": 12,
   "metadata": {
    "collapsed": false
   },
   "outputs": [
    {
     "name": "stdout",
     "output_type": "stream",
     "text": [
      "<pyodbc.Cursor object at 0x000000000422FF30>\n"
     ]
    }
   ],
   "source": [
    "import pyodbc\n",
    "conn = pyodbc.connect('DRIVER={SQL Server};SERVER=163.14.72.42;DATABASE=0608;UID=sa;PWD=scucc')\n",
    "cursor = conn.cursor()\n",
    "print cursor"
   ]
  },
  {
   "cell_type": "code",
   "execution_count": 13,
   "metadata": {
    "collapsed": true
   },
   "outputs": [],
   "source": [
    "def insertSQL():\n",
    "    command='INSERT INTO FBtest (PostNO, Message, Time,ID)VALUES (?,?,?,?)'\n",
    "    cursor.execute(command,(PostNO,Message, Time,ID))\n",
    "    conn.commit()"
   ]
  },
  {
   "cell_type": "code",
   "execution_count": null,
   "metadata": {
    "collapsed": true
   },
   "outputs": [],
   "source": []
  }
 ],
 "metadata": {
  "kernelspec": {
   "display_name": "Python 2",
   "language": "python",
   "name": "python2"
  },
  "language_info": {
   "codemirror_mode": {
    "name": "ipython",
    "version": 2
   },
   "file_extension": ".py",
   "mimetype": "text/x-python",
   "name": "python",
   "nbconvert_exporter": "python",
   "pygments_lexer": "ipython2",
   "version": "2.7.11"
  }
 },
 "nbformat": 4,
 "nbformat_minor": 0
}
