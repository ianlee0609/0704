{
 "cells": [
  {
   "cell_type": "code",
   "execution_count": null,
   "metadata": {
    "collapsed": true
   },
   "outputs": [],
   "source": [
    "import requests\n",
    "import json\n",
    "\n",
    "ACCESSTOKEN =\"EAACEdEose0cBAKOuhFAHcUZAEGcPlbrxCUrl7BEyQNEDYmArnty1LZBGdZC7YWAaiQFfoISr00QNZCAKQZCSRGtZArZCeqYdidYlBfz7MqjVcvoINcEK0DETfZCreoZCtWDmGRn748gC6IbYjM0DEuaEcgtkNGKiEIphrujuV0SP5FwZDZD\"\n",
    "URL='https://graph.facebook.com/v2.5/980091108692373?fields=posts.limit(100)&access_token='+ACCESSTOKEN\n",
    "res=requests.get(URL) \n",
    "jd=json.loads(res.text)\n",
    "print len(jd['posts']['data'])\n",
    "PostNO=1\n",
    "Message=\"\"\n",
    "for data in jd['posts']['data']:\n",
    "    Message=\"\"\n",
    "    ID=data['id']\n",
    "    Time= data['created_time']\n",
    "    if \"message\" in data:\n",
    "        Message=data['message']\n",
    "    \n",
    "    insertSQL()\n",
    "    PostNO+=1"
   ]
  },
  {
   "cell_type": "code",
   "execution_count": 1,
   "metadata": {
    "collapsed": false
   },
   "outputs": [
    {
     "name": "stdout",
     "output_type": "stream",
     "text": [
      "<pyodbc.Cursor object at 0x0000000003ECA1B0>\n"
     ]
    }
   ],
   "source": [
    "import pyodbc\n",
    "conn = pyodbc.connect('DRIVER={SQL Server};SERVER=163.14.72.42;DATABASE=0608;UID=sa;PWD=scucc')\n",
    "cursor = conn.cursor()\n",
    "print cursor"
   ]
  },
  {
   "cell_type": "code",
   "execution_count": 24,
   "metadata": {
    "collapsed": true
   },
   "outputs": [],
   "source": [
    "def insertSQL():\n",
    "    command=\"INSERT INTO FBtest (PostNO,Message,Time,ID) VALUES (?,?,?,?)\"\n",
    "    cursor.execute(command,(PostNO,Message,Time,ID))\n",
    "    conn.commit()\n",
    "    "
   ]
  },
  {
   "cell_type": "code",
   "execution_count": null,
   "metadata": {
    "collapsed": true
   },
   "outputs": [],
   "source": []
  },
  {
   "cell_type": "code",
   "execution_count": 10,
   "metadata": {
    "collapsed": false
   },
   "outputs": [],
   "source": [
    "import requests\n",
    "import pyodbc\n",
    "import json\n",
    "conn = pyodbc.connect('DRIVER={SQL Server};SERVER=163.14.72.42;DATABASE=0608;UID=sa;PWD=scucc')\n",
    "cursor = conn.cursor()\n",
    "cursor.execute(\"select * from FBtest   order by PostNO asc\")\n",
    "\n",
    "rows = cursor.fetchall()\n",
    "\n",
    "for row in rows:\n",
    "    ID= row[3]\n",
    "    PostNO=row[0]\n",
    "    ACCESSTOKEN =\"EAACEdEose0cBAKvvHlfSXfqCRohpMwIUiSunZCLzkfZCDH8RgAkDwvFCKz1Sf9QpFeZCeT46xlJOQTfVklcbWHN9pMPbEiUG1K7LkMPKQOYzSIFW2x3ZAr3ippRp3HfZCvVB4rwtr6fpa9ADzZCqvQaSmOLq86jQJOtu2kAiT9iwZDZD\"\n",
    "    URL='https://graph.facebook.com/v2.5/'+ID+ '?fields=likes.limit(1000)&access_token='+ACCESSTOKEN\n",
    "    res=requests.get(URL) \n",
    "    jd=json.loads(res.text)\n",
    "    for data in jd['likes']['data']:\n",
    "        ID=data['id']\n",
    "        Name=data['name']\n",
    "       \n",
    "        insertSQL2()"
   ]
  },
  {
   "cell_type": "code",
   "execution_count": 8,
   "metadata": {
    "collapsed": true
   },
   "outputs": [],
   "source": [
    "def insertSQL2():\n",
    "    command=\"INSERT INTO FBLikes (PostNO,ID,Name) VALUES (?,?,?)\"\n",
    "    cursor.execute(command,(PostNO,ID,Name))\n",
    "    conn.commit()\n",
    "    "
   ]
  },
  {
   "cell_type": "code",
   "execution_count": 7,
   "metadata": {
    "collapsed": false
   },
   "outputs": [
    {
     "ename": "ProgrammingError",
     "evalue": "Attempt to use a closed connection.",
     "output_type": "error",
     "traceback": [
      "\u001b[1;31m---------------------------------------------------------------------------\u001b[0m",
      "\u001b[1;31mProgrammingError\u001b[0m                          Traceback (most recent call last)",
      "\u001b[1;32m<ipython-input-7-002d50cfac03>\u001b[0m in \u001b[0;36m<module>\u001b[1;34m()\u001b[0m\n\u001b[1;32m----> 1\u001b[1;33m \u001b[0mconn\u001b[0m\u001b[1;33m.\u001b[0m\u001b[0mclose\u001b[0m\u001b[1;33m(\u001b[0m\u001b[1;33m)\u001b[0m\u001b[1;33m\u001b[0m\u001b[0m\n\u001b[0m",
      "\u001b[1;31mProgrammingError\u001b[0m: Attempt to use a closed connection."
     ]
    }
   ],
   "source": [
    "conn.close()"
   ]
  },
  {
   "cell_type": "code",
   "execution_count": null,
   "metadata": {
    "collapsed": true
   },
   "outputs": [],
   "source": []
  }
 ],
 "metadata": {
  "kernelspec": {
   "display_name": "Python 2",
   "language": "python",
   "name": "python2"
  },
  "language_info": {
   "codemirror_mode": {
    "name": "ipython",
    "version": 2
   },
   "file_extension": ".py",
   "mimetype": "text/x-python",
   "name": "python",
   "nbconvert_exporter": "python",
   "pygments_lexer": "ipython2",
   "version": "2.7.11"
  }
 },
 "nbformat": 4,
 "nbformat_minor": 0
}
