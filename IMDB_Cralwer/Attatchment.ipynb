{
 "cells": [
  {
   "cell_type": "code",
   "execution_count": 20,
   "metadata": {
    "collapsed": false
   },
   "outputs": [],
   "source": [
    "import json\n",
    "import requests\n",
    "from collections import Counter\n",
    "from nltk.corpus import stopwords\n",
    "from stemming.porter2 import stem\n",
    "stop = stopwords.words('english')\n",
    "from nltk import sent_tokenize, word_tokenize, pos_tag\n",
    "ACCESSTOKEN  = 'CAACEdEose0cBALBKPRXtZCjO7EnwZAUnrTCTljuawptwEQQEIp2Wt8MllKO2fPBB3tyLAU1ZCT0msffJUEv12IDKFSy0aqBUSW7tr4bOdbvZAj7WJXhk6MROpTN7SHCGWNYZBSKe8dlkcOVLKJ3lpY2cNikZBxwPqleZBMIDBw22V44DvIu6fTZBEYbENiSishvoeZBRPclFmrlqYbPoffJdA'\n",
    "PostUrl ='https://graph.facebook.com/v2.5/15925638948?fields=posts&access_token={}'\n",
    "fburl2='https://graph.facebook.com/v2.5/10154125797678949/comments?limit=200&access_token={}'\n",
    "res = requests.get(PostUrl.format(ACCESSTOKEN))\n",
    "\n",
    "jd = json.loads(res.text)\n",
    "\n",
    "PostID= jd['posts']['data'][4]['id']\n",
    "AttatchURL='https://graph.facebook.com/v2.5/{}?fields=attachments&access_token={}'\n",
    "res = requests.get(AttatchURL.format(PostID,ACCESSTOKEN))\n",
    "\n",
    "jd = json.loads(res.text)\n",
    "if 'description' in jd['attachments']['data'][0]:\n",
    "    AttatchMessage=jd['attachments']['data'][0]['description']\n",
    "    Attatchtitle=jd['attachments']['data'][0]['title']\n",
    "    print Attatchtitle\n",
    "\n",
    "\n",
    "#dic = Counter()\n",
    "#print jd\n",
    "#adddic(jd)\n",
    "#printdic()"
   ]
  },
  {
   "cell_type": "code",
   "execution_count": null,
   "metadata": {
    "collapsed": true
   },
   "outputs": [],
   "source": []
  },
  {
   "cell_type": "code",
   "execution_count": null,
   "metadata": {
    "collapsed": true
   },
   "outputs": [],
   "source": []
  }
 ],
 "metadata": {
  "kernelspec": {
   "display_name": "Python 2",
   "language": "python",
   "name": "python2"
  },
  "language_info": {
   "codemirror_mode": {
    "name": "ipython",
    "version": 2
   },
   "file_extension": ".py",
   "mimetype": "text/x-python",
   "name": "python",
   "nbconvert_exporter": "python",
   "pygments_lexer": "ipython2",
   "version": "2.7.11"
  }
 },
 "nbformat": 4,
 "nbformat_minor": 0
}
