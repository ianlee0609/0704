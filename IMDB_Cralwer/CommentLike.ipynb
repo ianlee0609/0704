{
 "cells": [
  {
   "cell_type": "code",
   "execution_count": null,
   "metadata": {
    "collapsed": true
   },
   "outputs": [],
   "source": [
    "import json\n",
    "import requests\n",
    "import string\n",
    "from collections import Counter\n",
    "\n",
    "\n",
    "ACCESSTOKEN  = 'CAACEdEose0cBAFeKLIpY8sVvZBwvPwVyYfPHmqHA5khSaVnm7cuF7ghzmxW5tSoh51gi3AEtYzUpICqUZBAu5ZB1ayLVpYdMCcBgIy9suAi2WWpd3LyD8ZAUvmv6t0UbOqZCtofmLqJs6kznbPa7O1kggoaVIHOHlBhZA3hZCMBQFDdH5AvzguWEjcaAGVImJCiIZAwppZCmZBtn55onTHoYIW'\n",
    "PostUrl ='https://graph.facebook.com/v2.5/10154049289398949_10154049291803949/likes?limit=1000&access_token='+ACCESSTOKEN\n",
    "\n",
    "res = requests.get(PostUrl)\n",
    "print res.text\n",
    "jd = json.loads(res.text)\n",
    "\n",
    "PostID= jd['data'][0]['id']\n",
    "#print jd['data'][0]['like_count']\n",
    "len(jd['data'])"
   ]
  },
  {
   "cell_type": "code",
   "execution_count": null,
   "metadata": {
    "collapsed": false
   },
   "outputs": [],
   "source": [
    "import time\n",
    "import pyodbc\n",
    "conn = pyodbc.connect('DRIVER={SQL Server};SERVER=163.14.72.42;DATABASE=FB_IMDB;UID=sa;PWD=scucc')\n",
    "cursor = conn.cursor()\n",
    "cursor.execute(\"select * from [FBComment] where PostNO>0 and LikeCount>0  order by PostNO,CommentNO asc\")\n",
    "\n",
    "rows = cursor.fetchall()\n",
    "\n",
    "\n",
    "ACCESSTOKEN  = 'CAACEdEose0cBANgr2kyqSK4WX1aBtkmNaNRlh8FitjFKLXaXZAWSdJDV3Yxb2rFkXt7sKtUR6zQsMH46w0ZBKBrC9icnwIYcEMlyNQdLFvlju3pdaQlOvTFQJUloXTCiaw3vA9tP7eoXnZC578Dn8r6ZBHmWNwWWmY4VnLIHzYipFzmFRCEYlemsJK1Ps7F5GnytzKvRAecQE3UOSWtX'\n",
    "for row in rows :\n",
    "    LikeNO=1\n",
    "    PostUrl ='https://graph.facebook.com/v2.5/{}/likes?pretty=0&limit=1000&access_token='+ACCESSTOKEN\n",
    "    CommentID= row.CommentID\n",
    "    CommentNO= row.CommentNO\n",
    "    PostNO=row.PostNO\n",
    "    res = requests.get(PostUrl.format(CommentID))\n",
    "    jd = json.loads(res.text)\n",
    "    \n",
    "   \n",
    "    \n",
    "    if 'Unsupported get request'in res.text :\n",
    "        insertSQL2()\n",
    "        continue\n",
    "    if 'data' in res.text and  'paging'not in res.text:\n",
    "        insertSQL2()\n",
    "        continue\n",
    "    while 'paging'not in res.text  :\n",
    "        i=1\n",
    "        time.sleep(1)\n",
    "        print PostUrl.format(CommentID)\n",
    "        res = requests.get(PostUrl.format(CommentID))\n",
    "        jd = json.loads(res.text)\n",
    "    while 'next' in jd['paging']:\n",
    "        for data in jd['data']:\n",
    "            UserName= data['name']\n",
    "            UserID= data['id']\n",
    "           \n",
    "            insertSQL()\n",
    "            if(LikeNO%1000==0):\n",
    "                url=jd['paging']['next']\n",
    "                #time.sleep(0.1)\n",
    "                res=requests.get(url)\n",
    "                jd = json.loads(res.text)\n",
    "            LikeNO+=1\n",
    "            while 'paging' not in res.text:\n",
    "                i=1\n",
    "                time.sleep(1)\n",
    "                print PostUrl.format(CommentID)\n",
    "                res = requests.get(PostUrl.format(CommentID))\n",
    "                jd = json.loads(res.text)  \n",
    "        \n",
    "    for data in jd['data']:\n",
    "        UserName= data['name']\n",
    "        UserID= data['id']\n",
    "        insertSQL()\n",
    "        LikeNO+=1\n",
    "    "
   ]
  },
  {
   "cell_type": "code",
   "execution_count": 11,
   "metadata": {
    "collapsed": true
   },
   "outputs": [],
   "source": [
    "def insertSQL():\n",
    "    command=\"INSERT INTO [FBCommentLike] (PostNO,CommentNO,LikeNO,UserID,UserName) VALUES (?,?,?,?,?)\"\n",
    "\n",
    "    cursor.execute(command,(PostNO,CommentNO,LikeNO,UserID,UserName))\n",
    "    conn.commit()\n",
    "\n",
    "# rows = cursor.fetchall()\n",
    "# for row in rows:\n",
    "#     print row.id"
   ]
  },
  {
   "cell_type": "code",
   "execution_count": 7,
   "metadata": {
    "collapsed": true
   },
   "outputs": [],
   "source": [
    "def insertSQL2():\n",
    "    command=\"INSERT INTO FBCommentLike (PostNO) VALUES (?)\"\n",
    "\n",
    "    cursor.execute(command,(PostNO))\n",
    "    conn.commit()"
   ]
  },
  {
   "cell_type": "code",
   "execution_count": null,
   "metadata": {
    "collapsed": true
   },
   "outputs": [],
   "source": []
  }
 ],
 "metadata": {
  "kernelspec": {
   "display_name": "Python 2",
   "language": "python",
   "name": "python2"
  },
  "language_info": {
   "codemirror_mode": {
    "name": "ipython",
    "version": 2
   },
   "file_extension": ".py",
   "mimetype": "text/x-python",
   "name": "python",
   "nbconvert_exporter": "python",
   "pygments_lexer": "ipython2",
   "version": "2.7.11"
  }
 },
 "nbformat": 4,
 "nbformat_minor": 0
}
