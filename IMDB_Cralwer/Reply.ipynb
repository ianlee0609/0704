{
 "cells": [
  {
   "cell_type": "code",
   "execution_count": 5,
   "metadata": {
    "collapsed": false
   },
   "outputs": [
    {
     "ename": "KeyError",
     "evalue": "'data'",
     "output_type": "error",
     "traceback": [
      "\u001b[1;31m---------------------------------------------------------------------------\u001b[0m",
      "\u001b[1;31mKeyError\u001b[0m                                  Traceback (most recent call last)",
      "\u001b[1;32m<ipython-input-5-dab1df2e78fa>\u001b[0m in \u001b[0;36m<module>\u001b[1;34m()\u001b[0m\n\u001b[0;32m     12\u001b[0m \u001b[0mjd\u001b[0m \u001b[1;33m=\u001b[0m \u001b[0mjson\u001b[0m\u001b[1;33m.\u001b[0m\u001b[0mloads\u001b[0m\u001b[1;33m(\u001b[0m\u001b[0mres\u001b[0m\u001b[1;33m.\u001b[0m\u001b[0mtext\u001b[0m\u001b[1;33m)\u001b[0m\u001b[1;33m\u001b[0m\u001b[0m\n\u001b[0;32m     13\u001b[0m \u001b[1;33m\u001b[0m\u001b[0m\n\u001b[1;32m---> 14\u001b[1;33m \u001b[0mPostID\u001b[0m\u001b[1;33m=\u001b[0m \u001b[0mjd\u001b[0m\u001b[1;33m[\u001b[0m\u001b[1;34m'data'\u001b[0m\u001b[1;33m]\u001b[0m\u001b[1;33m[\u001b[0m\u001b[1;36m0\u001b[0m\u001b[1;33m]\u001b[0m\u001b[1;33m[\u001b[0m\u001b[1;34m'id'\u001b[0m\u001b[1;33m]\u001b[0m\u001b[1;33m\u001b[0m\u001b[0m\n\u001b[0m\u001b[0;32m     15\u001b[0m \u001b[1;31m#print jd['data'][0]['like_count']\u001b[0m\u001b[1;33m\u001b[0m\u001b[1;33m\u001b[0m\u001b[0m\n\u001b[0;32m     16\u001b[0m \u001b[0mlen\u001b[0m\u001b[1;33m(\u001b[0m\u001b[0mjd\u001b[0m\u001b[1;33m[\u001b[0m\u001b[1;34m'data'\u001b[0m\u001b[1;33m]\u001b[0m\u001b[1;33m)\u001b[0m\u001b[1;33m\u001b[0m\u001b[0m\n",
      "\u001b[1;31mKeyError\u001b[0m: 'data'"
     ]
    }
   ],
   "source": [
    "import json\n",
    "import requests\n",
    "import string\n",
    "from collections import Counter\n",
    "\n",
    "\n",
    "ACCESSTOKEN  = 'CAACEdEose0cBALmdf3COgAI0sXN28wAEw3ZBEQJZBe7NlSHo7Y5bJVtBzPRsTLQ2aFEK75ewbIkyzQcCxkFO3tYBFmcjS6L56bqcLffTu8AIY9PZA6UZBAyKcEt5FqlbdCWYVZBOvVqBBt16LlBCzZBFTI897ZAfoSPfBw3qvRgkWc36MgEF0xT0CqpUkspMgjMvoSsMedxa9Mnkm0LqZBDs'\n",
    "PostUrl ='https://graph.facebook.com/v2.5/10154049289398949_10154049291803949/comments?fields=like_count,message,comment_count,from,id&limit=200&access_token='+ACCESSTOKEN\n",
    "\n",
    "res = requests.get(PostUrl)\n",
    "\n",
    "jd = json.loads(res.text)\n",
    "\n",
    "PostID= jd['data'][0]['id']\n",
    "#print jd['data'][0]['like_count']\n",
    "len(jd['data'])"
   ]
  },
  {
   "cell_type": "code",
   "execution_count": 9,
   "metadata": {
    "collapsed": false
   },
   "outputs": [],
   "source": [
    "import json\n",
    "import requests\n",
    "import string\n",
    "import time\n",
    "import pyodbc\n",
    "conn = pyodbc.connect('DRIVER={SQL Server};SERVER=163.14.72.42;DATABASE=FB_IMDB;UID=sa;PWD=scucc')\n",
    "cursor = conn.cursor()\n",
    "cursor.execute(\"select * from [FBComment] where PostNO>3668 and ReplyCount>0  order by PostNO,CommentNO asc\")\n",
    "\n",
    "rows = cursor.fetchall()\n",
    "\n",
    "ACCESSTOKEN  = 'CAACEdEose0cBAEhZBKC0je8TKUihzecTtNPFSueFfMGzYiagWxR1UVIOh2VdTScSTl3xoxfPBWj8zg2u2LVFZAJpWdcGvB13YchtdHVEYg9JHpzmCaPeZBuGwoDGa5S7Lr26qjB84kfC6pr8YGWZArBtfERjNTxtnZBMQDYO2CjVxaUKDQZAnrorNMVaxw2cR5pYXiS4TFPgeGgsD9kyIh'\n",
    "for row in rows :\n",
    "    \n",
    "    ReplyNO=1\n",
    "    \n",
    "    PostUrl ='https://graph.facebook.com/v2.5/{}/comments?fields=like_count,message,from,id&limit=200&access_token='+ACCESSTOKEN\n",
    "    CommentID= row.CommentID\n",
    "    PostNO= row.PostNO\n",
    "    CommentNO= row.CommentNO\n",
    "    \n",
    "    res = requests.get(PostUrl.format(CommentID))\n",
    "    jd = json.loads(res.text)\n",
    "    #print jd['data'][0]\n",
    "    if 'Unsupported get request'in res.text :\n",
    "        insertSQL2()\n",
    "        continue\n",
    "    if 'data' in res.text and  'paging'not in res.text:\n",
    "        insertSQL2()\n",
    "        continue\n",
    "    while 'paging'not in res.text:\n",
    "        \n",
    "        print'error page'\n",
    "\n",
    "        print PostUrl.format(PostID)\n",
    "        \n",
    "        \n",
    "            \n",
    "    while 'next' in jd['paging'] :\n",
    "        print PostNO,PostID\n",
    "        for data in jd['data']:\n",
    "            like_count= data['like_count']\n",
    "            message=data['message']\n",
    "           \n",
    "\n",
    "            Name= data['from']['name']\n",
    "            UserID= data['from']['id']\n",
    "            ReplyID=data['id']\n",
    "\n",
    "            insertSQL()\n",
    "            if(CommentNO%200==0):\n",
    "            \n",
    "                url=jd['paging']['next']\n",
    "                time.sleep(1)\n",
    "                res=requests.get(url)\n",
    "                jd = json.loads(res.text)\n",
    "            while 'paging' not in res.text:\n",
    "                i=1\n",
    "                time.sleep(1)\n",
    "                print PostUrl.format(PostID)\n",
    "                res = requests.get(PostUrl.format(CommentID))\n",
    "                jd = json.loads(res.text)  \n",
    "\n",
    "            ReplyNO+=1\n",
    "        \n",
    "        \n",
    "        \n",
    "    for data in jd['data']:\n",
    "        like_count= data['like_count']\n",
    "        message=data['message']\n",
    "        \n",
    "\n",
    "        Name= data['from']['name']\n",
    "        UserID= data['from']['id']\n",
    "        ReplyID=data['id']\n",
    "\n",
    "        insertSQL()\n",
    "        if(ReplyNO%200==0):\n",
    "            \n",
    "            url=jd['paging']['next']\n",
    "            \n",
    "            res=requests.get(url)\n",
    "            jd = json.loads(res.text)\n",
    "        ReplyNO+=1\n",
    "    \n",
    "        \n",
    "    "
   ]
  },
  {
   "cell_type": "code",
   "execution_count": 6,
   "metadata": {
    "collapsed": true
   },
   "outputs": [],
   "source": [
    "def insertSQL():\n",
    "    command=\"INSERT INTO FBReply (PostNO,CommentNO,ReplyNO,ReplyID,Name,Message,UserID,LikeCount) VALUES (?,?,?,?,?,?,?,?)\"\n",
    "\n",
    "    cursor.execute(command,(PostNO,CommentNO,ReplyNO,ReplyID,Name,message,UserID,like_count))\n",
    "    conn.commit()\n",
    "\n",
    "# rows = cursor.fetchall()\n",
    "# for row in rows:\n",
    "#     print row.id"
   ]
  },
  {
   "cell_type": "code",
   "execution_count": 7,
   "metadata": {
    "collapsed": true
   },
   "outputs": [],
   "source": [
    "def insertSQL2():\n",
    "    command=\"INSERT INTO FBReply (PostNO,CommentNO) VALUES (?,?)\"\n",
    "\n",
    "    cursor.execute(command,(PostNO,CommentNO))\n",
    "    conn.commit()"
   ]
  },
  {
   "cell_type": "code",
   "execution_count": 8,
   "metadata": {
    "collapsed": false
   },
   "outputs": [
    {
     "name": "stdout",
     "output_type": "stream",
     "text": [
      "1\n"
     ]
    }
   ],
   "source": [
    "print 1"
   ]
  },
  {
   "cell_type": "code",
   "execution_count": null,
   "metadata": {
    "collapsed": true
   },
   "outputs": [],
   "source": []
  }
 ],
 "metadata": {
  "kernelspec": {
   "display_name": "Python 2",
   "language": "python",
   "name": "python2"
  },
  "language_info": {
   "codemirror_mode": {
    "name": "ipython",
    "version": 2
   },
   "file_extension": ".py",
   "mimetype": "text/x-python",
   "name": "python",
   "nbconvert_exporter": "python",
   "pygments_lexer": "ipython2",
   "version": "2.7.11"
  }
 },
 "nbformat": 4,
 "nbformat_minor": 0
}
