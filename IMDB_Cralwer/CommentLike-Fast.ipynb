{
 "cells": [
  {
   "cell_type": "code",
   "execution_count": 73,
   "metadata": {
    "collapsed": true
   },
   "outputs": [
    {
     "ename": "MissingSchema",
     "evalue": "Invalid URL '15925638948_10154037156718949/comments?pretty=0&fields=likes.limit(1000)%2Clike_count&limit=1000&access_token=CAACEdEose0cBAORCPZAW1l0rMoyJfaFtnVFPLtr2ZCq23TMa0GlJBkSefWMCLqz0YVyCHlB0yGvfS94sHFyURcibQ6j99G69BAxEj7M9ZAxhxic6BC5fNtupaGPRRdwqrQYfzAMe5ZBWM0gVhgZA18SRGKxegf3kAuui4o86lT2IZCDPtInAHDvvG2dHQOfrjbMFDl8zDKCnjTRrYZCc5Nw': No schema supplied. Perhaps you meant http://15925638948_10154037156718949/comments?pretty=0&fields=likes.limit(1000)%2Clike_count&limit=1000&access_token=CAACEdEose0cBAORCPZAW1l0rMoyJfaFtnVFPLtr2ZCq23TMa0GlJBkSefWMCLqz0YVyCHlB0yGvfS94sHFyURcibQ6j99G69BAxEj7M9ZAxhxic6BC5fNtupaGPRRdwqrQYfzAMe5ZBWM0gVhgZA18SRGKxegf3kAuui4o86lT2IZCDPtInAHDvvG2dHQOfrjbMFDl8zDKCnjTRrYZCc5Nw?",
     "output_type": "error",
     "traceback": [
      "\u001b[1;31m---------------------------------------------------------------------------\u001b[0m",
      "\u001b[1;31mMissingSchema\u001b[0m                             Traceback (most recent call last)",
      "\u001b[1;32m<ipython-input-73-e4efad494aa7>\u001b[0m in \u001b[0;36m<module>\u001b[1;34m()\u001b[0m\n\u001b[0;32m      9\u001b[0m \u001b[1;33m\u001b[0m\u001b[0m\n\u001b[0;32m     10\u001b[0m \u001b[0mPostUrl\u001b[0m \u001b[1;33m=\u001b[0m\u001b[1;34m'15925638948_10154037156718949/comments?pretty=0&fields=likes.limit(1000)%2Clike_count&limit=1000&access_token='\u001b[0m\u001b[1;33m+\u001b[0m\u001b[0mACCESSTOKEN\u001b[0m\u001b[1;33m\u001b[0m\u001b[0m\n\u001b[1;32m---> 11\u001b[1;33m \u001b[0mres\u001b[0m \u001b[1;33m=\u001b[0m \u001b[0mrequests\u001b[0m\u001b[1;33m.\u001b[0m\u001b[0mget\u001b[0m\u001b[1;33m(\u001b[0m\u001b[0mPostUrl\u001b[0m\u001b[1;33m)\u001b[0m\u001b[1;33m\u001b[0m\u001b[0m\n\u001b[0m\u001b[0;32m     12\u001b[0m \u001b[0mjd\u001b[0m \u001b[1;33m=\u001b[0m \u001b[0mjson\u001b[0m\u001b[1;33m.\u001b[0m\u001b[0mloads\u001b[0m\u001b[1;33m(\u001b[0m\u001b[0mres\u001b[0m\u001b[1;33m.\u001b[0m\u001b[0mtext\u001b[0m\u001b[1;33m)\u001b[0m\u001b[1;33m\u001b[0m\u001b[0m\n\u001b[0;32m     13\u001b[0m \u001b[1;31m#print len(jd['likes']['data'])\u001b[0m\u001b[1;33m\u001b[0m\u001b[1;33m\u001b[0m\u001b[0m\n",
      "\u001b[1;32mC:\\Python27\\Anaconda2\\lib\\site-packages\\requests\\api.pyc\u001b[0m in \u001b[0;36mget\u001b[1;34m(url, params, **kwargs)\u001b[0m\n\u001b[0;32m     65\u001b[0m \u001b[1;33m\u001b[0m\u001b[0m\n\u001b[0;32m     66\u001b[0m     \u001b[0mkwargs\u001b[0m\u001b[1;33m.\u001b[0m\u001b[0msetdefault\u001b[0m\u001b[1;33m(\u001b[0m\u001b[1;34m'allow_redirects'\u001b[0m\u001b[1;33m,\u001b[0m \u001b[0mTrue\u001b[0m\u001b[1;33m)\u001b[0m\u001b[1;33m\u001b[0m\u001b[0m\n\u001b[1;32m---> 67\u001b[1;33m     \u001b[1;32mreturn\u001b[0m \u001b[0mrequest\u001b[0m\u001b[1;33m(\u001b[0m\u001b[1;34m'get'\u001b[0m\u001b[1;33m,\u001b[0m \u001b[0murl\u001b[0m\u001b[1;33m,\u001b[0m \u001b[0mparams\u001b[0m\u001b[1;33m=\u001b[0m\u001b[0mparams\u001b[0m\u001b[1;33m,\u001b[0m \u001b[1;33m**\u001b[0m\u001b[0mkwargs\u001b[0m\u001b[1;33m)\u001b[0m\u001b[1;33m\u001b[0m\u001b[0m\n\u001b[0m\u001b[0;32m     68\u001b[0m \u001b[1;33m\u001b[0m\u001b[0m\n\u001b[0;32m     69\u001b[0m \u001b[1;33m\u001b[0m\u001b[0m\n",
      "\u001b[1;32mC:\\Python27\\Anaconda2\\lib\\site-packages\\requests\\api.pyc\u001b[0m in \u001b[0;36mrequest\u001b[1;34m(method, url, **kwargs)\u001b[0m\n\u001b[0;32m     51\u001b[0m     \u001b[1;31m# cases, and look like a memory leak in others.\u001b[0m\u001b[1;33m\u001b[0m\u001b[1;33m\u001b[0m\u001b[0m\n\u001b[0;32m     52\u001b[0m     \u001b[1;32mwith\u001b[0m \u001b[0msessions\u001b[0m\u001b[1;33m.\u001b[0m\u001b[0mSession\u001b[0m\u001b[1;33m(\u001b[0m\u001b[1;33m)\u001b[0m \u001b[1;32mas\u001b[0m \u001b[0msession\u001b[0m\u001b[1;33m:\u001b[0m\u001b[1;33m\u001b[0m\u001b[0m\n\u001b[1;32m---> 53\u001b[1;33m         \u001b[1;32mreturn\u001b[0m \u001b[0msession\u001b[0m\u001b[1;33m.\u001b[0m\u001b[0mrequest\u001b[0m\u001b[1;33m(\u001b[0m\u001b[0mmethod\u001b[0m\u001b[1;33m=\u001b[0m\u001b[0mmethod\u001b[0m\u001b[1;33m,\u001b[0m \u001b[0murl\u001b[0m\u001b[1;33m=\u001b[0m\u001b[0murl\u001b[0m\u001b[1;33m,\u001b[0m \u001b[1;33m**\u001b[0m\u001b[0mkwargs\u001b[0m\u001b[1;33m)\u001b[0m\u001b[1;33m\u001b[0m\u001b[0m\n\u001b[0m\u001b[0;32m     54\u001b[0m \u001b[1;33m\u001b[0m\u001b[0m\n\u001b[0;32m     55\u001b[0m \u001b[1;33m\u001b[0m\u001b[0m\n",
      "\u001b[1;32mC:\\Python27\\Anaconda2\\lib\\site-packages\\requests\\sessions.pyc\u001b[0m in \u001b[0;36mrequest\u001b[1;34m(self, method, url, params, data, headers, cookies, files, auth, timeout, allow_redirects, proxies, hooks, stream, verify, cert, json)\u001b[0m\n\u001b[0;32m    452\u001b[0m             \u001b[0mhooks\u001b[0m \u001b[1;33m=\u001b[0m \u001b[0mhooks\u001b[0m\u001b[1;33m,\u001b[0m\u001b[1;33m\u001b[0m\u001b[0m\n\u001b[0;32m    453\u001b[0m         )\n\u001b[1;32m--> 454\u001b[1;33m         \u001b[0mprep\u001b[0m \u001b[1;33m=\u001b[0m \u001b[0mself\u001b[0m\u001b[1;33m.\u001b[0m\u001b[0mprepare_request\u001b[0m\u001b[1;33m(\u001b[0m\u001b[0mreq\u001b[0m\u001b[1;33m)\u001b[0m\u001b[1;33m\u001b[0m\u001b[0m\n\u001b[0m\u001b[0;32m    455\u001b[0m \u001b[1;33m\u001b[0m\u001b[0m\n\u001b[0;32m    456\u001b[0m         \u001b[0mproxies\u001b[0m \u001b[1;33m=\u001b[0m \u001b[0mproxies\u001b[0m \u001b[1;32mor\u001b[0m \u001b[1;33m{\u001b[0m\u001b[1;33m}\u001b[0m\u001b[1;33m\u001b[0m\u001b[0m\n",
      "\u001b[1;32mC:\\Python27\\Anaconda2\\lib\\site-packages\\requests\\sessions.pyc\u001b[0m in \u001b[0;36mprepare_request\u001b[1;34m(self, request)\u001b[0m\n\u001b[0;32m    386\u001b[0m             \u001b[0mauth\u001b[0m\u001b[1;33m=\u001b[0m\u001b[0mmerge_setting\u001b[0m\u001b[1;33m(\u001b[0m\u001b[0mauth\u001b[0m\u001b[1;33m,\u001b[0m \u001b[0mself\u001b[0m\u001b[1;33m.\u001b[0m\u001b[0mauth\u001b[0m\u001b[1;33m)\u001b[0m\u001b[1;33m,\u001b[0m\u001b[1;33m\u001b[0m\u001b[0m\n\u001b[0;32m    387\u001b[0m             \u001b[0mcookies\u001b[0m\u001b[1;33m=\u001b[0m\u001b[0mmerged_cookies\u001b[0m\u001b[1;33m,\u001b[0m\u001b[1;33m\u001b[0m\u001b[0m\n\u001b[1;32m--> 388\u001b[1;33m             \u001b[0mhooks\u001b[0m\u001b[1;33m=\u001b[0m\u001b[0mmerge_hooks\u001b[0m\u001b[1;33m(\u001b[0m\u001b[0mrequest\u001b[0m\u001b[1;33m.\u001b[0m\u001b[0mhooks\u001b[0m\u001b[1;33m,\u001b[0m \u001b[0mself\u001b[0m\u001b[1;33m.\u001b[0m\u001b[0mhooks\u001b[0m\u001b[1;33m)\u001b[0m\u001b[1;33m,\u001b[0m\u001b[1;33m\u001b[0m\u001b[0m\n\u001b[0m\u001b[0;32m    389\u001b[0m         )\n\u001b[0;32m    390\u001b[0m         \u001b[1;32mreturn\u001b[0m \u001b[0mp\u001b[0m\u001b[1;33m\u001b[0m\u001b[0m\n",
      "\u001b[1;32mC:\\Python27\\Anaconda2\\lib\\site-packages\\requests\\models.pyc\u001b[0m in \u001b[0;36mprepare\u001b[1;34m(self, method, url, headers, files, data, params, auth, cookies, hooks, json)\u001b[0m\n\u001b[0;32m    291\u001b[0m \u001b[1;33m\u001b[0m\u001b[0m\n\u001b[0;32m    292\u001b[0m         \u001b[0mself\u001b[0m\u001b[1;33m.\u001b[0m\u001b[0mprepare_method\u001b[0m\u001b[1;33m(\u001b[0m\u001b[0mmethod\u001b[0m\u001b[1;33m)\u001b[0m\u001b[1;33m\u001b[0m\u001b[0m\n\u001b[1;32m--> 293\u001b[1;33m         \u001b[0mself\u001b[0m\u001b[1;33m.\u001b[0m\u001b[0mprepare_url\u001b[0m\u001b[1;33m(\u001b[0m\u001b[0murl\u001b[0m\u001b[1;33m,\u001b[0m \u001b[0mparams\u001b[0m\u001b[1;33m)\u001b[0m\u001b[1;33m\u001b[0m\u001b[0m\n\u001b[0m\u001b[0;32m    294\u001b[0m         \u001b[0mself\u001b[0m\u001b[1;33m.\u001b[0m\u001b[0mprepare_headers\u001b[0m\u001b[1;33m(\u001b[0m\u001b[0mheaders\u001b[0m\u001b[1;33m)\u001b[0m\u001b[1;33m\u001b[0m\u001b[0m\n\u001b[0;32m    295\u001b[0m         \u001b[0mself\u001b[0m\u001b[1;33m.\u001b[0m\u001b[0mprepare_cookies\u001b[0m\u001b[1;33m(\u001b[0m\u001b[0mcookies\u001b[0m\u001b[1;33m)\u001b[0m\u001b[1;33m\u001b[0m\u001b[0m\n",
      "\u001b[1;32mC:\\Python27\\Anaconda2\\lib\\site-packages\\requests\\models.pyc\u001b[0m in \u001b[0;36mprepare_url\u001b[1;34m(self, url, params)\u001b[0m\n\u001b[0;32m    351\u001b[0m             \u001b[0merror\u001b[0m \u001b[1;33m=\u001b[0m \u001b[0merror\u001b[0m\u001b[1;33m.\u001b[0m\u001b[0mformat\u001b[0m\u001b[1;33m(\u001b[0m\u001b[0mto_native_string\u001b[0m\u001b[1;33m(\u001b[0m\u001b[0murl\u001b[0m\u001b[1;33m,\u001b[0m \u001b[1;34m'utf8'\u001b[0m\u001b[1;33m)\u001b[0m\u001b[1;33m)\u001b[0m\u001b[1;33m\u001b[0m\u001b[0m\n\u001b[0;32m    352\u001b[0m \u001b[1;33m\u001b[0m\u001b[0m\n\u001b[1;32m--> 353\u001b[1;33m             \u001b[1;32mraise\u001b[0m \u001b[0mMissingSchema\u001b[0m\u001b[1;33m(\u001b[0m\u001b[0merror\u001b[0m\u001b[1;33m)\u001b[0m\u001b[1;33m\u001b[0m\u001b[0m\n\u001b[0m\u001b[0;32m    354\u001b[0m \u001b[1;33m\u001b[0m\u001b[0m\n\u001b[0;32m    355\u001b[0m         \u001b[1;32mif\u001b[0m \u001b[1;32mnot\u001b[0m \u001b[0mhost\u001b[0m\u001b[1;33m:\u001b[0m\u001b[1;33m\u001b[0m\u001b[0m\n",
      "\u001b[1;31mMissingSchema\u001b[0m: Invalid URL '15925638948_10154037156718949/comments?pretty=0&fields=likes.limit(1000)%2Clike_count&limit=1000&access_token=CAACEdEose0cBAORCPZAW1l0rMoyJfaFtnVFPLtr2ZCq23TMa0GlJBkSefWMCLqz0YVyCHlB0yGvfS94sHFyURcibQ6j99G69BAxEj7M9ZAxhxic6BC5fNtupaGPRRdwqrQYfzAMe5ZBWM0gVhgZA18SRGKxegf3kAuui4o86lT2IZCDPtInAHDvvG2dHQOfrjbMFDl8zDKCnjTRrYZCc5Nw': No schema supplied. Perhaps you meant http://15925638948_10154037156718949/comments?pretty=0&fields=likes.limit(1000)%2Clike_count&limit=1000&access_token=CAACEdEose0cBAORCPZAW1l0rMoyJfaFtnVFPLtr2ZCq23TMa0GlJBkSefWMCLqz0YVyCHlB0yGvfS94sHFyURcibQ6j99G69BAxEj7M9ZAxhxic6BC5fNtupaGPRRdwqrQYfzAMe5ZBWM0gVhgZA18SRGKxegf3kAuui4o86lT2IZCDPtInAHDvvG2dHQOfrjbMFDl8zDKCnjTRrYZCc5Nw?"
     ]
    }
   ],
   "source": [
    "import json\n",
    "import requests\n",
    "import string\n",
    "from collections import Counter\n",
    "\n",
    "\n",
    "ACCESSTOKEN  = 'CAACEdEose0cBAKTIy5uAWCyThzjtmqcCYl7Y6LZAdtWtv1OKpADCFyYlxslbJZCXlXUhH4EMqBlDT9ykdJZAZCnDhZAx3YAEEQZBVEeucTCZBIsn1g6ctcNy0NhaFZBYkOd3IIKUr7iQk1spDjNIgl3Rz1BYxhRtCfcacWJwnZBerUVjSHCKPJuo0y22MraioEPgWM55GKmC1H5ZBKtSVZALZBdA'\n",
    "#PostUrl ='https://graph.facebook.com/v2.5/10154037156718949_10154037162393949?fields=likes.limit(1000)&access_token='+ACCESSTOKEN\n",
    "\n",
    "PostUrl ='https://graph.facebook.com/v2.5/15925638948_10154037156718949?fields=comments.limit(1000){likes.limit(1000),like_count}&access_token='+ACCESSTOKEN\n",
    "res = requests.get(PostUrl)\n",
    "jd = json.loads(res.text)\n",
    "#print len(jd['likes']['data'])\n",
    "for ele in jd['comments']['data']:\n",
    "    if ele['like_count']>0:\n",
    "\n",
    "        CommentID= ele['id']\n",
    "     \n",
    "        if'likes' not in ele:\n",
    "            continue \n",
    "        for ele2 in ele['likes']['data']:\n",
    "            UserID= ele2['id']\n",
    "            UserName=ele2['name']\n",
    "            \n",
    "            \n",
    "\n",
    "print UserName\n",
    "\n"
   ]
  },
  {
   "cell_type": "code",
   "execution_count": 3,
   "metadata": {
    "collapsed": false
   },
   "outputs": [
    {
     "name": "stdout",
     "output_type": "stream",
     "text": [
      "https://graph.facebook.com/v2.5/15925638948_10150786071398949/comments?pretty=0&fields=likes.limit(1000)%2Clike_count&limit=1000&access_token=CAACEdEose0cBAD8Xb7cbZAqeTgK5DLBEZAut87eA7AdARlQZC2xMJJ3nm79tig2LwRm2ahscZAPm3DEnZBdR1ZB9DjnbE7GORRSdoCDBzdr7U2vrvgmFpLJjhG1FGikwGVBoLU1oBHl6vU4MZAJMaBSD5t5DWh2p8VD4S8iLyvyTwyVM329AFfIP6ro6HnIhZCSlEuQB0gZAEqmpwGWZCcaZCP8\n"
     ]
    },
    {
     "ename": "KeyError",
     "evalue": "'data'",
     "output_type": "error",
     "traceback": [
      "\u001b[1;31m---------------------------------------------------------------------------\u001b[0m",
      "\u001b[1;31mKeyError\u001b[0m                                  Traceback (most recent call last)",
      "\u001b[1;32m<ipython-input-3-8937b9fece74>\u001b[0m in \u001b[0;36m<module>\u001b[1;34m()\u001b[0m\n\u001b[0;32m     32\u001b[0m             \u001b[1;32mcontinue\u001b[0m\u001b[1;33m;\u001b[0m\u001b[1;33m\u001b[0m\u001b[0m\n\u001b[0;32m     33\u001b[0m             \u001b[1;32mprint\u001b[0m \u001b[0mres\u001b[0m\u001b[1;33m.\u001b[0m\u001b[0mtext\u001b[0m\u001b[1;33m\u001b[0m\u001b[0m\n\u001b[1;32m---> 34\u001b[1;33m         \u001b[1;32mif\u001b[0m \u001b[0mlen\u001b[0m\u001b[1;33m(\u001b[0m\u001b[0mjd\u001b[0m\u001b[1;33m[\u001b[0m\u001b[1;34m'data'\u001b[0m\u001b[1;33m]\u001b[0m\u001b[1;33m)\u001b[0m\u001b[1;33m==\u001b[0m\u001b[1;36m0\u001b[0m\u001b[1;33m:\u001b[0m\u001b[1;33m\u001b[0m\u001b[0m\n\u001b[0m\u001b[0;32m     35\u001b[0m             \u001b[1;32mcontinue\u001b[0m\u001b[1;33m\u001b[0m\u001b[0m\n\u001b[0;32m     36\u001b[0m         \u001b[1;32mprint\u001b[0m \u001b[1;34m'error page'\u001b[0m\u001b[1;33m\u001b[0m\u001b[0m\n",
      "\u001b[1;31mKeyError\u001b[0m: 'data'"
     ]
    }
   ],
   "source": [
    "import time\n",
    "import pyodbc\n",
    "import json\n",
    "import requests\n",
    "import string\n",
    "from collections import Counter\n",
    "conn = pyodbc.connect('DRIVER={SQL Server};SERVER=163.14.72.42;DATABASE=FB_IMDB;UID=sa;PWD=scucc')\n",
    "cursor = conn.cursor()\n",
    "cursor.execute(\"select * from [FBPost] where PostNO>7113  order by PostNO asc\")\n",
    "rows = cursor.fetchall()\n",
    "\n",
    "\n",
    "\n",
    "cursor.execute(\"select * from FBComment where PostNO>0 and LikeCount>0  order by PostNO asc\")\n",
    "rows2 = cursor.fetchall()\n",
    "\n",
    "ACCESSTOKEN  = 'CAACEdEose0cBAD8Xb7cbZAqeTgK5DLBEZAut87eA7AdARlQZC2xMJJ3nm79tig2LwRm2ahscZAPm3DEnZBdR1ZB9DjnbE7GORRSdoCDBzdr7U2vrvgmFpLJjhG1FGikwGVBoLU1oBHl6vU4MZAJMaBSD5t5DWh2p8VD4S8iLyvyTwyVM329AFfIP6ro6HnIhZCSlEuQB0gZAEqmpwGWZCcaZCP8'\n",
    "for row in rows :\n",
    "    \n",
    "    PostUrl ='https://graph.facebook.com/v2.5/{}/comments?pretty=0&fields=likes.limit(1000)%2Clike_count&limit=1000&access_token='+ACCESSTOKEN\n",
    "    \n",
    "    PostNO=row.PostNO\n",
    "    PostID=row.id\n",
    "    \n",
    "\n",
    "    res = requests.get(PostUrl.format(PostID))\n",
    "    jd = json.loads(res.text)\n",
    "    n=0\n",
    "    if 'paging' not in res.text:\n",
    "        print PostUrl.format(PostID)\n",
    "        if 'Unsupported get request'in res.text:\n",
    "            continue;\n",
    "            print res.text\n",
    "        if len(jd['data'])==0:\n",
    "            continue\n",
    "        print 'error page'\n",
    "\n",
    "        \n",
    "       \n",
    "        \n",
    "        \n",
    "\n",
    "#     if 'Error validating access token: Session has expired' in res.text:\n",
    "#         continue\n",
    "            \n",
    "    while 'next' in jd['paging']:\n",
    "        print str(PostNO)+'have'\n",
    "        for ele in jd['data']:\n",
    "            LikeNO=1\n",
    "        \n",
    "            if ele['like_count']>0:\n",
    "                for row2 in rows2:\n",
    "                    if row2.CommentID==ele['id']:\n",
    "                        CommentNO=row2.CommentNO\n",
    "                if'likes' not in ele:\n",
    "                    continue \n",
    "                for ele2 in ele['likes']['data']:\n",
    "                    UserID= ele2['id']\n",
    "                    UserName=ele2['name'] \n",
    "\n",
    "                    insertSQL()\n",
    "        if(ele==jd['data'][-1]):\n",
    "            print'next page'\n",
    "            url=jd['paging']['next']\n",
    "            #time.sleep(0.1)\n",
    "            res=requests.get(url)\n",
    "            jd = json.loads(res.text)\n",
    "        \n",
    "        while 'paging' not in res.text:\n",
    "            print'error page'\n",
    "            i=1\n",
    "            time.sleep(1)\n",
    "            print PostUrl.format(PostID)\n",
    "            res = requests.get(PostUrl.format(PostID))\n",
    "            jd = json.loads(res.text)  \n",
    "    for ele in jd['data']:\n",
    "        LikeNO=1\n",
    "\n",
    "        if ele['like_count']>0:\n",
    "            for row2 in rows2:\n",
    "                if row2.CommentID==ele['id']:\n",
    "                    CommentNO=row2.CommentNO\n",
    "            if'likes' not in ele:\n",
    "                continue \n",
    "            for ele2 in ele['likes']['data']:\n",
    "                UserID= ele2['id']\n",
    "                UserName=ele2['name'] \n",
    "\n",
    "                insertSQL()\n",
    "                LikeNO+=1\n",
    "    "
   ]
  },
  {
   "cell_type": "code",
   "execution_count": 1,
   "metadata": {
    "collapsed": true
   },
   "outputs": [],
   "source": [
    "def insertSQL():\n",
    "    command=\"INSERT INTO [FBCommentLike] (PostNO,CommentNO,LikeNO,UserID,UserName) VALUES (?,?,?,?,?)\"\n",
    "\n",
    "    cursor.execute(command,(PostNO,CommentNO,LikeNO,UserID,UserName))\n",
    "    conn.commit()\n",
    "\n",
    "# rows = cursor.fetchall()\n",
    "# for row in rows:\n",
    "#     print row.id"
   ]
  },
  {
   "cell_type": "code",
   "execution_count": 2,
   "metadata": {
    "collapsed": true
   },
   "outputs": [],
   "source": [
    "def insertSQL2():\n",
    "    command=\"INSERT INTO FBCommentLike (PostNO) VALUES (?)\"\n",
    "\n",
    "    cursor.execute(command,(PostNO))\n",
    "    conn.commit()"
   ]
  },
  {
   "cell_type": "code",
   "execution_count": 3,
   "metadata": {
    "collapsed": false
   },
   "outputs": [
    {
     "name": "stdout",
     "output_type": "stream",
     "text": [
      "1\n"
     ]
    }
   ],
   "source": [
    "print 1"
   ]
  },
  {
   "cell_type": "code",
   "execution_count": null,
   "metadata": {
    "collapsed": true
   },
   "outputs": [],
   "source": [
    "cursor.close()\n",
    "conn.close()"
   ]
  },
  {
   "cell_type": "code",
   "execution_count": null,
   "metadata": {
    "collapsed": true
   },
   "outputs": [],
   "source": []
  }
 ],
 "metadata": {
  "kernelspec": {
   "display_name": "Python 2",
   "language": "python",
   "name": "python2"
  },
  "language_info": {
   "codemirror_mode": {
    "name": "ipython",
    "version": 2
   },
   "file_extension": ".py",
   "mimetype": "text/x-python",
   "name": "python",
   "nbconvert_exporter": "python",
   "pygments_lexer": "ipython2",
   "version": "2.7.11"
  }
 },
 "nbformat": 4,
 "nbformat_minor": 0
}
