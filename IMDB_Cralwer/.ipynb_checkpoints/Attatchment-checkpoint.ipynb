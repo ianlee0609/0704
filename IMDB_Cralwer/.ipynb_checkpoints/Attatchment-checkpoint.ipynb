{
 "cells": [
  {
   "cell_type": "code",
   "execution_count": 26,
   "metadata": {
    "collapsed": false
   },
   "outputs": [
    {
     "name": "stdout",
     "output_type": "stream",
     "text": [
      "Poll: Most Quotable Action Movie of All Time?\n"
     ]
    }
   ],
   "source": [
    "import json\n",
    "import requests\n",
    "from collections import Counter\n",
    "from nltk.corpus import stopwords\n",
    "from stemming.porter2 import stem\n",
    "stop = stopwords.words('english')\n",
    "from nltk import sent_tokenize, word_tokenize, pos_tag\n",
    "ACCESSTOKEN  = 'CAACEdEose0cBAMpIdqReMpzYoS3KoEKk44Q7ayakMkh0IgNEeBzbXkwdkAtKrcfkZCbm9xIN7zNmVpPOQdmXLvHELFCH7UepTtkZAub3KfMoDliPSvFZAn5wwl5liIZCi7XYMh6q3UJu74Nr5pNiTc0rf0a5u7kwC5eFORk5gJoAeZA7ySaq8z3t55ysa0jxXdJbRK0fT8LI5IZC37QQRD'\n",
    "PostUrl ='https://graph.facebook.com/v2.5/15925638948?fields=posts&access_token={}'\n",
    "fburl2='https://graph.facebook.com/v2.5/10154125797678949/comments?limit=200&access_token={}'\n",
    "res = requests.get(PostUrl.format(ACCESSTOKEN))\n",
    "\n",
    "jd = json.loads(res.text)\n",
    "\n",
    "PostID= jd['posts']['data'][0]['id']\n",
    "AttatchURL='https://graph.facebook.com/v2.5/{}?fields=attachments&access_token={}'\n",
    "res = requests.get(AttatchURL.format(PostID,ACCESSTOKEN))\n",
    "\n",
    "jd = json.loads(res.text)\n",
    "AttatchMessage=jd['attachments']['data'][0]['description']\n",
    "Attatchtitle=jd['attachments']['data'][0]['title']\n",
    "print Attatchtitle\n",
    "\n",
    "\n",
    "#dic = Counter()\n",
    "#print jd\n",
    "#adddic(jd)\n",
    "#printdic()"
   ]
  },
  {
   "cell_type": "code",
   "execution_count": null,
   "metadata": {
    "collapsed": true
   },
   "outputs": [],
   "source": []
  }
 ],
 "metadata": {
  "kernelspec": {
   "display_name": "Python 2",
   "language": "python",
   "name": "python2"
  },
  "language_info": {
   "codemirror_mode": {
    "name": "ipython",
    "version": 2
   },
   "file_extension": ".py",
   "mimetype": "text/x-python",
   "name": "python",
   "nbconvert_exporter": "python",
   "pygments_lexer": "ipython2",
   "version": "2.7.11"
  }
 },
 "nbformat": 4,
 "nbformat_minor": 0
}
