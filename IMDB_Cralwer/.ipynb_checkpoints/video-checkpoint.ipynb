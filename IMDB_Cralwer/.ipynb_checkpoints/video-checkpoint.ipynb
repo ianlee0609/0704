{
 "cells": [
  {
   "cell_type": "code",
   "execution_count": 14,
   "metadata": {
    "collapsed": false
   },
   "outputs": [],
   "source": [
    "import json\n",
    "import requests\n",
    "import string\n",
    "from collections import Counter\n",
    "\n",
    "\n",
    "ACCESSTOKEN  = 'EAACEdEose0cBAPYLbAjzCcm1h0ryhoAhhrHD0rnZCUD0fJmZCtRpUIApn3VlgFYYZAnPuJ1p9HIKAKeqtOyjd4QNm5mdjQyrGV3g7bj0HSM1bcCgagxLB4pq0yM4Bo8YsbmgDYQzWAGvn61BQEjiKfqz2tob3voXpER7OPSYgZDZD'\n",
    "PostUrl ='https://graph.facebook.com/v2.5/15925638948?fields=videos.limit(1000)&access_token='+ACCESSTOKEN\n",
    "\n",
    "res = requests.get(PostUrl)\n",
    "\n",
    "jd = json.loads(res.text)\n",
    "\n",
    "VideoNO=1\n",
    "for data in jd['videos']['data']:\n",
    "    \n",
    "    Description=\"\"\n",
    "    if 'description' not in data:\n",
    "        continue\n",
    "    Description=data['description']\n",
    "    Updated_time=data['updated_time']\n",
    "    ID   =data['id']\n",
    "    \n",
    "    insertSQL()\n",
    "    VideoNO+=1"
   ]
  },
  {
   "cell_type": "code",
   "execution_count": 7,
   "metadata": {
    "collapsed": false
   },
   "outputs": [
    {
     "name": "stdout",
     "output_type": "stream",
     "text": [
      "<pyodbc.Cursor object at 0x0000000003ECFDB0>\n"
     ]
    }
   ],
   "source": [
    "import pyodbc\n",
    "conn = pyodbc.connect('DRIVER={SQL Server};SERVER=163.14.72.42;DATABASE=FB_IMDB;UID=sa;PWD=scucc')\n",
    "cursor = conn.cursor()\n",
    "print cursor"
   ]
  },
  {
   "cell_type": "code",
   "execution_count": 9,
   "metadata": {
    "collapsed": false
   },
   "outputs": [],
   "source": [
    "def insertSQL():\n",
    "    command=\"INSERT INTO FBVideo (VideoNO,Description,ID,Updated_time) VALUES (?,?,?,?)\"\n",
    "\n",
    "    cursor.execute(command,(VideoNO,Description,ID,Updated_time))\n",
    "    conn.commit()\n"
   ]
  },
  {
   "cell_type": "code",
   "execution_count": null,
   "metadata": {
    "collapsed": true
   },
   "outputs": [],
   "source": []
  }
 ],
 "metadata": {
  "kernelspec": {
   "display_name": "Python 2",
   "language": "python",
   "name": "python2"
  },
  "language_info": {
   "codemirror_mode": {
    "name": "ipython",
    "version": 2
   },
   "file_extension": ".py",
   "mimetype": "text/x-python",
   "name": "python",
   "nbconvert_exporter": "python",
   "pygments_lexer": "ipython2",
   "version": "2.7.11"
  }
 },
 "nbformat": 4,
 "nbformat_minor": 0
}
