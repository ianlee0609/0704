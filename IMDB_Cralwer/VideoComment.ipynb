{
 "cells": [
  {
   "cell_type": "code",
   "execution_count": 33,
   "metadata": {
    "collapsed": false
   },
   "outputs": [
    {
     "name": "stdout",
     "output_type": "stream",
     "text": [
      "1\n"
     ]
    }
   ],
   "source": [
    "import time\n",
    "import pyodbc\n",
    "conn = pyodbc.connect('DRIVER={SQL Server};SERVER=163.14.72.42;DATABASE=FB_IMDB;UID=sa;PWD=scucc')\n",
    "cursor = conn.cursor()\n",
    "cursor.execute(\"select * from FBVideo  order by VideoNO asc\")\n",
    "\n",
    "VideoRows = cursor.fetchall()\n",
    "print VideoRows[0][0]"
   ]
  },
  {
   "cell_type": "code",
   "execution_count": 35,
   "metadata": {
    "collapsed": false
   },
   "outputs": [
    {
     "name": "stdout",
     "output_type": "stream",
     "text": [
      "900\n",
      "900\n",
      "900\n",
      "900\n",
      "900\n",
      "900\n",
      "900\n",
      "900\n",
      "900\n",
      "900\n",
      "900\n",
      "900\n",
      "900\n",
      "900\n",
      "900\n",
      "900\n",
      "900\n",
      "900\n",
      "900\n",
      "900\n",
      "900\n",
      "900\n",
      "900\n",
      "900\n",
      "900\n",
      "900\n",
      "900\n",
      "900\n",
      "900\n",
      "900\n",
      "900\n",
      "900\n",
      "900\n",
      "900\n",
      "900\n",
      "900\n",
      "900\n",
      "900\n",
      "900\n",
      "900\n",
      "900\n",
      "900\n",
      "900\n",
      "900\n"
     ]
    }
   ],
   "source": [
    "import json\n",
    "import requests\n",
    "import string\n",
    "import time\n",
    "from collections import Counter\n",
    "\n",
    "Message=\"\"\n",
    "Like_count =0\n",
    "Comment_count=0\n",
    "Name=\"\"\n",
    "UserID=\"\"\n",
    "CommentID=\"\"\n",
    "\n",
    "ACCESSTOKEN  = 'EAACEdEose0cBABjpZBYJUdaeMSp34ZCwhXJR51MQBvHy5C3wP5jYHfIZBXRRZCz9psARdVHZBMM7jfVBW659ATvz1XGOYtc9B85nfJYhj3bBrKCHdGdOHfiXeEP34hbPDLfKIOVBpyhNYIaUxW5G5Ef1cjlZCDxIVGHkqlYZBAnlAZDZD'\n",
    "\n",
    "for Video in VideoRows:\n",
    "    \n",
    "    VideoID=Video[2]\n",
    "    VideoNO=Video[0]\n",
    "    PostUrl =('https://graph.facebook.com/v2.5/'+VideoID+'/comments?pretty=0&fields=like_count%2Cfrom%2Cmessage%2Ccomment_count&limit=900&access_token='+ACCESSTOKEN)\n",
    "\n",
    "    res = requests.get(PostUrl)\n",
    "\n",
    "    jd = json.loads(res.text)\n",
    "    CommentNO=0\n",
    "    \n",
    "    \n",
    "    while 'next' in jd['paging']: \n",
    "        print len(jd['data'])\n",
    "        \n",
    "        #存變數 +slq寫入\n",
    "        for data in jd['data']:\n",
    "            CommentNO+=1\n",
    "            Message=data['message']\n",
    "            Like_count =data['like_count']\n",
    "            Comment_count=data['comment_count']\n",
    "            Name=data['from']['name']\n",
    "            UserID=data['from']['id']\n",
    "            CommentID=data['id']\n",
    "\n",
    "            insertSQL()\n",
    "            if(CommentNO%900==0):\n",
    "                url=jd['paging']['next']\n",
    "                time.sleep(1)\n",
    "                res=requests.get(url)\n",
    "                jd = json.loads(res.text)\n",
    "    \n",
    "    #存變數 +slq寫入 剩餘<900的\n",
    "    for data in jd['data']:\n",
    "            CommentNO+=1\n",
    "            Message=data['message']\n",
    "            Like_count =data['like_count']\n",
    "            Comment_count=data['comment_count']\n",
    "            Name=data['from']['name']\n",
    "            UserID=data['from']['id']\n",
    "            CommentID=data['id']\n",
    "\n",
    "            insertSQL()"
   ]
  },
  {
   "cell_type": "code",
   "execution_count": null,
   "metadata": {
    "collapsed": true
   },
   "outputs": [],
   "source": [
    "import pyodbc\n",
    "conn = pyodbc.connect('DRIVER={SQL Server};SERVER=163.14.72.42;DATABASE=FB_IMDB;UID=sa;PWD=scucc')\n",
    "cursor = conn.cursor()\n",
    "print cursor"
   ]
  },
  {
   "cell_type": "code",
   "execution_count": 34,
   "metadata": {
    "collapsed": true
   },
   "outputs": [],
   "source": [
    "def insertSQL():\n",
    "    command=(\"INSERT INTO VideoComment (VideoNO,CommentNO,Name,Message,Like_count,Comment_count,UserID,CommentID) VALUES (?,?,?,?,?,?,?,?)\"\n",
    "            \n",
    "            )\n",
    "\n",
    "    cursor.execute(command,(VideoNO,CommentNO,Name,Message,Like_count,Comment_count,UserID,CommentID))\n",
    "    conn.commit()\n",
    "    \n",
    "    "
   ]
  },
  {
   "cell_type": "code",
   "execution_count": 29,
   "metadata": {
    "collapsed": true
   },
   "outputs": [],
   "source": [
    "\n",
    "    "
   ]
  },
  {
   "cell_type": "code",
   "execution_count": 22,
   "metadata": {
    "collapsed": false
   },
   "outputs": [
    {
     "ename": "ProgrammingError",
     "evalue": "Attempt to use a closed connection.",
     "output_type": "error",
     "traceback": [
      "\u001b[1;31m---------------------------------------------------------------------------\u001b[0m",
      "\u001b[1;31mProgrammingError\u001b[0m                          Traceback (most recent call last)",
      "\u001b[1;32m<ipython-input-22-c40aa0e25794>\u001b[0m in \u001b[0;36m<module>\u001b[1;34m()\u001b[0m\n\u001b[1;32m----> 1\u001b[1;33m \u001b[0mconn\u001b[0m\u001b[1;33m.\u001b[0m\u001b[0mclose\u001b[0m\u001b[1;33m(\u001b[0m\u001b[1;33m)\u001b[0m\u001b[1;33m\u001b[0m\u001b[0m\n\u001b[0m\u001b[0;32m      2\u001b[0m \u001b[0mcursor\u001b[0m\u001b[1;33m.\u001b[0m\u001b[0mclose\u001b[0m\u001b[1;33m(\u001b[0m\u001b[1;33m)\u001b[0m\u001b[1;33m\u001b[0m\u001b[0m\n",
      "\u001b[1;31mProgrammingError\u001b[0m: Attempt to use a closed connection."
     ]
    }
   ],
   "source": [
    "conn.close()\n",
    "cursor.close()"
   ]
  },
  {
   "cell_type": "code",
   "execution_count": null,
   "metadata": {
    "collapsed": true
   },
   "outputs": [],
   "source": []
  }
 ],
 "metadata": {
  "kernelspec": {
   "display_name": "Python 2",
   "language": "python",
   "name": "python2"
  },
  "language_info": {
   "codemirror_mode": {
    "name": "ipython",
    "version": 2
   },
   "file_extension": ".py",
   "mimetype": "text/x-python",
   "name": "python",
   "nbconvert_exporter": "python",
   "pygments_lexer": "ipython2",
   "version": "2.7.11"
  }
 },
 "nbformat": 4,
 "nbformat_minor": 0
}
