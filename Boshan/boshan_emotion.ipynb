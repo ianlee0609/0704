{
 "cells": [
  {
   "cell_type": "code",
   "execution_count": 22,
   "metadata": {
    "collapsed": false
   },
   "outputs": [],
   "source": [
    "import time\n",
    "from nltk.tokenize import RegexpTokenizer\n",
    "from stop_words import get_stop_words\n",
    "from nltk.stem.porter import PorterStemmer\n",
    "import pyodbc\n",
    "tokenizer = RegexpTokenizer(r'\\w+')\n",
    "en_stop = get_stop_words('en') \n",
    "p_stemmer = PorterStemmer()\n",
    "conn = pyodbc.connect('DRIVER={SQL Server};SERVER=163.14.72.42;DATABASE=FB_IMDB;UID=sa;PWD=scucc')\n",
    "cursor = conn.cursor()\n",
    "cursor.execute(\"select * from Emotion  order by id\")\n",
    "\n",
    "EmotionRows = cursor.fetchall()\n",
    "\n",
    "lemma = nltk.wordnet.WordNetLemmatizer()\n",
    "for row in EmotionRows:\n",
    "    Meaning=row[3]\n",
    "    raw = Meaning.lower()\n",
    "    tokens = tokenizer.tokenize(raw)\n",
    "    stopped_tokens = [i for i in tokens if not i in en_stop]\n",
    "    id=row[0]\n",
    "    \n",
    "    P_N=0\n",
    "    for tokens in stopped_tokens:\n",
    "        token= lemma.lemmatize(tokens)\n",
    "        for adj in OpinionRows:\n",
    "            ladj= adj[0].lower()\n",
    "            \n",
    "            if(token==ladj):\n",
    "                \n",
    "                if adj.P_N==0:\n",
    "                    P_N=1\n",
    "                else :\n",
    "                    P_N=-1\n",
    "                break\n",
    "      \n",
    "    UpdateSQL()"
   ]
  },
  {
   "cell_type": "code",
   "execution_count": 13,
   "metadata": {
    "collapsed": false
   },
   "outputs": [
    {
     "name": "stdout",
     "output_type": "stream",
     "text": [
      "simple\n"
     ]
    }
   ],
   "source": [
    "conn = pyodbc.connect('DRIVER={SQL Server};SERVER=163.14.72.42;DATABASE=IMDb_MG;UID=sa;PWD=scucc')\n",
    "cursor = conn.cursor()\n",
    "cursor.execute(\"select * from Opinion  \")\n",
    "\n",
    "OpinionRows = cursor.fetchall()\n",
    "print str(OpinionRows[0][0].lower())"
   ]
  },
  {
   "cell_type": "code",
   "execution_count": 20,
   "metadata": {
    "collapsed": true
   },
   "outputs": [],
   "source": [
    "def UpdateSQL():\n",
    "    command=\"UPDATE Emotion SET P_N = ? where id=?\"\n",
    "\n",
    "    \n",
    "    cursor.execute(command,(P_N,id))\n",
    "    conn.commit()\n",
    "    "
   ]
  },
  {
   "cell_type": "code",
   "execution_count": 26,
   "metadata": {
    "collapsed": false
   },
   "outputs": [
    {
     "name": "stdout",
     "output_type": "stream",
     "text": [
      "happi\n"
     ]
    }
   ],
   "source": [
    "from stemming.porter2 import stem\n",
    "print stem(\"happy\")\n"
   ]
  },
  {
   "cell_type": "code",
   "execution_count": 3,
   "metadata": {
    "collapsed": false
   },
   "outputs": [
    {
     "name": "stdout",
     "output_type": "stream",
     "text": [
      "help\n"
     ]
    }
   ],
   "source": [
    "\n",
    "import nltk\n",
    "lemma = nltk.wordnet.WordNetLemmatizer()\n",
    "print lemma.lemmatize('helps')"
   ]
  },
  {
   "cell_type": "code",
   "execution_count": 1,
   "metadata": {
    "collapsed": false
   },
   "outputs": [
    {
     "name": "stdout",
     "output_type": "stream",
     "text": [
      "He couldve accomplished so much in his life and career. Such a shame he had to die so tragically, and so young . . . just like his father. May they both continue resting in peace. :(\n"
     ]
    }
   ],
   "source": [
    "a='He couldve accomplished so much in his life and career. Such a shame he had to die so tragically, and so young . . . just like his father. May they both continue resting in peace. :('\n",
    "print a"
   ]
  },
  {
   "cell_type": "code",
   "execution_count": null,
   "metadata": {
    "collapsed": true
   },
   "outputs": [],
   "source": []
  }
 ],
 "metadata": {
  "kernelspec": {
   "display_name": "Python 2",
   "language": "python",
   "name": "python2"
  },
  "language_info": {
   "codemirror_mode": {
    "name": "ipython",
    "version": 2
   },
   "file_extension": ".py",
   "mimetype": "text/x-python",
   "name": "python",
   "nbconvert_exporter": "python",
   "pygments_lexer": "ipython2",
   "version": "2.7.11"
  }
 },
 "nbformat": 4,
 "nbformat_minor": 0
}
