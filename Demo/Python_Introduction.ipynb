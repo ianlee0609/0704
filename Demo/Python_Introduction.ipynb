{
 "cells": [
  {
   "cell_type": "markdown",
   "metadata": {
    "slideshow": {
     "slide_type": "slide"
    }
   },
   "source": [
    "## Python 簡介"
   ]
  },
  {
   "cell_type": "markdown",
   "metadata": {
    "slideshow": {
     "slide_type": "slide"
    }
   },
   "source": [
    "### Python 語法基礎"
   ]
  },
  {
   "cell_type": "code",
   "execution_count": 115,
   "metadata": {
    "collapsed": false,
    "slideshow": {
     "slide_type": "slide"
    }
   },
   "outputs": [
    {
     "name": "stdout",
     "output_type": "stream",
     "text": [
      "6\n"
     ]
    }
   ],
   "source": [
    "#Value Assignment and Print Out Result\n",
    "a = 3\n",
    "print a +3"
   ]
  },
  {
   "cell_type": "code",
   "execution_count": 112,
   "metadata": {
    "collapsed": false,
    "slideshow": {
     "slide_type": "slide"
    }
   },
   "outputs": [
    {
     "ename": "TypeError",
     "evalue": "unsupported operand type(s) for +: 'int' and 'str'",
     "output_type": "error",
     "traceback": [
      "\u001b[1;31m---------------------------------------------------------------------------\u001b[0m\n\u001b[1;31mTypeError\u001b[0m                                 Traceback (most recent call last)",
      "\u001b[1;32m<ipython-input-112-f61e344c2257>\u001b[0m in \u001b[0;36m<module>\u001b[1;34m()\u001b[0m\n\u001b[0;32m      1\u001b[0m \u001b[1;31m# Concat String and Integer Outputs Error\u001b[0m\u001b[1;33m\u001b[0m\u001b[1;33m\u001b[0m\u001b[0m\n\u001b[1;32m----> 2\u001b[1;33m \u001b[0ma\u001b[0m \u001b[1;33m=\u001b[0m \u001b[1;36m1\u001b[0m\u001b[1;33m+\u001b[0m\u001b[1;34m\"hello\"\u001b[0m\u001b[1;33m\u001b[0m\u001b[0m\n\u001b[0m\u001b[0;32m      3\u001b[0m \u001b[1;32mprint\u001b[0m \u001b[0ma\u001b[0m\u001b[1;33m\u001b[0m\u001b[0m\n",
      "\u001b[1;31mTypeError\u001b[0m: unsupported operand type(s) for +: 'int' and 'str'"
     ]
    }
   ],
   "source": [
    "# Concat String and Integer Outputs Error\n",
    "a = 1+\"hello\"\n",
    "print a\n"
   ]
  },
  {
   "cell_type": "code",
   "execution_count": 113,
   "metadata": {
    "collapsed": false
   },
   "outputs": [
    {
     "name": "stdout",
     "output_type": "stream",
     "text": [
      "Hello World\n"
     ]
    }
   ],
   "source": [
    "#!/usr/bin/python\n",
    "import sys\n",
    "\n",
    "# This is a single line comment\n",
    "def main():\n",
    "    print 'Hello World'\n",
    "\n",
    "if __name__ == '__main__':\n",
    "    main()\n"
   ]
  },
  {
   "cell_type": "code",
   "execution_count": 114,
   "metadata": {
    "collapsed": false
   },
   "outputs": [
    {
     "name": "stdout",
     "output_type": "stream",
     "text": [
      "Help on built-in module sys:\n",
      "\n",
      "NAME\n",
      "    sys\n",
      "\n",
      "FILE\n",
      "    (built-in)\n",
      "\n",
      "MODULE DOCS\n",
      "    http://docs.python.org/library/sys\n",
      "\n",
      "DESCRIPTION\n",
      "    This module provides access to some objects used or maintained by the\n",
      "    interpreter and to functions that interact strongly with the interpreter.\n",
      "    \n",
      "    Dynamic objects:\n",
      "    \n",
      "    argv -- command line arguments; argv[0] is the script pathname if known\n",
      "    path -- module search path; path[0] is the script directory, else ''\n",
      "    modules -- dictionary of loaded modules\n",
      "    \n",
      "    displayhook -- called to show results in an interactive session\n",
      "    excepthook -- called to handle any uncaught exception other than SystemExit\n",
      "      To customize printing in an interactive session or to install a custom\n",
      "      top-level exception handler, assign other functions to replace these.\n",
      "    \n",
      "    exitfunc -- if sys.exitfunc exists, this routine is called when Python exits\n",
      "      Assigning to sys.exitfunc is deprecated; use the atexit module instead.\n",
      "    \n",
      "    stdin -- standard input file object; used by raw_input() and input()\n",
      "    stdout -- standard output file object; used by the print statement\n",
      "    stderr -- standard error object; used for error messages\n",
      "      By assigning other file objects (or objects that behave like files)\n",
      "      to these, it is possible to redirect all of the interpreter's I/O.\n",
      "    \n",
      "    last_type -- type of last uncaught exception\n",
      "    last_value -- value of last uncaught exception\n",
      "    last_traceback -- traceback of last uncaught exception\n",
      "      These three are only available in an interactive session after a\n",
      "      traceback has been printed.\n",
      "    \n",
      "    exc_type -- type of exception currently being handled\n",
      "    exc_value -- value of exception currently being handled\n",
      "    exc_traceback -- traceback of exception currently being handled\n",
      "      The function exc_info() should be used instead of these three,\n",
      "      because it is thread-safe.\n",
      "    \n",
      "    Static objects:\n",
      "    \n",
      "    float_info -- a dict with information about the float inplementation.\n",
      "    long_info -- a struct sequence with information about the long implementation.\n",
      "    maxint -- the largest supported integer (the smallest is -maxint-1)\n",
      "    maxsize -- the largest supported length of containers.\n",
      "    maxunicode -- the largest supported character\n",
      "    builtin_module_names -- tuple of module names built into this interpreter\n",
      "    version -- the version of this interpreter as a string\n",
      "    version_info -- version information as a named tuple\n",
      "    hexversion -- version information encoded as a single integer\n",
      "    copyright -- copyright notice pertaining to this interpreter\n",
      "    platform -- platform identifier\n",
      "    executable -- absolute path of the executable binary of the Python interpreter\n",
      "    prefix -- prefix used to find the Python library\n",
      "    exec_prefix -- prefix used to find the machine-specific Python library\n",
      "    float_repr_style -- string indicating the style of repr() output for floats\n",
      "    dllhandle -- [Windows only] integer handle of the Python DLL\n",
      "    winver -- [Windows only] version number of the Python DLL\n",
      "    __stdin__ -- the original stdin; don't touch!\n",
      "    __stdout__ -- the original stdout; don't touch!\n",
      "    __stderr__ -- the original stderr; don't touch!\n",
      "    __displayhook__ -- the original displayhook; don't touch!\n",
      "    __excepthook__ -- the original excepthook; don't touch!\n",
      "    \n",
      "    Functions:\n",
      "    \n",
      "    displayhook() -- print an object to the screen, and save it in __builtin__._\n",
      "    excepthook() -- print an exception and its traceback to sys.stderr\n",
      "    exc_info() -- return thread-safe information about the current exception\n",
      "    exc_clear() -- clear the exception state for the current thread\n",
      "    exit() -- exit the interpreter by raising SystemExit\n",
      "    getdlopenflags() -- returns flags to be used for dlopen() calls\n",
      "    getprofile() -- get the global profiling function\n",
      "    getrefcount() -- return the reference count for an object (plus one :-)\n",
      "    getrecursionlimit() -- return the max recursion depth for the interpreter\n",
      "    getsizeof() -- return the size of an object in bytes\n",
      "    gettrace() -- get the global debug tracing function\n",
      "    setcheckinterval() -- control how often the interpreter checks for events\n",
      "    setdlopenflags() -- set the flags to be used for dlopen() calls\n",
      "    setprofile() -- set the global profiling function\n",
      "    setrecursionlimit() -- set the max recursion depth for the interpreter\n",
      "    settrace() -- set the global debug tracing function\n",
      "\n",
      "FUNCTIONS\n",
      "    __displayhook__ = displayhook(...)\n",
      "        displayhook(object) -> None\n",
      "        \n",
      "        Print an object to sys.stdout and also save it in __builtin__._\n",
      "    \n",
      "    __excepthook__ = excepthook(...)\n",
      "        excepthook(exctype, value, traceback) -> None\n",
      "        \n",
      "        Handle an exception by displaying it with a traceback on sys.stderr.\n",
      "    \n",
      "    call_tracing(...)\n",
      "        call_tracing(func, args) -> object\n",
      "        \n",
      "        Call func(*args), while tracing is enabled.  The tracing state is\n",
      "        saved, and restored afterwards.  This is intended to be called from\n",
      "        a debugger from a checkpoint, to recursively debug some other code.\n",
      "    \n",
      "    callstats(...)\n",
      "        callstats() -> tuple of integers\n",
      "        \n",
      "        Return a tuple of function call statistics, if CALL_PROFILE was defined\n",
      "        when Python was built.  Otherwise, return None.\n",
      "        \n",
      "        When enabled, this function returns detailed, implementation-specific\n",
      "        details about the number of function calls executed. The return value is\n",
      "        a 11-tuple where the entries in the tuple are counts of:\n",
      "        0. all function calls\n",
      "        1. calls to PyFunction_Type objects\n",
      "        2. PyFunction calls that do not create an argument tuple\n",
      "        3. PyFunction calls that do not create an argument tuple\n",
      "           and bypass PyEval_EvalCodeEx()\n",
      "        4. PyMethod calls\n",
      "        5. PyMethod calls on bound methods\n",
      "        6. PyType calls\n",
      "        7. PyCFunction calls\n",
      "        8. generator calls\n",
      "        9. All other calls\n",
      "        10. Number of stack pops performed by call_function()\n",
      "    \n",
      "    exc_clear(...)\n",
      "        exc_clear() -> None\n",
      "        \n",
      "        Clear global information on the current exception.  Subsequent calls to\n",
      "        exc_info() will return (None,None,None) until another exception is raised\n",
      "        in the current thread or the execution stack returns to a frame where\n",
      "        another exception is being handled.\n",
      "    \n",
      "    exc_info(...)\n",
      "        exc_info() -> (type, value, traceback)\n",
      "        \n",
      "        Return information about the most recent exception caught by an except\n",
      "        clause in the current stack frame or in an older stack frame.\n",
      "    \n",
      "    exit(...)\n",
      "        exit([status])\n",
      "        \n",
      "        Exit the interpreter by raising SystemExit(status).\n",
      "        If the status is omitted or None, it defaults to zero (i.e., success).\n",
      "        If the status is numeric, it will be used as the system exit status.\n",
      "        If it is another kind of object, it will be printed and the system\n",
      "        exit status will be one (i.e., failure).\n",
      "    \n",
      "    getcheckinterval(...)\n",
      "        getcheckinterval() -> current check interval; see setcheckinterval().\n",
      "    \n",
      "    getdefaultencoding(...)\n",
      "        getdefaultencoding() -> string\n",
      "        \n",
      "        Return the current default string encoding used by the Unicode \n",
      "        implementation.\n",
      "    \n",
      "    getfilesystemencoding(...)\n",
      "        getfilesystemencoding() -> string\n",
      "        \n",
      "        Return the encoding used to convert Unicode filenames in\n",
      "        operating system filenames.\n",
      "    \n",
      "    getprofile(...)\n",
      "        getprofile()\n",
      "        \n",
      "        Return the profiling function set with sys.setprofile.\n",
      "        See the profiler chapter in the library manual.\n",
      "    \n",
      "    getrecursionlimit(...)\n",
      "        getrecursionlimit()\n",
      "        \n",
      "        Return the current value of the recursion limit, the maximum depth\n",
      "        of the Python interpreter stack.  This limit prevents infinite\n",
      "        recursion from causing an overflow of the C stack and crashing Python.\n",
      "    \n",
      "    getrefcount(...)\n",
      "        getrefcount(object) -> integer\n",
      "        \n",
      "        Return the reference count of object.  The count returned is generally\n",
      "        one higher than you might expect, because it includes the (temporary)\n",
      "        reference as an argument to getrefcount().\n",
      "    \n",
      "    getsizeof(...)\n",
      "        getsizeof(object, default) -> int\n",
      "        \n",
      "        Return the size of object in bytes.\n",
      "    \n",
      "    gettrace(...)\n",
      "        gettrace()\n",
      "        \n",
      "        Return the global debug tracing function set with sys.settrace.\n",
      "        See the debugger chapter in the library manual.\n",
      "    \n",
      "    getwindowsversion(...)\n",
      "        getwindowsversion()\n",
      "        \n",
      "        Return information about the running version of Windows as a named tuple.\n",
      "        The members are named: major, minor, build, platform, service_pack,\n",
      "        service_pack_major, service_pack_minor, suite_mask, and product_type. For\n",
      "        backward compatibility, only the first 5 items are available by indexing.\n",
      "        All elements are numbers, except service_pack which is a string. Platform\n",
      "        may be 0 for win32s, 1 for Windows 9x/ME, 2 for Windows NT/2000/XP/Vista/7,\n",
      "        3 for Windows CE. Product_type may be 1 for a workstation, 2 for a domain\n",
      "        controller, 3 for a server.\n",
      "    \n",
      "    setcheckinterval(...)\n",
      "        setcheckinterval(n)\n",
      "        \n",
      "        Tell the Python interpreter to check for asynchronous events every\n",
      "        n instructions.  This also affects how often thread switches occur.\n",
      "    \n",
      "    setprofile(...)\n",
      "        setprofile(function)\n",
      "        \n",
      "        Set the profiling function.  It will be called on each function call\n",
      "        and return.  See the profiler chapter in the library manual.\n",
      "    \n",
      "    setrecursionlimit(...)\n",
      "        setrecursionlimit(n)\n",
      "        \n",
      "        Set the maximum depth of the Python interpreter stack to n.  This\n",
      "        limit prevents infinite recursion from causing an overflow of the C\n",
      "        stack and crashing Python.  The highest possible limit is platform-\n",
      "        dependent.\n",
      "    \n",
      "    settrace(...)\n",
      "        settrace(function)\n",
      "        \n",
      "        Set the global debug tracing function.  It will be called on each\n",
      "        function call.  See the debugger chapter in the library manual.\n",
      "\n",
      "DATA\n",
      "    __stderr__ = <open file '<stderr>', mode 'w'>\n",
      "    __stdin__ = <open file '<stdin>', mode 'r'>\n",
      "    __stdout__ = <open file '<stdout>', mode 'w'>\n",
      "    api_version = 1013\n",
      "    argv = ['-c', '-f', r'C:\\Users\\david\\.ipython\\profile_default\\security...\n",
      "    builtin_module_names = ('__builtin__', '__main__', '_ast', '_bisect', ...\n",
      "    byteorder = 'little'\n",
      "    copyright = 'Copyright (c) 2001-2012 Python Software Foundati...ematis...\n",
      "    displayhook = <IPython.kernel.zmq.displayhook.ZMQShellDisplayHook obje...\n",
      "    dllhandle = 503316480\n",
      "    dont_write_bytecode = False\n",
      "    exc_value = TypeError(\"<module 'sys' (built-in)> is a built-in module\"...\n",
      "    exec_prefix = r'C:\\Python27'\n",
      "    executable = r'C:\\Python27\\python.exe'\n",
      "    flags = sys.flags(debug=0, py3k_warning=0, division_warn...unicode=0, ...\n",
      "    float_info = sys.float_info(max=1.7976931348623157e+308, max_...epsilo...\n",
      "    float_repr_style = 'short'\n",
      "    hexversion = 34014192\n",
      "    last_value = TypeError(\"unsupported operand type(s) for +: 'int' and '...\n",
      "    long_info = sys.long_info(bits_per_digit=15, sizeof_digit=2)\n",
      "    maxint = 2147483647\n",
      "    maxsize = 2147483647\n",
      "    maxunicode = 65535\n",
      "    meta_path = []\n",
      "    modules = {'ConfigParser': <module 'ConfigParser' from 'C:\\Python27\\Li...\n",
      "    path = ['', r'C:\\Python27\\lib\\site-packages\\pip-1.1-py2.7.egg', r'C:\\P...\n",
      "    path_hooks = [<type 'zipimport.zipimporter'>]\n",
      "    path_importer_cache = {'': None, r'C:\\Python27': None, r'C:\\Python27\\D...\n",
      "    platform = 'win32'\n",
      "    prefix = r'C:\\Python27'\n",
      "    ps1 = 'In : '\n",
      "    ps2 = '...: '\n",
      "    ps3 = 'Out: '\n",
      "    py3kwarning = False\n",
      "    stderr = <IPython.kernel.zmq.iostream.OutStream object>\n",
      "    stdin = <open file '<stdin>', mode 'r'>\n",
      "    stdout = <IPython.kernel.zmq.iostream.OutStream object>\n",
      "    subversion = ('CPython', '', '')\n",
      "    version = '2.7.3 (default, Apr 10 2012, 23:31:26) [MSC v.1500 32 bit (...\n",
      "    version_info = sys.version_info(major=2, minor=7, micro=3, releaseleve...\n",
      "    warnoptions = []\n",
      "    winver = '2.7'\n",
      "\n",
      "\n",
      "Help on built-in function exit in module sys:\n",
      "\n",
      "exit(...)\n",
      "    exit([status])\n",
      "    \n",
      "    Exit the interpreter by raising SystemExit(status).\n",
      "    If the status is omitted or None, it defaults to zero (i.e., success).\n",
      "    If the status is numeric, it will be used as the system exit status.\n",
      "    If it is another kind of object, it will be printed and the system\n",
      "    exit status will be one (i.e., failure).\n",
      "\n"
     ]
    }
   ],
   "source": [
    "import sys\n",
    "help(sys)\n",
    "help(sys.exit)"
   ]
  },
  {
   "cell_type": "markdown",
   "metadata": {},
   "source": [
    "### 數值運算"
   ]
  },
  {
   "cell_type": "code",
   "execution_count": 105,
   "metadata": {
    "collapsed": false
   },
   "outputs": [
    {
     "data": {
      "text/plain": [
       "(True, False, True)"
      ]
     },
     "execution_count": 105,
     "metadata": {},
     "output_type": "execute_result"
    }
   ],
   "source": [
    "#None: Evaluator\n",
    "None==None, None==False, not(None)    "
   ]
  },
  {
   "cell_type": "code",
   "execution_count": 106,
   "metadata": {
    "collapsed": false
   },
   "outputs": [
    {
     "data": {
      "text/plain": [
       "(True, True, True, True, True, True, True, True)"
      ]
     },
     "execution_count": 106,
     "metadata": {},
     "output_type": "execute_result"
    }
   ],
   "source": [
    "True, False==False, bool(42),not(42==True), \\\n",
    "(True or False) and not(False), True==1,not(1.000001 == 1), \\\n",
    "1.00000000000000000000000001 == 1"
   ]
  },
  {
   "cell_type": "code",
   "execution_count": 109,
   "metadata": {
    "collapsed": false
   },
   "outputs": [
    {
     "data": {
      "text/plain": [
       "(32, 42, 0, 0, 1, 3)"
      ]
     },
     "execution_count": 109,
     "metadata": {},
     "output_type": "execute_result"
    }
   ],
   "source": [
    "#Integer: \n",
    "32, int('42'), 1/3, 1//3 , int(True), int(3.14)"
   ]
  },
  {
   "cell_type": "code",
   "execution_count": 108,
   "metadata": {
    "collapsed": false
   },
   "outputs": [
    {
     "data": {
      "text/plain": [
       "(1231980985476123891320918203981230123L, 1L, 5L)"
      ]
     },
     "execution_count": 108,
     "metadata": {},
     "output_type": "execute_result"
    }
   ],
   "source": [
    "#Long: \n",
    "1231980985476123891320918203981230123, long(1), 5L "
   ]
  },
  {
   "cell_type": "code",
   "execution_count": 110,
   "metadata": {
    "collapsed": false
   },
   "outputs": [
    {
     "data": {
      "text/plain": [
       "(4200.0, 4200.0, 0.3333333333333333, nan, inf)"
      ]
     },
     "execution_count": 110,
     "metadata": {},
     "output_type": "execute_result"
    }
   ],
   "source": [
    "#Float: \n",
    "4., 4.0, float(42), 1.0/3, complex(1j).real, complex(1j).imag,\n",
    "4.2e3, 4.2E+3, 3**-1, float('nan'), float('inf') "
   ]
  },
  {
   "cell_type": "code",
   "execution_count": 111,
   "metadata": {
    "collapsed": false
   },
   "outputs": [
    {
     "data": {
      "text/plain": [
       "((3+0j), 1j, (4+1j), (1+2j), (1+1j))"
      ]
     },
     "execution_count": 111,
     "metadata": {},
     "output_type": "execute_result"
    }
   ],
   "source": [
    "#Complex: \n",
    "complex(3), complex(1j), complex('4+j'), complex(1,2), 1+1j"
   ]
  },
  {
   "cell_type": "markdown",
   "metadata": {},
   "source": [
    "### 字串"
   ]
  },
  {
   "cell_type": "code",
   "execution_count": 7,
   "metadata": {
    "collapsed": false
   },
   "outputs": [
    {
     "name": "stdout",
     "output_type": "stream",
     "text": [
      "<method-wrapper '__str__' of str object at 0x04A87D60>\n"
     ]
    }
   ],
   "source": [
    "#字串類別 (str) 是內建的\n",
    "a = \"hello world\"\n",
    "print a.__str__"
   ]
  },
  {
   "cell_type": "code",
   "execution_count": 1,
   "metadata": {
    "collapsed": false
   },
   "outputs": [
    {
     "name": "stdout",
     "output_type": "stream",
     "text": [
      "this is a \"book\"\n"
     ]
    }
   ],
   "source": [
    "#Double quote (“”) 跟 single quote (‘’)可以混用\n",
    "a = 'this is a \"book\"'\n",
    "print a"
   ]
  },
  {
   "cell_type": "code",
   "execution_count": 11,
   "metadata": {
    "collapsed": false
   },
   "outputs": [
    {
     "name": "stdout",
     "output_type": "stream",
     "text": [
      "hi this is a long text\n",
      "hi this is a l\n",
      "ong text\n"
     ]
    }
   ],
   "source": [
    "# 使用 \\ 作為換行符號\n",
    "a = 'hi this is a l\\\n",
    "ong text'\n",
    "\n",
    "print a\n",
    "\n",
    "# 使用三個single quote 做多行處理\n",
    "a = '''hi this is a l\n",
    "ong text'''\n",
    "print a\n"
   ]
  },
  {
   "cell_type": "code",
   "execution_count": 15,
   "metadata": {
    "collapsed": false
   },
   "outputs": [
    {
     "name": "stdout",
     "output_type": "stream",
     "text": [
      "e\n",
      "d\n",
      "11\n",
      "hello world yoyo\n"
     ]
    }
   ],
   "source": [
    "# 字串操作\n",
    "s = 'hello world'\n",
    "print s[1]  #e\n",
    "print s[-1] #d\n",
    "print len(s)        ## 11\n",
    "print s + ' yoyo'  ## hi there"
   ]
  },
  {
   "cell_type": "code",
   "execution_count": 20,
   "metadata": {
    "collapsed": false
   },
   "outputs": [
    {
     "name": "stdout",
     "output_type": "stream",
     "text": [
      "my age is 30\n"
     ]
    }
   ],
   "source": [
    "# 使用str 做轉型\n",
    "age = 30\n",
    "print \"my age is \" + str(age)"
   ]
  },
  {
   "cell_type": "code",
   "execution_count": 24,
   "metadata": {
    "collapsed": false
   },
   "outputs": [
    {
     "name": "stdout",
     "output_type": "stream",
     "text": [
      "\n",
      "\t this is a \t line with format \t\n",
      "\n",
      "\\n\\t this is a \\t line with format \\t\\n\n",
      "'\\n\\t this is a \\t line with format \\t\\n'\n"
     ]
    }
   ],
   "source": [
    "# 帶有 format 的 String \n",
    "raw = '\\n\\t this is a \\t line with format \\t\\n'\n",
    "print raw   \n",
    "\n",
    "# 使用 r 取得raw string\n",
    "raw = r'\\n\\t this is a \\t line with format \\t\\n'\n",
    "print raw   \n",
    "\n",
    "# 使用 repr 取得string 中的表示\n",
    "raw = repr('\\n\\t this is a \\t line with format \\t\\n')\n",
    "print raw    "
   ]
  },
  {
   "cell_type": "code",
   "execution_count": 25,
   "metadata": {
    "collapsed": false
   },
   "outputs": [
    {
     "data": {
      "text/plain": [
       "(['Qoo', 'loves', 'OOP'], 'QOO LOVES OOP', 'Qoo Loves Oop')"
      ]
     },
     "execution_count": 25,
     "metadata": {},
     "output_type": "execute_result"
    }
   ],
   "source": [
    "# 字串函式\n",
    "a = 'Qoo loves OOP'\n",
    "a.split(), \\\n",
    "a.upper(), \\\n",
    "a.title(),"
   ]
  },
  {
   "cell_type": "code",
   "execution_count": 26,
   "metadata": {
    "collapsed": false
   },
   "outputs": [
    {
     "data": {
      "text/plain": [
       "'Qoo-loves-OOP'"
      ]
     },
     "execution_count": 26,
     "metadata": {},
     "output_type": "execute_result"
    }
   ],
   "source": [
    "import string\n",
    "a = 'Qoo loves OOP'\n",
    "string.join(a.split(), '-') # 'Qoo-loves-OOP'"
   ]
  },
  {
   "cell_type": "code",
   "execution_count": 28,
   "metadata": {
    "collapsed": false
   },
   "outputs": [
    {
     "data": {
      "text/plain": [
       "'Qoo-loves-OOP'"
      ]
     },
     "execution_count": 28,
     "metadata": {},
     "output_type": "execute_result"
    }
   ],
   "source": [
    "a = 'Qoo loves OOP'\n",
    "'-'.join(a.split())"
   ]
  },
  {
   "cell_type": "code",
   "execution_count": 44,
   "metadata": {
    "collapsed": false
   },
   "outputs": [
    {
     "data": {
      "text/plain": [
       "('ell', 'ello', 'hello', 'ello')"
      ]
     },
     "execution_count": 44,
     "metadata": {},
     "output_type": "execute_result"
    }
   ],
   "source": [
    "s = 'hello'\n",
    "s[1:4]   , \\\n",
    "s[1:]    , \\\n",
    "s[:]     , \\\n",
    "s[1:100] , \\"
   ]
  },
  {
   "cell_type": "code",
   "execution_count": 92,
   "metadata": {
    "collapsed": false
   },
   "outputs": [
    {
     "data": {
      "text/plain": [
       "('o', 'e', 'he', 'llo')"
      ]
     },
     "execution_count": 92,
     "metadata": {},
     "output_type": "execute_result"
    }
   ],
   "source": [
    "s = 'hello'\n",
    "s[-1] , \\\n",
    "s[-4] , \\\n",
    "s[:-3] , \\\n",
    "s[-3:] , \\"
   ]
  },
  {
   "cell_type": "code",
   "execution_count": 94,
   "metadata": {
    "collapsed": false
   },
   "outputs": [
    {
     "name": "stdout",
     "output_type": "stream",
     "text": [
      "The results are 3.14 and 5\n"
     ]
    }
   ],
   "source": [
    "#String Formatting \n",
    "print 'The results are %.02f and %d' % (3.14159, 5)\n",
    "\n",
    "#The results are 3.14 and 5\n"
   ]
  },
  {
   "cell_type": "code",
   "execution_count": 77,
   "metadata": {
    "collapsed": false
   },
   "outputs": [
    {
     "name": "stdout",
     "output_type": "stream",
     "text": [
      "<type 'unicode'> 13\n",
      "Handling ����r��\n",
      "Handling 中文字串\n",
      "Handling 中文字串\n",
      "Handling 中文字串\n"
     ]
    }
   ],
   "source": [
    "# -*- coding: utf-8 -*-\n",
    "unistring = u'Handling 中文字串'\n",
    "print type(unistring), len(unistring)\n",
    "print unistring.encode('big5')\n",
    "print unistring.encode('utf-8')\n",
    "print unistring.encode('utf-8').decode('utf-8')\n",
    "print unicode(unistring.encode('utf-8'), 'utf-8')  \n"
   ]
  },
  {
   "cell_type": "markdown",
   "metadata": {},
   "source": [
    "### List"
   ]
  },
  {
   "cell_type": "code",
   "execution_count": 78,
   "metadata": {
    "collapsed": false
   },
   "outputs": [
    {
     "name": "stdout",
     "output_type": "stream",
     "text": [
      "5\n",
      "[7, 8]\n",
      "8\n",
      "7\n",
      "[7, 8]\n",
      "[5, 7]\n",
      "[8, 7, 6, 5]\n",
      "4\n",
      "[5, 8]\n"
     ]
    }
   ],
   "source": [
    "a = [5, 6, 7, 8] # a = [5 6 7 8] \n",
    "print a[0] # 5\n",
    "print a[2:4] # [7, 8] \n",
    "print a[-1] # 8 \n",
    "print a[-2] # 7\n",
    "print a[2:] # [7, 8]\n",
    "print a[::2] # [5, 7]\n",
    "print a[::-1] # [8, 7, 6, 5]\n",
    "print len(a) # 4\n",
    "print [min(a), max(a)] # [5, 8]"
   ]
  },
  {
   "cell_type": "code",
   "execution_count": 82,
   "metadata": {
    "collapsed": false
   },
   "outputs": [
    {
     "data": {
      "text/plain": [
       "[7, 6, 5, 2]"
      ]
     },
     "execution_count": 82,
     "metadata": {},
     "output_type": "execute_result"
    }
   ],
   "source": [
    "a = [5, 6, 7, 8]\n",
    "a.pop() # a = [5, 6, 7]\n",
    "a.append(2) # a = [5, 6, 7, 2]\n",
    "a.sort() # a = [2, 5, 6, 7]\n",
    "a.reverse() # a = [7, 6, 5, 2]\n",
    "a"
   ]
  },
  {
   "cell_type": "code",
   "execution_count": 83,
   "metadata": {
    "collapsed": false
   },
   "outputs": [
    {
     "data": {
      "text/plain": [
       "[1, 2000, 3]"
      ]
     },
     "execution_count": 83,
     "metadata": {},
     "output_type": "execute_result"
    }
   ],
   "source": [
    "a = [1, 2, 3]\n",
    "b = a\n",
    "a[1] = 2000\n",
    "b"
   ]
  },
  {
   "cell_type": "code",
   "execution_count": 86,
   "metadata": {
    "collapsed": false
   },
   "outputs": [
    {
     "name": "stdout",
     "output_type": "stream",
     "text": [
      "[1, 2, 3]\n",
      "[1, 2, 3]\n",
      "[1, 2, 3]\n",
      "[1, 2, 3]\n",
      "[1, 2, 3]\n"
     ]
    }
   ],
   "source": [
    "#List Copy\n",
    "a = [1, 2, 3]\n",
    "\n",
    "#List \n",
    "b = a[:]\n",
    "print b\n",
    "\n",
    "#List\n",
    "b = list(a)\n",
    "print b\n",
    "\n",
    "#Extent\n",
    "b = [] \n",
    "b.extend(a)\n",
    "print b\n",
    "\n",
    "#Iterration\n",
    "b = []\n",
    "for n in range(len(a)):\n",
    "    b.append(a[n])\n",
    "print b\n",
    "\n",
    "#Foreach\n",
    "b = [ e for e in a ]\n",
    "b\n",
    "print b"
   ]
  },
  {
   "cell_type": "code",
   "execution_count": 91,
   "metadata": {
    "collapsed": false
   },
   "outputs": [
    {
     "name": "stdout",
     "output_type": "stream",
     "text": [
      "[1, 2, 3]\n"
     ]
    }
   ],
   "source": [
    "# deep copy\n",
    "a = [1, 2, 3]\n",
    "import copy\n",
    "aa = copy.deepcopy(a) # Deep Copy\n",
    "a[1] = 2000\n",
    "print aa"
   ]
  },
  {
   "cell_type": "code",
   "execution_count": 95,
   "metadata": {
    "collapsed": false
   },
   "outputs": [
    {
     "name": "stdout",
     "output_type": "stream",
     "text": [
      "['asap', 3]\n",
      "['w', 'o', 'r', 'd'] [['list'], ['of', 'lists']]\n",
      "['a', 1]\n"
     ]
    },
    {
     "data": {
      "text/plain": [
       "8"
      ]
     },
     "execution_count": 95,
     "metadata": {},
     "output_type": "execute_result"
    }
   ],
   "source": [
    "#List 可以裝載不同類型元素\n",
    "print ['asap', 3]\n",
    "print list(\"word\"), \n",
    "print [['list'], ['of', 'lists']]\n",
    "print list(('a', 1))\n",
    "\n",
    "a = ['heterogeneous', 3]\n",
    "a[1] + 5 \n"
   ]
  },
  {
   "cell_type": "code",
   "execution_count": 100,
   "metadata": {
    "collapsed": false
   },
   "outputs": [
    {
     "name": "stdout",
     "output_type": "stream",
     "text": [
      "[1, 4, 9, 16]\n",
      "[2, 1]\n",
      "['APPLE', 'BANNANA']\n"
     ]
    }
   ],
   "source": [
    "nums = [1, 2, 3, 4]\n",
    "squares = [ n * n for n in nums ]   \n",
    "print squares\n",
    "\n",
    "## 篩選 values <= 2\n",
    "nums = [2, 8, 1, 6]\n",
    "small = [ n for n in nums if n <= 2 ]  ## [2, 1]\n",
    "print small\n",
    "\n",
    "## 篩選 包含 'a' 的 fruits, 並轉換為大寫\n",
    "fruits = ['apple', 'cherry', 'bannana', 'lemon']\n",
    "afruits = [ s.upper() for s in fruits if 'a' in s ]\n",
    "print afruits"
   ]
  },
  {
   "cell_type": "markdown",
   "metadata": {},
   "source": [
    "### 字典 (Dictionary)"
   ]
  },
  {
   "cell_type": "code",
   "execution_count": 101,
   "metadata": {
    "collapsed": false
   },
   "outputs": [
    {
     "data": {
      "text/plain": [
       "({},\n",
       " {5: 'five', 'three': 3},\n",
       " {'one': 'two', 'three': 'four'},\n",
       " {'one': 'two', 'three': 'four'})"
      ]
     },
     "execution_count": 101,
     "metadata": {},
     "output_type": "execute_result"
    }
   ],
   "source": [
    "#Dictionary (Python hash): \n",
    "{}, { 'three': 3, 5: 'five'}, \\\n",
    "{'one': 'two', 'three': 'four'}, \\\n",
    "dict([['one', 'two' ], ['three', 'four']])"
   ]
  },
  {
   "cell_type": "code",
   "execution_count": 102,
   "metadata": {
    "collapsed": false
   },
   "outputs": [
    {
     "data": {
      "text/plain": [
       "(['three', 'one'], ['four', 'two'])"
      ]
     },
     "execution_count": 102,
     "metadata": {},
     "output_type": "execute_result"
    }
   ],
   "source": [
    "a = {'one': 'two', 'three': 'four'}\n",
    "a.keys(), a.values()"
   ]
  },
  {
   "cell_type": "code",
   "execution_count": 103,
   "metadata": {
    "collapsed": false
   },
   "outputs": [
    {
     "name": "stdout",
     "output_type": "stream",
     "text": [
      "Japan has the capital Tokyo\n",
      "Taiwan has the capital Taipei\n"
     ]
    }
   ],
   "source": [
    "d = {'Taiwan': 'Taipei', 'Japan': 'Tokyo'}\n",
    "\n",
    "for (k,v) in d.items():\n",
    "    print(k + ' has the capital ' + v)"
   ]
  },
  {
   "cell_type": "markdown",
   "metadata": {},
   "source": [
    "### 其他型態"
   ]
  },
  {
   "cell_type": "code",
   "execution_count": 15,
   "metadata": {
    "collapsed": false,
    "slideshow": {
     "slide_type": "slide"
    }
   },
   "outputs": [
    {
     "data": {
      "text/plain": [
       "((1, 2), ('a', 1), ('remember comma',), ('a', 1))"
      ]
     },
     "execution_count": 15,
     "metadata": {},
     "output_type": "execute_result"
    }
   ],
   "source": [
    "#Tuple: \n",
    "(1, 2), ('a', 1), ('remember comma',), tuple(['a', 1])"
   ]
  },
  {
   "cell_type": "code",
   "execution_count": 33,
   "metadata": {
    "collapsed": false,
    "slideshow": {
     "slide_type": "slide"
    }
   },
   "outputs": [
    {
     "data": {
      "text/plain": [
       "(set(), {1, 2}, {1, 2}, {1, 2}, {0, 1, 2, 3}, {1, 2, 3, 4})"
      ]
     },
     "execution_count": 33,
     "metadata": {},
     "output_type": "execute_result"
    }
   ],
   "source": [
    "#Set (distinct unordered): \n",
    "set(), set([1, 2]), set([2, 1]),\\\n",
    "set((2, 1)), set(range(0,5)) - set(range(4,10)),\\\n",
    "set([1, 2]) | set([3, 4])"
   ]
  },
  {
   "cell_type": "code",
   "execution_count": 34,
   "metadata": {
    "collapsed": false,
    "slideshow": {
     "slide_type": "slide"
    }
   },
   "outputs": [
    {
     "data": {
      "text/plain": [
       "(frozenset(),\n",
       " frozenset({1, 2}),\n",
       " frozenset({frozenset({1, 2}), frozenset({1, 2, 3})}))"
      ]
     },
     "execution_count": 34,
     "metadata": {},
     "output_type": "execute_result"
    }
   ],
   "source": [
    "#Frozenset (immutable): \n",
    "frozenset(), frozenset([1, 2]), \\\n",
    "frozenset([frozenset([1, 2]), frozenset([1, 2, 3])])"
   ]
  },
  {
   "cell_type": "markdown",
   "metadata": {
    "slideshow": {
     "slide_type": "slide"
    }
   },
   "source": [
    "### 迴圈與控制流程"
   ]
  },
  {
   "cell_type": "code",
   "execution_count": 3,
   "metadata": {
    "collapsed": false,
    "slideshow": {
     "slide_type": "slide"
    }
   },
   "outputs": [
    {
     "name": "stdout",
     "output_type": "stream",
     "text": [
      "-1\n",
      "9 was not in the list\n",
      "0\n",
      "9 was not in the list\n",
      "1\n",
      "9 was not in the list\n",
      "2\n",
      "9 was not in the list\n",
      "3\n",
      "9 was not in the list\n",
      "4\n",
      "9 was not in the list\n",
      "5\n",
      "9 was not in the list\n",
      "6\n",
      "9 was not in the list\n",
      "7\n",
      "9 was not in the list\n",
      "8\n",
      "9 was not in the list\n"
     ]
    }
   ],
   "source": [
    "#if - else\n",
    "a = 9\n",
    "for i in range(-1,9):\n",
    "    print i\n",
    "    if i == a:\n",
    "        print(str(a) + ' found!')\n",
    "        break\n",
    "    else:\n",
    "        print(str(a) + ' was not in the list')"
   ]
  },
  {
   "cell_type": "code",
   "execution_count": 123,
   "metadata": {
    "collapsed": false
   },
   "outputs": [
    {
     "name": "stdout",
     "output_type": "stream",
     "text": [
      "1 2 3 4 5 6 7 8 9\n",
      "1 3 5 7 9 1 2 3 4 5\n"
     ]
    }
   ],
   "source": [
    "# from 1 to 10\n",
    "for i in range(1,10):\n",
    "    print i,\n",
    "    \n",
    "print\n",
    "\n",
    "# step by 2\n",
    "for i in range(1,10,2):\n",
    "    print i,\n",
    "\n",
    "print\n",
    "\n",
    "# Iterate over list\n",
    "a = [1,2,3,4,5]\n",
    "for i in a:\n",
    "    print i,"
   ]
  },
  {
   "cell_type": "markdown",
   "metadata": {
    "slideshow": {
     "slide_type": "slide"
    }
   },
   "source": [
    "### 函式"
   ]
  },
  {
   "cell_type": "code",
   "execution_count": 5,
   "metadata": {
    "collapsed": false,
    "slideshow": {
     "slide_type": "slide"
    }
   },
   "outputs": [
    {
     "name": "stdout",
     "output_type": "stream",
     "text": [
      "5\n"
     ]
    }
   ],
   "source": [
    "def addNum(a, b):#Define Function\n",
    "    return a+b #Return function \n",
    "\n",
    "print addNum(1,4)\n"
   ]
  },
  {
   "cell_type": "code",
   "execution_count": 45,
   "metadata": {
    "collapsed": false,
    "slideshow": {
     "slide_type": "slide"
    }
   },
   "outputs": [
    {
     "data": {
      "text/plain": [
       "({1}, {1, 2, 3, 4})"
      ]
     },
     "execution_count": 45,
     "metadata": {},
     "output_type": "execute_result"
    }
   ],
   "source": [
    "#Function call with a variable number of input arguments\n",
    "def myunion(x, *args):\n",
    "    u = set(x)\n",
    "    for y in args:\n",
    "        u = u.union(set(y))\n",
    "    return u\n",
    "\n",
    "myunion([1]), myunion([1], [1, 2, 4], [3, 4])"
   ]
  },
  {
   "cell_type": "code",
   "execution_count": 46,
   "metadata": {
    "collapsed": false,
    "slideshow": {
     "slide_type": "slide"
    }
   },
   "outputs": [
    {
     "data": {
      "text/plain": [
       "{'stop', 'the'}"
      ]
     },
     "execution_count": 46,
     "metadata": {},
     "output_type": "execute_result"
    }
   ],
   "source": [
    "#unknown named arguments\n",
    "def my_key_union(x, **kwargs):\n",
    "    union = set(x)\n",
    "    for key, value in kwargs.items():\n",
    "        if value:\n",
    "            union.add(key)\n",
    "    return union\n",
    "\n",
    "#Example call:\n",
    "my_key_union(['the'], stop=True, halt=False)\n"
   ]
  },
  {
   "cell_type": "code",
   "execution_count": 117,
   "metadata": {
    "collapsed": false,
    "slideshow": {
     "slide_type": "slide"
    }
   },
   "outputs": [],
   "source": [
    "import math, sys # Importing modules.\n",
    "\n",
    "def formatresult(res): # Define function. Remember \":\"\n",
    "    \"\"\"This is the documentation for a function.\"\"\"\n",
    "    return \"The result is %f\" % res # Percentage for formating\n",
    "\n",
    "if len(sys.argv) < 3: # Conditionals should be indended\n",
    "    print(\"Too few input argument\")\n",
    "elif len(sys.argv) > 10: # Not 'elsif' or 'elseif'\n",
    "    print(\"Too many input argument\")\n",
    "else:\n",
    "    res = 0\n",
    "    for n in range(1, len(sys.argv)): \n",
    "        try: res += float(sys.argv[n]) \n",
    "        except: pass # One-liner\n",
    "    print(formatresult(res))"
   ]
  },
  {
   "cell_type": "code",
   "execution_count": 30,
   "metadata": {
    "collapsed": false,
    "slideshow": {
     "slide_type": "slide"
    }
   },
   "outputs": [
    {
     "name": "stdout",
     "output_type": "stream",
     "text": [
      "<module 'math' (built-in)>\n",
      "['-c', '-f', 'C:\\\\Users\\\\david\\\\.ipython\\\\profile_default\\\\security\\\\kernel-06354f75-b837-4fb3-9c65-6a2184f8438f.json', \"--IPKernelApp.parent_appname='ipython-notebook'\", '--interrupt=976', '--parent=948']\n",
      "[1, 2, 3, 4, 5]\n"
     ]
    }
   ],
   "source": [
    "import math #Importing Modules\n",
    "print math #Print Content\n",
    "\n",
    "import sys #Importing Modules\n",
    "print(sys.argv) #Print Argument\n",
    "\n",
    "print range(1,len(sys.argv))"
   ]
  },
  {
   "cell_type": "markdown",
   "metadata": {
    "slideshow": {
     "slide_type": "slide"
    }
   },
   "source": [
    "###物件導向程式設計\n",
    "\n",
    "* __init__() Constructor, 建構子\n",
    "* __class__ 物件類型, e.g., <type 'list'>\n",
    "* __doc__ 文件: 使用 help() 查詢\n",
    "* __str__() 印出物件\n",
    "* __getitem__() 取得內容\n",
    "* __call__() 當物件是函式時的呼叫方法"
   ]
  },
  {
   "cell_type": "code",
   "execution_count": 4,
   "metadata": {
    "collapsed": false,
    "slideshow": {
     "slide_type": "slide"
    }
   },
   "outputs": [
    {
     "name": "stdout",
     "output_type": "stream",
     "text": [
      "2\n"
     ]
    },
    {
     "data": {
      "text/plain": [
       "'David'"
      ]
     },
     "execution_count": 4,
     "metadata": {},
     "output_type": "execute_result"
    }
   ],
   "source": [
    "class Person():\n",
    "    count = 0 # Static/class variable\n",
    "    def __init__(self, name, city):\n",
    "        self.name = name # Variable for the instance\n",
    "        self.city = city # Variable for the instance\n",
    "        Person.count += 1\n",
    "    def number_of_persons(self):\n",
    "        return Person.count\n",
    "\n",
    "First = Person(\"David\", \"Chiayi\")\n",
    "First.number_of_persons() # 1\n",
    "\n",
    "Second = Person(\"QOO\", \"coca-cola\")\n",
    "print Second.number_of_persons() # 2\n",
    "First.name"
   ]
  },
  {
   "cell_type": "code",
   "execution_count": 47,
   "metadata": {
    "collapsed": false,
    "slideshow": {
     "slide_type": "slide"
    }
   },
   "outputs": [
    {
     "name": "stdout",
     "output_type": "stream",
     "text": [
      "constructor\n",
      "8\n"
     ]
    }
   ],
   "source": [
    "# OOP and Overloading\n",
    "class MyInteger():\n",
    "    def __init__(self, integer):\n",
    "        print \"constructor\"\n",
    "        self.integer = integer\n",
    "    def __add__(self, integer): # Overloaded '+' operator\n",
    "        if self.integer == 2 and integer == 2:\n",
    "            return 5\n",
    "        else:\n",
    "            return self.integer + integer\n",
    "\n",
    "a = MyInteger(3)\n",
    "print a+5"
   ]
  },
  {
   "cell_type": "code",
   "execution_count": 56,
   "metadata": {
    "collapsed": false,
    "slideshow": {
     "slide_type": "slide"
    }
   },
   "outputs": [
    {
     "data": {
      "text/plain": [
       "False"
      ]
     },
     "execution_count": 56,
     "metadata": {},
     "output_type": "execute_result"
    }
   ],
   "source": [
    "#Derived Classes\n",
    "class Vehicle():\n",
    "    def my_own(self): return True\n",
    "    \n",
    "class Bicycle(Vehicle):\n",
    "    def __init__(self, color): self.color = color\n",
    "    def has_wheels(self): return True\n",
    "\n",
    "class rent_bike(Bicycle):\n",
    "    def my_own(self): return False\n",
    "    \n",
    "Ubike = rent_bike('yellow')\n",
    "Ubike.my_own()\n"
   ]
  },
  {
   "cell_type": "markdown",
   "metadata": {
    "slideshow": {
     "slide_type": "slide"
    }
   },
   "source": [
    "### 檔案處理"
   ]
  },
  {
   "cell_type": "code",
   "execution_count": 1,
   "metadata": {
    "collapsed": false,
    "slideshow": {
     "slide_type": "slide"
    }
   },
   "outputs": [],
   "source": [
    "#Writing Hello World Into Txt\n",
    "fid = open('test.txt', 'w')\n",
    "fid.write('Hello\\nWorld')\n",
    "fid.close()"
   ]
  },
  {
   "cell_type": "code",
   "execution_count": 2,
   "metadata": {
    "collapsed": false,
    "slideshow": {
     "slide_type": "slide"
    }
   },
   "outputs": [
    {
     "name": "stdout",
     "output_type": "stream",
     "text": [
      "Line: Hello\n",
      "Line: World\n"
     ]
    }
   ],
   "source": [
    "#Load Hello World\n",
    "fid = open('test.txt', 'r')\n",
    "for line in fid: # Using file identifier as iterator\n",
    "    print(\"Line: \" + line.strip())\n",
    "fid.close()"
   ]
  },
  {
   "cell_type": "code",
   "execution_count": 61,
   "metadata": {
    "collapsed": false,
    "slideshow": {
     "slide_type": "slide"
    }
   },
   "outputs": [
    {
     "name": "stdout",
     "output_type": "stream",
     "text": [
      "line Hello\n",
      "World\n"
     ]
    }
   ],
   "source": [
    "fid = open('test.txt', 'r')\n",
    "s = fid.read() # Read the entire file\n",
    "fid.close()\n",
    "print \"line\",s"
   ]
  },
  {
   "cell_type": "code",
   "execution_count": 3,
   "metadata": {
    "collapsed": false,
    "slideshow": {
     "slide_type": "slide"
    }
   },
   "outputs": [
    {
     "name": "stdout",
     "output_type": "stream",
     "text": [
      "2\n"
     ]
    }
   ],
   "source": [
    "#Line Counting\n",
    "fid = open('test.txt')\n",
    "k = 0\n",
    "for line in fid:\n",
    "    k = k + 1\n",
    "print k\n",
    "fid.close()"
   ]
  },
  {
   "cell_type": "code",
   "execution_count": 64,
   "metadata": {
    "collapsed": false,
    "slideshow": {
     "slide_type": "slide"
    }
   },
   "outputs": [
    {
     "name": "stdout",
     "output_type": "stream",
     "text": [
      "2\n"
     ]
    }
   ],
   "source": [
    "print len([ line for line in open('test.txt')])"
   ]
  },
  {
   "cell_type": "markdown",
   "metadata": {
    "slideshow": {
     "slide_type": "slide"
    }
   },
   "source": [
    "### 例外處理"
   ]
  },
  {
   "cell_type": "code",
   "execution_count": 7,
   "metadata": {
    "collapsed": false,
    "slideshow": {
     "slide_type": "slide"
    }
   },
   "outputs": [
    {
     "name": "stdout",
     "output_type": "stream",
     "text": [
      "Succes\n"
     ]
    }
   ],
   "source": [
    "try:\n",
    "    [ line for line in open('test.txt') ] #You may remove int to see what happen\n",
    "except IOError, message:\n",
    "    print('An IO error', message)\n",
    "except ValueError, message:\n",
    "    print('A value error', message)\n",
    "else:\n",
    "    print('Succes')"
   ]
  },
  {
   "cell_type": "code",
   "execution_count": 75,
   "metadata": {
    "collapsed": false,
    "slideshow": {
     "slide_type": "slide"
    }
   },
   "outputs": [
    {
     "data": {
      "text/plain": [
       "nan"
      ]
     },
     "execution_count": 75,
     "metadata": {},
     "output_type": "execute_result"
    }
   ],
   "source": [
    "def mydivide(a, b):\n",
    "    try:\n",
    "        return float(a)/b\n",
    "    except ZeroDivisionError:\n",
    "        return float('nan')\n",
    "    except Exception, e:\n",
    "        print 'Error:', e\n",
    "        \n",
    "#print(1./0)\n",
    "mydivide(1,0)\n"
   ]
  }
 ],
 "metadata": {
  "kernelspec": {
   "display_name": "Python 2",
   "language": "python",
   "name": "python2"
  },
  "language_info": {
   "codemirror_mode": {
    "name": "ipython",
    "version": 2
   },
   "file_extension": ".py",
   "mimetype": "text/x-python",
   "name": "python",
   "nbconvert_exporter": "python",
   "pygments_lexer": "ipython2",
   "version": "2.7.11"
  }
 },
 "nbformat": 4,
 "nbformat_minor": 0
}
