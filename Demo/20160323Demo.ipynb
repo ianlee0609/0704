{
 "cells": [
  {
   "cell_type": "code",
   "execution_count": 19,
   "metadata": {
    "collapsed": false
   },
   "outputs": [
    {
     "name": "stdout",
     "output_type": "stream",
     "text": [
      "Populating the interactive namespace from numpy and matplotlib\n"
     ]
    },
    {
     "name": "stderr",
     "output_type": "stream",
     "text": [
      "WARNING: pylab import has clobbered these variables: ['colors']\n",
      "`%matplotlib` prevents importing * from pylab and numpy\n"
     ]
    }
   ],
   "source": [
    "%pylab inline"
   ]
  },
  {
   "cell_type": "code",
   "execution_count": 6,
   "metadata": {
    "collapsed": true
   },
   "outputs": [],
   "source": [
    "from sklearn.datasets import load_iris\n",
    "\n",
    "iris = load_iris()\n",
    "X = iris.data\n",
    "y = iris.target"
   ]
  },
  {
   "cell_type": "code",
   "execution_count": 38,
   "metadata": {
    "collapsed": false
   },
   "outputs": [
    {
     "name": "stdout",
     "output_type": "stream",
     "text": [
      "Iris Plants Database\n",
      "\n",
      "Notes\n",
      "-----\n",
      "Data Set Characteristics:\n",
      "    :Number of Instances: 150 (50 in each of three classes)\n",
      "    :Number of Attributes: 4 numeric, predictive attributes and the class\n",
      "    :Attribute Information:\n",
      "        - sepal length in cm\n",
      "        - sepal width in cm\n",
      "        - petal length in cm\n",
      "        - petal width in cm\n",
      "        - class:\n",
      "                - Iris-Setosa\n",
      "                - Iris-Versicolour\n",
      "                - Iris-Virginica\n",
      "    :Summary Statistics:\n",
      "\n",
      "    ============== ==== ==== ======= ===== ====================\n",
      "                    Min  Max   Mean    SD   Class Correlation\n",
      "    ============== ==== ==== ======= ===== ====================\n",
      "    sepal length:   4.3  7.9   5.84   0.83    0.7826\n",
      "    sepal width:    2.0  4.4   3.05   0.43   -0.4194\n",
      "    petal length:   1.0  6.9   3.76   1.76    0.9490  (high!)\n",
      "    petal width:    0.1  2.5   1.20  0.76     0.9565  (high!)\n",
      "    ============== ==== ==== ======= ===== ====================\n",
      "\n",
      "    :Missing Attribute Values: None\n",
      "    :Class Distribution: 33.3% for each of 3 classes.\n",
      "    :Creator: R.A. Fisher\n",
      "    :Donor: Michael Marshall (MARSHALL%PLU@io.arc.nasa.gov)\n",
      "    :Date: July, 1988\n",
      "\n",
      "This is a copy of UCI ML iris datasets.\n",
      "http://archive.ics.uci.edu/ml/datasets/Iris\n",
      "\n",
      "The famous Iris database, first used by Sir R.A Fisher\n",
      "\n",
      "This is perhaps the best known database to be found in the\n",
      "pattern recognition literature.  Fisher's paper is a classic in the field and\n",
      "is referenced frequently to this day.  (See Duda & Hart, for example.)  The\n",
      "data set contains 3 classes of 50 instances each, where each class refers to a\n",
      "type of iris plant.  One class is linearly separable from the other 2; the\n",
      "latter are NOT linearly separable from each other.\n",
      "\n",
      "References\n",
      "----------\n",
      "   - Fisher,R.A. \"The use of multiple measurements in taxonomic problems\"\n",
      "     Annual Eugenics, 7, Part II, 179-188 (1936); also in \"Contributions to\n",
      "     Mathematical Statistics\" (John Wiley, NY, 1950).\n",
      "   - Duda,R.O., & Hart,P.E. (1973) Pattern Classification and Scene Analysis.\n",
      "     (Q327.D83) John Wiley & Sons.  ISBN 0-471-22361-1.  See page 218.\n",
      "   - Dasarathy, B.V. (1980) \"Nosing Around the Neighborhood: A New System\n",
      "     Structure and Classification Rule for Recognition in Partially Exposed\n",
      "     Environments\".  IEEE Transactions on Pattern Analysis and Machine\n",
      "     Intelligence, Vol. PAMI-2, No. 1, 67-71.\n",
      "   - Gates, G.W. (1972) \"The Reduced Nearest Neighbor Rule\".  IEEE Transactions\n",
      "     on Information Theory, May 1972, 431-433.\n",
      "   - See also: 1988 MLC Proceedings, 54-64.  Cheeseman et al\"s AUTOCLASS II\n",
      "     conceptual clustering system finds 3 classes in the data.\n",
      "   - Many, many more ...\n",
      "\n"
     ]
    }
   ],
   "source": [
    "print iris.DESCR"
   ]
  },
  {
   "cell_type": "code",
   "execution_count": 14,
   "metadata": {
    "collapsed": false
   },
   "outputs": [
    {
     "name": "stdout",
     "output_type": "stream",
     "text": [
      "[[ 5.1  3.5  1.4  0.2]\n",
      " [ 4.9  3.   1.4  0.2]\n",
      " [ 4.7  3.2  1.3  0.2]\n",
      " [ 4.6  3.1  1.5  0.2]\n",
      " [ 5.   3.6  1.4  0.2]\n",
      " [ 5.4  3.9  1.7  0.4]\n",
      " [ 4.6  3.4  1.4  0.3]\n",
      " [ 5.   3.4  1.5  0.2]\n",
      " [ 4.4  2.9  1.4  0.2]\n",
      " [ 4.9  3.1  1.5  0.1]]\n"
     ]
    }
   ],
   "source": [
    "print X[0:10]"
   ]
  },
  {
   "cell_type": "code",
   "execution_count": 15,
   "metadata": {
    "collapsed": false
   },
   "outputs": [
    {
     "name": "stdout",
     "output_type": "stream",
     "text": [
      "[0 0 0 0 0 0 0 0 0 0 0 0 0 0 0 0 0 0 0 0 0 0 0 0 0 0 0 0 0 0 0 0 0 0 0 0 0\n",
      " 0 0 0 0 0 0 0 0 0 0 0 0 0 1 1 1 1 1 1 1 1 1 1 1 1 1 1 1 1 1 1 1 1 1 1 1 1\n",
      " 1 1 1 1 1 1 1 1 1 1 1 1 1 1 1 1 1 1 1 1 1 1 1 1 1 1 2 2 2 2 2 2 2 2 2 2 2\n",
      " 2 2 2 2 2 2 2 2 2 2 2 2 2 2 2 2 2 2 2 2 2 2 2 2 2 2 2 2 2 2 2 2 2 2 2 2 2\n",
      " 2 2]\n"
     ]
    }
   ],
   "source": [
    "print y"
   ]
  },
  {
   "cell_type": "code",
   "execution_count": 72,
   "metadata": {
    "collapsed": false
   },
   "outputs": [
    {
     "data": {
      "text/plain": [
       "KMeans(copy_x=True, init='k-means++', max_iter=300, n_clusters=3, n_init=10,\n",
       "    n_jobs=1, precompute_distances='auto', random_state=None, tol=0.0001,\n",
       "    verbose=0)"
      ]
     },
     "execution_count": 72,
     "metadata": {},
     "output_type": "execute_result"
    }
   ],
   "source": [
    "# Compute clustering with Means\n",
    "k_means = KMeans(n_clusters=3)\n",
    "k_means.fit(X)"
   ]
  },
  {
   "cell_type": "code",
   "execution_count": 73,
   "metadata": {
    "collapsed": false
   },
   "outputs": [
    {
     "name": "stdout",
     "output_type": "stream",
     "text": [
      "[1 1 1 1 1 1 1 1 1 1 1 1 1 1 1 1 1 1 1 1 1 1 1 1 1 1 1 1 1 1 1 1 1 1 1 1 1\n",
      " 1 1 1 1 1 1 1 1 1 1 1 1 1 0 0 2 0 0 0 0 0 0 0 0 0 0 0 0 0 0 0 0 0 0 0 0 0\n",
      " 0 0 0 2 0 0 0 0 0 0 0 0 0 0 0 0 0 0 0 0 0 0 0 0 0 0 2 0 2 2 2 2 0 2 2 2 2\n",
      " 2 2 0 0 2 2 2 2 0 2 0 2 0 2 2 0 0 2 2 2 2 2 0 2 2 2 2 0 2 2 2 0 2 2 2 0 2\n",
      " 2 0]\n",
      "[[ 5.9016129   2.7483871   4.39354839  1.43387097]\n",
      " [ 5.006       3.418       1.464       0.244     ]\n",
      " [ 6.85        3.07368421  5.74210526  2.07105263]]\n",
      "[0 1 2]\n"
     ]
    }
   ],
   "source": [
    "import numpy as np\n",
    "from sklearn.cluster import KMeans\n",
    "k_means_labels = k_means.labels_\n",
    "print k_means_labels\n",
    "k_means_cluster_centers = k_means.cluster_centers_\n",
    "print k_means_cluster_centers\n",
    "k_means_labels_unique = np.unique(k_means_labels)\n",
    "print k_means_labels_unique"
   ]
  },
  {
   "cell_type": "code",
   "execution_count": 74,
   "metadata": {
    "collapsed": false
   },
   "outputs": [
    {
     "data": {
      "image/png": "[encoded data removed]",
      "text/plain": [
       "<matplotlib.figure.Figure at 0x1d127780>"
      ]
     },
     "metadata": {},
     "output_type": "display_data"
    }
   ],
   "source": [
    "import pylab as pl\n",
    "fig = pl.figure(1)\n",
    "for center in k_means_cluster_centers:\n",
    "    pl.plot(center[0], center[1], 'o')\n",
    "pl.title('KMeans')\n",
    "pl.show()"
   ]
  },
  {
   "cell_type": "code",
   "execution_count": 75,
   "metadata": {
    "collapsed": false
   },
   "outputs": [
    {
     "name": "stdout",
     "output_type": "stream",
     "text": [
      "[0, 1, 2]\n",
      "['#4EACC5', '#FF9C34', '#4E9A06']\n",
      "[(0, '#4EACC5'), (1, '#FF9C34'), (2, '#4E9A06')]\n",
      "0 #4EACC5\n",
      "1 #FF9C34\n",
      "2 #4E9A06\n"
     ]
    }
   ],
   "source": [
    "print range(3)\n",
    "colors = ['#4EACC5', '#FF9C34', '#4E9A06']\n",
    "print colors\n",
    "print zip(range(3), colors)\n",
    "for k, col in zip(range(3), colors):\n",
    "    print k, col"
   ]
  },
  {
   "cell_type": "code",
   "execution_count": 76,
   "metadata": {
    "collapsed": false
   },
   "outputs": [
    {
     "data": {
      "image/png": "[encoded data removed]",
      "text/plain": [
       "<matplotlib.figure.Figure at 0x1d5e45f8>"
      ]
     },
     "metadata": {},
     "output_type": "display_data"
    }
   ],
   "source": [
    "import pylab as pl\n",
    "fig = pl.figure(1)\n",
    "colors = ['#4EACC5', '#FF9C34', '#4E9A06']\n",
    "\n",
    "for k, col in zip(range(3), colors):\n",
    "    my_members = k_means_labels == k\n",
    "    cluster_center = k_means_cluster_centers[k]\n",
    "    pl.plot(X[my_members, 2], X[my_members, 3], 'w',\n",
    "            markerfacecolor=col, marker='.')\n",
    "    pl.plot(cluster_center[2], cluster_center[3], 'o', markerfacecolor=col,\n",
    "            markeredgecolor='k', markersize=6)\n",
    "pl.title('KMeans Clustering by Petal')\n",
    "pl.xticks(())\n",
    "pl.yticks(())\n",
    "pl.show()"
   ]
  },
  {
   "cell_type": "code",
   "execution_count": 77,
   "metadata": {
    "collapsed": false
   },
   "outputs": [
    {
     "data": {
      "image/png": "[encoded data removed]",
      "text/plain": [
       "<matplotlib.figure.Figure at 0x20419320>"
      ]
     },
     "metadata": {},
     "output_type": "display_data"
    }
   ],
   "source": [
    "import pylab as pl\n",
    "fig = pl.figure(1)\n",
    "colors = ['#4EACC5', '#FF9C34', '#4E9A06']\n",
    "\n",
    "for k, col in zip(range(3), colors):\n",
    "    my_members = k_means_labels == k\n",
    "    cluster_center = k_means_cluster_centers[k]\n",
    "    pl.plot(X[my_members, 0], X[my_members, 1], 'w',\n",
    "            markerfacecolor=col, marker='.')\n",
    "    pl.plot(cluster_center[0], cluster_center[1], 'o', markerfacecolor=col,\n",
    "            markeredgecolor='k', markersize=6)\n",
    "pl.title('KMeans Clustering By Sepal')\n",
    "pl.xticks(())\n",
    "pl.yticks(())\n",
    "pl.show()"
   ]
  },
  {
   "cell_type": "code",
   "execution_count": 54,
   "metadata": {
    "collapsed": false
   },
   "outputs": [
    {
     "name": "stdout",
     "output_type": "stream",
     "text": [
      "('The average silhouette_score is :', 0.5525919445213674)\n"
     ]
    }
   ],
   "source": [
    "from sklearn.metrics import silhouette_score\n",
    "silhouette_avg = silhouette_score(X, k_means_labels)\n",
    "print( \"The average silhouette_score is :\", silhouette_avg)"
   ]
  },
  {
   "cell_type": "code",
   "execution_count": 57,
   "metadata": {
    "collapsed": false
   },
   "outputs": [
    {
     "name": "stdout",
     "output_type": "stream",
     "text": [
      "78.9408414261\n"
     ]
    }
   ],
   "source": [
    "c = cluster.KMeans(n_clusters=3)\n",
    "k_data = c.fit_predict(X)\n",
    "print c.inertia_"
   ]
  },
  {
   "cell_type": "code",
   "execution_count": 60,
   "metadata": {
    "collapsed": false
   },
   "outputs": [
    {
     "name": "stdout",
     "output_type": "stream",
     "text": [
      "2 152.368706477\n",
      "3 78.9408414261\n",
      "4 57.3178732143\n",
      "5 46.5355820513\n",
      "6 38.9309630497\n",
      "7 34.1906879248\n",
      "8 30.274954264\n",
      "9 27.8410735931\n",
      "10 25.9585735931\n",
      "11 24.7612567783\n",
      "12 23.1101792192\n",
      "13 21.6783484848\n",
      "14 20.4098703323\n",
      "15 18.7961897269\n",
      "16 18.1221918914\n",
      "17 16.8878030303\n",
      "18 16.1835357143\n",
      "19 15.5776092437\n"
     ]
    }
   ],
   "source": [
    "wcss = []\n",
    "for i in range(2,20):\n",
    "    c = KMeans(n_clusters=i)\n",
    "    k_data = c.fit_predict(X)\n",
    "    wcss.append((i, c.inertia_))\n",
    "    print i, c.inertia_"
   ]
  },
  {
   "cell_type": "code",
   "execution_count": 71,
   "metadata": {
    "collapsed": false
   },
   "outputs": [
    {
     "data": {
      "image/png": "[encoded data removed]",
      "text/plain": [
       "<matplotlib.figure.Figure at 0x1d17d588>"
      ]
     },
     "metadata": {},
     "output_type": "display_data"
    }
   ],
   "source": [
    "import matplotlib.pyplot as plt\n",
    "plotary = [ele[1] for ele in wcss ]\n",
    "plt.plot(plotary)\n",
    "plt.ylabel('WSS')\n",
    "plt.xticks(range(0,20), range(2,22))\n",
    "plt.show()"
   ]
  },
  {
   "cell_type": "code",
   "execution_count": 63,
   "metadata": {
    "collapsed": false
   },
   "outputs": [
    {
     "name": "stdout",
     "output_type": "stream",
     "text": [
      "2 0.680813620271\n",
      "3 0.552591944521\n",
      "4 0.497825690075\n",
      "5 0.488517550854\n",
      "6 0.368205696538\n",
      "7 0.350875960341\n",
      "8 0.357270349229\n",
      "9 0.34288338431\n",
      "10 0.298394015303\n",
      "11 0.305308975761\n",
      "12 0.291321954568\n",
      "13 0.294777021566\n",
      "14 0.28691681532\n",
      "15 0.300306027584\n",
      "16 0.309270699803\n",
      "17 0.277341341915\n",
      "18 0.279899807253\n",
      "19 0.281839927149\n"
     ]
    }
   ],
   "source": [
    "silhouette_ary = []\n",
    "for i in range(2,20):\n",
    "    c = KMeans(n_clusters=i)\n",
    "    c.fit(X)\n",
    "    k_means_labels = c.labels_\n",
    "    silhouette_avg = silhouette_score(X, k_means_labels)\n",
    "    silhouette_ary.append((i, silhouette_avg))\n",
    "    print i, silhouette_avg"
   ]
  },
  {
   "cell_type": "code",
   "execution_count": 70,
   "metadata": {
    "collapsed": false
   },
   "outputs": [
    {
     "data": {
      "image/png": "[encoded data removed]",
      "text/plain": [
       "<matplotlib.figure.Figure at 0x19e6d828>"
      ]
     },
     "metadata": {},
     "output_type": "display_data"
    }
   ],
   "source": [
    "import matplotlib.pyplot as plt\n",
    "plotary = [ele[1] for ele in silhouette_ary]\n",
    "plt.plot(plotary)\n",
    "plt.ylabel('Silhoette')\n",
    "plt.xticks(range(0,20), range(2,22))\n",
    "plt.show()"
   ]
  },
  {
   "cell_type": "code",
   "execution_count": 78,
   "metadata": {
    "collapsed": false
   },
   "outputs": [
    {
     "name": "stdout",
     "output_type": "stream",
     "text": [
      "[[ 5.1  3.5  1.4  0.2]\n",
      " [ 4.9  3.   1.4  0.2]\n",
      " [ 4.7  3.2  1.3  0.2]\n",
      " [ 4.6  3.1  1.5  0.2]\n",
      " [ 5.   3.6  1.4  0.2]\n",
      " [ 5.4  3.9  1.7  0.4]\n",
      " [ 4.6  3.4  1.4  0.3]\n",
      " [ 5.   3.4  1.5  0.2]\n",
      " [ 4.4  2.9  1.4  0.2]\n",
      " [ 4.9  3.1  1.5  0.1]]\n"
     ]
    }
   ],
   "source": [
    "print X[0:10]"
   ]
  },
  {
   "cell_type": "code",
   "execution_count": 88,
   "metadata": {
    "collapsed": false
   },
   "outputs": [
    {
     "data": {
      "text/plain": [
       "PCA(copy=True, n_components=2, whiten=True)"
      ]
     },
     "execution_count": 88,
     "metadata": {},
     "output_type": "execute_result"
    }
   ],
   "source": [
    "from sklearn.decomposition import PCA\n",
    "pca = PCA(n_components=2, whiten=True)\n",
    "pca.fit(X)"
   ]
  },
  {
   "cell_type": "code",
   "execution_count": 89,
   "metadata": {
    "collapsed": false
   },
   "outputs": [
    {
     "name": "stdout",
     "output_type": "stream",
     "text": [
      "Reduced dataset shape: (150L, 2L)\n"
     ]
    }
   ],
   "source": [
    "X_reduced = pca.transform(X)\n",
    "print \"Reduced dataset shape:\", X_reduced.shape"
   ]
  },
  {
   "cell_type": "code",
   "execution_count": 90,
   "metadata": {
    "collapsed": false
   },
   "outputs": [
    {
     "name": "stdout",
     "output_type": "stream",
     "text": [
      "[[-1.31027769 -0.665813  ]\n",
      " [-1.32549971  0.34565409]\n",
      " [-1.41064601  0.27998911]\n",
      " [-1.34065489  0.63424977]\n",
      " [-1.33194435 -0.68072975]\n",
      " [-1.1129166  -1.52440999]\n",
      " [-1.37699885  0.16737608]\n",
      " [-1.28209956 -0.34738382]\n",
      " [-1.40973759  1.1636137 ]\n",
      " [-1.30521934  0.21749888]]\n"
     ]
    }
   ],
   "source": [
    "print X_reduced[0:10]"
   ]
  },
  {
   "cell_type": "code",
   "execution_count": 106,
   "metadata": {
    "collapsed": false
   },
   "outputs": [
    {
     "data": {
      "text/plain": [
       "<matplotlib.collections.PathCollection at 0x1feee748>"
      ]
     },
     "execution_count": 106,
     "metadata": {},
     "output_type": "execute_result"
    },
    {
     "data": {
      "image/png": "[encoded data removed]",
      "text/plain": [
       "<matplotlib.figure.Figure at 0x1dc83a58>"
      ]
     },
     "metadata": {},
     "output_type": "display_data"
    }
   ],
   "source": [
    "import pylab as pl\n",
    "pl.scatter(X_reduced[:, 0], X_reduced[:, 1], c=y)"
   ]
  },
  {
   "cell_type": "code",
   "execution_count": 105,
   "metadata": {
    "collapsed": false
   },
   "outputs": [
    {
     "name": "stdout",
     "output_type": "stream",
     "text": [
      "Meaning of the 2 components:\n",
      "0.362 x sepal length (cm) + -0.082 x sepal width (cm) + 0.857 x petal length (cm) + 0.359 x petal width (cm)\n",
      "-0.657 x sepal length (cm) + -0.730 x sepal width (cm) + 0.176 x petal length (cm) + 0.075 x petal width (cm)\n"
     ]
    }
   ],
   "source": [
    "print \"Meaning of the 2 components:\"\n",
    "\n",
    "for component in pca.components_:\n",
    "    print \" + \".join(\"%.3f x %s\" % (value, name)\n",
    "                     for value, name in zip(component, iris.feature_names))"
   ]
  },
  {
   "cell_type": "code",
   "execution_count": 122,
   "metadata": {
    "collapsed": false
   },
   "outputs": [
    {
     "name": "stdout",
     "output_type": "stream",
     "text": [
      "不易 人事 今處理 公文 更新 案還 殘障 求職 洩漏 洪智坤 清楚 看到 結果 處議 議處\n",
      "[[0 0 1 2 1 1 0 0 1 1 0 1 0 0 0]\n",
      " [1 0 0 0 0 0 1 1 0 1 0 0 0 0 0]\n",
      " [0 1 0 0 0 0 0 0 0 1 1 0 1 1 1]]\n"
     ]
    }
   ],
   "source": [
    "from sklearn.feature_extraction.text import CountVectorizer\n",
    "\n",
    "jieba.add_word('洪智坤')\n",
    "ary = ['【更新】柯P：洪智坤洩漏公文案還沒看到公文　今處理',\n",
    "       '留洪智坤 柯：殘障求職不易',\n",
    "       '人事處議處洪智坤　柯P：不清楚議處結果']\n",
    "corpus = []\n",
    "corpus.extend([' '.join(jieba.cut(ele)) for ele in ary])\n",
    "\n",
    "vectorizer = CountVectorizer() \n",
    "X = vectorizer.fit_transform(corpus)\n",
    "word = vectorizer.get_feature_names() \n",
    "for w in word:\n",
    "    print w,\n",
    "print \n",
    "print X.toarray()"
   ]
  },
  {
   "cell_type": "code",
   "execution_count": 123,
   "metadata": {
    "collapsed": false
   },
   "outputs": [
    {
     "name": "stdout",
     "output_type": "stream",
     "text": [
      "不易 人事 今處理 公文 更新 案還 殘障 求職 洩漏 洪智坤 清楚 看到 結果 處議 議處\n",
      "[[ 0.          0.          0.32705548  0.65411096  0.32705548  0.32705548\n",
      "   0.          0.          0.32705548  0.19316423  0.          0.32705548\n",
      "   0.          0.          0.        ]\n",
      " [ 0.54645401  0.          0.          0.          0.          0.\n",
      "   0.54645401  0.54645401  0.          0.32274454  0.          0.          0.\n",
      "   0.          0.        ]\n",
      " [ 0.          0.43238509  0.          0.          0.          0.          0.\n",
      "   0.          0.          0.2553736   0.43238509  0.          0.43238509\n",
      "   0.43238509  0.43238509]]\n"
     ]
    }
   ],
   "source": [
    "from sklearn.feature_extraction.text import TfidfTransformer\n",
    "transformer = TfidfTransformer()\n",
    "X = vectorizer.fit_transform(corpus)\n",
    "tfidf = transformer.fit_transform(X)\n",
    "weight = tfidf.toarray()\n",
    "for w in word:\n",
    "    print w,\n",
    "print \n",
    "print weight"
   ]
  },
  {
   "cell_type": "code",
   "execution_count": 177,
   "metadata": {
    "collapsed": false
   },
   "outputs": [],
   "source": [
    "from xml.dom import minidom\n",
    "from xml.etree import ElementTree\n",
    "import jieba.analyse\n",
    "\n",
    "with open('1435449602.xml', 'r') as f:\n",
    "    events=ElementTree.fromstring(f.read())\n",
    "\n",
    "corpus = []\n",
    "ary= []\n",
    "for elem in events.findall('./channel/item'):\n",
    "    guid        = elem.find('guid').text\n",
    "    title       = elem.find('title').text\n",
    "    description = elem.find('description').text\n",
    "    pubDate     = elem.find('pubDate').text\n",
    "    source      = elem.find('source').text\n",
    "    ary.append(title)\n",
    "    corpus.append(' '.join(jieba.analyse.extract_tags(description, 20)))\n"
   ]
  },
  {
   "cell_type": "code",
   "execution_count": 178,
   "metadata": {
    "collapsed": true
   },
   "outputs": [],
   "source": [
    "from sklearn.feature_extraction.text import CountVectorizer\n",
    "vectorizer = CountVectorizer() \n",
    "X = vectorizer.fit_transform(corpus)\n",
    "word = vectorizer.get_feature_names() "
   ]
  },
  {
   "cell_type": "code",
   "execution_count": 179,
   "metadata": {
    "collapsed": true
   },
   "outputs": [],
   "source": [
    "weight= X.toarray()"
   ]
  },
  {
   "cell_type": "code",
   "execution_count": 115,
   "metadata": {
    "collapsed": false
   },
   "outputs": [],
   "source": [
    "#for ele in word:\n",
    "#    print ele, "
   ]
  },
  {
   "cell_type": "code",
   "execution_count": 121,
   "metadata": {
    "collapsed": false
   },
   "outputs": [
    {
     "name": "stdout",
     "output_type": "stream",
     "text": [
      "tf 1.0\n",
      "idf 0.0\n",
      "0.0\n",
      "tf 0.666666666667\n",
      "idf 0.405465108108\n",
      "0.270310072072\n",
      "tf 0.333333333333\n",
      "idf 1.09861228867\n",
      "0.366204096223\n"
     ]
    }
   ],
   "source": [
    "import scipy as sp\n",
    "\n",
    "def tfidf(t, d, D):\n",
    "    tf = float(d.count(t)) / sum(d.count(w) for w in set(d))\n",
    "    print \"tf\", tf\n",
    "    idf = sp.log(float(len(D)) / (len([doc for doc in D if t in doc])))\n",
    "    print \"idf\", idf\n",
    "    return tf * idf\n",
    "\n",
    "a, abb, abc = [\"a\"], [\"a\", \"b\", \"b\"], [\"a\", \"b\", \"c\"]\n",
    "D = [a, abb, abc]\n",
    "\n",
    "print tfidf('a', a, D)\n",
    "print tfidf('b', abb, D)\n",
    "print tfidf('c', abc, D)"
   ]
  },
  {
   "cell_type": "code",
   "execution_count": 126,
   "metadata": {
    "collapsed": true
   },
   "outputs": [],
   "source": [
    "from sklearn.feature_extraction.text import TfidfTransformer\n",
    "transformer = TfidfTransformer()\n",
    "X = vectorizer.fit_transform(corpus)\n",
    "tfidf = transformer.fit_transform(X)\n",
    "weight = tfidf.toarray()    "
   ]
  },
  {
   "cell_type": "code",
   "execution_count": 180,
   "metadata": {
    "collapsed": false
   },
   "outputs": [
    {
     "name": "stdout",
     "output_type": "stream",
     "text": [
      "[[0 0 0 ..., 0 0 0]\n",
      " [0 0 0 ..., 0 0 0]\n",
      " [0 0 0 ..., 0 0 0]\n",
      " ..., \n",
      " [0 0 0 ..., 0 0 0]\n",
      " [0 0 0 ..., 0 0 0]\n",
      " [0 0 0 ..., 0 0 0]]\n"
     ]
    }
   ],
   "source": [
    "print weight"
   ]
  },
  {
   "cell_type": "code",
   "execution_count": 181,
   "metadata": {
    "collapsed": true
   },
   "outputs": [],
   "source": [
    "from sklearn import cluster\n",
    "c = cluster.KMeans(n_clusters=4)\n",
    "k_data = c.fit_predict(weight)"
   ]
  },
  {
   "cell_type": "code",
   "execution_count": 188,
   "metadata": {
    "collapsed": false
   },
   "outputs": [
    {
     "name": "stdout",
     "output_type": "stream",
     "text": [
      "0 1 八仙塵爆  五相關人依公共危險重傷害法辦\n",
      "1 1 八仙樂園意外 病患持續增加中\n",
      "4 1 6月28日各報頭版要聞\n",
      "6 1 八仙樂園舞台大火 逾400人輕重傷\n",
      "11 1 八仙樂園意外 毛揆取消視察臺東行程\n",
      "16 1 八仙樂園貼出暫停營業海報\n",
      "21 1 八仙樂園爆炸案 專家認玉米粉危險性高應管制使用\n",
      "25 1 八仙樂園粉塵燃爆 400人傷 負責人被移送\n",
      "41 1 八仙案  新店慈濟4傷者危急\n",
      "81 1 八仙樂園爆炸案 負責人等5人移送\n",
      "86 1 八仙樂園爆炸 劣賊趁亂打劫\n",
      "87 1 侯友宜探視傷者：追究責任\n",
      "88 1 八仙樂園火警  國軍加入救援\n",
      "89 1 八仙樂園爆炸案災害應變中心　1時30分一級開設\n",
      "90 1 八仙派對彩粉釀大禍  衛福部：研議加強管理\n",
      "91 1 彩色派對主辦人：風勢太大，引燃粉塵\n",
      "93 1 八仙樂園大火  傷者查詢電話\n",
      "95 1 派對彩粉首次釀禍  蔣丙煌：研議管理\n",
      "96 1 八仙樂園火警受傷名單一覽表\n",
      "97 1 00：35統計　八仙大火重傷97人、輕傷132人\n",
      "98 1 衛福部長：北北基醫護人員全力動員\n",
      "100 1 八仙樂園粉塵瞬燃　還原失事現場影片曝光\n",
      "101 1 八仙意外毛揆取消台東熱氣球活動\n",
      "102 1 八仙樂園爆炸案 士檢派3檢察官現場指揮\n",
      "103 1 八仙樂園爆炸案 3檢察官展開調查\n",
      "104 1 八仙爆炸案   陳國恩：全力支援\n",
      "105 1 八仙大火傷患爆量  衛福調度醫院\n",
      "106 1 八仙樂園意外 洪秀柱：為傷者祈福\n",
      "112 1 陳國恩指示警方全力動員 協助救護交通順暢\n",
      "113 1 八仙樂園爆炸228人輕重傷 朱立倫：無限期停業\n",
      "117 1 八仙樂園爆炸意外 朱立倫：立即停園接受調查\n",
      "118 1 北榮33名八里傷患  2/3傷重\n",
      "120 1 八仙樂園塵爆215傷　朱立倫下令即刻停業\n",
      "123 1 八仙樂園爆炸 朱立倫4點指示\n",
      "127 1 【八仙意外】馬英九、毛治國第一時間得知　指示全\n",
      "143 1 【八仙意外】讓專業的來！柯文哲指示啟動EOC\n",
      "144 1 八仙水上樂園爆炸逾百人傷　三軍總醫院收治傷患\n"
     ]
    }
   ],
   "source": [
    "for idx, clusterid in enumerate(k_data):\n",
    "    if clusterid == 1:\n",
    "        print idx, clusterid , ary[idx]"
   ]
  },
  {
   "cell_type": "code",
   "execution_count": 136,
   "metadata": {
    "collapsed": false
   },
   "outputs": [
    {
     "name": "stdout",
     "output_type": "stream",
     "text": [
      "2 0.011102530233\n",
      "3 0.0110025402268\n",
      "4 0.00960399314333\n",
      "5 0.0120554158338\n",
      "6 0.0096489705159\n",
      "7 0.0102714365756\n",
      "8 0.0105014105795\n",
      "9 0.0111362019585\n",
      "10 0.00792476654808\n",
      "11 0.0118931086342\n",
      "12 0.0096601194094\n",
      "13 0.0105644187978\n",
      "14 0.0111870511065\n",
      "15 0.0107679617042\n",
      "16 0.0134790478592\n",
      "17 0.0140221827409\n",
      "18 0.0135024180734\n",
      "19 0.0133491030703\n"
     ]
    }
   ],
   "source": [
    "silhouette_ary = []\n",
    "for i in range(2,20):\n",
    "    c = KMeans(n_clusters=i)\n",
    "    c.fit(weight)\n",
    "    k_means_labels = c.labels_\n",
    "    silhouette_avg = silhouette_score(weight, k_means_labels)\n",
    "    silhouette_ary.append((i, silhouette_avg))\n",
    "    print i, silhouette_avg"
   ]
  },
  {
   "cell_type": "code",
   "execution_count": 137,
   "metadata": {
    "collapsed": false
   },
   "outputs": [
    {
     "data": {
      "image/png": "[encoded data removed]",
      "text/plain": [
       "<matplotlib.figure.Figure at 0x200142e8>"
      ]
     },
     "metadata": {},
     "output_type": "display_data"
    }
   ],
   "source": [
    "import matplotlib.pyplot as plt\n",
    "plotary = [ele[1] for ele in silhouette_ary]\n",
    "plt.plot(plotary)\n",
    "plt.ylabel('Silhoette')\n",
    "plt.xticks(range(0,20), range(2,22))\n",
    "plt.show()"
   ]
  },
  {
   "cell_type": "code",
   "execution_count": 167,
   "metadata": {
    "collapsed": false
   },
   "outputs": [],
   "source": [
    "from sklearn import cluster\n",
    "c = cluster.KMeans(n_clusters=4)\n",
    "k_data = c.fit_predict(weight)\n"
   ]
  },
  {
   "cell_type": "code",
   "execution_count": 168,
   "metadata": {
    "collapsed": false
   },
   "outputs": [
    {
     "name": "stdout",
     "output_type": "stream",
     "text": [
      "(147L, 2L)\n"
     ]
    }
   ],
   "source": [
    "import numpy as np\n",
    "from sklearn.decomposition import PCA\n",
    "pca = PCA(n_components=2)\n",
    "\n",
    "pca_data = pca.fit_transform(weight)\n",
    "print pca_data.shape"
   ]
  },
  {
   "cell_type": "code",
   "execution_count": 169,
   "metadata": {
    "collapsed": false
   },
   "outputs": [
    {
     "name": "stdout",
     "output_type": "stream",
     "text": [
      "[[-0.23662942  0.09247404]\n",
      " [-0.15525001  0.07520898]\n",
      " [ 0.0610721  -0.1347116 ]\n",
      " [ 0.03708505 -0.07860856]\n",
      " [-0.2562607   0.09336841]\n",
      " [ 0.04654335 -0.08786739]\n",
      " [-0.19423054  0.06275548]\n",
      " [ 0.02674307 -0.04670715]\n",
      " [ 0.03792933 -0.06702087]\n",
      " [ 0.09227969  0.00814375]]\n"
     ]
    }
   ],
   "source": [
    "print pca_data[0:10]"
   ]
  },
  {
   "cell_type": "code",
   "execution_count": 170,
   "metadata": {
    "collapsed": false
   },
   "outputs": [
    {
     "data": {
      "text/plain": [
       "<matplotlib.text.Text at 0x1d64db38>"
      ]
     },
     "execution_count": 170,
     "metadata": {},
     "output_type": "execute_result"
    },
    {
     "data": {
      "image/png": "[encoded data removed]",
      "text/plain": [
       "<matplotlib.figure.Figure at 0x1d15d9b0>"
      ]
     },
     "metadata": {},
     "output_type": "display_data"
    }
   ],
   "source": [
    "fig, axes = plt.subplots(ncols=1, nrows=1,figsize=(10,5))\n",
    "axes.scatter(pca_data[:,0], pca_data[:,1], c=['rgbyc'[i] for i in k_data ], s=200)\n",
    "axes.set_title('pca plot')"
   ]
  },
  {
   "cell_type": "code",
   "execution_count": 189,
   "metadata": {
    "collapsed": false
   },
   "outputs": [
    {
     "name": "stdout",
     "output_type": "stream",
     "text": [
      "2 3 希臘國內三分一自動櫃員機現金短缺\n",
      "5 3 基改不算真食物  法國人知情就不買\n",
      "7 3 女子世界盃足球賽  日擊敗澳洲晉4強\n",
      "8 3 《農民曆小幫手》國曆六月二十八日\n",
      "12 3 歐元區財長拒希臘延長救助計劃\n",
      "17 3 挪威「行動大雕」出沒 隨機射路人\n",
      "23 3 2015空姐夏裝大盤點\n",
      "24 3 呂紹煒專欄：違約與退出 希臘與歐洲才能重生(上)\n",
      "27 3 觀點投書：何謂新兵訓練\n",
      "28 3 觀點投書：災難中的護理人\n",
      "31 3 中俄美競造5音速機彈\n",
      "36 3 蘇塞大屠殺 凶手畫面曝光\n",
      "37 3 希臘違約在即  歐盟全力穩定經濟\n",
      "39 3 希臘脫歐變可能 歐洲衝擊大\n",
      "42 3 希債協議  法國願盡最後斡旋努力\n",
      "43 3 挑選新鮮食物 大有學問\n",
      "45 3 夏天吃什麼好 紅棗、苦瓜攏總來\n",
      "46 3 補鈣能手大比拚 牛奶吸收效果好\n",
      "47 3 暑假應考季 小心體內酸鹼失衡\n",
      "48 3 水果中的皇后 草莓多食好處多\n",
      "50 3 古人愛西瓜 清明上河圖可佐證\n",
      "51 3 旺報觀點－紀念抗戰 台日中獲和解轉機\n",
      "52 3 陸官淪陪酒郎 2年10起醉死案\n",
      "53 3 慈禧愛西瓜盅 一天可吃數十個\n",
      "55 3 多位台老兵 受邀赴陸閱兵\n",
      "57 3 首例 馬頒紀念章給新四軍老兵\n",
      "58 3 陸改革遇5瓶頸 難以落實基層\n",
      "59 3 金蟬花替代蟲草 浙民服用中毒\n",
      "60 3 鄭弘儀反紀念抗戰 陸批數典忘祖\n",
      "61 3 《經濟教室》白居易、蘇東坡看加薪\n",
      "62 3 大陸》A股紅火 中資想回家\n",
      "63 3 大陸》華人赴美置產不手軟\n",
      "64 3 北美》線上貸款業搶飯碗\n",
      "65 3 北美》加州光熱發電受挫\n",
      "66 3 歐洲》高貴的徵才條件\n",
      "67 3 東北亞》大眾運輸費變貴了\n",
      "68 3 歐洲》荷蘭的稻田發電\n",
      "69 3 一周大事－6月21日至27日\n",
      "72 3 中間選民為洪秀柱按讚\n",
      "73 3 學生心態M化 台大有責任\n",
      "74 3 莫忘來時路／6月28日－先上車後補票成歷史\n",
      "75 3 短評－柯P 去上海吧\n",
      "76 3 花蓮民宅火警 1男嗆昏送醫\n",
      "77 3 新生代性感女神降臨　男粉絲擠爆簽書會\n",
      "79 3 競選總部入厝　洪慈庸期許台中煥然一新\n",
      "80 3 超商父親節早鳥預購開跑　聶永真設計商品再次收藏\n",
      "82 3 希臘1／3提款機錢被提光\n",
      "83 3 八里爆炸意外衛生局凌晨公布314名傷患名單 分送27\n",
      "84 3 確保銀行穩定 希臘續與ECB緊密合作\n",
      "92 3 希臘態度強硬 歐元區耐心漸失\n",
      "99 3 單親媽媽第一次下海就被逮　直呼太倒楣了！\n",
      "107 3 提升財運的家居風水\n",
      "114 3 希臘盼展延債務 歐元區拒絕\n",
      "122 3 突尼西亞恐攻 已知15英人遇害\n",
      "129 3 LOEWE瘋玩春夏 迷上日本漫畫\n",
      "130 3 捷運內湖站2分鐘 輕質2房最熱銷\n",
      "131 3 BV萬元小皮件 小資族快下手\n",
      "132 3 大人物攝影展開展吸人潮 方念華 時尚入境\n",
      "133 3 新板＋府中雙商圈 每坪60萬起\n",
      "134 3 北台灣最宜居新都心！\n",
      "135 3 Kelly Talk：艾力克斯讓兒挑衣 訓練衣Q\n",
      "136 3 氣墊粉霜又有新品 酷夏玩美肌\n",
      "138 3 男裝周加映高級訂製服 GIVENCHY 黑珍珠使壞\n",
      "139 3 Margiela大衣掛帥 Berluti熱鬧色計\n",
      "140 3 Gap徵小小代言人 艾力克斯親子秀時尚\n"
     ]
    }
   ],
   "source": [
    "for idx, clusterid in enumerate(k_data):\n",
    "    if clusterid == 3:\n",
    "        print idx, clusterid , ary[idx]"
   ]
  },
  {
   "cell_type": "code",
   "execution_count": null,
   "metadata": {
    "collapsed": true
   },
   "outputs": [],
   "source": []
  }
 ],
 "metadata": {
  "kernelspec": {
   "display_name": "Python 2",
   "language": "python",
   "name": "python2"
  },
  "language_info": {
   "codemirror_mode": {
    "name": "ipython",
    "version": 2
   },
   "file_extension": ".py",
   "mimetype": "text/x-python",
   "name": "python",
   "nbconvert_exporter": "python",
   "pygments_lexer": "ipython2",
   "version": "2.7.11"
  }
 },
 "nbformat": 4,
 "nbformat_minor": 0
}
