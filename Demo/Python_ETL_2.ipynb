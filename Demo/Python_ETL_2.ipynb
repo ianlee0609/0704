{
 "cells": [
  {
   "cell_type": "markdown",
   "metadata": {},
   "source": [
    "## 正規表達式"
   ]
  },
  {
   "cell_type": "code",
   "execution_count": 2,
   "metadata": {
    "collapsed": false
   },
   "outputs": [
    {
     "name": "stdout",
     "output_type": "stream",
     "text": [
      "('david', 'largtidata')\n",
      "('david', 'largtidata.com')\n",
      "('1999', '5')\n",
      "David Chiu\n",
      "file.txt root 10.0.0.1 ./\n"
     ]
    }
   ],
   "source": [
    "import re \n",
    "m = re.match(r\"(\\w+)@(\\w+)\", \"david@largtidata.com\") \n",
    "print m.groups()\n",
    " \n",
    "m = re.match(r\"(\\w+)@([a-z.]+)\", \"david@largtidata.com\") \n",
    "print m.groups() \n",
    "\n",
    "m = re.match(r\"(\\d+)\\.(\\d+)\", \"1999.5\") \n",
    "print m.groups() \n",
    "\n",
    "m = re.match(r\"(?P<first_name>\\w+) (?P<last_name>\\w+)\", \"David Chiu\") \n",
    "print m.group('first_name'), m.group('last_name')\n",
    " \n",
    "str1 = 'scp file.txt root@10.0.0.1:./' \n",
    "m=re.search('^scp ([\\w\\.]+) (\\w+)@([\\w\\.]+):(.+)',str1) \n",
    "if m: \n",
    "    print m.group(1), m.group(2), m.group(3), m.group(4)"
   ]
  },
  {
   "cell_type": "code",
   "execution_count": 2,
   "metadata": {
    "collapsed": false
   },
   "outputs": [
    {
     "name": "stdout",
     "output_type": "stream",
     "text": [
      "('0912-345-678',)\n"
     ]
    }
   ],
   "source": [
    "import re\n",
    "str1 = \"0912-345-678\"\n",
    "str2 = \"0912-345678\"\n",
    "\n",
    "m = re.match(r\"(\\d{4}-?\\d{3}-?\\d{3})\", str1)\n",
    "print m.groups()\n",
    "#print re.match(r\"\\d{4}-?\\d{3}-?\\d{3}\", str2)"
   ]
  },
  {
   "cell_type": "markdown",
   "metadata": {},
   "source": [
    "## 使用file IO讀進資料"
   ]
  },
  {
   "cell_type": "code",
   "execution_count": 6,
   "metadata": {
    "collapsed": false
   },
   "outputs": [],
   "source": [
    "# -*- coding: utf-8 -*-\n",
    "f = open('gov/51239291_0607L1030328.txt', 'r') \n",
    "#print f.read() \n",
    "f.close()"
   ]
  },
  {
   "cell_type": "markdown",
   "metadata": {},
   "source": [
    "## 把資料丟進BeautifulSoup"
   ]
  },
  {
   "cell_type": "code",
   "execution_count": 10,
   "metadata": {
    "collapsed": false
   },
   "outputs": [],
   "source": [
    "# -*- coding: utf-8 -*- \n",
    "from bs4 import BeautifulSoup \n",
    "f = open('gov/51239291_0607L1030328.txt', 'r')  \n",
    "response_text = f.read() \n",
    "soup = BeautifulSoup(response_text) \n",
    "f.close()"
   ]
  },
  {
   "cell_type": "markdown",
   "metadata": {},
   "source": [
    "## 抓出含有th 的列"
   ]
  },
  {
   "cell_type": "code",
   "execution_count": 6,
   "metadata": {
    "collapsed": false
   },
   "outputs": [
    {
     "name": "stdout",
     "output_type": "stream",
     "text": [
      "None\n",
      "None\n",
      "<th align=\"left\" bgcolor=\"#DAEBED\" class=\"T11b\" valign=\"middle\" width=\"200\">\n",
      "     機關代碼\n",
      "    </th>\n",
      "<th align=\"left\" bgcolor=\"#DAEBED\" class=\"T11b\" valign=\"middle\" width=\"200\">\n",
      "     機關名稱\n",
      "    </th>\n"
     ]
    }
   ],
   "source": [
    "# -*- coding: utf-8 -*- \n",
    "from bs4 import BeautifulSoup \n",
    "f = open('gov3/51239291_0607L1030328.txt', 'r') \n",
    "response_text = f.read() \n",
    "f.close() \n",
    "\n",
    "soup = BeautifulSoup(''.join(response_text)) \n",
    "tr = soup.findAll('tr') \n",
    "for row in tr[1:5]: \n",
    "    print row.find('th')"
   ]
  },
  {
   "cell_type": "markdown",
   "metadata": {},
   "source": [
    "## 列出表格中所有th 名稱"
   ]
  },
  {
   "cell_type": "code",
   "execution_count": 12,
   "metadata": {
    "collapsed": false
   },
   "outputs": [
    {
     "name": "stdout",
     "output_type": "stream",
     "text": [
      "機關代碼\n",
      "機關名稱\n",
      "單位名稱\n",
      "機關地址\n",
      "聯絡人\n",
      "聯絡電話\n",
      "傳真號碼\n"
     ]
    }
   ],
   "source": [
    "for row in tr[1:10]: \n",
    "    th = row.find('th') \n",
    "    #print th.text.strip()\n",
    "    if th is not None: \n",
    "        print th.text.strip()"
   ]
  },
  {
   "cell_type": "markdown",
   "metadata": {},
   "source": [
    "## Strip 範例"
   ]
  },
  {
   "cell_type": "code",
   "execution_count": 45,
   "metadata": {
    "collapsed": false
   },
   "outputs": [
    {
     "name": "stdout",
     "output_type": "stream",
     "text": [
      " \t string test \t \n",
      "\n",
      "\r",
      " \t string test \t \n",
      "\n",
      "\r\n"
     ]
    }
   ],
   "source": [
    "s = \" \\t string test \\t \\n\\n\\r\" ' \\t string test \\t \\n\\n\\r' \n",
    "print s"
   ]
  },
  {
   "cell_type": "code",
   "execution_count": 46,
   "metadata": {
    "collapsed": false
   },
   "outputs": [
    {
     "name": "stdout",
     "output_type": "stream",
     "text": [
      "string test \t \n",
      "\n",
      "\r",
      " \t string test\n"
     ]
    }
   ],
   "source": [
    "print s.strip()"
   ]
  },
  {
   "cell_type": "code",
   "execution_count": 47,
   "metadata": {
    "collapsed": false
   },
   "outputs": [
    {
     "name": "stdout",
     "output_type": "stream",
     "text": [
      " \t string test \t \n",
      "\n",
      "\r",
      " \t string test\n"
     ]
    }
   ],
   "source": [
    "print s.rstrip()"
   ]
  },
  {
   "cell_type": "code",
   "execution_count": 48,
   "metadata": {
    "collapsed": false
   },
   "outputs": [
    {
     "name": "stdout",
     "output_type": "stream",
     "text": [
      "string test \t \n",
      "\n",
      "\r",
      " \t string test \t \n",
      "\n",
      "\r\n"
     ]
    }
   ],
   "source": [
    "print s.lstrip()"
   ]
  },
  {
   "cell_type": "markdown",
   "metadata": {},
   "source": [
    "## 找出”機關代碼”"
   ]
  },
  {
   "cell_type": "code",
   "execution_count": 14,
   "metadata": {
    "collapsed": false
   },
   "outputs": [
    {
     "name": "stdout",
     "output_type": "stream",
     "text": [
      "3.13.30\n"
     ]
    }
   ],
   "source": [
    "for row in tr: \n",
    "    th = row.find('th') \n",
    "    if th is not None: \n",
    "        if th.text.encode('utf-8').strip() == \"機關代碼\": \n",
    "        \tprint row.find('td').text.strip()"
   ]
  },
  {
   "cell_type": "markdown",
   "metadata": {},
   "source": [
    "## Dictionary 範例"
   ]
  },
  {
   "cell_type": "code",
   "execution_count": 27,
   "metadata": {
    "collapsed": false
   },
   "outputs": [
    {
     "name": "stdout",
     "output_type": "stream",
     "text": [
      "{'a': 100, 'c': 0.98, 'b': 'yes'}\n",
      "['a', 'c', 'b']\n",
      "[100, 0.98, 'yes']\n",
      "100\n",
      "100\n"
     ]
    }
   ],
   "source": [
    "#declare dictionary \n",
    "dic = {'a':100, 'b':\"yes\", 'c':0.98} \n",
    "print dic \n",
    "\n",
    "#get keys in dictionary \n",
    "print dic.keys() \n",
    "\n",
    "#get values in dictionary \n",
    "print dic.values() \n",
    "\n",
    "#get value of given key \n",
    "print dic['a'] \n",
    "\n",
    "#get value of given key \n",
    "print dic.get('a')"
   ]
  },
  {
   "cell_type": "markdown",
   "metadata": {},
   "source": [
    "## Dictionary 範例(二)"
   ]
  },
  {
   "cell_type": "code",
   "execution_count": 28,
   "metadata": {
    "collapsed": false
   },
   "outputs": [
    {
     "name": "stdout",
     "output_type": "stream",
     "text": [
      "{'a': 100, 'c': 0.98, 'b': 'yes', 'd': 'new'}\n",
      "{'a': 100, 'c': 0.98, 'b': 'yes', 'e': 123, 'd': 'new'}\n",
      "a 100\n",
      "c 0.98\n",
      "b yes\n",
      "e 123\n",
      "d new\n"
     ]
    }
   ],
   "source": [
    "#add entry into dictionary \n",
    "dic['d'] = 'new' \n",
    "print dic \n",
    "\n",
    "#add entry into dictionary \n",
    "dic.update({'e':123}) \n",
    "print dic \n",
    "\n",
    "# iter the dictionary \n",
    "for rec in dic: \n",
    "    print rec, dic[rec]"
   ]
  },
  {
   "cell_type": "markdown",
   "metadata": {},
   "source": [
    "## 可以使用dictionary 管理"
   ]
  },
  {
   "cell_type": "code",
   "execution_count": 15,
   "metadata": {
    "collapsed": false
   },
   "outputs": [
    {
     "name": "stdout",
     "output_type": "stream",
     "text": [
      "3.13.30\n",
      "臺灣糖業股份有限公司\n",
      "701臺南市東區生產路68號\n"
     ]
    }
   ],
   "source": [
    "dic = {\"機關代碼\":\"\", \"機關名稱\":\"\", \"機關地址\":\"\"} \n",
    "for row in tr: \n",
    "    th = row.find('th') \n",
    "    if th is not None: \n",
    "        if th.text.encode('utf-8').strip() in dic: \n",
    "            print row.find('td').text.strip()"
   ]
  },
  {
   "cell_type": "markdown",
   "metadata": {},
   "source": [
    "## 把資料塞到dictionary value"
   ]
  },
  {
   "cell_type": "code",
   "execution_count": 30,
   "metadata": {
    "collapsed": false
   },
   "outputs": [
    {
     "name": "stdout",
     "output_type": "stream",
     "text": [
      "{'\\xe6\\xa9\\x9f\\xe9\\x97\\x9c\\xe5\\x90\\x8d\\xe7\\xa8\\xb1': '\\xe8\\x87\\xba\\xe7\\x81\\xa3\\xe7\\xb3\\x96\\xe6\\xa5\\xad\\xe8\\x82\\xa1\\xe4\\xbb\\xbd\\xe6\\x9c\\x89\\xe9\\x99\\x90\\xe5\\x85\\xac\\xe5\\x8f\\xb8', '\\xe6\\xa9\\x9f\\xe9\\x97\\x9c\\xe4\\xbb\\xa3\\xe7\\xa2\\xbc': '3.13.30', '\\xe6\\xa9\\x9f\\xe9\\x97\\x9c\\xe5\\x9c\\xb0\\xe5\\x9d\\x80': '701\\xe8\\x87\\xba\\xe5\\x8d\\x97\\xe5\\xb8\\x82\\xe6\\x9d\\xb1\\xe5\\x8d\\x80\\xe7\\x94\\x9f\\xe7\\x94\\xa2\\xe8\\xb7\\xaf68\\xe8\\x99\\x9f'}\n"
     ]
    }
   ],
   "source": [
    "dic = {\"機關代碼\":\"\", \"機關名稱\":\"\", \"機關地址\":\"\"} \n",
    "for row in tr: \n",
    "    th = row.find('th') \n",
    "    if th is not None: \n",
    "        if th.text.encode('utf-8').strip() in dic: \n",
    "            dic[th.text.encode('utf-8').strip()] = row.find('td').text.encode('utf-8').strip() \n",
    "print dic"
   ]
  },
  {
   "cell_type": "markdown",
   "metadata": {},
   "source": [
    "## 把資料從字典中取出來"
   ]
  },
  {
   "cell_type": "code",
   "execution_count": 31,
   "metadata": {
    "collapsed": false
   },
   "outputs": [
    {
     "name": "stdout",
     "output_type": "stream",
     "text": [
      "機關名稱 臺灣糖業股份有限公司\n",
      "機關代碼 3.13.30\n",
      "機關地址 701臺南市東區生產路68號\n"
     ]
    }
   ],
   "source": [
    "for rec in dic: \n",
    "    print rec, dic[rec]"
   ]
  },
  {
   "cell_type": "markdown",
   "metadata": {},
   "source": [
    "## 取得標的分類"
   ]
  },
  {
   "cell_type": "code",
   "execution_count": 16,
   "metadata": {
    "collapsed": false
   },
   "outputs": [
    {
     "name": "stdout",
     "output_type": "stream",
     "text": [
      "標的分類 <勞務類>    \r\n",
      "                            752\r\n",
      "                            電信服務\n"
     ]
    }
   ],
   "source": [
    "dic = {\"標的分類\":\"\"} \n",
    "for row in tr: \n",
    "    th = row.find('th') \n",
    "    if th is not None: \n",
    "        if th.text.encode('utf-8').strip() in dic: \n",
    "            dic[th.text.encode('utf-8').strip()] = row.find('td').text.encode('utf-8').strip()\n",
    "for rec in dic: \n",
    "    print rec, dic[rec]"
   ]
  },
  {
   "cell_type": "markdown",
   "metadata": {},
   "source": [
    "## 使用repr 找出formatting"
   ]
  },
  {
   "cell_type": "code",
   "execution_count": 18,
   "metadata": {
    "collapsed": false
   },
   "outputs": [
    {
     "name": "stdout",
     "output_type": "stream",
     "text": [
      "\t\t string \n",
      "\t\n",
      "'\\t\\t string \\n\\t'\n"
     ]
    }
   ],
   "source": [
    "a = '\\t\\t string \\n\\t' \n",
    "print a \n",
    "print repr(a)"
   ]
  },
  {
   "cell_type": "markdown",
   "metadata": {},
   "source": [
    "## 看看string 內含什麼字元"
   ]
  },
  {
   "cell_type": "code",
   "execution_count": 19,
   "metadata": {
    "collapsed": false
   },
   "outputs": [
    {
     "name": "stdout",
     "output_type": "stream",
     "text": [
      "'\\xe6\\xa8\\x99\\xe7\\x9a\\x84\\xe5\\x88\\x86\\xe9\\xa1\\x9e' '<\\xe5\\x8b\\x9e\\xe5\\x8b\\x99\\xe9\\xa1\\x9e>    \\r\\n                            752\\r\\n                            \\xe9\\x9b\\xbb\\xe4\\xbf\\xa1\\xe6\\x9c\\x8d\\xe5\\x8b\\x99'\n"
     ]
    }
   ],
   "source": [
    "for rec in dic: \n",
    "    print repr(rec), repr(dic[rec])"
   ]
  },
  {
   "cell_type": "markdown",
   "metadata": {},
   "source": [
    "## 將資料依分隔符號切成陣列"
   ]
  },
  {
   "cell_type": "code",
   "execution_count": 20,
   "metadata": {
    "collapsed": false
   },
   "outputs": [
    {
     "name": "stdout",
     "output_type": "stream",
     "text": [
      "['123', '555', '111', '99']\n",
      "['123', '555,111,99']\n"
     ]
    }
   ],
   "source": [
    "a = '123,555,111,99' \n",
    "print a.split(',') \n",
    "print a.split(',',1) "
   ]
  },
  {
   "cell_type": "markdown",
   "metadata": {},
   "source": [
    "## 將陣列單元依分隔符號合成字串"
   ]
  },
  {
   "cell_type": "code",
   "execution_count": 21,
   "metadata": {
    "collapsed": false
   },
   "outputs": [
    {
     "name": "stdout",
     "output_type": "stream",
     "text": [
      "123|555|111|99\n"
     ]
    }
   ],
   "source": [
    "a = '123,555,111,99' \n",
    "ary = a.split(',') \n",
    "print '|'.join(ary)"
   ]
  },
  {
   "cell_type": "markdown",
   "metadata": {},
   "source": [
    "## 如何移除字串中內含的     換行符號及空白"
   ]
  },
  {
   "cell_type": "code",
   "execution_count": 22,
   "metadata": {
    "collapsed": false
   },
   "outputs": [
    {
     "name": "stdout",
     "output_type": "stream",
     "text": [
      "<勞務類>752電信服務\n"
     ]
    }
   ],
   "source": [
    "for rec in dic: \n",
    "    print ''.join(dic[rec].split())"
   ]
  },
  {
   "cell_type": "markdown",
   "metadata": {},
   "source": [
    "## 時間跟字串轉換"
   ]
  },
  {
   "cell_type": "code",
   "execution_count": 23,
   "metadata": {
    "collapsed": false
   },
   "outputs": [
    {
     "name": "stdout",
     "output_type": "stream",
     "text": [
      "2014-11-18\n",
      "2014-05-03 14:00:00\n"
     ]
    }
   ],
   "source": [
    "from datetime import date,datetime \n",
    "currenttime = datetime.now() \n",
    "print currenttime.strftime(\"%Y-%m-%d\") \n",
    "\n",
    "\n",
    "a = '2014-05-03 14:00' \n",
    "print datetime.strptime(a, \"%Y-%m-%d %H:%M\")"
   ]
  },
  {
   "cell_type": "markdown",
   "metadata": {},
   "source": [
    "## 取得年分"
   ]
  },
  {
   "cell_type": "code",
   "execution_count": 25,
   "metadata": {
    "collapsed": false
   },
   "outputs": [
    {
     "name": "stdout",
     "output_type": "stream",
     "text": [
      "['102', '12/10 10:30']\n"
     ]
    }
   ],
   "source": [
    "response_date = '102/12/10 10:30' \n",
    "getyear = response_date.split('/',1) \n",
    "print getyear"
   ]
  },
  {
   "cell_type": "markdown",
   "metadata": {},
   "source": [
    "## 轉換成西元年"
   ]
  },
  {
   "cell_type": "code",
   "execution_count": 40,
   "metadata": {
    "collapsed": false
   },
   "outputs": [
    {
     "name": "stdout",
     "output_type": "stream",
     "text": [
      "2013/12/10 10:30\n"
     ]
    }
   ],
   "source": [
    "bctime= str(int(getyear[0]) + 1911) + \"/\" + ''.join(getyear[1:]) \n",
    "print bctime"
   ]
  },
  {
   "cell_type": "markdown",
   "metadata": {},
   "source": [
    "## 轉換成時間格式"
   ]
  },
  {
   "cell_type": "code",
   "execution_count": 41,
   "metadata": {
    "collapsed": false
   },
   "outputs": [
    {
     "name": "stdout",
     "output_type": "stream",
     "text": [
      "2013-12-10 10:30:00\n"
     ]
    }
   ],
   "source": [
    "response_date = '102/12/10 10:30' \n",
    "getyear = response_date.split('/', 1) \n",
    "bctime= str(int(getyear[0]) + 1911) + \"/\" + ''.join(getyear[1:]) \n",
    "print datetime.strptime(bctime, \"%Y/%m/%d %H:%M\")"
   ]
  },
  {
   "cell_type": "markdown",
   "metadata": {},
   "source": [
    "## 使用資料宣告"
   ]
  },
  {
   "cell_type": "code",
   "execution_count": 28,
   "metadata": {
    "collapsed": false
   },
   "outputs": [],
   "source": [
    "tenderer_dic = {\"廠商代碼\":\"tenderer_code\", \"廠商名稱\":\"tenderer_name\", \"是否得標\":\"awarded\", \"組織型態\":\"orgnization_type\"} \n",
    "result_dic = {} "
   ]
  },
  {
   "cell_type": "markdown",
   "metadata": {},
   "source": [
    "## 找到award_table_tr_3"
   ]
  },
  {
   "cell_type": "code",
   "execution_count": 29,
   "metadata": {
    "collapsed": false
   },
   "outputs": [],
   "source": [
    "tender_table = soup.find('table', { \"class\" : \"table_block tender_table\" }) \n",
    "award_table_tr_3 = tender_table.findAll( 'tr',{'class':'award_table_tr_3'})"
   ]
  },
  {
   "cell_type": "markdown",
   "metadata": {},
   "source": [
    "## 取得廠商編號"
   ]
  },
  {
   "cell_type": "code",
   "execution_count": 30,
   "metadata": {
    "collapsed": false
   },
   "outputs": [
    {
     "name": "stdout",
     "output_type": "stream",
     "text": [
      "101\n"
     ]
    }
   ],
   "source": [
    "import re \n",
    "m = re.match(r'投標廠商(\\d+)' ,'投標廠商101') \n",
    "print m.group(1)"
   ]
  },
  {
   "cell_type": "markdown",
   "metadata": {},
   "source": [
    "## 統整程式碼"
   ]
  },
  {
   "cell_type": "code",
   "execution_count": 39,
   "metadata": {
    "collapsed": false
   },
   "outputs": [
    {
     "name": "stdout",
     "output_type": "stream",
     "text": [
      "tenderer_name 中華電信股份有限公司臺灣南區電信分公司\n",
      "orgnization_type 公司登記\n",
      "tenderer_code 96979960\n",
      "tenderer_num 1\n",
      "awarded 是\n"
     ]
    }
   ],
   "source": [
    "for tr in award_table_tr_3: \n",
    "    tb =tr.find('table') \n",
    "    grp_num = 0 \n",
    "    if tb is not None: \n",
    "        row = tb.findAll('tr') \n",
    "        for r in row: \n",
    "            th = r.find('th').text \n",
    "            m = re.match(r'投標廠商(\\d+)' ,th.encode('utf-8').strip()) \n",
    "            if m is not None: \n",
    "                grp_num = int(m.group(1)) \n",
    "                result_dic[grp_num] = {'tenderer_num': grp_num} \n",
    "            else: \n",
    "                if th.encode('utf-8').strip() in tenderer_dic: \n",
    "                    result_dic[grp_num][tenderer_dic[th.encode('utf-8').strip()]] = r.find('td').text.strip()\n",
    "#print result_dic\n",
    "\n",
    "for rec in result_dic:\n",
    "    for i in  result_dic[rec]:\n",
    "        print i, result_dic[rec][i]"
   ]
  },
  {
   "cell_type": "markdown",
   "metadata": {},
   "source": [
    "## 處理金額問題"
   ]
  },
  {
   "cell_type": "code",
   "execution_count": 41,
   "metadata": {
    "collapsed": false
   },
   "outputs": [
    {
     "name": "stdout",
     "output_type": "stream",
     "text": [
      "352111\n"
     ]
    }
   ],
   "source": [
    "import re \n",
    "m = re.match( r\"\\$?-?([0-9,]+)\", '$352,111元') \n",
    "print ''.join(m.group(1).split(','))"
   ]
  },
  {
   "cell_type": "markdown",
   "metadata": {},
   "source": [
    "## 整理品項跟得標廠商"
   ]
  },
  {
   "cell_type": "code",
   "execution_count": 44,
   "metadata": {
    "collapsed": false
   },
   "outputs": [
    {
     "name": "stdout",
     "output_type": "stream",
     "text": [
      "request_number 1\n",
      "awarded_tenderer 中華電信股份有限公司臺灣南區電信分公司\n",
      "floor_price_value 305000\n",
      "tender_awarding_value 301500\n"
     ]
    }
   ],
   "source": [
    "award_dic = {}\n",
    "tender_award_dic = {\"得標廠商\":\"awarded_tenderer\", \"預估需求數量\":\"request_number\", \"決標金額\":\"tender_awarding_value\", \"底價金額\":\"floor_price_value\"}\n",
    "award_table_tr_4 = tender_table.findAll( 'tr',{'class':'award_table_tr_4'})\t\t\n",
    "for tr in award_table_tr_4:\n",
    "\ttb =tr.find('table')\n",
    "\tif tb is not None:\n",
    "\t\trow = tb.findAll('tr')\n",
    "\t\titem_num = 0\n",
    "\t\tgrp_num = 0\n",
    "\t\tfor r in row:\n",
    "\t\t\tif r.find('th') is not None:\n",
    "\t\t\t\tth = r.find('th').text\n",
    "\t\t\t\t#print r.find('th').text\n",
    "\t\t\t\tm = re.match(r'第(\\d+)品項' ,th.encode('utf-8').strip())\n",
    "\t\t\t\tm2 = re.match(r'得標廠商(\\d+)' ,th.encode('utf-8').strip())\n",
    "\t\t\t\tif m is not None:\n",
    "\t\t\t\t\titem_num =  int(m.group(1).decode('utf-8'))\n",
    "\t\t\t\t\taward_dic[item_num] = {}\n",
    "\t\t\t\telif m2 is not None:\n",
    "\t\t\t\t\tgrp_num =  int(m2.group(1).decode('utf-8'))\n",
    "\t\t\t\t\taward_dic[item_num][grp_num] = {}\t\t\t\n",
    "\t\t\t\telse:\n",
    "\t\t\t\t\tif th.encode('utf-8').strip() in tender_award_dic:\n",
    "\t\t\t\t\t\t#print th.encode('utf-8').strip().decode('utf-8')\n",
    "\t\t\t\t\t\tif th.encode('utf-8').strip() == \"決標金額\" or th.encode('utf-8').strip() == \"底價金額\":\n",
    "\t\t\t\t\t\t\tm = re.match( r\"\\$?-?([0-9,]+)\", \"\".join( r.find('td').text.split()))\n",
    "\t\t\t\t\t\t\taward_dic[item_num][grp_num][tender_award_dic[th.encode('utf-8').strip()]] =  int(''.join(m.group(0).split(',')))\t\t\t\t\t\t\t\n",
    "\t\t\t\t\t\telse:\n",
    "\t\t\t\t\t\t\taward_dic[item_num][grp_num][tender_award_dic[th.encode('utf-8').strip()]] = r.find('td').text.strip()\n",
    "#print award_dic\n",
    "\n",
    "for rec in award_dic[1][1]:\n",
    "    print rec, award_dic[1][1][rec]"
   ]
  },
  {
   "cell_type": "markdown",
   "metadata": {},
   "source": [
    "## 步驟 0 引用套件"
   ]
  },
  {
   "cell_type": "code",
   "execution_count": 45,
   "metadata": {
    "collapsed": false
   },
   "outputs": [],
   "source": [
    "# -*- coding: utf-8 -*- \n",
    "from bs4 import BeautifulSoup \n",
    "from datetime import datetime \n",
    "import os, sys, re"
   ]
  },
  {
   "cell_type": "markdown",
   "metadata": {},
   "source": [
    "## 步驟1 建立資料抽出函式"
   ]
  },
  {
   "cell_type": "code",
   "execution_count": 46,
   "metadata": {
    "collapsed": false
   },
   "outputs": [],
   "source": [
    "def get_response_element (file_name): \n",
    "    f = open(file_name, 'r') \n",
    "    response_text = f.read() \n",
    "    f.close() \n",
    "    soup = BeautifulSoup(''.join(response_text)) \n",
    "    tender_table = soup.find('table', { \"class\" : \"table_block tender_table\" }) \n",
    "    tr = tender_table.findAll('tr') \n",
    "    return tr"
   ]
  },
  {
   "cell_type": "markdown",
   "metadata": {},
   "source": [
    "## 步驟2 建立時間轉換函式"
   ]
  },
  {
   "cell_type": "code",
   "execution_count": 47,
   "metadata": {
    "collapsed": false
   },
   "outputs": [],
   "source": [
    "def date_conversion(element):\n",
    "        m = re.match(r\"(\\d+/\\d+/\\d+)\",element)\n",
    "        if m is not None:\n",
    "                t = m.group(1).split('/', 1)\n",
    "                if t[0] != '':\n",
    "                        return datetime.strptime(str(int(t[0]) + 1911) + \"/\" + (''.join(t[1:]).split()[0] ), \"%Y/%m/%d\")\n",
    "        else:\n",
    "                return None"
   ]
  },
  {
   "cell_type": "markdown",
   "metadata": {},
   "source": [
    "## 步驟3 建立金額轉換函式"
   ]
  },
  {
   "cell_type": "code",
   "execution_count": 48,
   "metadata": {
    "collapsed": false
   },
   "outputs": [],
   "source": [
    "def money_conversion(element): \n",
    "    m = re.match( r\"\\$?-?([0-9,]+)\", \"\".join(element.split())) \n",
    "    return int(''.join(m.group(0).split(',')))"
   ]
  },
  {
   "cell_type": "markdown",
   "metadata": {},
   "source": [
    "## 步驟4 建立移除空白函式"
   ]
  },
  {
   "cell_type": "code",
   "execution_count": 49,
   "metadata": {
    "collapsed": false
   },
   "outputs": [],
   "source": [
    "def remove_space(element): \n",
    "    return \"\".join(element.split())"
   ]
  },
  {
   "cell_type": "markdown",
   "metadata": {},
   "source": [
    "## 步驟5 建立轉換字典"
   ]
  },
  {
   "cell_type": "code",
   "execution_count": 50,
   "metadata": {
    "collapsed": false
   },
   "outputs": [],
   "source": [
    "name_map = {\"機關代碼\":\"entity_code\", \"機關名稱\":\"procuring_entity\",\"標案案號\":\"job_number\",\"招標方式\":\"procurement_type\",\\\n",
    "    \"決標方式\":\"tender_awarding_type\",\"標案名稱\":\"subject_of_procurement\", \"決標資料類別\":\"attr_of_tender_awarding\", \\\n",
    "    \"標的分類\":\"attr_of_procurement\", \"預算金額\":\"budget_value\", \"開標時間\":\"opening_date\",\"決標公告日期\":\"tender_awarding_announce_date\",\\\n",
    "    \"歸屬計畫類別\":\"project_type\",\"總決標金額\":\"total_tender_awarding_value\",\"底價金額\":\"floor_price_value\",\"決標日期\":\"tender_awarding_date\", \"pkAtmMain\":\"pkAtmMain\"}\n",
    "\n",
    "tender_awards_map = {\"機關代碼\":remove_space, \"機關名稱\":remove_space, \"標案案號\":remove_space, \\\n",
    "    \"招標方式\":remove_space,\"決標方式\":remove_space,\"標案名稱\":remove_space, \"決標資料類別\":remove_space, \\\n",
    "    \"標的分類\":remove_space, \"預算金額\":money_conversion, \"開標時間\":date_conversion,\"歸屬計畫類別\":remove_space, \\\n",
    "    \"總決標金額\":money_conversion,\"底價金額\":money_conversion,\"決標日期\":date_conversion, \"決標公告日期\":date_conversion}\n",
    "\n",
    "tender_award_item_map = {\"得標廠商\":\"awarded_tenderer\", \"預估需求數量\":\"request_number\", \"決標金額\":\"tender_awarding_value\", \"底價金額\":\"floor_price_value\"}\n",
    "tenderer_map = {\"廠商代碼\":\"tenderer_code\", \"廠商名稱\":\"tenderer_name\", \"是否得標\":\"awarded\", \"組織型態\":\"orgnization_type\"}"
   ]
  },
  {
   "cell_type": "markdown",
   "metadata": {},
   "source": [
    "## 步驟6 整理機關、已公告、決標資料"
   ]
  },
  {
   "cell_type": "code",
   "execution_count": 51,
   "metadata": {
    "collapsed": false
   },
   "outputs": [],
   "source": [
    "def get_award_info_dic (element):\n",
    "\treturned_dic = {}\n",
    "\tfor row in element:\n",
    "\t\tth = row.find('th')\n",
    "\t\tif th is not None and row.get('class') is not None:\n",
    "\t\t    th_name = th.text.encode('utf-8').strip()\n",
    "\t\t    if ('award_table_tr_1' or 'award_table_tr_2' or  'award_table_tr_6'  in row.get('class')) and  (th_name in  tender_awards_map):\n",
    "\t\t        returned_dic[name_map[th_name]]   =   tender_awards_map[th_name](row.find('td').text.strip())\n",
    "\treturn returned_dic"
   ]
  },
  {
   "cell_type": "markdown",
   "metadata": {},
   "source": [
    "## 步驟7 整理投標廠商"
   ]
  },
  {
   "cell_type": "code",
   "execution_count": 52,
   "metadata": {
    "collapsed": false
   },
   "outputs": [],
   "source": [
    "def get_tenderer_info_dic (element):\n",
    "\treturned_dic = {}\n",
    "\tgrp_num = 0\n",
    "\tfor tr in element:\n",
    "\t\tif  tr.get('class') is not None and tr.get('class')[0] == 'award_table_tr_3' and tr.find('table') is not None :\n",
    "\t\t\trow = tr.find('table').findAll('tr')          \n",
    "\t\t\tfor r in row:\n",
    "\t\t\t\tif r.find('th') is not None:\n",
    "\t\t\t\t\tth = r.find('th').text.encode('utf-8').strip()\n",
    "\t\t\t\t\tm = re.match(r'投標廠商(\\d+)' ,th)\n",
    "\t\t\t\t\tif m is not None:\n",
    "\t\t\t\t\t\tgrp_num =  int(m.group(1).decode('utf-8'))\n",
    "\t\t\t\t\t\treturned_dic[grp_num] = {'tenderer_num': grp_num}\n",
    "\t\t\t\t\telse:\n",
    "\t\t\t\t\t\tif th in tenderer_map:\n",
    "\t\t\t\t\t\t\treturned_dic[grp_num][tenderer_map[th]] = r.find('td').text.strip()\n",
    "\treturn returned_dic"
   ]
  },
  {
   "cell_type": "markdown",
   "metadata": {},
   "source": [
    "## 步驟8 整理決標品項"
   ]
  },
  {
   "cell_type": "code",
   "execution_count": 53,
   "metadata": {
    "collapsed": false
   },
   "outputs": [],
   "source": [
    "def get_tender_award_item_dic (element):\n",
    "\treturned_dic = {}\n",
    "\titem_num = 0\n",
    "\tgrp_num = 0\n",
    "\tfor tr in element:\n",
    "\t\tif tr.get('class') is not None and tr.get('class')[0] == 'award_table_tr_4' and tr.find('table') is not None:\n",
    "\t\t\trow = tr.find('table').findAll('tr')\n",
    "\t\t\tfor r in row:\n",
    "\t\t\t\tif r.find('th') is not None:\n",
    "\t\t\t\t\tth = r.find('th').text.encode('utf-8').strip()\n",
    "\t\t\t\t\tm = re.match(r'第(\\d+)品項' ,th)\n",
    "\t\t\t\t\tm2 = re.match(r'得標廠商(\\d+)' ,th)\n",
    "\t\t\t\t\tif m is not None:\n",
    "\t\t\t\t\t\titem_num =  int(m.group(1).decode('utf-8'))\n",
    "\t\t\t\t\t\treturned_dic[item_num] = {}\n",
    "\t\t\t\t\telif m2 is not None:\n",
    "\t\t\t\t\t\tgrp_num =  int(m2.group(1).decode('utf-8'))\n",
    "\t\t\t\t\t\treturned_dic[item_num][grp_num] = {}\t\t\t\n",
    "\t\t\t\t\telse:\n",
    "\t\t\t\t\t\tif th in tender_award_item_map:\n",
    "\t\t\t\t\t\t\tif th == \"決標金額\" or th == \"底價金額\":\n",
    "\t\t\t\t\t\t\t\treturned_dic[item_num][grp_num][tender_award_item_map[th]] = money_conversion(r.find('td').text) \t\t\t\t\t\t\t\n",
    "\t\t\t\t\t\t\telse:\n",
    "\t\t\t\t\t\t\t\treturned_dic[item_num][grp_num][tender_award_item_map[th]] = r.find('td').text.strip()\n",
    "\treturn returned_dic"
   ]
  },
  {
   "cell_type": "markdown",
   "metadata": {},
   "source": [
    "## 步驟9 瀏覽整理過的資料"
   ]
  },
  {
   "cell_type": "code",
   "execution_count": 60,
   "metadata": {
    "collapsed": false
   },
   "outputs": [
    {
     "name": "stdout",
     "output_type": "stream",
     "text": [
      " request_number 1\n",
      "awarded_tenderer 中華電信股份有限公司臺灣南區電信分公司\n",
      "floor_price_value 305000\n",
      "tender_awarding_value 301500\n"
     ]
    }
   ],
   "source": [
    "ele = get_response_element('gov3/51239291_0607L1030328.txt') \n",
    "award_info_dic = get_award_info_dic(ele) \n",
    "tenderer_info_dic = get_tenderer_info_dic(ele) \n",
    "tender_award_item_dic = get_tender_award_item_dic(ele)\n",
    "#\n",
    "#for i in award_info_dic:\n",
    "#    print i, award_info_dic[i]\n",
    "for i in  tender_award_item_dic[1][1]:\n",
    "    print i , tender_award_item_dic[1][1][i]\n",
    "#print tender_award_item_dic "
   ]
  },
  {
   "cell_type": "markdown",
   "metadata": {},
   "source": [
    "## 使用python 連結SQLite"
   ]
  },
  {
   "cell_type": "code",
   "execution_count": 61,
   "metadata": {
    "collapsed": false
   },
   "outputs": [
    {
     "name": "stdout",
     "output_type": "stream",
     "text": [
      "SQLite version: 3.7.9\n"
     ]
    }
   ],
   "source": [
    "import sqlite3 as lite \n",
    "import sys \n",
    "con = None \n",
    "dbname = 'nsb.sqlite'\n",
    "try: \n",
    "    con = lite.connect(dbname) # connect to database \n",
    "    cur = con.cursor() # create cursor \n",
    "    cur.execute('SELECT SQLITE_VERSION()') # selece database version  \n",
    "    data = cur.fetchone() # fetch one data at a time \n",
    "    print \"SQLite version: %s\" % data \n",
    "except lite.Error, e: \n",
    "    print \"Error %s:\" % e.args[0] \n",
    "    sys.exit(1) \n",
    "finally: \n",
    "    if con: \n",
    "        con.close()"
   ]
  },
  {
   "cell_type": "markdown",
   "metadata": {},
   "source": [
    "## 使用python 連結SQLite (2)"
   ]
  },
  {
   "cell_type": "code",
   "execution_count": 62,
   "metadata": {
    "collapsed": false
   },
   "outputs": [
    {
     "name": "stdout",
     "output_type": "stream",
     "text": [
      "0912173381 United State\n",
      "0928375018 Tokyo Japan\n",
      "0957209108 Taipei\n"
     ]
    }
   ],
   "source": [
    "import sqlite3 as lite \n",
    "import sys \n",
    "con = lite.connect(\"test.db\") \n",
    "with con: \n",
    "    cur = con.cursor() # Drop Table If Exisits \n",
    "    cur.execute(\"DROP TABLE IF EXISTS PhoneAddress\") \n",
    "    cur.execute(\"CREATE TABLE PhoneAddress(phone CHAR(10) PRIMARY KEY, address TEXT, name TEXT unique, age INT NOT NULL)\") \n",
    "    cur.execute(\"INSERT INTO PhoneAddress VALUES('0912173381','United State','Jhon Doe',53)\") \n",
    "    cur.execute(\"INSERT INTO PhoneAddress VALUES('0928375018','Tokyo Japan','MuMu Cat',6)\") \n",
    "    cur.execute(\"INSERT INTO PhoneAddress VALUES('0957209108','Taipei','Richard',29)\") \n",
    "    cur.execute(\"SELECT phone,address FROM PhoneAddress\") \n",
    "    data = cur.fetchall() \n",
    "    for rec in data: \n",
    "        print rec[0], rec[1] \n",
    "con.close()"
   ]
  },
  {
   "cell_type": "markdown",
   "metadata": {},
   "source": [
    "## 使用python 連結SQLite (3)"
   ]
  },
  {
   "cell_type": "code",
   "execution_count": 63,
   "metadata": {
    "collapsed": false
   },
   "outputs": [
    {
     "name": "stdout",
     "output_type": "stream",
     "text": [
      "(0, u'phone', u'CHAR(10)', 0, None, 1)\n",
      "(1, u'address', u'TEXT', 0, None, 0)\n",
      "(2, u'name', u'TEXT', 0, None, 0)\n",
      "(3, u'age', u'INT', 1, None, 0)\n"
     ]
    }
   ],
   "source": [
    "import sqlite3 as lite \n",
    "import sys \n",
    "con = lite.connect(\"test.db\") \n",
    "with con:\n",
    "    \n",
    "    cur = con.cursor()\n",
    "    # Read Meta Information\n",
    "    cur.execute(\"PRAGMA table_info(PhoneAddress)\")    \n",
    "    rows = cur.fetchall()\n",
    "    for row in rows:\n",
    "        print row\n",
    "    \n",
    "con.close() "
   ]
  },
  {
   "cell_type": "markdown",
   "metadata": {},
   "source": [
    "## fetchone"
   ]
  },
  {
   "cell_type": "code",
   "execution_count": 65,
   "metadata": {
    "collapsed": false
   },
   "outputs": [
    {
     "name": "stdout",
     "output_type": "stream",
     "text": [
      "0912173381 United State\n",
      "0928375018 Tokyo Japan\n"
     ]
    }
   ],
   "source": [
    "import sqlite3 as lite \n",
    "import sys \n",
    "con = lite.connect(\"test.db\") \n",
    "with con: \n",
    "    cur = con.cursor() # Drop Table If Exisits \n",
    "    cur.execute(\"SELECT phone,address FROM PhoneAddress\") \n",
    "    data = cur.fetchone() \n",
    "    print data[0], data[1] \n",
    "    data1 = cur.fetchone() \n",
    "    print data1[0], data1[1] \n",
    "con.close() "
   ]
  },
  {
   "cell_type": "markdown",
   "metadata": {},
   "source": [
    "## fetchall"
   ]
  },
  {
   "cell_type": "code",
   "execution_count": 67,
   "metadata": {
    "collapsed": false
   },
   "outputs": [
    {
     "name": "stdout",
     "output_type": "stream",
     "text": [
      "0912173381 United State\n",
      "(u'0928375018', u'Tokyo Japan')\n",
      "(u'0957209108', u'Taipei')\n"
     ]
    }
   ],
   "source": [
    "import sqlite3 as lite \n",
    "import sys \n",
    "con = lite.connect(\"test.db\") \n",
    "with con: \n",
    "    cur = con.cursor() # Drop Table If Exisits \n",
    "    cur.execute(\"SELECT phone,address FROM PhoneAddress\")\n",
    "    data = cur.fetchone() \n",
    "    print data[0], data[1] \n",
    "    rows = cur.fetchall()\n",
    "    for row in rows:\n",
    "        print row\n",
    "\n",
    "con.close() "
   ]
  },
  {
   "cell_type": "markdown",
   "metadata": {},
   "source": [
    "## 建立資料庫連線"
   ]
  },
  {
   "cell_type": "code",
   "execution_count": 68,
   "metadata": {
    "collapsed": false
   },
   "outputs": [],
   "source": [
    "# -*- coding: utf-8 -*- \n",
    "import sqlite3\n",
    "\n",
    "db = sqlite3.connect('tender.db') \n",
    "cur = db.cursor()"
   ]
  },
  {
   "cell_type": "markdown",
   "metadata": {},
   "source": [
    "## 建立 Tender_awards"
   ]
  },
  {
   "cell_type": "code",
   "execution_count": 69,
   "metadata": {
    "collapsed": false
   },
   "outputs": [
    {
     "data": {
      "text/plain": [
       "<sqlite3.Cursor at 0x980d6a0>"
      ]
     },
     "execution_count": 69,
     "metadata": {},
     "output_type": "execute_result"
    }
   ],
   "source": [
    "cur.execute('''CREATE TABLE IF NOT EXISTS Tender_awards(\n",
    "                id INTEGER PRIMARY KEY,\n",
    "                pkAtmMain TEXT,\n",
    "                procuring_entity TEXT,\n",
    "                entity_code TEXT,\n",
    "                attr_of_procurement TEXT,\n",
    "                opening_date DATETIME,\n",
    "                procurement_type TEXT,\n",
    "                tender_awarding_type TEXT,\n",
    "                project_type TEXT,\n",
    "                subject_of_procurement TEXT,\n",
    "                job_number TEXT,\n",
    "                budget_value BIGINTEGER,\n",
    "                attr_of_tender_awarding TEXT,\n",
    "                floor_price_value BIGINTEGER,\n",
    "                tender_awarding_announce_date DATETIME,\n",
    "                tender_awarding_date DATETIME,\n",
    "                total_tender_awarding_value BIGINTEGER\n",
    "                )''')"
   ]
  },
  {
   "cell_type": "markdown",
   "metadata": {},
   "source": [
    "## 建立 Tenderer"
   ]
  },
  {
   "cell_type": "code",
   "execution_count": 70,
   "metadata": {
    "collapsed": false
   },
   "outputs": [
    {
     "data": {
      "text/plain": [
       "<sqlite3.Cursor at 0x980d6a0>"
      ]
     },
     "execution_count": 70,
     "metadata": {},
     "output_type": "execute_result"
    }
   ],
   "source": [
    "cur.execute('''CREATE TABLE IF NOT EXISTS Tenderer(\n",
    "    id INTEGER PRIMARY KEY,\n",
    "    pkAtmMain TEXT,\n",
    "    job_number TEXT,\n",
    "    tenderer_code TEXT,\n",
    "    tenderer_name TEXT,                \n",
    "    awarded TEXT,\n",
    "    orgnization_type TEXT,\n",
    "    tenderer_num INT\n",
    "    )''')\t"
   ]
  },
  {
   "cell_type": "markdown",
   "metadata": {},
   "source": [
    "## 建立Tender_award_item"
   ]
  },
  {
   "cell_type": "code",
   "execution_count": 71,
   "metadata": {
    "collapsed": false
   },
   "outputs": [
    {
     "data": {
      "text/plain": [
       "<sqlite3.Cursor at 0x980d6a0>"
      ]
     },
     "execution_count": 71,
     "metadata": {},
     "output_type": "execute_result"
    }
   ],
   "source": [
    "cur.execute('''CREATE TABLE IF NOT EXISTS Tender_award_item(\n",
    "    id INTEGER PRIMARY KEY,\n",
    "    pkAtmMain TEXT,\n",
    "    job_number TEXT,\n",
    "    awarded_tenderer TEXT,\n",
    "    request_number INT,                \n",
    "    tender_awarding_value BIGINT,\n",
    "    floor_price_value BIGINT,\n",
    "    item_num INT,\n",
    "    awarded_num INT\n",
    "    )''')"
   ]
  },
  {
   "cell_type": "markdown",
   "metadata": {},
   "source": [
    "## 檢視dictionary 內的資料"
   ]
  },
  {
   "cell_type": "code",
   "execution_count": 72,
   "metadata": {
    "collapsed": false
   },
   "outputs": [
    {
     "name": "stdout",
     "output_type": "stream",
     "text": [
      "{'opening_date': datetime.datetime(2014, 3, 28, 0, 0), 'total_tender_awarding_value': 301500, 'tender_awarding_date': datetime.datetime(2014, 3, 28, 0, 0), 'entity_code': u'3.13.30', 'procurement_type': u'\\u9650\\u5236\\u6027\\u62db\\u6a19(\\u672a\\u7d93\\u516c\\u958b\\u8a55\\u9078\\u6216\\u516c\\u958b\\u5fb5\\u6c42)', 'procuring_entity': u'\\u81fa\\u7063\\u7cd6\\u696d\\u80a1\\u4efd\\u6709\\u9650\\u516c\\u53f8', 'attr_of_procurement': u'<\\u52de\\u52d9\\u985e>752\\u96fb\\u4fe1\\u670d\\u52d9', 'tender_awarding_announce_date': datetime.datetime(2014, 4, 30, 0, 0), 'subject_of_procurement': u'\\u96fb\\u8a71\\u4ea4\\u63db\\u6a5f\\u7dad\\u8b77\\u4fdd\\u990a', 'project_type': u'\\u975e\\u5c6c\\u611b\\u53f0\\u5341\\u4e8c\\u9805\\u8a08\\u756b', 'attr_of_tender_awarding': u'\\u6c7a\\u6a19\\u516c\\u544a', 'budget_value': 337500, 'floor_price_value': 305000, 'job_number': u'0607L1030328', 'tender_awarding_type': u'\\u6700\\u4f4e\\u6a19'}\n",
      "{1: {'tenderer_name': u'\\u4e2d\\u83ef\\u96fb\\u4fe1\\u80a1\\u4efd\\u6709\\u9650\\u516c\\u53f8\\u81fa\\u7063\\u5357\\u5340\\u96fb\\u4fe1\\u5206\\u516c\\u53f8', 'orgnization_type': u'\\u516c\\u53f8\\u767b\\u8a18', 'tenderer_code': u'96979960', 'tenderer_num': 1, 'awarded': u'\\u662f'}}\n",
      "{1: {1: {'request_number': u'1', 'awarded_tenderer': u'\\u4e2d\\u83ef\\u96fb\\u4fe1\\u80a1\\u4efd\\u6709\\u9650\\u516c\\u53f8\\u81fa\\u7063\\u5357\\u5340\\u96fb\\u4fe1\\u5206\\u516c\\u53f8', 'floor_price_value': 305000, 'tender_awarding_value': 301500}}}\n"
     ]
    }
   ],
   "source": [
    "ele = get_response_element('gov3/51239291_0607L1030328.txt') \n",
    "award_info_dic = get_award_info_dic(ele) \n",
    "tenderer_info_dic = get_tenderer_info_dic(ele) \n",
    "tender_award_item_dic = get_tender_award_item_dic(ele)\n",
    "\n",
    "print award_info_dic\n",
    "print tenderer_info_dic \n",
    "print tender_award_item_dic "
   ]
  },
  {
   "cell_type": "markdown",
   "metadata": {},
   "source": [
    "## 將字典塞入資料庫"
   ]
  },
  {
   "cell_type": "code",
   "execution_count": 82,
   "metadata": {
    "collapsed": false
   },
   "outputs": [],
   "source": [
    "#print ', '.join(award_info_dic.keys())\n",
    "columns = ', '.join(award_info_dic.keys()) \n",
    "#', '.join('?' * len(award_info_dic))\n",
    "placeholders = ', '.join('?' * len(award_info_dic)) \n",
    "sql = 'INSERT INTO Tender_awards ({}) VALUES ({})'.format(columns, placeholders) \n",
    "#print sql\n",
    "#cur.execute(sql, award_info_dic.values())\n",
    "db.commit()"
   ]
  },
  {
   "cell_type": "code",
   "execution_count": 83,
   "metadata": {
    "collapsed": false
   },
   "outputs": [
    {
     "name": "stdout",
     "output_type": "stream",
     "text": [
      "{1: {'tenderer_name': u'\\u4e2d\\u83ef\\u96fb\\u4fe1\\u80a1\\u4efd\\u6709\\u9650\\u516c\\u53f8\\u81fa\\u7063\\u5357\\u5340\\u96fb\\u4fe1\\u5206\\u516c\\u53f8', 'orgnization_type': u'\\u516c\\u53f8\\u767b\\u8a18', 'tenderer_code': u'96979960', 'tenderer_num': 1, 'awarded': u'\\u662f'}}\n"
     ]
    }
   ],
   "source": [
    "print tenderer_info_dic"
   ]
  },
  {
   "cell_type": "markdown",
   "metadata": {},
   "source": [
    "## 建立insert 指令"
   ]
  },
  {
   "cell_type": "code",
   "execution_count": 84,
   "metadata": {
    "collapsed": false
   },
   "outputs": [],
   "source": [
    "tenderer_sql = 'INSERT INTO Tenderer (pkAtmMain, job_number, tenderer_code, tenderer_name, awarded, orgnization_type, tenderer_num) VALUES (?,?,?,?,?,?,?) '\n",
    "\n",
    "filename = \"gov3/51239291_0607L1030328.txt\"\n",
    "file_param = filename.split(\".txt\")[0].split(\"_\") \n",
    "pkAtmMain = file_param[0] \n",
    "job_number = '_'.join(file_param[1:]) \n",
    "\n",
    "for ele in tenderer_info_dic : \n",
    "        cur.execute(tenderer_sql , (pkAtmMain, job_number,  \n",
    "          tenderer_info_dic[ele][\"tenderer_code\"],   \n",
    "          tenderer_info_dic[ele][\"tenderer_name\"], \n",
    "          tenderer_info_dic[ele][\"awarded\"], \n",
    "          tenderer_info_dic[ele][\"orgnization_type\"], ele))\n",
    "db.commit() \n",
    "db.close()"
   ]
  },
  {
   "cell_type": "markdown",
   "metadata": {},
   "source": [
    "## 多筆資料插入"
   ]
  },
  {
   "cell_type": "code",
   "execution_count": 85,
   "metadata": {
    "collapsed": false
   },
   "outputs": [],
   "source": [
    "import sqlite3 as lite\n",
    "\n",
    "salary = (\n",
    "    (1 ,          'Paul'  ,      32 ,         'California',  20000),\n",
    "    (2 ,          'Allen' ,      25 ,         'Texas'     ,  15000),\n",
    "    (3 ,          'Teddy' ,      23 ,         'Norway'    ,  20000),\n",
    "    (4 ,          'Mark'  ,      25 ,         'Rich-Mond' ,  65000),\n",
    "    (5 ,          'David' ,      27 ,         'Texas'     ,  85000),\n",
    "    (6 ,          'Kim'   ,      22 ,         'South-Hall',  45000),\n",
    "    (7 ,          'James' ,      24 ,         'Houston'   ,  10000)\n",
    ")\n",
    "department = (\n",
    "(1,           'IT Billing'  ,1),\n",
    "(2,           'Engineerin'  ,2),\n",
    "(3,           'Finance'     ,7),\n",
    "(4,           'Finance'     ,5),\n",
    "(5,           'Finance'     ,6)\n",
    "\n",
    ")"
   ]
  },
  {
   "cell_type": "markdown",
   "metadata": {},
   "source": [
    "## execute v.s. executemany"
   ]
  },
  {
   "cell_type": "code",
   "execution_count": 86,
   "metadata": {
    "collapsed": false
   },
   "outputs": [],
   "source": [
    "con = lite.connect('test.db')\n",
    "\n",
    "with con:\n",
    "    \n",
    "    cur = con.cursor()    \n",
    "    \n",
    "    cur.execute(\"DROP TABLE IF EXISTS Salary\")\n",
    "    cur.execute(\"DROP TABLE IF EXISTS Department\")\n",
    "    \n",
    "    cur.execute(\"CREATE TABLE Salary(ID INT, NAME TEXT, AGE INT, ADDRESS TEXT, SALARY INT, FOREIGN KEY(ID) REFERENCES QOO(EMP_ID))\")\n",
    "    cur.executemany(\"INSERT INTO Salary VALUES(?, ?, ?, ?, ?)\", salary)\n",
    "    \n",
    "    \n",
    "    cur.execute(\"CREATE TABLE Department(ID INT PRIMARY KEY, DEPT CHAR(50), EMP_ID INT)\")\n",
    "    cur.executemany(\"INSERT INTO Department VALUES(?, ?, ?)\", department)\n",
    "con.close() "
   ]
  },
  {
   "cell_type": "markdown",
   "metadata": {},
   "source": [
    "## execute 效能"
   ]
  },
  {
   "cell_type": "code",
   "execution_count": 87,
   "metadata": {
    "collapsed": false
   },
   "outputs": [
    {
     "name": "stdout",
     "output_type": "stream",
     "text": [
      "1.66068100929\n",
      "(100000,)\n"
     ]
    }
   ],
   "source": [
    "import time\n",
    "dbname = 'test.db'\n",
    "con = lite.connect(dbname)\n",
    "\n",
    "items = tuple(range(1,100000))\n",
    "with con:\n",
    "    \n",
    "    cur = con.cursor()    \n",
    "    \n",
    "    cur.execute(\"DROP TABLE IF EXISTS ptest\")\n",
    "    cur.execute(\"CREATE TABLE ptest(ID INT)\")\n",
    "    start = time.time()\n",
    "    for i in range(0,100000):\n",
    "        cur.execute(\"INSERT INTO ptest VALUES(%s)\"%(i))\n",
    "    end = time.time()\n",
    "    print end -start\n",
    "    cur.execute(\"select count(1) from ptest\")\n",
    "    rows = cur.fetchone()\n",
    "    print rows\n",
    "\n",
    "con.close() "
   ]
  },
  {
   "cell_type": "markdown",
   "metadata": {},
   "source": [
    "## executemany 效能"
   ]
  },
  {
   "cell_type": "code",
   "execution_count": 89,
   "metadata": {
    "collapsed": false
   },
   "outputs": [
    {
     "name": "stdout",
     "output_type": "stream",
     "text": [
      "0.21133685112\n",
      "(100000,)\n"
     ]
    }
   ],
   "source": [
    "dbname = 'test.db'\n",
    "con = lite.connect(dbname)\n",
    "with con:\n",
    "    \n",
    "    cur = con.cursor()    \n",
    "    \n",
    "    cur.execute(\"DROP TABLE IF EXISTS ptest\")\n",
    "    cur.execute(\"CREATE TABLE ptest(ID INT)\")\n",
    "    start = time.time()\n",
    "    cur.executemany(\"INSERT INTO ptest VALUES(?)\",((id_, ) for id_ in xrange(100000)))\n",
    "    end = time.time()\n",
    "    print end - start\n",
    "    cur.execute(\"select count(1) from ptest\")\n",
    "    rows = cur.fetchone()\n",
    "    print rows\n",
    "\n",
    "con.close() "
   ]
  },
  {
   "cell_type": "markdown",
   "metadata": {},
   "source": [
    "## Commit v.s. Rollback"
   ]
  },
  {
   "cell_type": "code",
   "execution_count": 91,
   "metadata": {
    "collapsed": false
   },
   "outputs": [
    {
     "name": "stdout",
     "output_type": "stream",
     "text": [
      "(u'0928375018', u'Tokyo Japan', u'MuMu Cat', 9)\n"
     ]
    }
   ],
   "source": [
    "con = lite.connect('test.db')\n",
    "\n",
    "Phone = '0928375018'\n",
    "Age = 9 \n",
    "\n",
    "with con:\n",
    "\n",
    "    cur = con.cursor()    \n",
    "\n",
    "    cur.execute(\"UPDATE PhoneAddress SET age=? WHERE phone=?\", (Age, Phone))        \n",
    "    con.commit()\n",
    "    #con.rollback()\n",
    "    \n",
    "    cur.execute(\"select * from PhoneAddress where phone=?\", (Phone,)) \n",
    "    rows = cur.fetchall()\n",
    "\n",
    "    for row in rows:\n",
    "        print row\n",
    "con.close() "
   ]
  },
  {
   "cell_type": "markdown",
   "metadata": {},
   "source": [
    "## 建立函式 insert_award_info"
   ]
  },
  {
   "cell_type": "code",
   "execution_count": 92,
   "metadata": {
    "collapsed": false
   },
   "outputs": [],
   "source": [
    "def insert_award_info (cur, data_dic, filename):\n",
    "\tfile_param =  filename.split(\".txt\")[0].split(\"_\")\n",
    "\tpkAtmMain = file_param[0]\n",
    "\tdata_dic['pkAtmMain'] = pkAtmMain\n",
    "\tcolumns = ', '.join(data_dic.keys())\n",
    "\tplaceholders = ', '.join('?' * len(data_dic))\n",
    "\tsql = 'INSERT INTO Tender_awards ({}) VALUES ({})'.format(columns, placeholders)\t\n",
    "\tcur.execute(sql, data_dic.values())"
   ]
  },
  {
   "cell_type": "markdown",
   "metadata": {},
   "source": [
    "## 建立函式 insert_tenderer_info"
   ]
  },
  {
   "cell_type": "code",
   "execution_count": 93,
   "metadata": {
    "collapsed": false
   },
   "outputs": [],
   "source": [
    "tenderer_sql = 'INSERT INTO Tenderer (pkAtmMain, job_number, tenderer_code, tenderer_name, awarded, orgnization_type, tenderer_num) VALUES (?,?,?,?,?,?,?)'\n",
    "\n",
    "def insert_tenderer_info (cur, data_dic, filename, sql):\n",
    "\tfile_param =  filename.split(\".txt\")[0].split(\"_\")\n",
    "\tpkAtmMain = file_param[0]\n",
    "\tjob_number = '_'.join(file_param[1:])\n",
    "\tfor ele in data_dic:\t\t\t\n",
    "\t\tcur.execute(sql, (pkAtmMain, job_number,  data_dic[ele][\"tenderer_code\"], data_dic[ele][\"tenderer_name\"],\n",
    "\t\t  data_dic[ele][\"awarded\"], data_dic[ele][\"orgnization_type\"], ele))"
   ]
  },
  {
   "cell_type": "markdown",
   "metadata": {},
   "source": [
    "## 建立函式 insert_tenderawarditem_info"
   ]
  },
  {
   "cell_type": "code",
   "execution_count": 94,
   "metadata": {
    "collapsed": false
   },
   "outputs": [],
   "source": [
    "tenderawarditem_sql = 'INSERT INTO Tender_award_item (pkAtmMain, job_number, awarded_tenderer, request_number, tender_awarding_value, floor_price_value, item_num, awarded_num) VALUES (?,?,?,?,?,?,?,?)' \n",
    "\n",
    "def insert_tenderawarditem_info(cur, data_dic, filename, sql):\n",
    "\tfile_param =  filename.split(\".txt\")[0].split(\"_\")\n",
    "\tpkAtmMain = file_param[0]\n",
    "\tjob_number = '_'.join(file_param[1:])\n",
    "\tfor item in data_dic:\n",
    "\t\tfor grp in data_dic[item]:\n",
    "\t\t\tif 'floor_price_value' not in data_dic[item][grp]:\n",
    "\t\t\t\tdata_dic[item][grp]['floor_price_value'] = None\n",
    "\t\t\tif 'tender_awarding_value' not in data_dic[item][grp]:\n",
    "\t\t\t\tdata_dic[item][grp]['tender_awarding_value'] = None\n",
    "\t\t\tcur.execute(sql, (pkAtmMain, job_number,  data_dic[item][grp][\"awarded_tenderer\"],  data_dic[item][grp][\"request_number\"],\n",
    "\t\t           data_dic[item][grp][\"tender_awarding_value\"],  data_dic[item][grp][\"floor_price_value\"], item, grp)) "
   ]
  },
  {
   "cell_type": "markdown",
   "metadata": {},
   "source": [
    "## 設定表格"
   ]
  },
  {
   "cell_type": "code",
   "execution_count": 95,
   "metadata": {
    "collapsed": false
   },
   "outputs": [],
   "source": [
    "def setup_table(cur):\n",
    "\tcur.execute('''CREATE TABLE IF NOT EXISTS Tender_awards(\n",
    "                id INTEGER PRIMARY KEY,\n",
    "                pkAtmMain TEXT,\n",
    "                procuring_entity TEXT,\n",
    "                entity_code TEXT,\n",
    "                attr_of_procurement TEXT,\n",
    "                opening_date DATETIME,\n",
    "                procurement_type TEXT,\n",
    "                tender_awarding_type TEXT,\n",
    "                project_type TEXT,\n",
    "                subject_of_procurement TEXT,\n",
    "                job_number TEXT,\n",
    "                budget_value BIGINTEGER,\n",
    "                attr_of_tender_awarding TEXT,\n",
    "                floor_price_value BIGINTEGER,\n",
    "                tender_awarding_announce_date DATETIME,\n",
    "                tender_awarding_date DATETIME,\n",
    "                total_tender_awarding_value BIGINTEGER\n",
    "                )''')\n",
    "\t\t\n",
    "\tcur.execute('''CREATE TABLE IF NOT EXISTS Tenderer(\n",
    "                id INTEGER PRIMARY KEY,\n",
    "                pkAtmMain TEXT,\n",
    "                job_number TEXT,\n",
    "\t\ttenderer_code TEXT,\n",
    "\t\ttenderer_name TEXT,                \n",
    "\t\tawarded TEXT,\n",
    "\t\torgnization_type TEXT,\n",
    "\t\ttenderer_num INT\n",
    "                )''')\t\t\n",
    "\tcur.execute('''CREATE TABLE IF NOT EXISTS Tender_award_item(\n",
    "                id INTEGER PRIMARY KEY,\n",
    "                pkAtmMain TEXT,\n",
    "                job_number TEXT,\t\t\n",
    "\t\tawarded_tenderer TEXT,\n",
    "\t\trequest_number INT,                \n",
    "\t\ttender_awarding_value BIGINT,\n",
    "\t\tfloor_price_value BIGINT,\n",
    "\t\titem_num INT,\n",
    "\t\tawarded_num INT\n",
    "                )''')"
   ]
  },
  {
   "cell_type": "markdown",
   "metadata": {},
   "source": [
    "## 程式流程"
   ]
  },
  {
   "cell_type": "code",
   "execution_count": 96,
   "metadata": {
    "collapsed": false
   },
   "outputs": [],
   "source": [
    "import sqlite3\n",
    "import os\n",
    "db = sqlite3.connect('tender2.db') \n",
    "cur = db.cursor() \n",
    "path = \"gov3/\" \n",
    "dirs = os.listdir( path ) \n",
    "setup_table(cur)\n",
    "for filename in dirs: \n",
    "    ele = get_response_element(path + filename) \n",
    "    award_info_dic = get_award_info_dic(ele) \n",
    "    tenderer_info_dic = get_tenderer_info_dic(ele) \n",
    "    tender_award_item_dic = get_tender_award_item_dic(ele) \n",
    "    insert_award_info(cur, award_info_dic, filename) \n",
    "    insert_tenderer_info(cur, tenderer_info_dic, filename, tenderer_sql) \n",
    "    insert_tenderawarditem_info(cur, tender_award_item_dic, filename, tenderawarditem_sql) \n",
    "    db.commit() \n",
    "db.close() "
   ]
  },
  {
   "cell_type": "markdown",
   "metadata": {},
   "source": [
    "## 查詢資料"
   ]
  },
  {
   "cell_type": "code",
   "execution_count": 149,
   "metadata": {
    "collapsed": false
   },
   "outputs": [
    {
     "name": "stdout",
     "output_type": "stream",
     "text": [
      "2 None 臺灣糖業股份有限公司 3.13.30 <勞務類>752電信服務 2014-03-28 00:00:00\n",
      "3 51239883 新北市立大觀國民中學 3.82.6.2 <勞務類>641旅館及其他住宿服務 2013-10-23 00:00:00\n",
      "4 51241099 彰化縣政府 3.76.47 <勞務類>95會員組織服務 2014-04-15 00:00:00\n",
      "5 51241135 桃園縣桃園市公所 3.76.43.51 <勞務類>96娛樂,文化,體育服務 2014-04-25 00:00:00\n"
     ]
    }
   ],
   "source": [
    "import sqlite3\n",
    "import os\n",
    "db = sqlite3.connect('tender.db') \n",
    "cur = db.cursor() \n",
    "cur.execute('select * from Tender_awards')\n",
    "row = cur.fetchall()\n",
    "for r in row[1:5]:\n",
    "    print r[0], r[1], r[2],r[3],r[4],r[5]\n",
    "db.close()"
   ]
  }
 ],
 "metadata": {
  "kernelspec": {
   "display_name": "Python 2",
   "language": "python",
   "name": "python2"
  },
  "language_info": {
   "codemirror_mode": {
    "name": "ipython",
    "version": 2
   },
   "file_extension": ".py",
   "mimetype": "text/x-python",
   "name": "python",
   "nbconvert_exporter": "python",
   "pygments_lexer": "ipython2",
   "version": "2.7.11"
  }
 },
 "nbformat": 4,
 "nbformat_minor": 0
}
