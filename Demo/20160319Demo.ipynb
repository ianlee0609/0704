{
 "cells": [
  {
   "cell_type": "code",
   "execution_count": 84,
   "metadata": {
    "collapsed": false
   },
   "outputs": [
    {
     "name": "stdout",
     "output_type": "stream",
     "text": [
      "Populating the interactive namespace from numpy and matplotlib\n"
     ]
    },
    {
     "name": "stderr",
     "output_type": "stream",
     "text": [
      "WARNING: pylab import has clobbered these variables: ['e', 'cm', 'title', 'clf', 'rec']\n",
      "`%matplotlib` prevents importing * from pylab and numpy\n"
     ]
    }
   ],
   "source": [
    "%pylab inline"
   ]
  },
  {
   "cell_type": "code",
   "execution_count": 4,
   "metadata": {
    "collapsed": false
   },
   "outputs": [
    {
     "name": "stdout",
     "output_type": "stream",
     "text": [
      "[3, 5, 7, 9, 11]\n",
      "<type 'list'>\n"
     ]
    }
   ],
   "source": [
    "import numpy as np\n",
    "a = [1,2,3,4,5]\n",
    "b = [2,3,4,5,6]\n",
    "ary = []\n",
    "for i in range(0, len(a)):\n",
    "    ary.append(a[i] + b[i])\n",
    "print ary\n",
    "print type(ary)\n"
   ]
  },
  {
   "cell_type": "code",
   "execution_count": 5,
   "metadata": {
    "collapsed": false
   },
   "outputs": [
    {
     "name": "stdout",
     "output_type": "stream",
     "text": [
      "<type 'numpy.ndarray'>\n",
      "[0 1 2 3 4 5] 1 (6L,)\n"
     ]
    }
   ],
   "source": [
    "a = np.array([0,1,2,3,4,5])\n",
    "print type(a)\n",
    "print a, a.ndim, a.shape"
   ]
  },
  {
   "cell_type": "code",
   "execution_count": 10,
   "metadata": {
    "collapsed": false
   },
   "outputs": [
    {
     "name": "stdout",
     "output_type": "stream",
     "text": [
      "[ 2  4  6  8 10 12]\n",
      "[-2 -2 -2 -2 -2 -2]\n",
      "[ 0  3  8 15 24 35]\n",
      "[ 0.          0.33333333  0.5         0.6         0.66666667  0.71428571]\n"
     ]
    }
   ],
   "source": [
    "a = np.array([0,1,2,3,4,5])\n",
    "b = np.array([2,3,4,5,6,7])\n",
    "print a+b\n",
    "print a-b\n",
    "print a*b\n",
    "print a * 1.0 /b"
   ]
  },
  {
   "cell_type": "code",
   "execution_count": 11,
   "metadata": {
    "collapsed": false
   },
   "outputs": [
    {
     "name": "stdout",
     "output_type": "stream",
     "text": [
      "[[0 1]\n",
      " [2 3]\n",
      " [4 5]] 2 (3L, 2L)\n"
     ]
    }
   ],
   "source": [
    "a = np.array([0,1,2,3,4,5])\n",
    "b = a.reshape((3,2))\n",
    "print b, b.ndim, b.shape"
   ]
  },
  {
   "cell_type": "code",
   "execution_count": 16,
   "metadata": {
    "collapsed": false
   },
   "outputs": [
    {
     "name": "stdout",
     "output_type": "stream",
     "text": [
      "[[ 0  1]\n",
      " [77  3]\n",
      " [ 4  5]]\n",
      "77\n",
      "[[ 0  1]\n",
      " [77  3]\n",
      " [ 4  5]]\n",
      "[[ 0  1]\n",
      " [77  3]\n",
      " [ 4  5]]\n",
      "[ 0  1 77  3  4  5]\n"
     ]
    }
   ],
   "source": [
    "print b\n",
    "print b[1][0]\n",
    "#= 77\n",
    "b[1][0] = 77\n",
    "print b\n",
    "print b\n",
    "print a\n"
   ]
  },
  {
   "cell_type": "code",
   "execution_count": 18,
   "metadata": {
    "collapsed": false,
    "scrolled": true
   },
   "outputs": [
    {
     "name": "stdout",
     "output_type": "stream",
     "text": [
      "[[0 1]\n",
      " [2 3]\n",
      " [4 5]]\n",
      "[0 1 2 3 4 5]\n",
      "[[-99   1]\n",
      " [  2   3]\n",
      " [  4   5]]\n"
     ]
    }
   ],
   "source": [
    "a = np.array([0,1,2,3,4,5])\n",
    "c = a.reshape((3,2)).copy()\n",
    "print c\n",
    "c[0][0] = -99\n",
    "print a\n",
    "print c\n"
   ]
  },
  {
   "cell_type": "code",
   "execution_count": 19,
   "metadata": {
    "collapsed": false
   },
   "outputs": [
    {
     "name": "stdout",
     "output_type": "stream",
     "text": [
      "[ 0  2  4  6  8 10]\n",
      "[ 0  1  4  9 16 25]\n",
      "[1, 2, 3, 4, 5, 1, 2, 3, 4, 5]\n"
     ]
    },
    {
     "ename": "TypeError",
     "evalue": "unsupported operand type(s) for ** or pow(): 'list' and 'int'",
     "output_type": "error",
     "traceback": [
      "\u001b[1;31m---------------------------------------------------------------------------\u001b[0m",
      "\u001b[1;31mTypeError\u001b[0m                                 Traceback (most recent call last)",
      "\u001b[1;32m<ipython-input-19-93955c7357d8>\u001b[0m in \u001b[0;36m<module>\u001b[1;34m()\u001b[0m\n\u001b[0;32m      5\u001b[0m \u001b[0mb\u001b[0m \u001b[1;33m=\u001b[0m \u001b[1;33m[\u001b[0m\u001b[1;36m1\u001b[0m\u001b[1;33m,\u001b[0m\u001b[1;36m2\u001b[0m\u001b[1;33m,\u001b[0m\u001b[1;36m3\u001b[0m\u001b[1;33m,\u001b[0m\u001b[1;36m4\u001b[0m\u001b[1;33m,\u001b[0m\u001b[1;36m5\u001b[0m\u001b[1;33m]\u001b[0m\u001b[1;33m\u001b[0m\u001b[0m\n\u001b[0;32m      6\u001b[0m \u001b[1;32mprint\u001b[0m \u001b[0mb\u001b[0m \u001b[1;33m*\u001b[0m \u001b[1;36m2\u001b[0m\u001b[1;33m\u001b[0m\u001b[0m\n\u001b[1;32m----> 7\u001b[1;33m \u001b[1;32mprint\u001b[0m \u001b[0mb\u001b[0m \u001b[1;33m**\u001b[0m \u001b[1;36m2\u001b[0m\u001b[1;33m\u001b[0m\u001b[0m\n\u001b[0m",
      "\u001b[1;31mTypeError\u001b[0m: unsupported operand type(s) for ** or pow(): 'list' and 'int'"
     ]
    }
   ],
   "source": [
    "a = np.array([0,1,2,3,4,5])\n",
    "print a *2\n",
    "print a **2\n",
    "\n",
    "b = [1,2,3,4,5]\n",
    "print b * 2\n",
    "print b ** 2\n"
   ]
  },
  {
   "cell_type": "code",
   "execution_count": 29,
   "metadata": {
    "collapsed": false
   },
   "outputs": [
    {
     "name": "stdout",
     "output_type": "stream",
     "text": [
      "[2 3 4]\n",
      "[False False False False False  True]\n",
      "[5]\n",
      "[0 1 2 3 4 4]\n",
      "[0 1 2 3 4 4]\n",
      "[0 1 2 3 3 3]\n",
      "[1 1 2 3 3 3]\n"
     ]
    }
   ],
   "source": [
    "a = np.array([0,1,2,3,4,5])\n",
    "print a[np.array([2,3,4])] # filter value by position \n",
    "\n",
    "print a > 4\n",
    "print a[a>4] # filter value by logic \n",
    "a[a>4] = 4\n",
    "print a\n",
    "\n",
    "print a\n",
    "print a.clip(0,3)\n",
    "print a.clip(1,3)\n",
    "#help(a.clip)\n"
   ]
  },
  {
   "cell_type": "code",
   "execution_count": 30,
   "metadata": {
    "collapsed": false
   },
   "outputs": [
    {
     "name": "stdout",
     "output_type": "stream",
     "text": [
      "[  1.   2.  nan   3.   4.]\n",
      "[False False  True False False]\n",
      "[ 1.  2.  3.  4.]\n",
      "2.5\n"
     ]
    },
    {
     "name": "stderr",
     "output_type": "stream",
     "text": [
      "C:\\Anaconda2\\lib\\site-packages\\ipykernel\\__main__.py:4: DeprecationWarning: numpy boolean negative, the `-` operator, is deprecated, use the `~` operator or the logical_not function instead.\n",
      "C:\\Anaconda2\\lib\\site-packages\\ipykernel\\__main__.py:5: DeprecationWarning: numpy boolean negative, the `-` operator, is deprecated, use the `~` operator or the logical_not function instead.\n"
     ]
    }
   ],
   "source": [
    "c = np.array([1,2,np.NAN, 3, 4])\n",
    "print c\n",
    "print np.isnan(c)\n",
    "print c[-np.isnan(c)]\n",
    "print np.mean(c[-np.isnan(c)])"
   ]
  },
  {
   "cell_type": "code",
   "execution_count": 31,
   "metadata": {
    "collapsed": false
   },
   "outputs": [
    {
     "data": {
      "text/plain": [
       "array([1, 'string', set([1, 2, 3])], dtype=object)"
      ]
     },
     "execution_count": 31,
     "metadata": {},
     "output_type": "execute_result"
    }
   ],
   "source": [
    "np.array([1,\"string\"])\n",
    "np.array([1,\"string\", set([1,2,3])])\n"
   ]
  },
  {
   "cell_type": "code",
   "execution_count": 39,
   "metadata": {
    "collapsed": false
   },
   "outputs": [
    {
     "name": "stdout",
     "output_type": "stream",
     "text": [
      "<type 'numpy.ndarray'>\n",
      "[[    2.    nan]\n",
      " [    3.  1386.]]\n",
      "[[  1.00000000e+00   2.27200000e+03]\n",
      " [  2.00000000e+00              nan]\n",
      " [  3.00000000e+00   1.38600000e+03]\n",
      " [  4.00000000e+00   1.36500000e+03]\n",
      " [  5.00000000e+00   1.48800000e+03]\n",
      " [  6.00000000e+00   1.33700000e+03]\n",
      " [  7.00000000e+00   1.88300000e+03]\n",
      " [  8.00000000e+00   2.28300000e+03]\n",
      " [  9.00000000e+00   1.33500000e+03]\n",
      " [  1.00000000e+01   1.02500000e+03]]\n"
     ]
    }
   ],
   "source": [
    "import os\n",
    "import scipy as sp\n",
    "import matplotlib.pyplot as plt\n",
    "#?sp.genfromtxt\n",
    "data = sp.genfromtxt(\"data/web_traffic.tsv\", delimiter=\"\\t\")\n",
    "print type(data)\n",
    "print data[1:3]\n",
    "print(data[:10])\n"
   ]
  },
  {
   "cell_type": "code",
   "execution_count": 46,
   "metadata": {
    "collapsed": false
   },
   "outputs": [
    {
     "name": "stdout",
     "output_type": "stream",
     "text": [
      "[[  1.00000000e+00   2.27200000e+03]\n",
      " [  2.00000000e+00              nan]\n",
      " [  3.00000000e+00   1.38600000e+03]]\n",
      "[ 1.  2.  3.]\n",
      "8\n",
      "('Number of invalid entries:', 8)\n"
     ]
    }
   ],
   "source": [
    "# fix invalid entries\n",
    "x = data[:, 0]\n",
    "y = data[:, 1]\n",
    "\n",
    "print data[0:3,]\n",
    "print data[0:3,0]\n",
    "#print x\n",
    "#print sp.isnan(y)\n",
    "print sp.sum(sp.isnan(y))\n",
    "\n",
    "print(\"Number of invalid entries:\", sp.sum(sp.isnan(y)))\n",
    "x = x[~sp.isnan(y)]\n",
    "y = y[~sp.isnan(y)]"
   ]
  },
  {
   "cell_type": "code",
   "execution_count": 48,
   "metadata": {
    "collapsed": false
   },
   "outputs": [
    {
     "name": "stdout",
     "output_type": "stream",
     "text": [
      "Populating the interactive namespace from numpy and matplotlib\n"
     ]
    }
   ],
   "source": [
    "%pylab inline"
   ]
  },
  {
   "cell_type": "code",
   "execution_count": 49,
   "metadata": {
    "collapsed": false
   },
   "outputs": [
    {
     "data": {
      "text/plain": [
       "<matplotlib.collections.PathCollection at 0xb04aa58>"
      ]
     },
     "execution_count": 49,
     "metadata": {},
     "output_type": "execute_result"
    },
    {
     "data": {
      "image/png": "[encoded data removed]",
      "text/plain": [
       "<matplotlib.figure.Figure at 0xafe8518>"
      ]
     },
     "metadata": {},
     "output_type": "display_data"
    }
   ],
   "source": [
    "plt.clf()\n",
    "plt.scatter(x, y, s=10)"
   ]
  },
  {
   "cell_type": "code",
   "execution_count": 50,
   "metadata": {
    "collapsed": false
   },
   "outputs": [
    {
     "data": {
      "text/plain": [
       "<matplotlib.collections.PathCollection at 0xb1dfb70>"
      ]
     },
     "execution_count": 50,
     "metadata": {},
     "output_type": "execute_result"
    },
    {
     "data": {
      "image/png": "[encoded data removed]",
      "text/plain": [
       "<matplotlib.figure.Figure at 0xb024c18>"
      ]
     },
     "metadata": {},
     "output_type": "display_data"
    }
   ],
   "source": [
    "plt.clf()\n",
    "\n",
    "plt.title(\"Web traffic over the last month\")\n",
    "plt.xlabel(\"Time\")\n",
    "plt.ylabel(\"Hits/hour\")\n",
    "plt.scatter(x, y, s=10)"
   ]
  },
  {
   "cell_type": "code",
   "execution_count": 51,
   "metadata": {
    "collapsed": false
   },
   "outputs": [
    {
     "name": "stdout",
     "output_type": "stream",
     "text": [
      "Model parameters: [   2.59619213  989.02487106]\n",
      "('Error of the model:', array([  3.17389767e+08]))\n"
     ]
    }
   ],
   "source": [
    "fp1, res, rank, sv, rcond = sp.polyfit(x, y, 1, full=True)\n",
    "print(\"Model parameters: %s\" % fp1)\n",
    "print(\"Error of the model:\", res)"
   ]
  },
  {
   "cell_type": "code",
   "execution_count": 66,
   "metadata": {
    "collapsed": false
   },
   "outputs": [],
   "source": [
    "# plot function for input data\n",
    "colors = ['g', 'k', 'b', 'm', 'r']\n",
    "#linestyles = ['-', '-.', '--', ':', '-']\n",
    "linestyles = '-' * 5 \n",
    "\n",
    "def plot_models(x, y, models, mx=None, ymax=None, xmin=None):\n",
    "    plt.clf()\n",
    "    plt.scatter(x, y, s=10)\n",
    "    plt.title(\"Web traffic over the last month\")\n",
    "    plt.xlabel(\"Time\")\n",
    "    plt.ylabel(\"Hits/hour\")\n",
    "    plt.xticks(\n",
    "        [w * 7 * 24 for w in range(10)], [\"week %i\" % w for w in range(10)])\n",
    "    if models:\n",
    "        if mx is None:\n",
    "            mx = sp.linspace(0, x[-1], 1000)\n",
    "        for model, style, color in zip(models, linestyles, colors):\n",
    "            # print \"Model:\",model\n",
    "            # print \"Coeffs:\",model.coeffs\n",
    "            plt.plot(mx, model(mx), linestyle=style, linewidth=2, c=color)\n",
    "        plt.legend([\"d=%i\" % m.order for m in models], loc=\"upper left\")\n",
    "    plt.autoscale(tight=True)\n",
    "    plt.ylim(ymin=0)\n",
    "    if ymax:\n",
    "        plt.ylim(ymax=ymax)\n",
    "    if xmin:\n",
    "        plt.xlim(xmin=xmin)\n",
    "    plt.grid(True, linestyle='-', color='0.75')\n"
   ]
  },
  {
   "cell_type": "code",
   "execution_count": 68,
   "metadata": {
    "collapsed": false
   },
   "outputs": [
    {
     "name": "stderr",
     "output_type": "stream",
     "text": [
      "C:\\Anaconda2\\lib\\site-packages\\numpy\\lib\\polynomial.py:586: RuntimeWarning: overflow encountered in multiply\n",
      "  scale = NX.sqrt((lhs*lhs).sum(axis=0))\n",
      "C:\\Anaconda2\\lib\\site-packages\\numpy\\lib\\polynomial.py:594: RankWarning: Polyfit may be poorly conditioned\n",
      "  warnings.warn(msg, RankWarning)\n"
     ]
    },
    {
     "data": {
      "image/png": "[encoded data removed]",
      "text/plain": [
       "<matplotlib.figure.Figure at 0xc57c4a8>"
      ]
     },
     "metadata": {},
     "output_type": "display_data"
    }
   ],
   "source": [
    "f1 = sp.poly1d(sp.polyfit(x, y, 1))\n",
    "f2 = sp.poly1d(sp.polyfit(x, y, 2))\n",
    "f3 = sp.poly1d(sp.polyfit(x, y, 3))\n",
    "f10 = sp.poly1d(sp.polyfit(x, y, 10))\n",
    "f100 = sp.poly1d(sp.polyfit(x, y, 100))\n",
    "#plot_models(x, y, [f1])\n",
    "plot_models(x, y, [f1, f2, f3, f10, f100])"
   ]
  },
  {
   "cell_type": "code",
   "execution_count": 80,
   "metadata": {
    "collapsed": false
   },
   "outputs": [
    {
     "name": "stdout",
     "output_type": "stream",
     "text": [
      "('Error of the model:', array([  3.17389767e+08]))\n",
      "('Error of the model:', array([  1.21942326e+08]))\n",
      "('Error of the model:', array([  1.12482231e+08]))\n"
     ]
    }
   ],
   "source": [
    "fp1, res, rank, sv, rcond = sp.polyfit(x, y, 1, full=True)\n",
    "print(\"Error of the model:\", res)\n",
    "\n",
    "fp1, res, rank, sv, rcond = sp.polyfit(x, y, 10, full=True)\n",
    "print(\"Error of the model:\", res)\n",
    "\n",
    "fp1, res, rank, sv, rcond = sp.polyfit(x, y, 15, full=True)\n",
    "print(\"Error of the model:\", res)"
   ]
  },
  {
   "cell_type": "code",
   "execution_count": 81,
   "metadata": {
    "collapsed": false
   },
   "outputs": [
    {
     "name": "stderr",
     "output_type": "stream",
     "text": [
      "C:\\Anaconda2\\lib\\site-packages\\ipykernel\\__main__.py:3: DeprecationWarning: using a non-integer number instead of an integer will result in an error in the future\n",
      "  app.launch_new_instance()\n",
      "C:\\Anaconda2\\lib\\site-packages\\ipykernel\\__main__.py:4: DeprecationWarning: using a non-integer number instead of an integer will result in an error in the future\n",
      "C:\\Anaconda2\\lib\\site-packages\\ipykernel\\__main__.py:5: DeprecationWarning: using a non-integer number instead of an integer will result in an error in the future\n",
      "C:\\Anaconda2\\lib\\site-packages\\ipykernel\\__main__.py:6: DeprecationWarning: using a non-integer number instead of an integer will result in an error in the future\n"
     ]
    },
    {
     "data": {
      "image/png": "[encoded data removed]",
      "text/plain": [
       "<matplotlib.figure.Figure at 0xcdedcc0>"
      ]
     },
     "metadata": {},
     "output_type": "display_data"
    }
   ],
   "source": [
    "# using inflection point for plotting \n",
    "inflection = 3.5 * 7 * 24\n",
    "xa = x[:inflection]\n",
    "ya = y[:inflection]\n",
    "xb = x[inflection:]\n",
    "yb = y[inflection:]\n",
    "\n",
    "fa = sp.poly1d(sp.polyfit(xa, ya, 1))\n",
    "fb = sp.poly1d(sp.polyfit(xb, yb, 1))\n",
    "\n",
    "plot_models(x, y, [fa, fb])"
   ]
  },
  {
   "cell_type": "code",
   "execution_count": 86,
   "metadata": {
    "collapsed": false
   },
   "outputs": [
    {
     "data": {
      "text/plain": [
       "(array([[ 5.1,  3.5,  1.4,  0.2],\n",
       "        [ 4.9,  3. ,  1.4,  0.2],\n",
       "        [ 4.7,  3.2,  1.3,  0.2],\n",
       "        [ 4.6,  3.1,  1.5,  0.2],\n",
       "        [ 5. ,  3.6,  1.4,  0.2]]), array([0, 0, 0, 0, 0]))"
      ]
     },
     "execution_count": 86,
     "metadata": {},
     "output_type": "execute_result"
    }
   ],
   "source": [
    "from sklearn import datasets\n",
    "#print dir(datasets)\n",
    "# Load Dataset iris\n",
    "\n",
    "iris = datasets.load_iris()\n",
    "#print dir(iris)\n",
    "iris.data[0:5], iris.target[0:5]\n"
   ]
  },
  {
   "cell_type": "code",
   "execution_count": 87,
   "metadata": {
    "collapsed": true
   },
   "outputs": [],
   "source": [
    "from sklearn.datasets import load_iris\n",
    "from sklearn import tree\n",
    "iris = load_iris()\n",
    "clf = tree.DecisionTreeClassifier()\n",
    "clf = clf.fit(iris.data, iris.target)\n"
   ]
  },
  {
   "cell_type": "code",
   "execution_count": 100,
   "metadata": {
    "collapsed": false
   },
   "outputs": [
    {
     "name": "stdout",
     "output_type": "stream",
     "text": [
      "[ 4.9  3.   1.4  0.2]\n"
     ]
    }
   ],
   "source": [
    "print iris.data[1,]"
   ]
  },
  {
   "cell_type": "code",
   "execution_count": 101,
   "metadata": {
    "collapsed": false
   },
   "outputs": [
    {
     "name": "stderr",
     "output_type": "stream",
     "text": [
      "C:\\Anaconda2\\lib\\site-packages\\sklearn\\utils\\validation.py:386: DeprecationWarning: Passing 1d arrays as data is deprecated in 0.17 and willraise ValueError in 0.19. Reshape your data either using X.reshape(-1, 1) if your data has a single feature or X.reshape(1, -1) if it contains a single sample.\n",
      "  DeprecationWarning)\n"
     ]
    },
    {
     "data": {
      "text/plain": [
       "array([0])"
      ]
     },
     "execution_count": 101,
     "metadata": {},
     "output_type": "execute_result"
    }
   ],
   "source": [
    "clf.predict(iris.data[1,])"
   ]
  },
  {
   "cell_type": "code",
   "execution_count": 91,
   "metadata": {
    "collapsed": false
   },
   "outputs": [],
   "source": [
    "pred = clf.predict(iris.data)"
   ]
  },
  {
   "cell_type": "code",
   "execution_count": 102,
   "metadata": {
    "collapsed": false
   },
   "outputs": [
    {
     "name": "stdout",
     "output_type": "stream",
     "text": [
      "[[50  0  0]\n",
      " [ 0 50  0]\n",
      " [ 0  0 50]]\n"
     ]
    }
   ],
   "source": [
    "from sklearn.metrics import confusion_matrix \n",
    "cm = confusion_matrix(iris.target, pred) \n",
    "print cm"
   ]
  },
  {
   "cell_type": "code",
   "execution_count": 131,
   "metadata": {
    "collapsed": true
   },
   "outputs": [],
   "source": [
    "def getdetail(url , title, category, cur):\n",
    "    res = requests.get(url)\n",
    "    soup = BeautifulSoup(res.text)\n",
    "    dic = {\"summary\":soup.select('#summary')[0].text,\n",
    "           \"title\": title,\n",
    "           \"category\": category\n",
    "    }\n",
    "    sql = \"insert into news_main({}) values({})\"\n",
    "    sql2 = sql.format(','.join(dic.keys()), ','.join(len(dic) * '?'))\n",
    "    cur.execute(sql2, dic.values())\n",
    "    "
   ]
  },
  {
   "cell_type": "code",
   "execution_count": 133,
   "metadata": {
    "collapsed": false
   },
   "outputs": [],
   "source": [
    "import requests\n",
    "import sqlite3 \n",
    "con = sqlite3.connect('news.sqlite')\n",
    "cur = con.cursor()\n",
    "cur.execute(\"\"\"drop table news_main;\"\"\")\n",
    "cur.execute(\"\"\"create table news_main(summary text, title text, category varchar(20));\"\"\")\n",
    "con.commit()\n",
    "from bs4 import BeautifulSoup\n",
    "domain = 'http://www.appledaily.com.tw'\n",
    "for page in range(1,30):\n",
    "    res = requests.get('http://www.appledaily.com.tw/realtimenews/section/new/' + str(page))\n",
    "    soup = BeautifulSoup(res.text)\n",
    "    for rtddt in soup.select('.rtddt'):\n",
    "        title = rtddt.select('h1')[0].text\n",
    "        category = rtddt.select('h2')[0].text\n",
    "        url = domain + rtddt.select('a')[0]['href'] \n",
    "        getdetail(url , title, category, cur)\n",
    "        con.commit()\n",
    "con.close()"
   ]
  },
  {
   "cell_type": "code",
   "execution_count": 9,
   "metadata": {
    "collapsed": true
   },
   "outputs": [
    {
     "name": "stdout",
     "output_type": "stream",
     "text": [
      "為\n",
      "節能\n",
      "減碳\n",
      "中央\n",
      "今年\n",
      "將線\n",
      "上\n",
      "簽核目\n",
      "公文\n",
      "的\n",
      "目標訂\n",
      "在\n",
      "但柯\n",
      "市府\n",
      "希望\n",
      "更上\n",
      "一層\n",
      "樓\n",
      "自行\n",
      "設定\n",
      "的\n",
      "高標\n",
      "但\n",
      "此舉\n",
      "引來\n",
      "底下\n",
      "局處\n",
      "抱怨\n",
      "台北市\n",
      "長\n",
      "柯文\n",
      "哲今\n",
      "受訪\n",
      "表示\n",
      "他\n",
      "認為\n",
      "這\n",
      "叫做\n",
      "盡力\n",
      "他\n",
      "不\n",
      "贊成\n",
      "政策\n",
      "設一\n",
      "條線\n",
      "要求\n",
      "大家\n",
      "一定\n",
      "要\n",
      "這樣\n",
      "但\n",
      "就是\n",
      "設一個\n",
      "方向\n",
      "讓\n",
      "大家\n",
      "努力\n",
      "他\n",
      "認為\n",
      "公務員\n",
      "就是\n",
      "把\n",
      "目標\n",
      "設定\n",
      "在\n",
      "那裡\n",
      "死板板\n",
      "的\n",
      "所以\n",
      "常\n",
      "造成\n",
      "行政\n",
      "上\n",
      "困擾\n"
     ]
    }
   ],
   "source": [
    "import jieba\n",
    "import re\n",
    "ele =  jieba.cut('為節能減碳，中央今年將線上簽核目公文的目標訂在45％，但柯市府希望更上一層樓，自行設定65％的高標，但此舉引來底下局處抱怨，台北市長柯文哲今受訪表示，他認為這叫做盡力，他不贊成政策設一條線要求大家一定要這樣，但就是設一個方向讓大家努力，他認為公務員就是把目標設定在那裡死板板的，所以常造成行政上困擾。')\n",
    "for e in ele:\n",
    "    m = re.match(ur\"[\\u4e00-\\u9fa5]+\", e)\n",
    "    if m:\n",
    "        print e"
   ]
  },
  {
   "cell_type": "code",
   "execution_count": 34,
   "metadata": {
    "collapsed": false
   },
   "outputs": [
    {
     "name": "stdout",
     "output_type": "stream",
     "text": [
      "【|更新|】|柯|P|：|洪智坤|洩漏|公文|案還|沒|看到|公文|　|今處理\n",
      "留洪智坤| |柯|：|殘障|求職|不易\n",
      "人事|處議|處|洪智坤|　|柯|P|：|不|清楚|議處|結果\n",
      "不易 人事 今處理 公文 更新 案還 殘障 求職 洩漏 洪智坤 清楚 留洪智坤 看到 結果 處議 議處\n",
      "[[0 0 1 2 1 1 0 0 1 1 0 0 1 0 0 0]\n",
      " [1 0 0 0 0 0 1 1 0 0 0 1 0 0 0 0]\n",
      " [0 1 0 0 0 0 0 0 0 1 1 0 0 1 1 1]]\n"
     ]
    }
   ],
   "source": [
    "from sklearn.feature_extraction.text import CountVectorizer\n",
    "\n",
    "ary = ['【更新】柯P：洪智坤洩漏公文案還沒看到公文　今處理',\n",
    "'留洪智坤 柯：殘障求職不易',\n",
    "'人事處議處洪智坤　柯P：不清楚議處結果']\n",
    "corpus = []\n",
    "for title in ary:\n",
    "    corpus.append('|'.join(jieba.cut(title)))\n",
    "print corpus[0]  \n",
    "print corpus[1]  \n",
    "print corpus[2]  \n",
    "vectorizer = CountVectorizer() \n",
    "X = vectorizer.fit_transform(corpus)\n",
    "word = vectorizer.get_feature_names() \n",
    "for w in word:\n",
    "    print w,\n",
    "print \n",
    "print X.toarray()"
   ]
  },
  {
   "cell_type": "code",
   "execution_count": 1,
   "metadata": {
    "collapsed": false
   },
   "outputs": [
    {
     "name": "stderr",
     "output_type": "stream",
     "text": [
      "Building prefix dict from the default dictionary ...\n",
      "DEBUG:jieba:Building prefix dict from the default dictionary ...\n",
      "Loading model from cache c:\\users\\user\\appdata\\local\\temp\\jieba.cache\n",
      "DEBUG:jieba:Loading model from cache c:\\users\\user\\appdata\\local\\temp\\jieba.cache\n",
      "Loading model cost 0.492 seconds.\n",
      "DEBUG:jieba:Loading model cost 0.492 seconds.\n",
      "Prefix dict has been built succesfully.\n",
      "DEBUG:jieba:Prefix dict has been built succesfully.\n"
     ]
    }
   ],
   "source": [
    "import sqlite3 \n",
    "import jieba\n",
    "con = sqlite3.connect('news.sqlite')\n",
    "cur = con.cursor()\n",
    "data = cur.execute(\"\"\"select * from news_main;\"\"\")\n",
    "corpus = []\n",
    "tags = []\n",
    "for rec in data:\n",
    "    if (rec[2] == '娛樂'.decode('utf-8')) or \\\n",
    "        (rec[2] == '社會'.decode('utf-8')) or \\\n",
    "        (rec[2] == '財經'.decode('utf-8')):\n",
    "        summary = rec[0]\n",
    "        corpus.append(' '.join(jieba.cut(summary)))\n",
    "        tags.append(rec[2]) \n",
    "\n",
    "con.close()"
   ]
  },
  {
   "cell_type": "code",
   "execution_count": 2,
   "metadata": {
    "collapsed": false
   },
   "outputs": [
    {
     "name": "stdout",
     "output_type": "stream",
     "text": [
      "社會 105\n",
      "娛樂 78\n",
      "財經 68\n"
     ]
    }
   ],
   "source": [
    "from collections import Counter\n",
    "dic = Counter()\n",
    "for ele in tags:\n",
    "    dic[ele] +=1\n",
    "for ele in dic.most_common(3):\n",
    "    print ele[0], ele[1]"
   ]
  },
  {
   "cell_type": "code",
   "execution_count": 3,
   "metadata": {
    "collapsed": true
   },
   "outputs": [],
   "source": [
    "import jieba\n",
    "from sklearn.feature_extraction.text import CountVectorizer\n",
    "vectorizer = CountVectorizer() \n",
    "X = vectorizer.fit_transform(corpus)\n",
    "word = vectorizer.get_feature_names() "
   ]
  },
  {
   "cell_type": "code",
   "execution_count": 4,
   "metadata": {
    "collapsed": false
   },
   "outputs": [],
   "source": [
    "#for w in word:\n",
    "#    print w,\n",
    "#print "
   ]
  },
  {
   "cell_type": "code",
   "execution_count": 5,
   "metadata": {
    "collapsed": true
   },
   "outputs": [],
   "source": [
    "from sklearn.cross_validation import train_test_split\n",
    "train_data, test_data, train_tag, test_tag = train_test_split(X, tags, test_size=0.30, random_state=42)"
   ]
  },
  {
   "cell_type": "code",
   "execution_count": 6,
   "metadata": {
    "collapsed": false
   },
   "outputs": [
    {
     "name": "stdout",
     "output_type": "stream",
     "text": [
      "175\n",
      "76\n"
     ]
    }
   ],
   "source": [
    "print len(train_tag)\n",
    "print len(test_tag)"
   ]
  },
  {
   "cell_type": "code",
   "execution_count": 7,
   "metadata": {
    "collapsed": false
   },
   "outputs": [
    {
     "data": {
      "text/plain": [
       "MultinomialNB(alpha=0.01, class_prior=None, fit_prior=True)"
      ]
     },
     "execution_count": 7,
     "metadata": {},
     "output_type": "execute_result"
    }
   ],
   "source": [
    "from sklearn.naive_bayes import MultinomialNB\n",
    "clf = MultinomialNB(alpha=0.01)\n",
    "clf.fit(train_data,train_tag)"
   ]
  },
  {
   "cell_type": "code",
   "execution_count": 8,
   "metadata": {
    "collapsed": false
   },
   "outputs": [
    {
     "name": "stdout",
     "output_type": "stream",
     "text": [
      "[u'\\u793e\\u6703' u'\\u5a1b\\u6a02' u'\\u793e\\u6703' u'\\u8ca1\\u7d93'\n",
      " u'\\u8ca1\\u7d93' u'\\u8ca1\\u7d93' u'\\u793e\\u6703' u'\\u8ca1\\u7d93'\n",
      " u'\\u793e\\u6703' u'\\u8ca1\\u7d93' u'\\u8ca1\\u7d93' u'\\u793e\\u6703'\n",
      " u'\\u793e\\u6703' u'\\u793e\\u6703' u'\\u793e\\u6703' u'\\u793e\\u6703'\n",
      " u'\\u5a1b\\u6a02' u'\\u793e\\u6703' u'\\u8ca1\\u7d93' u'\\u793e\\u6703'\n",
      " u'\\u8ca1\\u7d93' u'\\u793e\\u6703' u'\\u5a1b\\u6a02' u'\\u793e\\u6703'\n",
      " u'\\u8ca1\\u7d93' u'\\u8ca1\\u7d93' u'\\u793e\\u6703' u'\\u793e\\u6703'\n",
      " u'\\u8ca1\\u7d93' u'\\u5a1b\\u6a02' u'\\u5a1b\\u6a02' u'\\u8ca1\\u7d93'\n",
      " u'\\u8ca1\\u7d93' u'\\u8ca1\\u7d93' u'\\u5a1b\\u6a02' u'\\u8ca1\\u7d93'\n",
      " u'\\u8ca1\\u7d93' u'\\u5a1b\\u6a02' u'\\u5a1b\\u6a02' u'\\u8ca1\\u7d93'\n",
      " u'\\u8ca1\\u7d93' u'\\u793e\\u6703' u'\\u793e\\u6703' u'\\u793e\\u6703'\n",
      " u'\\u793e\\u6703' u'\\u793e\\u6703' u'\\u5a1b\\u6a02' u'\\u8ca1\\u7d93'\n",
      " u'\\u8ca1\\u7d93' u'\\u5a1b\\u6a02' u'\\u8ca1\\u7d93' u'\\u8ca1\\u7d93'\n",
      " u'\\u8ca1\\u7d93' u'\\u8ca1\\u7d93' u'\\u8ca1\\u7d93' u'\\u5a1b\\u6a02'\n",
      " u'\\u5a1b\\u6a02' u'\\u5a1b\\u6a02' u'\\u5a1b\\u6a02' u'\\u8ca1\\u7d93'\n",
      " u'\\u5a1b\\u6a02' u'\\u793e\\u6703' u'\\u793e\\u6703' u'\\u793e\\u6703'\n",
      " u'\\u8ca1\\u7d93' u'\\u793e\\u6703' u'\\u793e\\u6703' u'\\u793e\\u6703'\n",
      " u'\\u793e\\u6703' u'\\u793e\\u6703' u'\\u8ca1\\u7d93' u'\\u8ca1\\u7d93'\n",
      " u'\\u8ca1\\u7d93' u'\\u793e\\u6703' u'\\u793e\\u6703' u'\\u793e\\u6703']\n"
     ]
    }
   ],
   "source": [
    "pred = clf.predict(test_data)\n",
    "print pred"
   ]
  },
  {
   "cell_type": "code",
   "execution_count": 9,
   "metadata": {
    "collapsed": false
   },
   "outputs": [
    {
     "name": "stdout",
     "output_type": "stream",
     "text": [
      "0.842105263158\n"
     ]
    }
   ],
   "source": [
    "from sklearn.metrics import accuracy_score\n",
    "print accuracy_score(test_tag, pred)"
   ]
  },
  {
   "cell_type": "code",
   "execution_count": 10,
   "metadata": {
    "collapsed": false
   },
   "outputs": [
    {
     "name": "stdout",
     "output_type": "stream",
     "text": [
      "娛樂 社會 財經\n",
      "[[14  1  3]\n",
      " [ 0 28  5]\n",
      " [ 1  2 22]]\n"
     ]
    }
   ],
   "source": [
    "from sklearn.metrics import confusion_matrix \n",
    "a = confusion_matrix(test_tag, pred) \n",
    "for ele in clf.classes_:\n",
    "    print ele,\n",
    "print\n",
    "print a"
   ]
  },
  {
   "cell_type": "code",
   "execution_count": 12,
   "metadata": {
    "collapsed": false
   },
   "outputs": [
    {
     "name": "stdout",
     "output_type": "stream",
     "text": [
      "娛樂 一些 1.0 0.0 0.0\n",
      "娛樂 一個樣 1.0 0.0 0.0\n",
      "娛樂 一出 1.0 0.0 0.0\n",
      "娛樂 一切 1.0 0.0 0.0\n",
      "娛樂 一口 1.0 0.0 0.0\n",
      "娛樂 一向 1.0 0.0 0.0\n",
      "娛樂 一展 1.0 0.0 0.0\n",
      "娛樂 一座 1.0 0.0 0.0\n",
      "娛樂 一戰 1.0 0.0 0.0\n",
      "娛樂 一撇 1.0 0.0 0.0\n",
      "娛樂 一旁 1.0 0.0 0.0\n",
      "娛樂 一日 1.0 1.0 0.0\n",
      "娛樂 一晚 1.0 1.0 0.0\n",
      "娛樂 一次 1.0 0.0 0.0\n",
      "娛樂 一步 1.0 0.0 0.0\n",
      "娛樂 一段 1.0 1.0 0.0\n",
      "娛樂 一氣 1.0 0.0 0.0\n",
      "娛樂 一番 1.0 0.0 0.0\n",
      "娛樂 一秒 1.0 0.0 0.0\n",
      "娛樂 一種 1.0 0.0 0.0\n",
      "娛樂 一線 1.0 0.0 0.0\n",
      "娛樂 一股 1.0 0.0 0.0\n",
      "娛樂 一身 1.0 1.0 0.0\n",
      "娛樂 一連 1.0 0.0 0.0\n",
      "娛樂 一週 1.0 0.0 0.0\n",
      "娛樂 一鳴 1.0 0.0 0.0\n",
      "娛樂 三代 1.0 0.0 0.0\n",
      "娛樂 三個 1.0 0.0 0.0\n",
      "娛樂 三倍 1.0 0.0 0.0\n",
      "娛樂 三口 1.0 0.0 0.0\n",
      "娛樂 三芝 1.0 0.0 0.0\n",
      "娛樂 上台 1.0 0.0 0.0\n",
      "娛樂 上吐下 1.0 0.0 0.0\n",
      "娛樂 上周 1.0 0.0 0.0\n",
      "娛樂 上映 1.0 0.0 0.0\n",
      "娛樂 上架 1.0 0.0 0.0\n",
      "娛樂 上流 1.0 0.0 0.0\n",
      "娛樂 上維安系統 1.0 0.0 0.0\n",
      "娛樂 下榻 1.0 0.0 0.0\n",
      "娛樂 下次 1.0 0.0 0.0\n",
      "娛樂 下輩子 1.0 0.0 0.0\n",
      "娛樂 下週 1.0 0.0 0.0\n",
      "娛樂 不上不下 1.0 0.0 0.0\n",
      "娛樂 不但 1.0 0.0 0.0\n",
      "娛樂 不僅虐 1.0 0.0 0.0\n",
      "娛樂 不到 1.0 1.0 0.0\n",
      "娛樂 不在乎 1.0 0.0 0.0\n",
      "娛樂 不夠 1.0 0.0 0.0\n",
      "娛樂 不好 1.0 0.0 0.0\n",
      "娛樂 不好受 1.0 0.0 0.0\n",
      "娛樂 不妙 1.0 0.0 0.0\n",
      "娛樂 不已 1.0 0.0 0.0\n",
      "娛樂 不手 1.0 0.0 0.0\n",
      "娛樂 不掛 1.0 0.0 0.0\n",
      "娛樂 不是故意 1.0 0.0 0.0\n",
      "娛樂 不時 1.0 0.0 0.0\n",
      "娛樂 不看 1.0 0.0 0.0\n",
      "娛樂 不管 1.0 0.0 0.0\n",
      "娛樂 不要 1.0 1.0 0.0\n",
      "娛樂 不足 1.0 1.0 0.0\n",
      "娛樂 不輸現 1.0 0.0 0.0\n",
      "娛樂 不錯 1.0 0.0 0.0\n",
      "娛樂 世紀 1.0 0.0 0.0\n",
      "娛樂 並感 1.0 0.0 0.0\n",
      "娛樂 並有 1.0 0.0 0.0\n",
      "娛樂 並未 1.0 0.0 0.0\n",
      "娛樂 並激動 1.0 0.0 0.0\n",
      "娛樂 並認 1.0 0.0 0.0\n",
      "娛樂 並趕 1.0 0.0 0.0\n",
      "娛樂 中下旬 1.0 0.0 0.0\n",
      "娛樂 中嫩 1.0 0.0 0.0\n",
      "娛樂 中間 1.0 0.0 0.0\n",
      "娛樂 主播 1.0 0.0 0.0\n",
      "娛樂 主旨 1.0 0.0 0.0\n",
      "娛樂 主流 1.0 0.0 0.0\n",
      "娛樂 主義 1.0 0.0 0.0\n",
      "娛樂 主辦 1.0 0.0 0.0\n",
      "娛樂 主題 1.0 0.0 0.0\n",
      "娛樂 之喬 1.0 0.0 0.0\n",
      "娛樂 之後將 1.0 0.0 0.0\n",
      "娛樂 之後會 1.0 0.0 0.0\n",
      "娛樂 之時 1.0 0.0 0.0\n",
      "娛樂 之類 1.0 0.0 0.0\n",
      "娛樂 九年 1.0 0.0 0.0\n",
      "娛樂 也許 1.0 0.0 0.0\n",
      "娛樂 事務 1.0 0.0 0.0\n",
      "娛樂 事後受 1.0 0.0 0.0\n",
      "娛樂 事會 1.0 0.0 0.0\n",
      "娛樂 二殯 1.0 0.0 0.0\n",
      "娛樂 五百名 1.0 0.0 0.0\n",
      "娛樂 亞倫艾克 1.0 0.0 0.0\n",
      "娛樂 亞歷 1.0 0.0 0.0\n",
      "娛樂 交往 1.0 1.0 0.0\n",
      "娛樂 享受 1.0 0.0 0.0\n",
      "娛樂 亮相 1.0 0.0 1.0\n",
      "娛樂 亮眼 1.0 0.0 0.0\n",
      "娛樂 亮紅燈 1.0 0.0 0.0\n",
      "娛樂 人上 1.0 0.0 0.0\n",
      "娛樂 人人 1.0 0.0 0.0\n",
      "娛樂 人口 1.0 0.0 0.0\n",
      "娛樂 人夫 1.0 0.0 0.0\n",
      "娛樂 人帥 1.0 0.0 0.0\n",
      "娛樂 人心 1.0 0.0 0.0\n",
      "娛樂 人欣羨 1.0 0.0 0.0\n",
      "娛樂 人氣 1.0 0.0 0.0\n",
      "娛樂 人米 1.0 0.0 0.0\n",
      "娛樂 人聯手 1.0 0.0 0.0\n",
      "娛樂 人選 1.0 0.0 0.0\n",
      "娛樂 人陳樂融 1.0 0.0 0.0\n",
      "娛樂 人類 1.0 1.0 0.0\n",
      "娛樂 仁和 1.0 0.0 0.0\n",
      "娛樂 仁愛醫院 1.0 0.0 0.0\n",
      "娛樂 仁愛院區 1.0 0.0 0.0\n",
      "娛樂 今後會 1.0 0.0 0.0\n",
      "娛樂 今為 1.0 0.0 0.0\n",
      "娛樂 今終 1.0 0.0 0.0\n",
      "娛樂 今證實 1.0 0.0 0.0\n",
      "娛樂 他實 1.0 0.0 0.0\n",
      "娛樂 他會 1.0 0.0 0.0\n",
      "娛樂 他飾演 1.0 0.0 0.0\n",
      "娛樂 付兒子 1.0 0.0 0.0\n",
      "娛樂 代替 1.0 0.0 0.0\n",
      "娛樂 以下 1.0 0.0 1.0\n",
      "娛樂 以前 1.0 0.0 0.0\n",
      "娛樂 以為 1.0 0.0 0.0\n",
      "娛樂 以虐 1.0 0.0 0.0\n",
      "娛樂 以號 1.0 0.0 0.0\n",
      "娛樂 以電影 1.0 0.0 0.0\n",
      "娛樂 任性 1.0 0.0 0.0\n",
      "娛樂 企劃 1.0 0.0 0.0\n",
      "娛樂 企圖 1.0 1.0 0.0\n",
      "娛樂 企業家 1.0 0.0 0.0\n",
      "娛樂 伊能靜 1.0 0.0 0.0\n",
      "娛樂 伯里 1.0 0.0 0.0\n",
      "娛樂 伴侶 1.0 0.0 0.0\n",
      "娛樂 伸展操 1.0 0.0 0.0\n",
      "娛樂 但振興 1.0 0.0 0.0\n",
      "娛樂 位子 1.0 0.0 0.0\n",
      "娛樂 低話題 1.0 0.0 0.0\n",
      "娛樂 住主題 1.0 0.0 0.0\n",
      "娛樂 住宿 1.0 0.0 0.0\n",
      "娛樂 何時 1.0 0.0 0.0\n",
      "娛樂 何求 1.0 0.0 0.0\n",
      "娛樂 何潤東 1.0 0.0 0.0\n",
      "娛樂 何豪傑 1.0 0.0 0.0\n",
      "娛樂 何陶 1.0 0.0 0.0\n",
      "娛樂 作且 1.0 0.0 0.0\n",
      "娛樂 作客 1.0 0.0 0.0\n",
      "娛樂 作宣傳 1.0 0.0 0.0\n",
      "娛樂 作片 1.0 0.0 0.0\n",
      "娛樂 你們 1.0 0.0 0.0\n",
      "娛樂 你好 1.0 0.0 0.0\n",
      "娛樂 你死我活 1.0 0.0 0.0\n",
      "娛樂 使得 1.0 0.0 0.0\n",
      "娛樂 來個 1.0 0.0 0.0\n",
      "娛樂 例行 1.0 0.0 0.0\n",
      "娛樂 俐落 1.0 0.0 0.0\n",
      "娛樂 保留 1.0 0.0 0.0\n",
      "娛樂 修長 1.0 0.0 0.0\n",
      "娛樂 個小時 1.0 1.0 0.0\n",
      "娛樂 個繽紛 1.0 0.0 0.0\n",
      "娛樂 倒也不 1.0 0.0 0.0\n",
      "娛樂 候選人 1.0 0.0 0.0\n",
      "娛樂 倫敦 1.0 0.0 0.0\n",
      "娛樂 倫敦救 1.0 0.0 0.0\n",
      "娛樂 值得 1.0 0.0 0.0\n",
      "娛樂 假酒 1.0 0.0 0.0\n",
      "娛樂 停止 1.0 0.0 0.0\n",
      "娛樂 健康 1.0 1.0 0.0\n",
      "娛樂 側目 1.0 0.0 0.0\n",
      "娛樂 偶像 1.0 0.0 0.0\n",
      "娛樂 偶然 1.0 0.0 0.0\n",
      "娛樂 偷偷 1.0 0.0 0.0\n",
      "娛樂 傑哈 1.0 0.0 0.0\n",
      "娛樂 備受 1.0 0.0 0.0\n",
      "娛樂 傳喚庭 1.0 0.0 0.0\n",
      "娛樂 傳奇 1.0 0.0 0.0\n",
      "娛樂 傳室 1.0 0.0 0.0\n",
      "娛樂 傳真 1.0 0.0 0.0\n",
      "娛樂 傷痕 1.0 0.0 0.0\n",
      "娛樂 僅執導過 1.0 0.0 0.0\n",
      "娛樂 儀器 1.0 0.0 0.0\n",
      "娛樂 優勝者 1.0 0.0 0.0\n",
      "娛樂 充滿 1.0 0.0 0.0\n",
      "娛樂 先是 1.0 0.0 0.0\n",
      "娛樂 免費 1.0 0.0 0.0\n",
      "娛樂 入榜 1.0 0.0 0.0\n",
      "娛樂 內心 1.0 0.0 0.0\n",
      "娛樂 內文恐 1.0 0.0 0.0\n",
      "娛樂 內閣 1.0 0.0 0.0\n",
      "娛樂 全屬 1.0 0.0 0.0\n",
      "娛樂 全文 1.0 0.0 1.0\n",
      "娛樂 全真 1.0 0.0 0.0\n",
      "娛樂 全都 1.0 0.0 0.0\n",
      "娛樂 兩人 1.0 0.0 0.0\n",
      "娛樂 兩支 1.0 0.0 0.0\n",
      "娛樂 兩旁 1.0 0.0 0.0\n",
      "娛樂 兩極 1.0 0.0 0.0\n",
      "娛樂 兩種 1.0 0.0 0.0\n",
      "娛樂 兩部長 1.0 0.0 0.0\n",
      "娛樂 八字 1.0 0.0 0.0\n",
      "娛樂 八點 1.0 0.0 0.0\n",
      "娛樂 公斤 1.0 0.0 0.0\n",
      "娛樂 公眾場 1.0 0.0 0.0\n",
      "娛樂 六處 1.0 0.0 0.0\n",
      "娛樂 其他 1.0 1.0 0.0\n",
      "娛樂 其實 1.0 1.0 1.0\n",
      "娛樂 其揮 1.0 0.0 0.0\n",
      "娛樂 兼差 1.0 0.0 0.0\n",
      "娛樂 再生 1.0 1.0 0.0\n",
      "娛樂 再痛 1.0 0.0 0.0\n",
      "娛樂 冒險 1.0 0.0 0.0\n",
      "娛樂 冷得 1.0 0.0 0.0\n",
      "娛樂 冷笑 1.0 0.0 0.0\n",
      "娛樂 冷靜 1.0 0.0 0.0\n",
      "娛樂 出來 1.0 0.0 0.0\n",
      "娛樂 出去 1.0 0.0 0.0\n",
      "娛樂 出唱片 1.0 0.0 0.0\n",
      "娛樂 出境 1.0 0.0 0.0\n",
      "娛樂 出生 1.0 0.0 0.0\n",
      "娛樂 出門 1.0 1.0 0.0\n",
      "娛樂 函送 1.0 1.0 0.0\n",
      "娛樂 分手 1.0 1.0 0.0\n",
      "娛樂 分給 1.0 0.0 0.0\n",
      "娛樂 到後期 1.0 0.0 0.0\n",
      "娛樂 到後面 1.0 0.0 0.0\n",
      "娛樂 刺激 1.0 0.0 1.0\n",
      "娛樂 則是 1.0 0.0 0.0\n",
      "娛樂 前年 1.0 1.0 1.0\n",
      "娛樂 前成員 1.0 0.0 0.0\n",
      "娛樂 前進 1.0 0.0 0.0\n",
      "娛樂 剛剛性 1.0 0.0 0.0\n",
      "娛樂 剛剛播 1.0 0.0 0.0\n",
      "娛樂 剩女 1.0 0.0 0.0\n",
      "娛樂 創華語 1.0 0.0 0.0\n",
      "娛樂 劇很有 1.0 0.0 0.0\n",
      "娛樂 劇為 1.0 0.0 0.0\n",
      "娛樂 劉詩詩 1.0 0.0 0.0\n",
      "娛樂 劉雪華 1.0 0.0 0.0\n",
      "娛樂 功力 1.0 0.0 0.0\n",
      "娛樂 加上 1.0 1.0 0.0\n",
      "娛樂 加大 1.0 0.0 0.0\n",
      "娛樂 加護 1.0 0.0 0.0\n",
      "娛樂 勇氣 1.0 0.0 0.0\n",
      "娛樂 勉強 1.0 0.0 0.0\n",
      "娛樂 動作 1.0 0.0 0.0\n",
      "娛樂 動作場 1.0 0.0 0.0\n",
      "娛樂 動即 1.0 0.0 0.0\n",
      "娛樂 動向 1.0 0.0 0.0\n",
      "娛樂 動彈 1.0 0.0 0.0\n",
      "娛樂 勾引 1.0 1.0 0.0\n",
      "娛樂 包下 1.0 0.0 0.0\n",
      "娛樂 化解 1.0 0.0 0.0\n",
      "娛樂 北檢業績 1.0 0.0 0.0\n",
      "娛樂 北海 1.0 0.0 0.0\n",
      "娛樂 北海道 1.0 0.0 0.0\n",
      "娛樂 十足 1.0 0.0 0.0\n",
      "娛樂 千萬 1.0 0.0 0.0\n",
      "娛樂 千萬要 1.0 0.0 0.0\n",
      "娛樂 協議 1.0 0.0 0.0\n",
      "娛樂 卡司 1.0 0.0 0.0\n",
      "娛樂 即將 1.0 0.0 1.0\n",
      "娛樂 原本 1.0 1.0 1.0\n",
      "娛樂 參與 1.0 0.0 1.0\n",
      "娛樂 參賽 1.0 0.0 0.0\n",
      "娛樂 反感 1.0 0.0 0.0\n",
      "娛樂 反應 1.0 0.0 0.0\n",
      "娛樂 反正 1.0 1.0 0.0\n",
      "娛樂 反而 1.0 0.0 0.0\n",
      "娛樂 取代 1.0 0.0 0.0\n",
      "娛樂 取景 1.0 0.0 0.0\n",
      "娛樂 取自 1.0 0.0 0.0\n",
      "娛樂 受人 1.0 0.0 0.0\n",
      "娛樂 口吻 1.0 0.0 0.0\n",
      "娛樂 古物 1.0 1.0 0.0\n",
      "娛樂 古裝劇 1.0 0.0 0.0\n",
      "娛樂 另一半 1.0 0.0 0.0\n",
      "娛樂 另一家 1.0 0.0 0.0\n",
      "娛樂 只有 1.0 0.0 0.0\n",
      "娛樂 叫做 1.0 0.0 0.0\n",
      "娛樂 可剛 1.0 0.0 0.0\n",
      "娛樂 可怕 1.0 1.0 0.0\n",
      "娛樂 可攻 1.0 0.0 0.0\n",
      "娛樂 可柔 1.0 0.0 0.0\n",
      "娛樂 可見 1.0 1.0 0.0\n",
      "娛樂 台上 1.0 0.0 0.0\n",
      "娛樂 台北市立 1.0 0.0 0.0\n",
      "娛樂 台大 1.0 1.0 0.0\n",
      "娛樂 台灣八點 1.0 0.0 0.0\n",
      "娛樂 台灣帥 1.0 0.0 0.0\n",
      "娛樂 台獨 1.0 0.0 0.0\n",
      "娛樂 吃太多 1.0 0.0 0.0\n",
      "娛樂 各國 1.0 0.0 0.0\n",
      "娛樂 各類 1.0 0.0 0.0\n",
      "娛樂 合放閃 1.0 0.0 0.0\n",
      "娛樂 合體 1.0 0.0 0.0\n",
      "娛樂 吉他 1.0 0.0 0.0\n",
      "娛樂 同一 1.0 0.0 0.0\n",
      "娛樂 同居 1.0 0.0 0.0\n",
      "娛樂 同年 1.0 0.0 0.0\n",
      "娛樂 同批 1.0 0.0 0.0\n",
      "娛樂 同放 1.0 0.0 0.0\n",
      "娛樂 同時 1.0 1.0 0.0\n",
      "娛樂 同樣 1.0 0.0 0.0\n",
      "娛樂 同歡 1.0 0.0 0.0\n",
      "娛樂 名並 1.0 0.0 0.0\n",
      "娛樂 名單 1.0 0.0 0.0\n",
      "娛樂 名字 1.0 0.0 0.0\n",
      "娛樂 名號 1.0 0.0 0.0\n",
      "娛樂 吳宗憲 1.0 0.0 0.0\n",
      "娛樂 吳慷 1.0 0.0 0.0\n",
      "娛樂 吳慷仁 1.0 0.0 0.0\n",
      "娛樂 吳洛纓 1.0 0.0 0.0\n",
      "娛樂 吳玟 1.0 0.0 0.0\n",
      "娛樂 吸引 1.0 1.0 0.0\n",
      "娛樂 吸睛 1.0 0.0 0.0\n",
      "娛樂 呂蒔媛 1.0 0.0 0.0\n",
      "娛樂 呂雪鳳 1.0 0.0 0.0\n",
      "娛樂 周四 1.0 1.0 0.0\n",
      "娛樂 周子 1.0 0.0 0.0\n",
      "娛樂 周日 1.0 0.0 0.0\n",
      "娛樂 周杰倫 1.0 0.0 0.0\n",
      "娛樂 周董 1.0 0.0 0.0\n",
      "娛樂 呼喚 1.0 0.0 0.0\n",
      "娛樂 哀傷 1.0 0.0 0.0\n",
      "娛樂 哀怨 1.0 0.0 0.0\n",
      "娛樂 哈特 1.0 0.0 0.0\n",
      "娛樂 哥倫 1.0 0.0 0.0\n",
      "娛樂 哭笑不得 1.0 0.0 0.0\n",
      "娛樂 唯有 1.0 0.0 0.0\n",
      "娛樂 唱功 1.0 0.0 0.0\n",
      "娛樂 唱歌 1.0 0.0 0.0\n",
      "娛樂 唱法 1.0 0.0 0.0\n",
      "娛樂 唱紅 1.0 0.0 0.0\n",
      "娛樂 唱腔 1.0 0.0 0.0\n",
      "娛樂 商場 1.0 0.0 0.0\n",
      "娛樂 商業動 1.0 0.0 0.0\n",
      "娛樂 問及 1.0 0.0 0.0\n",
      "娛樂 問問 1.0 0.0 0.0\n",
      "娛樂 問過 1.0 0.0 0.0\n",
      "娛樂 喜愛 1.0 0.0 0.0\n",
      "娛樂 喜愛追劇 1.0 0.0 0.0\n",
      "娛樂 喜訊及 1.0 0.0 0.0\n",
      "娛樂 喬及 1.0 0.0 0.0\n",
      "娛樂 單位 1.0 0.0 0.0\n",
      "娛樂 單調 1.0 0.0 0.0\n",
      "娛樂 單飛 1.0 0.0 0.0\n",
      "娛樂 嗓音 1.0 0.0 0.0\n",
      "娛樂 嘲諷 1.0 0.0 0.0\n",
      "娛樂 噩耗 1.0 1.0 1.0\n",
      "娛樂 噬血真 1.0 0.0 0.0\n",
      "娛樂 嚇一 1.0 0.0 0.0\n",
      "娛樂 嚴肅 1.0 0.0 0.0\n",
      "娛樂 嚴謹 1.0 0.0 0.0\n",
      "娛樂 囑咐 1.0 0.0 0.0\n",
      "娛樂 四面八方 1.0 0.0 0.0\n",
      "娛樂 回來 1.0 0.0 0.0\n",
      "娛樂 回到 1.0 0.0 0.0\n",
      "娛樂 回台 1.0 0.0 0.0\n",
      "娛樂 回台灣 1.0 0.0 0.0\n",
      "娛樂 回憶 1.0 0.0 0.0\n",
      "娛樂 回憶林 1.0 0.0 0.0\n",
      "娛樂 因國 1.0 0.0 0.0\n",
      "娛樂 因魏 1.0 1.0 0.0\n",
      "娛樂 國中學力 1.0 0.0 0.0\n",
      "娛樂 國倫 1.0 0.0 0.0\n",
      "娛樂 國去 1.0 0.0 0.0\n",
      "娛樂 國片 1.0 0.0 0.0\n",
      "娛樂 團隊 1.0 0.0 1.0\n",
      "娛樂 土壤 1.0 0.0 0.0\n",
      "娛樂 在世 1.0 0.0 0.0\n",
      "娛樂 在家 1.0 0.0 0.0\n",
      "娛樂 地標 1.0 0.0 0.0\n",
      "娛樂 地熱淚 1.0 0.0 0.0\n",
      "娛樂 垃圾 1.0 0.0 0.0\n",
      "娛樂 基因 1.0 0.0 0.0\n",
      "娛樂 基帶 1.0 0.0 0.0\n",
      "娛樂 堤防 1.0 0.0 0.0\n",
      "娛樂 報名 1.0 0.0 0.0\n",
      "娛樂 報局 1.0 0.0 0.0\n",
      "娛樂 場就 1.0 0.0 0.0\n",
      "娛樂 墨西哥 1.0 0.0 0.0\n",
      "娛樂 壓軸嘉賓 1.0 0.0 0.0\n",
      "娛樂 壞人 1.0 0.0 0.0\n",
      "娛樂 士林 1.0 1.0 0.0\n",
      "娛樂 壯觀 1.0 0.0 0.0\n",
      "娛樂 夏于 1.0 0.0 0.0\n",
      "娛樂 夏洛特 1.0 0.0 0.0\n",
      "娛樂 外型 1.0 0.0 0.0\n",
      "娛樂 外媒 1.0 0.0 0.0\n",
      "娛樂 外甥 1.0 0.0 0.0\n",
      "娛樂 外籍 1.0 0.0 0.0\n",
      "娛樂 外貌 1.0 0.0 0.0\n",
      "娛樂 多利 1.0 0.0 0.0\n",
      "娛樂 多次 1.0 1.0 0.0\n",
      "娛樂 多給 1.0 0.0 0.0\n",
      "娛樂 多萬台幣 1.0 0.0 0.0\n",
      "娛樂 多處 1.0 1.0 0.0\n",
      "娛樂 多變 1.0 0.0 0.0\n",
      "娛樂 夢幻 1.0 0.0 0.0\n",
      "娛樂 大全 1.0 0.0 0.0\n",
      "娛樂 大喊 1.0 0.0 0.0\n",
      "娛樂 大場 1.0 0.0 0.0\n",
      "娛樂 大多 1.0 0.0 0.0\n",
      "娛樂 大婚 1.0 0.0 0.0\n",
      "娛樂 大戰 1.0 0.0 0.0\n",
      "娛樂 大方 1.0 0.0 0.0\n",
      "娛樂 大法 1.0 0.0 0.0\n",
      "娛樂 大片 1.0 0.0 0.0\n",
      "娛樂 大玩特玩 1.0 0.0 0.0\n",
      "娛樂 大紅露 1.0 0.0 0.0\n",
      "娛樂 大膽 1.0 0.0 0.0\n",
      "娛樂 大飽 1.0 0.0 0.0\n",
      "娛樂 天分 1.0 0.0 0.0\n",
      "娛樂 天后 1.0 0.0 0.0\n",
      "娛樂 天地 1.0 0.0 0.0\n",
      "娛樂 太久 1.0 0.0 0.0\n",
      "娛樂 太太 1.0 0.0 0.0\n",
      "娛樂 太操 1.0 0.0 0.0\n",
      "娛樂 太浮 1.0 0.0 0.0\n",
      "娛樂 夯到 1.0 0.0 0.0\n",
      "娛樂 夯劇 1.0 0.0 0.0\n",
      "娛樂 失守 1.0 0.0 0.0\n",
      "娛樂 失戀 1.0 0.0 0.0\n",
      "娛樂 失望 1.0 0.0 0.0\n",
      "娛樂 失焦 1.0 0.0 0.0\n",
      "娛樂 奇葩 1.0 0.0 0.0\n",
      "娛樂 女方 1.0 0.0 0.0\n",
      "娛樂 女歌手 1.0 0.0 0.0\n",
      "娛樂 女王 1.0 0.0 0.0\n",
      "娛樂 女皇 1.0 0.0 0.0\n",
      "娛樂 女聲 1.0 0.0 0.0\n",
      "娛樂 女配角 1.0 0.0 0.0\n",
      "娛樂 女高 1.0 0.0 0.0\n",
      "娛樂 好塔位 1.0 0.0 0.0\n",
      "娛樂 好好 1.0 0.0 0.0\n",
      "娛樂 好氣 1.0 0.0 0.0\n",
      "娛樂 好笑 1.0 0.0 0.0\n",
      "娛樂 好聲 1.0 0.0 0.0\n",
      "娛樂 如何 1.0 0.0 1.0\n",
      "娛樂 如同 1.0 0.0 0.0\n",
      "娛樂 如風 1.0 0.0 0.0\n",
      "娛樂 妊娠 1.0 0.0 0.0\n",
      "娛樂 妹學員 1.0 0.0 0.0\n",
      "娛樂 始料未及 1.0 1.0 0.0\n",
      "娛樂 始終 1.0 0.0 0.0\n",
      "娛樂 姓民眾 1.0 1.0 0.0\n",
      "娛樂 威能 1.0 0.0 0.0\n",
      "娛樂 婚前 1.0 0.0 0.0\n",
      "娛樂 婚姻 1.0 1.0 0.0\n",
      "娛樂 婚姻生活 1.0 0.0 0.0\n",
      "娛樂 婚宴 1.0 0.0 0.0\n",
      "娛樂 婚後都 1.0 0.0 0.0\n",
      "娛樂 婚變 1.0 0.0 0.0\n",
      "娛樂 婚近 1.0 0.0 0.0\n",
      "娛樂 媲美 1.0 0.0 0.0\n",
      "娛樂 媳婦 1.0 0.0 0.0\n",
      "娛樂 嫁妝 1.0 0.0 0.0\n",
      "娛樂 孕婦 1.0 0.0 0.0\n",
      "娛樂 孝順 1.0 0.0 0.0\n",
      "娛樂 季拍 1.0 0.0 0.0\n",
      "娛樂 孩子 1.0 0.0 0.0\n",
      "娛樂 學著點 1.0 0.0 0.0\n",
      "娛樂 學費 1.0 0.0 0.0\n",
      "娛樂 安傑羅到場 1.0 0.0 0.0\n",
      "娛樂 安奉 1.0 0.0 0.0\n",
      "娛樂 安安 1.0 0.0 0.0\n",
      "娛樂 安寧 1.0 0.0 0.0\n",
      "娛樂 安已 1.0 0.0 0.0\n",
      "娛樂 安悄 1.0 0.0 0.0\n",
      "娛樂 安排 1.0 1.0 1.0\n",
      "娛樂 安東尼福庫 1.0 0.0 0.0\n",
      "娛樂 安經 1.0 0.0 0.0\n",
      "娛樂 安陵 1.0 0.0 0.0\n",
      "娛樂 宋仲 1.0 0.0 0.0\n",
      "娛樂 宋慧 1.0 0.0 0.0\n",
      "娛樂 宋米 1.0 0.0 0.0\n",
      "娛樂 完竟 1.0 0.0 0.0\n",
      "娛樂 完結 1.0 0.0 0.0\n",
      "娛樂 完結篇 1.0 0.0 0.0\n",
      "娛樂 完美 1.0 0.0 0.0\n",
      "娛樂 宜中 1.0 0.0 0.0\n",
      "娛樂 客邦 1.0 0.0 0.0\n",
      "娛樂 宮澤理惠今 1.0 0.0 0.0\n",
      "娛樂 害對方 1.0 0.0 0.0\n",
      "娛樂 家事 1.0 0.0 0.0\n",
      "娛樂 家務事 1.0 0.0 0.0\n",
      "娛樂 寄律 1.0 0.0 0.0\n",
      "娛樂 密切 1.0 1.0 0.0\n",
      "娛樂 實力 1.0 0.0 0.0\n",
      "娛樂 實境秀 1.0 0.0 0.0\n",
      "娛樂 實黃安 1.0 0.0 0.0\n",
      "娛樂 寫過 1.0 0.0 0.0\n",
      "娛樂 寶貝兒子 1.0 0.0 0.0\n",
      "娛樂 封號 1.0 0.0 0.0\n",
      "娛樂 將于 1.0 0.0 0.0\n",
      "娛樂 將先 1.0 0.0 0.0\n",
      "娛樂 將由視 1.0 0.0 0.0\n",
      "娛樂 將近 1.0 0.0 0.0\n",
      "娛樂 專寵學員 1.0 0.0 0.0\n",
      "娛樂 專輯 1.0 0.0 0.0\n",
      "娛樂 專題 1.0 0.0 1.0\n",
      "娛樂 尊嚴 1.0 0.0 0.0\n",
      "娛樂 對此 1.0 0.0 0.0\n",
      "娛樂 小倆 1.0 0.0 0.0\n",
      "娛樂 小學學歷 1.0 0.0 0.0\n",
      "娛樂 小寶貝 1.0 0.0 0.0\n",
      "娛樂 小火 1.0 0.0 0.0\n",
      "娛樂 小片 1.0 0.0 0.0\n",
      "娛樂 小資女 1.0 0.0 0.0\n",
      "娛樂 尤其 1.0 0.0 0.0\n",
      "娛樂 就會 1.0 0.0 0.0\n",
      "娛樂 就連 1.0 0.0 0.0\n",
      "娛樂 尾聲 1.0 0.0 0.0\n",
      "娛樂 屁屁 1.0 0.0 0.0\n",
      "娛樂 展演 1.0 0.0 0.0\n",
      "娛樂 展現 1.0 0.0 0.0\n",
      "娛樂 山大斯 1.0 0.0 0.0\n",
      "娛樂 岩手 1.0 0.0 0.0\n",
      "娛樂 嶄露 1.0 0.0 0.0\n",
      "娛樂 巡演 1.0 0.0 0.0\n",
      "娛樂 工作室 1.0 0.0 0.0\n",
      "娛樂 工夫 1.0 0.0 0.0\n",
      "娛樂 左點 1.0 0.0 0.0\n",
      "娛樂 巧倫 1.0 0.0 0.0\n",
      "娛樂 巨塔 1.0 0.0 0.0\n",
      "娛樂 巨蛋 1.0 0.0 0.0\n",
      "娛樂 巨蟹 1.0 0.0 0.0\n",
      "娛樂 差點 1.0 0.0 0.0\n",
      "娛樂 已久 1.0 0.0 0.0\n",
      "娛樂 已買 1.0 0.0 0.0\n",
      "娛樂 已達 1.0 0.0 0.0\n",
      "娛樂 巴特勒 1.0 0.0 0.0\n",
      "娛樂 巴頭 1.0 0.0 0.0\n",
      "娛樂 布景 1.0 0.0 0.0\n",
      "娛樂 布蕾克 1.0 0.0 0.0\n",
      "娛樂 布蕾克萊弗莉 1.0 0.0 0.0\n",
      "娛樂 希說 1.0 0.0 0.0\n",
      "娛樂 帥氣 1.0 0.0 0.0\n",
      "娛樂 師信 1.0 0.0 0.0\n",
      "娛樂 師妹 1.0 0.0 0.0\n",
      "娛樂 帳號 1.0 0.0 0.0\n",
      "娛樂 帽子 1.0 0.0 0.0\n",
      "娛樂 幅照片 1.0 0.0 0.0\n",
      "娛樂 幕後共計 1.0 0.0 0.0\n",
      "娛樂 幕後卡司 1.0 0.0 0.0\n",
      "娛樂 幕後團隊 1.0 0.0 0.0\n",
      "娛樂 幫助 1.0 0.0 0.0\n",
      "娛樂 幫林良樂 1.0 0.0 0.0\n",
      "娛樂 平時 1.0 0.0 0.0\n",
      "娛樂 年前 1.0 1.0 0.0\n",
      "娛樂 年都給 1.0 0.0 0.0\n",
      "娛樂 幾乎 1.0 0.0 0.0\n",
      "娛樂 幾個 1.0 0.0 0.0\n",
      "娛樂 幾米 1.0 0.0 0.0\n",
      "娛樂 幾集 1.0 0.0 0.0\n",
      "娛樂 庄司 1.0 0.0 0.0\n",
      "娛樂 底下 1.0 0.0 0.0\n",
      "娛樂 店員工 1.0 0.0 0.0\n",
      "娛樂 度展 1.0 0.0 0.0\n",
      "娛樂 座金獎 1.0 0.0 0.0\n",
      "娛樂 庭妮 1.0 0.0 0.0\n",
      "娛樂 廚房 1.0 0.0 0.0\n",
      "娛樂 廣場 1.0 0.0 0.0\n",
      "娛樂 廣為 1.0 0.0 0.0\n",
      "娛樂 建澤 1.0 0.0 0.0\n",
      "娛樂 建騏 1.0 0.0 0.0\n",
      "娛樂 引熱議 1.0 0.0 0.0\n",
      "娛樂 引粉 1.0 0.0 0.0\n",
      "娛樂 弱勢 1.0 0.0 0.0\n",
      "娛樂 張嘴 1.0 0.0 0.0\n",
      "娛樂 張天 1.0 0.0 0.0\n",
      "娛樂 張家瑋 1.0 0.0 0.0\n",
      "娛樂 張本 1.0 0.0 0.0\n",
      "娛樂 張榕容 1.0 0.0 0.0\n",
      "娛樂 張爛 1.0 0.0 0.0\n",
      "娛樂 張瑞振 1.0 0.0 0.0\n",
      "娛樂 強敵 1.0 0.0 0.0\n",
      "娛樂 形象 1.0 0.0 0.0\n",
      "娛樂 彭文正 1.0 0.0 0.0\n",
      "娛樂 影師 1.0 0.0 0.0\n",
      "娛樂 影機 1.0 0.0 0.0\n",
      "娛樂 影音 1.0 0.0 0.0\n",
      "娛樂 很安詳 1.0 0.0 0.0\n",
      "娛樂 徐亨 1.0 0.0 0.0\n",
      "娛樂 徐佳瑩 1.0 0.0 0.0\n",
      "娛樂 從事 1.0 0.0 0.0\n",
      "娛樂 從心 1.0 0.0 0.0\n",
      "娛樂 從振興 1.0 0.0 0.0\n",
      "娛樂 微博 1.0 0.0 0.0\n",
      "娛樂 微博寫 1.0 0.0 0.0\n",
      "娛樂 德州 1.0 0.0 0.0\n",
      "娛樂 心妍 1.0 0.0 0.0\n",
      "娛樂 心情 1.0 0.0 0.0\n",
      "娛樂 心態 1.0 0.0 0.0\n",
      "娛樂 心機 1.0 0.0 0.0\n",
      "娛樂 心碎 1.0 0.0 0.0\n",
      "娛樂 心結 1.0 0.0 0.0\n",
      "娛樂 心臟 1.0 0.0 0.0\n",
      "娛樂 心跳 1.0 0.0 0.0\n",
      "娛樂 志玲 1.0 0.0 0.0\n",
      "娛樂 快樂 1.0 0.0 0.0\n",
      "娛樂 快點 1.0 0.0 0.0\n",
      "娛樂 急送 1.0 1.0 0.0\n",
      "娛樂 性別 1.0 0.0 0.0\n",
      "娛樂 性感 1.0 0.0 0.0\n",
      "娛樂 性放柔 1.0 0.0 0.0\n",
      "娛樂 性騷 1.0 0.0 0.0\n",
      "娛樂 恐怕 1.0 0.0 0.0\n",
      "娛樂 恐怖 1.0 0.0 0.0\n",
      "娛樂 恭賀小主 1.0 0.0 0.0\n",
      "娛樂 恰當 1.0 0.0 0.0\n",
      "娛樂 悲傷 1.0 0.0 0.0\n",
      "娛樂 情戀 1.0 0.0 0.0\n",
      "娛樂 情歌 1.0 0.0 0.0\n",
      "娛樂 想到 1.0 1.0 0.0\n",
      "娛樂 意指 1.0 0.0 0.0\n",
      "娛樂 愛別 1.0 0.0 0.0\n",
      "娛樂 愛在 1.0 0.0 0.0\n",
      "娛樂 愛奇兒 1.0 0.0 0.0\n",
      "娛樂 愛這部 1.0 0.0 0.0\n",
      "娛樂 感嘆 1.0 0.0 0.0\n",
      "娛樂 憂鬱 1.0 0.0 0.0\n",
      "娛樂 懂得 1.0 0.0 0.0\n",
      "娛樂 應該 1.0 0.0 0.0\n",
      "娛樂 懷女 1.0 0.0 0.0\n",
      "娛樂 懷孕 1.0 1.0 0.0\n",
      "娛樂 戀愛了 1.0 0.0 0.0\n",
      "娛樂 戀愛的 1.0 0.0 0.0\n",
      "娛樂 成功 1.0 0.0 0.0\n",
      "娛樂 成名 1.0 0.0 0.0\n",
      "娛樂 成潤 1.0 0.0 0.0\n",
      "娛樂 我個 1.0 0.0 0.0\n",
      "娛樂 我家 1.0 0.0 0.0\n",
      "娛樂 戒指 1.0 0.0 0.0\n",
      "娛樂 或力 1.0 0.0 0.0\n",
      "娛樂 或示 1.0 0.0 0.0\n",
      "娛樂 或許 1.0 0.0 0.0\n",
      "娛樂 或試 1.0 0.0 0.0\n",
      "娛樂 戰勝人腦 1.0 0.0 0.0\n",
      "娛樂 戰國 1.0 0.0 0.0\n",
      "娛樂 戰場 1.0 0.0 0.0\n",
      "娛樂 戲中 1.0 0.0 0.0\n",
      "娛樂 戲中出 1.0 0.0 0.0\n",
      "娛樂 戲劇 1.0 0.0 0.0\n",
      "娛樂 戲時 1.0 0.0 0.0\n",
      "娛樂 戲碼 1.0 1.0 0.0\n",
      "娛樂 戲稱 1.0 0.0 0.0\n",
      "娛樂 戲裡誤 1.0 0.0 0.0\n",
      "娛樂 戲裡飾 1.0 0.0 0.0\n",
      "娛樂 戴君 1.0 0.0 0.0\n",
      "娛樂 戴安娜 1.0 0.0 0.0\n",
      "娛樂 所有人 1.0 0.0 0.0\n",
      "娛樂 所苦 1.0 0.0 0.0\n",
      "娛樂 手續 1.0 0.0 0.0\n",
      "娛樂 打扮 1.0 0.0 0.0\n",
      "娛樂 打誤 1.0 0.0 0.0\n",
      "娛樂 打響 1.0 0.0 0.0\n",
      "娛樂 打頭陣 1.0 0.0 0.0\n",
      "娛樂 扮做 1.0 0.0 0.0\n",
      "娛樂 扮演 1.0 0.0 1.0\n",
      "娛樂 批評 1.0 0.0 0.0\n",
      "娛樂 找來 1.0 0.0 1.0\n",
      "娛樂 技能 1.0 0.0 0.0\n",
      "娛樂 把握 1.0 0.0 0.0\n",
      "娛樂 投票 1.0 0.0 0.0\n",
      "娛樂 抱歉 1.0 0.0 0.0\n",
      "娛樂 抵台 1.0 0.0 0.0\n",
      "娛樂 抵達 1.0 1.0 0.0\n",
      "娛樂 抽血 1.0 0.0 0.0\n",
      "娛樂 拉下 1.0 0.0 0.0\n",
      "娛樂 拉票 1.0 0.0 0.0\n",
      "娛樂 拍中國 1.0 0.0 0.0\n",
      "娛樂 拍個 1.0 0.0 0.0\n",
      "娛樂 拍寫 1.0 0.0 0.0\n",
      "娛樂 拍戲 1.0 0.0 0.0\n",
      "娛樂 拍照 1.0 1.0 0.0\n",
      "娛樂 拿捏 1.0 0.0 0.0\n",
      "娛樂 持有 1.0 1.0 0.0\n",
      "娛樂 指控 1.0 0.0 0.0\n",
      "娛樂 指教 1.0 0.0 0.0\n",
      "娛樂 掀起 1.0 0.0 0.0\n",
      "娛樂 掃射 1.0 0.0 0.0\n",
      "娛樂 掌握 1.0 0.0 0.0\n",
      "娛樂 排名第 1.0 0.0 0.0\n",
      "娛樂 排播 1.0 0.0 0.0\n",
      "娛樂 排擠 1.0 0.0 0.0\n",
      "娛樂 排除 1.0 0.0 0.0\n",
      "娛樂 掙扎 1.0 0.0 0.0\n",
      "娛樂 探員 1.0 0.0 0.0\n",
      "娛樂 接下 1.0 0.0 0.0\n",
      "娛樂 接到 1.0 0.0 0.0\n",
      "娛樂 接承認 1.0 0.0 0.0\n",
      "娛樂 接拍 1.0 0.0 0.0\n",
      "娛樂 接著 1.0 0.0 0.0\n",
      "娛樂 接近 1.0 0.0 0.0\n",
      "娛樂 控制 1.0 0.0 0.0\n",
      "娛樂 描寫 1.0 0.0 0.0\n",
      "娛樂 提問 1.0 0.0 0.0\n",
      "娛樂 換上 1.0 0.0 0.0\n",
      "娛樂 換成 1.0 0.0 0.0\n",
      "娛樂 搜刮 1.0 0.0 0.0\n",
      "娛樂 搭紅 1.0 0.0 0.0\n",
      "娛樂 搭配 1.0 0.0 0.0\n",
      "娛樂 搶先 1.0 0.0 0.0\n",
      "娛樂 摔機 1.0 0.0 0.0\n",
      "娛樂 摧毀 1.0 0.0 0.0\n",
      "娛樂 撞產生 1.0 0.0 0.0\n",
      "娛樂 播第 1.0 0.0 0.0\n",
      "娛樂 播音室 1.0 0.0 0.0\n",
      "娛樂 擁有 1.0 0.0 0.0\n",
      "娛樂 擊量 1.0 0.0 0.0\n",
      "娛樂 擔心 1.0 0.0 0.0\n",
      "娛樂 擔心會 1.0 0.0 0.0\n",
      "娛樂 擦傷 1.0 0.0 0.0\n",
      "娛樂 擺置 1.0 0.0 0.0\n",
      "娛樂 攀爬 1.0 0.0 0.0\n",
      "娛樂 攝一場 1.0 0.0 0.0\n",
      "娛樂 攝三立 1.0 0.0 0.0\n",
      "娛樂 攝影書 1.0 0.0 0.0\n",
      "娛樂 攝期間 1.0 0.0 0.0\n",
      "娛樂 支撐 1.0 0.0 0.0\n",
      "娛樂 收到 1.0 1.0 0.0\n",
      "娛樂 收場 1.0 0.0 0.0\n",
      "娛樂 收藏 1.0 0.0 0.0\n",
      "娛樂 收視戶 1.0 0.0 0.0\n",
      "娛樂 改掉 1.0 0.0 0.0\n",
      "娛樂 改編 1.0 0.0 0.0\n",
      "娛樂 改編成 1.0 0.0 0.0\n",
      "娛樂 改詞 1.0 0.0 0.0\n",
      "娛樂 改變 1.0 1.0 0.0\n",
      "娛樂 攻倫敦 1.0 0.0 0.0\n",
      "娛樂 攻擊 1.0 0.0 1.0\n",
      "娛樂 攻陷 1.0 0.0 0.0\n",
      "娛樂 放話 1.0 0.0 0.0\n",
      "娛樂 放送 1.0 0.0 0.0\n",
      "娛樂 政黨 1.0 0.0 0.0\n",
      "娛樂 救命 1.0 0.0 0.0\n",
      "娛樂 敘述 1.0 0.0 0.0\n",
      "娛樂 教主 1.0 0.0 0.0\n",
      "娛樂 教堂 1.0 0.0 0.0\n",
      "娛樂 教頭 1.0 0.0 0.0\n",
      "娛樂 散步 1.0 0.0 0.0\n",
      "娛樂 整棟 1.0 0.0 0.0\n",
      "娛樂 整理 1.0 0.0 0.0\n",
      "娛樂 數階段 1.0 0.0 0.0\n",
      "娛樂 文化 1.0 1.0 0.0\n",
      "娛樂 文青 1.0 0.0 0.0\n",
      "娛樂 新品 1.0 0.0 0.0\n",
      "娛樂 新戲 1.0 0.0 0.0\n",
      "娛樂 新星 1.0 0.0 0.0\n",
      "娛樂 新書會 1.0 0.0 0.0\n",
      "娛樂 新浪 1.0 0.0 0.0\n",
      "娛樂 新生代 1.0 0.0 0.0\n",
      "娛樂 方正 1.0 0.0 0.0\n",
      "娛樂 旅程 1.0 0.0 0.0\n",
      "娛樂 旅遊 1.0 0.0 0.0\n",
      "娛樂 日將 1.0 0.0 0.0\n",
      "娛樂 日常 1.0 0.0 0.0\n",
      "娛樂 日起 1.0 0.0 0.0\n",
      "娛樂 日驚傳 1.0 0.0 0.0\n",
      "娛樂 早期 1.0 0.0 0.0\n",
      "娛樂 早產 1.0 0.0 0.0\n",
      "娛樂 昂然 1.0 0.0 0.0\n",
      "娛樂 明亞瑟 1.0 0.0 0.0\n",
      "娛樂 明日之星 1.0 0.0 0.0\n",
      "娛樂 明顯 1.0 0.0 0.0\n",
      "娛樂 春花 1.0 0.0 0.0\n",
      "娛樂 昨何潤東 1.0 0.0 0.0\n",
      "娛樂 昨因 1.0 0.0 0.0\n",
      "娛樂 昨天下午 1.0 1.0 0.0\n",
      "娛樂 昨節目 1.0 0.0 0.0\n",
      "娛樂 昨肝 1.0 0.0 0.0\n",
      "娛樂 昨腎 1.0 0.0 0.0\n",
      "娛樂 昨證 1.0 0.0 0.0\n",
      "娛樂 是不是 1.0 0.0 0.0\n",
      "娛樂 時代 1.0 0.0 0.0\n",
      "娛樂 時候 1.0 0.0 0.0\n",
      "娛樂 時向 1.0 0.0 0.0\n",
      "娛樂 時批 1.0 0.0 0.0\n",
      "娛樂 時還 1.0 0.0 0.0\n",
      "娛樂 時鎮 1.0 0.0 0.0\n",
      "娛樂 晚上 1.0 1.0 0.0\n",
      "娛樂 晚年 1.0 0.0 0.0\n",
      "娛樂 晚餐 1.0 0.0 0.0\n",
      "娛樂 普通 1.0 0.0 0.0\n",
      "娛樂 智春結 1.0 0.0 0.0\n",
      "娛樂 暫譯 1.0 0.0 0.0\n",
      "娛樂 更任 1.0 0.0 0.0\n",
      "娛樂 更唱響 1.0 0.0 0.0\n",
      "娛樂 更顯 1.0 0.0 0.0\n",
      "娛樂 曾沛慈 1.0 0.0 0.0\n",
      "娛樂 最佳 1.0 0.0 0.0\n",
      "娛樂 最喜歡 1.0 0.0 0.0\n",
      "娛樂 最壞 1.0 0.0 0.0\n",
      "娛樂 最強 1.0 0.0 0.0\n",
      "娛樂 最快 1.0 0.0 0.0\n",
      "娛樂 最火熱 1.0 0.0 0.0\n",
      "娛樂 最誇張 1.0 0.0 0.0\n",
      "娛樂 最近 1.0 1.0 0.0\n",
      "娛樂 會員 1.0 0.0 0.0\n",
      "娛樂 會帶 1.0 0.0 0.0\n",
      "娛樂 月將 1.0 0.0 0.0\n",
      "娛樂 有候 1.0 0.0 0.0\n",
      "娛樂 有喜 1.0 0.0 0.0\n",
      "娛樂 有如 1.0 0.0 0.0\n",
      "娛樂 有感 1.0 0.0 0.0\n",
      "娛樂 有所 1.0 0.0 0.0\n",
      "娛樂 有望 1.0 0.0 0.0\n",
      "娛樂 有次 1.0 0.0 0.0\n",
      "娛樂 有過 1.0 0.0 0.0\n",
      "娛樂 服務人員 1.0 0.0 0.0\n",
      "娛樂 望露 1.0 0.0 0.0\n",
      "娛樂 期待 1.0 0.0 0.0\n",
      "娛樂 期第 1.0 0.0 0.0\n",
      "娛樂 未導過 1.0 0.0 0.0\n",
      "娛樂 未觀賞 1.0 0.0 0.0\n",
      "娛樂 末日 1.0 0.0 0.0\n",
      "娛樂 本刊 1.0 0.0 0.0\n",
      "娛樂 本集 1.0 0.0 0.0\n",
      "娛樂 朱芯儀 1.0 0.0 0.0\n",
      "娛樂 李嘉欣 1.0 0.0 0.0\n",
      "娛樂 李國毅 1.0 0.0 0.0\n",
      "娛樂 李敏 1.0 0.0 0.0\n",
      "娛樂 李毓芬力 1.0 0.0 0.0\n",
      "娛樂 李玉璽 1.0 0.0 0.0\n",
      "娛樂 杜拜 1.0 0.0 0.0\n",
      "娛樂 杜政哲 1.0 0.0 0.0\n",
      "娛樂 東京 1.0 0.0 0.0\n",
      "娛樂 林俊傑 1.0 0.0 0.0\n",
      "娛樂 林在培 1.0 0.0 0.0\n",
      "娛樂 林柏宏 1.0 0.0 0.0\n",
      "娛樂 林良樂彌留 1.0 0.0 0.0\n",
      "娛樂 林良樂後來 1.0 0.0 0.0\n",
      "娛樂 查寧坦圖 1.0 0.0 0.0\n",
      "娛樂 柯南 1.0 0.0 0.0\n",
      "娛樂 柯奈 1.0 0.0 0.0\n",
      "娛樂 柯有倫 1.0 0.0 0.0\n",
      "娛樂 柴智屏 1.0 0.0 0.0\n",
      "娛樂 根本 1.0 1.0 0.0\n",
      "娛樂 格拉斯 1.0 0.0 0.0\n",
      "娛樂 梁佑南 1.0 0.0 0.0\n",
      "娛樂 梁清 1.0 0.0 0.0\n",
      "娛樂 棋王 1.0 0.0 0.0\n",
      "娛樂 楊丞琳 1.0 0.0 0.0\n",
      "娛樂 楊祐寧 1.0 0.0 0.0\n",
      "娛樂 楊謹華 1.0 0.0 0.0\n",
      "娛樂 業餘 1.0 0.0 0.0\n",
      "娛樂 極力 1.0 0.0 0.0\n",
      "娛樂 極品 1.0 0.0 0.0\n",
      "娛樂 極為 1.0 0.0 0.0\n",
      "娛樂 極端 1.0 0.0 0.0\n",
      "娛樂 榮幸 1.0 0.0 0.0\n",
      "娛樂 樂小天 1.0 0.0 0.0\n",
      "娛樂 模樣 1.0 0.0 0.0\n",
      "娛樂 樹海 1.0 0.0 0.0\n",
      "娛樂 橋段 1.0 0.0 0.0\n",
      "娛樂 機密罪 1.0 1.0 0.0\n",
      "娛樂 機會 1.0 0.0 0.0\n",
      "娛樂 檔大戲 1.0 0.0 0.0\n",
      "娛樂 檢驗 1.0 0.0 0.0\n",
      "娛樂 次竟 1.0 0.0 0.0\n",
      "娛樂 歉意 1.0 0.0 0.0\n",
      "娛樂 歌后 1.0 0.0 0.0\n",
      "娛樂 歌姬 1.0 0.0 0.0\n",
      "娛樂 歌王 1.0 0.0 0.0\n",
      "娛樂 歌神 1.0 0.0 0.0\n",
      "娛樂 歌聲 1.0 0.0 0.0\n",
      "娛樂 歌迷 1.0 0.0 0.0\n",
      "娛樂 歌頌 1.0 0.0 0.0\n",
      "娛樂 歐布萊恩 1.0 0.0 0.0\n",
      "娛樂 歐漢聲 1.0 0.0 0.0\n",
      "娛樂 止不住 1.0 0.0 0.0\n",
      "娛樂 正妹 1.0 0.0 0.0\n",
      "娛樂 正晶限 1.0 0.0 0.0\n",
      "娛樂 正熱烈 1.0 0.0 0.0\n",
      "娛樂 正面 1.0 0.0 0.0\n",
      "娛樂 此事 1.0 0.0 0.0\n",
      "娛樂 此處 1.0 0.0 0.0\n",
      "娛樂 歷史 1.0 1.0 1.0\n",
      "娛樂 歷心臟 1.0 0.0 0.0\n",
      "娛樂 死因 1.0 0.0 0.0\n",
      "娛樂 每天 1.0 0.0 0.0\n",
      "娛樂 每日 1.0 0.0 0.0\n",
      "娛樂 每次 1.0 1.0 0.0\n",
      "娛樂 比亞省 1.0 0.0 0.0\n",
      "娛樂 比例 1.0 0.0 0.0\n",
      "娛樂 比肩 1.0 0.0 0.0\n",
      "娛樂 比賽 1.0 0.0 0.0\n",
      "娛樂 毛訓容 1.0 0.0 0.0\n",
      "娛樂 毫無 1.0 1.0 0.0\n",
      "娛樂 毫無疑問 1.0 0.0 0.0\n",
      "娛樂 民視八點 1.0 0.0 0.0\n",
      "娛樂 氣到 1.0 0.0 0.0\n",
      "娛樂 氣勢銳 1.0 0.0 0.0\n",
      "娛樂 氣地 1.0 0.0 0.0\n",
      "娛樂 水中 1.0 0.0 0.0\n",
      "娛樂 水太多 1.0 0.0 0.0\n",
      "娛樂 水果 1.0 0.0 0.0\n",
      "娛樂 水漲 1.0 0.0 0.0\n",
      "娛樂 求得 1.0 0.0 0.0\n",
      "娛樂 求援 1.0 0.0 0.0\n",
      "娛樂 江俊翰 1.0 0.0 0.0\n",
      "娛樂 沈春華今 1.0 0.0 0.0\n",
      "娛樂 沒什麼 1.0 0.0 0.0\n",
      "娛樂 沒通過 1.0 0.0 0.0\n",
      "娛樂 沒錯 1.0 0.0 0.0\n",
      "娛樂 治安 1.0 0.0 0.0\n",
      "娛樂 治療 1.0 1.0 0.0\n",
      "娛樂 法務 1.0 0.0 0.0\n",
      "娛樂 泰勒 1.0 0.0 0.0\n",
      "娛樂 泳衣 1.0 0.0 0.0\n",
      "娛樂 洩漏 1.0 1.0 0.0\n",
      "娛樂 活力 1.0 0.0 0.0\n",
      "娛樂 流星 1.0 0.0 0.0\n",
      "娛樂 浙江 1.0 0.0 0.0\n",
      "娛樂 浩大 1.0 0.0 0.0\n",
      "娛樂 浪費 1.0 0.0 0.0\n",
      "娛樂 浮上 1.0 0.0 0.0\n",
      "娛樂 浴室 1.0 0.0 0.0\n",
      "娛樂 海岸 1.0 0.0 0.0\n",
      "娛樂 消失 1.0 1.0 0.0\n",
      "娛樂 涉及 1.0 0.0 0.0\n",
      "娛樂 液化 1.0 0.0 0.0\n",
      "娛樂 淘汰 1.0 0.0 0.0\n",
      "娛樂 淡淡 1.0 0.0 0.0\n",
      "娛樂 深思 1.0 0.0 0.0\n",
      "娛樂 深情 1.0 0.0 0.0\n",
      "娛樂 深植 1.0 0.0 0.0\n",
      "娛樂 淺灘 1.0 0.0 0.0\n",
      "娛樂 清新 1.0 0.0 0.0\n",
      "娛樂 清涼裝 1.0 0.0 0.0\n",
      "娛樂 測試 1.0 0.0 0.0\n",
      "娛樂 渾身 1.0 0.0 0.0\n",
      "娛樂 溫度計 1.0 0.0 0.0\n",
      "娛樂 溫貞凌 1.0 0.0 0.0\n",
      "娛樂 溫馨 1.0 0.0 0.0\n",
      "娛樂 滿街 1.0 0.0 0.0\n",
      "娛樂 漂白 1.0 0.0 0.0\n",
      "娛樂 演員何 1.0 0.0 0.0\n",
      "娛樂 演員林 1.0 0.0 0.0\n",
      "娛樂 演得 1.0 0.0 0.0\n",
      "娛樂 演電影 1.0 0.0 0.0\n",
      "娛樂 漢典 1.0 0.0 0.0\n",
      "娛樂 澳洲 1.0 0.0 0.0\n",
      "娛樂 濕身秀 1.0 0.0 0.0\n",
      "娛樂 火車 1.0 1.0 0.0\n",
      "娛樂 炎亞綸 1.0 0.0 0.0\n",
      "娛樂 無大礙 1.0 1.0 0.0\n",
      "娛樂 無法獻 1.0 0.0 0.0\n",
      "娛樂 照片 1.0 1.0 1.0\n",
      "娛樂 照裡 1.0 0.0 0.0\n",
      "娛樂 照顧 1.0 0.0 0.0\n",
      "娛樂 熟慮 1.0 0.0 0.0\n",
      "娛樂 熟知 1.0 0.0 0.0\n",
      "娛樂 熟識 1.0 0.0 0.0\n",
      "娛樂 熱吻 1.0 0.0 0.0\n",
      "娛樂 營養師 1.0 0.0 0.0\n",
      "娛樂 爆出 1.0 0.0 0.0\n",
      "娛樂 爆滿 1.0 0.0 0.0\n",
      "娛樂 爆炸 1.0 0.0 0.0\n",
      "娛樂 爆紅 1.0 0.0 0.0\n",
      "娛樂 爸媽 1.0 0.0 0.0\n",
      "娛樂 爽度 1.0 0.0 0.0\n",
      "娛樂 牆壁樣 1.0 0.0 0.0\n",
      "娛樂 片酬 1.0 0.0 0.0\n",
      "娛樂 牌子 1.0 0.0 0.0\n",
      "娛樂 特別 1.0 1.0 0.0\n",
      "娛樂 特勤 1.0 0.0 0.0\n",
      "娛樂 犯贓物 1.0 1.0 0.0\n",
      "娛樂 狄倫是 1.0 0.0 0.0\n",
      "娛樂 狗屎 1.0 0.0 0.0\n",
      "娛樂 狠酸 1.0 0.0 0.0\n",
      "娛樂 猜測 1.0 0.0 0.0\n",
      "娛樂 獎勵 1.0 0.0 0.0\n",
      "娛樂 獨立 1.0 0.0 0.0\n",
      "娛樂 獲邀 1.0 0.0 0.0\n",
      "娛樂 獲黃安 1.0 0.0 0.0\n",
      "娛樂 王偉忠 1.0 0.0 0.0\n",
      "娛樂 王大文參 1.0 0.0 0.0\n",
      "娛樂 王大陸 1.0 0.0 0.0\n",
      "娛樂 王建 1.0 0.0 0.0\n",
      "娛樂 王若琳 1.0 0.0 0.0\n",
      "娛樂 王菲 1.0 0.0 0.0\n",
      "娛樂 玩具 1.0 0.0 0.0\n",
      "娛樂 玩動作 1.0 0.0 0.0\n",
      "娛樂 玩壞 1.0 0.0 0.0\n",
      "娛樂 珍貴 1.0 0.0 0.0\n",
      "娛樂 現實 1.0 0.0 0.0\n",
      "娛樂 瑞典 1.0 0.0 0.0\n",
      "娛樂 瑤瑤 1.0 0.0 0.0\n",
      "娛樂 瑪丹娜 1.0 0.0 0.0\n",
      "娛樂 瑪歌羅比飾 1.0 0.0 0.0\n",
      "娛樂 環伺 1.0 0.0 0.0\n",
      "娛樂 甜蜜 1.0 0.0 0.0\n",
      "娛樂 甜蜜蜜 1.0 0.0 0.0\n",
      "娛樂 生二胎 1.0 0.0 0.0\n",
      "娛樂 生個 1.0 0.0 0.0\n",
      "娛樂 生夢死 1.0 0.0 0.0\n",
      "娛樂 生小孩 1.0 0.0 0.0\n",
      "娛樂 產下 1.0 0.0 0.0\n",
      "娛樂 產婦 1.0 0.0 0.0\n",
      "娛樂 產檢時 1.0 0.0 0.0\n",
      "娛樂 田納 1.0 0.0 0.0\n",
      "娛樂 由痞 1.0 0.0 0.0\n",
      "娛樂 由黎煥 1.0 0.0 0.0\n",
      "娛樂 甲狀腺出 1.0 0.0 0.0\n",
      "娛樂 男依涉 1.0 1.0 0.0\n",
      "娛樂 男星 1.0 0.0 0.0\n",
      "娛樂 男面 1.0 0.0 0.0\n",
      "娛樂 界限 1.0 0.0 0.0\n",
      "娛樂 留著長 1.0 0.0 0.0\n",
      "娛樂 留言 1.0 0.0 0.0\n",
      "娛樂 當初 1.0 0.0 0.0\n",
      "娛樂 當天 1.0 0.0 0.0\n",
      "娛樂 當女兒 1.0 0.0 0.0\n",
      "娛樂 當然 1.0 0.0 0.0\n",
      "娛樂 疑似 1.0 1.0 0.0\n",
      "娛樂 病世 1.0 0.0 0.0\n",
      "娛樂 病痛 1.0 0.0 0.0\n",
      "娛樂 病魔 1.0 0.0 0.0\n",
      "娛樂 瘋狂 1.0 0.0 0.0\n",
      "娛樂 登峰 1.0 0.0 0.0\n",
      "娛樂 登記 1.0 0.0 0.0\n",
      "娛樂 登門 1.0 1.0 0.0\n",
      "娛樂 發行 1.0 0.0 1.0\n",
      "娛樂 發表 1.0 0.0 0.0\n",
      "娛樂 發表會 1.0 0.0 0.0\n",
      "娛樂 白家 1.0 0.0 0.0\n",
      "娛樂 白色 1.0 1.0 0.0\n",
      "娛樂 白色恐怖 1.0 1.0 0.0\n",
      "娛樂 百貨 1.0 0.0 1.0\n",
      "娛樂 盈眶 1.0 0.0 0.0\n",
      "娛樂 盛大 1.0 0.0 0.0\n",
      "娛樂 目標還 1.0 0.0 0.0\n",
      "娛樂 直升 1.0 0.0 0.0\n",
      "娛樂 直擊 1.0 0.0 0.0\n",
      "娛樂 直覺 1.0 0.0 0.0\n",
      "娛樂 相不夠 1.0 0.0 0.0\n",
      "娛樂 看不到 1.0 0.0 0.0\n",
      "娛樂 看起 1.0 0.0 0.0\n",
      "娛樂 真人版 1.0 0.0 0.0\n",
      "娛樂 真好 1.0 0.0 0.0\n",
      "娛樂 真是 1.0 0.0 0.0\n",
      "娛樂 眼班機 1.0 0.0 0.0\n",
      "娛樂 眼眶 1.0 0.0 0.0\n",
      "娛樂 眼睛 1.0 0.0 0.0\n",
      "娛樂 瞎猜 1.0 0.0 0.0\n",
      "娛樂 瞬間 1.0 0.0 0.0\n",
      "娛樂 矚目 1.0 0.0 0.0\n",
      "娛樂 知道 1.0 1.0 1.0\n",
      "娛樂 短時間 1.0 0.0 0.0\n",
      "娛樂 短片 1.0 0.0 0.0\n",
      "娛樂 石經典 1.0 0.0 0.0\n",
      "娛樂 石英 1.0 0.0 0.0\n",
      "娛樂 碉堡 1.0 0.0 0.0\n",
      "娛樂 碩士 1.0 0.0 0.0\n",
      "娛樂 碰過 1.0 1.0 0.0\n",
      "娛樂 確切 1.0 0.0 0.0\n",
      "娛樂 碼牌 1.0 0.0 0.0\n",
      "娛樂 礁石 1.0 0.0 0.0\n",
      "娛樂 神秘 1.0 0.0 0.0\n",
      "娛樂 票房 1.0 0.0 0.0\n",
      "娛樂 禁播 1.0 0.0 0.0\n",
      "娛樂 福利 1.0 0.0 0.0\n",
      "娛樂 福座 1.0 0.0 0.0\n",
      "娛樂 禮拜 1.0 0.0 0.0\n",
      "娛樂 秀出 1.0 0.0 0.0\n",
      "娛樂 秦今 1.0 0.0 0.0\n",
      "娛樂 移動 1.0 0.0 0.0\n",
      "娛樂 移往 1.0 1.0 0.0\n",
      "娛樂 程予 1.0 0.0 0.0\n",
      "娛樂 程度 1.0 0.0 0.0\n",
      "娛樂 稱頭 1.0 0.0 0.0\n",
      "娛樂 積極 1.0 1.0 0.0\n",
      "娛樂 空中 1.0 0.0 0.0\n",
      "娛樂 空虛 1.0 0.0 0.0\n",
      "娛樂 穿著 1.0 0.0 0.0\n",
      "娛樂 突圍 1.0 0.0 0.0\n",
      "娛樂 突破 1.0 0.0 1.0\n",
      "娛樂 立刻 1.0 1.0 0.0\n",
      "娛樂 站得住 1.0 0.0 0.0\n",
      "娛樂 竟得腸 1.0 0.0 0.0\n",
      "娛樂 竟然 1.0 0.0 0.0\n",
      "娛樂 童年 1.0 0.0 0.0\n",
      "娛樂 竹北 1.0 0.0 0.0\n",
      "娛樂 笑成 1.0 0.0 0.0\n",
      "娛樂 第一次 1.0 1.0 0.0\n",
      "娛樂 第一集 1.0 0.0 0.0\n",
      "娛樂 第三次 1.0 0.0 0.0\n",
      "娛樂 等待 1.0 1.0 0.0\n",
      "娛樂 答案 1.0 0.0 0.0\n",
      "娛樂 簡直 1.0 0.0 0.0\n",
      "娛樂 簡短 1.0 0.0 0.0\n",
      "娛樂 簽書會 1.0 0.0 0.0\n",
      "娛樂 粗糙 1.0 1.0 0.0\n",
      "娛樂 精密 1.0 0.0 0.0\n",
      "娛樂 精神 1.0 0.0 0.0\n",
      "娛樂 精選輯 1.0 0.0 0.0\n",
      "娛樂 糖尿病 1.0 0.0 0.0\n",
      "娛樂 系列 1.0 0.0 0.0\n",
      "娛樂 紀念 1.0 0.0 0.0\n",
      "娛樂 約會 1.0 0.0 0.0\n",
      "娛樂 納希維爾 1.0 0.0 0.0\n",
      "娛樂 素材 1.0 0.0 0.0\n",
      "娛樂 累累 1.0 0.0 0.0\n",
      "娛樂 終極 1.0 0.0 0.0\n",
      "娛樂 結怨 1.0 0.0 0.0\n",
      "娛樂 統班傑 1.0 0.0 0.0\n",
      "娛樂 絲絲入 1.0 0.0 0.0\n",
      "娛樂 經典 1.0 0.0 0.0\n",
      "娛樂 維護 1.0 0.0 0.0\n",
      "娛樂 網拍 1.0 1.0 0.0\n",
      "娛樂 編劇 1.0 0.0 0.0\n",
      "娛樂 總價值 1.0 0.0 0.0\n",
      "娛樂 總監 1.0 0.0 0.0\n",
      "娛樂 總點 1.0 0.0 0.0\n",
      "娛樂 繼承者 1.0 0.0 0.0\n",
      "娛樂 美秀 1.0 0.0 0.0\n",
      "娛樂 美腿 1.0 0.0 0.0\n",
      "娛樂 美貴 1.0 0.0 0.0\n",
      "娛樂 美麗 1.0 0.0 0.0\n",
      "娛樂 習慣 1.0 0.0 0.0\n",
      "娛樂 習生 1.0 0.0 0.0\n",
      "娛樂 老中青 1.0 0.0 0.0\n",
      "娛樂 老套 1.0 0.0 0.0\n",
      "娛樂 老神在在 1.0 0.0 0.0\n",
      "娛樂 考試 1.0 0.0 0.0\n",
      "娛樂 考量 1.0 0.0 0.0\n",
      "娛樂 而安 1.0 0.0 0.0\n",
      "娛樂 而斯 1.0 0.0 0.0\n",
      "娛樂 耐受 1.0 0.0 0.0\n",
      "娛樂 耗資 1.0 0.0 0.0\n",
      "娛樂 耳福 1.0 0.0 0.0\n",
      "娛樂 聚落 1.0 0.0 0.0\n",
      "娛樂 聯合 1.0 0.0 0.0\n",
      "娛樂 聰明 1.0 0.0 0.0\n",
      "娛樂 聲明 1.0 0.0 0.0\n",
      "娛樂 聽眾 1.0 0.0 0.0\n",
      "娛樂 肉搏 1.0 0.0 0.0\n",
      "娛樂 肯定 1.0 0.0 0.0\n",
      "娛樂 育有 1.0 0.0 0.0\n",
      "娛樂 胃炎 1.0 0.0 0.0\n",
      "娛樂 背景 1.0 0.0 0.0\n",
      "娛樂 胎兒 1.0 0.0 0.0\n",
      "娛樂 胸前 1.0 0.0 0.0\n",
      "娛樂 脖子 1.0 0.0 0.0\n",
      "娛樂 脫口 1.0 0.0 0.0\n",
      "娛樂 腫瘤 1.0 0.0 0.0\n",
      "娛樂 腰裝 1.0 0.0 0.0\n",
      "娛樂 膽戰心 1.0 0.0 0.0\n",
      "娛樂 臉上 1.0 0.0 0.0\n",
      "娛樂 臉書上 1.0 0.0 0.0\n",
      "娛樂 臉紅 1.0 0.0 0.0\n",
      "娛樂 臉部 1.0 0.0 0.0\n",
      "娛樂 自信 1.0 0.0 0.0\n",
      "娛樂 自卑 1.0 0.0 0.0\n",
      "娛樂 自學 1.0 0.0 0.0\n",
      "娛樂 自家 1.0 0.0 0.0\n",
      "娛樂 自拍 1.0 0.0 0.0\n",
      "娛樂 自此 1.0 0.0 1.0\n",
      "娛樂 自詡 1.0 0.0 0.0\n",
      "娛樂 至於 1.0 1.0 1.0\n",
      "娛樂 致命 1.0 0.0 0.0\n",
      "娛樂 興趣 1.0 0.0 0.0\n",
      "娛樂 舉杯 1.0 0.0 0.0\n",
      "娛樂 舊情 1.0 0.0 0.0\n",
      "娛樂 舒服 1.0 1.0 0.0\n",
      "娛樂 良好 1.0 0.0 0.0\n",
      "娛樂 良樂剛 1.0 0.0 0.0\n",
      "娛樂 芭樂 1.0 0.0 0.0\n",
      "娛樂 芭樂來 1.0 0.0 0.0\n",
      "娛樂 芭比娃娃 1.0 0.0 0.0\n",
      "娛樂 花園 1.0 0.0 0.0\n",
      "娛樂 花生 1.0 0.0 0.0\n",
      "娛樂 花邊 1.0 0.0 0.0\n",
      "娛樂 英國情 1.0 0.0 0.0\n",
      "娛樂 英屬 1.0 0.0 0.0\n",
      "娛樂 英文 1.0 0.0 0.0\n",
      "娛樂 英雄 1.0 0.0 0.0\n",
      "娛樂 范文芳 1.0 0.0 0.0\n",
      "娛樂 草地 1.0 0.0 0.0\n",
      "娛樂 莫文蔚 1.0 0.0 0.0\n",
      "娛樂 萌度 1.0 0.0 0.0\n",
      "娛樂 萬般 1.0 0.0 0.0\n",
      "娛樂 落伍 1.0 0.0 0.0\n",
      "娛樂 落落 1.0 0.0 0.0\n",
      "娛樂 著名 1.0 0.0 0.0\n",
      "娛樂 著鏡頭 1.0 0.0 0.0\n",
      "娛樂 著頭 1.0 0.0 0.0\n",
      "娛樂 葡萄糖 1.0 0.0 0.0\n",
      "娛樂 葬禮 1.0 0.0 0.0\n",
      "娛樂 薛博仁 1.0 0.0 0.0\n",
      "娛樂 藤本 1.0 0.0 0.0\n",
      "娛樂 蘇晏霈 1.0 0.0 0.0\n",
      "娛樂 蘇達 1.0 0.0 0.0\n",
      "娛樂 處處 1.0 0.0 0.0\n",
      "娛樂 蛋糕 1.0 0.0 0.0\n",
      "娛樂 蜜蜂 1.0 0.0 0.0\n",
      "娛樂 融合 1.0 0.0 0.0\n",
      "娛樂 血洗 1.0 0.0 0.0\n",
      "娛樂 血液 1.0 0.0 0.0\n",
      "娛樂 行動 1.0 0.0 0.0\n",
      "娛樂 行李 1.0 0.0 0.0\n",
      "娛樂 行走 1.0 0.0 0.0\n",
      "娛樂 術後恢 1.0 0.0 0.0\n",
      "娛樂 衛視 1.0 0.0 0.0\n",
      "娛樂 衝進 1.0 1.0 0.0\n",
      "娛樂 衣服 1.0 0.0 0.0\n",
      "娛樂 表演 1.0 1.0 0.0\n",
      "娛樂 表達 1.0 0.0 0.0\n",
      "娛樂 被車 1.0 0.0 0.0\n",
      "娛樂 裝扮 1.0 0.0 0.0\n",
      "娛樂 襲擊 1.0 0.0 0.0\n",
      "娛樂 西克 1.0 0.0 0.0\n",
      "娛樂 西州 1.0 0.0 0.0\n",
      "娛樂 西方 1.0 0.0 0.0\n",
      "娛樂 要命 1.0 0.0 0.0\n",
      "娛樂 覺得 1.0 0.0 0.0\n",
      "娛樂 觀眾緣 1.0 0.0 0.0\n",
      "娛樂 解放 1.0 0.0 0.0\n",
      "娛樂 解約 1.0 0.0 0.0\n",
      "娛樂 解釋 1.0 0.0 0.0\n",
      "娛樂 言林 1.0 0.0 0.0\n",
      "娛樂 記住 1.0 0.0 0.0\n",
      "娛樂 記者 1.0 0.0 1.0\n",
      "娛樂 訪問 1.0 0.0 0.0\n",
      "娛樂 設立 1.0 0.0 0.0\n",
      "娛樂 許富凱 1.0 0.0 0.0\n",
      "娛樂 許富翔 1.0 0.0 0.0\n",
      "娛樂 許瑋 1.0 0.0 0.0\n",
      "娛樂 許輔 1.0 0.0 0.0\n",
      "娛樂 評價 1.0 0.0 0.0\n",
      "娛樂 評委 1.0 0.0 0.0\n",
      "娛樂 詢問 1.0 0.0 0.0\n",
      "娛樂 試圖 1.0 0.0 0.0\n",
      "娛樂 詩今 1.0 0.0 0.0\n",
      "娛樂 詩詩 1.0 0.0 0.0\n",
      "娛樂 該曲 1.0 0.0 0.0\n",
      "娛樂 該片 1.0 0.0 0.0\n",
      "娛樂 該院 1.0 0.0 0.0\n",
      "娛樂 詳見 1.0 0.0 0.0\n",
      "娛樂 認僅 1.0 0.0 0.0\n",
      "娛樂 認真 1.0 0.0 0.0\n",
      "娛樂 認雙 1.0 0.0 0.0\n",
      "娛樂 語錄 1.0 0.0 0.0\n",
      "娛樂 說現 1.0 0.0 0.0\n",
      "娛樂 調情 1.0 0.0 0.0\n",
      "娛樂 請到 1.0 0.0 0.0\n",
      "娛樂 諧星 1.0 0.0 0.0\n",
      "娛樂 講義氣 1.0 0.0 0.0\n",
      "娛樂 講話 1.0 0.0 0.0\n",
      "娛樂 謝欣穎 1.0 0.0 0.0\n",
      "娛樂 謝祖武 1.0 0.0 0.0\n",
      "娛樂 謝長 1.0 0.0 0.0\n",
      "娛樂 謝霆鋒 1.0 0.0 0.0\n",
      "娛樂 謹慎 1.0 0.0 1.0\n",
      "娛樂 證黃安 1.0 0.0 0.0\n",
      "娛樂 警察 1.0 0.0 0.0\n",
      "娛樂 變成 1.0 0.0 0.0\n",
      "娛樂 豐富 1.0 0.0 0.0\n",
      "娛樂 象徵性 1.0 0.0 0.0\n",
      "娛樂 豪華 1.0 0.0 0.0\n",
      "娛樂 負擔 1.0 0.0 0.0\n",
      "娛樂 買到 1.0 0.0 0.0\n",
      "娛樂 買賣 1.0 1.0 0.0\n",
      "娛樂 賣家 1.0 1.0 0.0\n",
      "娛樂 賣座 1.0 0.0 0.0\n",
      "娛樂 賽結果 1.0 0.0 0.0\n",
      "娛樂 賽門 1.0 0.0 0.0\n",
      "娛樂 赫然 1.0 0.0 0.0\n",
      "娛樂 趁空 1.0 0.0 0.0\n",
      "娛樂 超強 1.0 0.0 0.0\n",
      "娛樂 超爽 1.0 0.0 0.0\n",
      "娛樂 超瘋 1.0 0.0 0.0\n",
      "娛樂 超級 1.0 0.0 0.0\n",
      "娛樂 超萌 1.0 0.0 0.0\n",
      "娛樂 超衰 1.0 0.0 0.0\n",
      "娛樂 超超 1.0 0.0 0.0\n",
      "娛樂 超越 1.0 0.0 0.0\n",
      "娛樂 超音波 1.0 0.0 0.0\n",
      "娛樂 超駭人 1.0 0.0 0.0\n",
      "娛樂 趕快 1.0 0.0 0.0\n",
      "娛樂 趕業績 1.0 0.0 0.0\n",
      "娛樂 足以 1.0 0.0 0.0\n",
      "娛樂 跑跑 1.0 0.0 0.0\n",
      "娛樂 跳得 1.0 0.0 0.0\n",
      "娛樂 躋身 1.0 0.0 0.0\n",
      "娛樂 身份 1.0 0.0 0.0\n",
      "娛樂 身價 1.0 0.0 0.0\n",
      "娛樂 身分 1.0 1.0 0.0\n",
      "娛樂 身心 1.0 0.0 0.0\n",
      "娛樂 身手 1.0 0.0 0.0\n",
      "娛樂 車忠實 1.0 0.0 0.0\n",
      "娛樂 軍情 1.0 0.0 0.0\n",
      "娛樂 轉入 1.0 0.0 0.0\n",
      "娛樂 辦案 1.0 0.0 0.0\n",
      "娛樂 迅速 1.0 0.0 0.0\n",
      "娛樂 近日 1.0 1.0 1.0\n",
      "娛樂 近況 1.0 0.0 0.0\n",
      "娛樂 近身 1.0 0.0 0.0\n",
      "娛樂 迷倒 1.0 0.0 0.0\n",
      "娛樂 迷宮 1.0 0.0 0.0\n",
      "娛樂 迷離 1.0 0.0 0.0\n",
      "娛樂 追星 1.0 0.0 0.0\n",
      "娛樂 追逐 1.0 0.0 0.0\n",
      "娛樂 送醫 1.0 1.0 1.0\n",
      "娛樂 逐漸 1.0 1.0 0.0\n",
      "娛樂 這件 1.0 0.0 0.0\n",
      "娛樂 這兩幕 1.0 0.0 0.0\n",
      "娛樂 這則 1.0 0.0 0.0\n",
      "娛樂 這幕 1.0 0.0 0.0\n",
      "娛樂 這次 1.0 0.0 0.0\n",
      "娛樂 這段 1.0 0.0 0.0\n",
      "娛樂 這狀態 1.0 0.0 0.0\n",
      "娛樂 這種 1.0 0.0 0.0\n",
      "娛樂 這部 1.0 0.0 0.0\n",
      "娛樂 這點 1.0 0.0 0.0\n",
      "娛樂 造假 1.0 0.0 0.0\n",
      "娛樂 造勢 1.0 0.0 0.0\n",
      "娛樂 連忙 1.0 1.0 0.0\n",
      "娛樂 進入 1.0 0.0 0.0\n",
      "娛樂 逼問 1.0 0.0 0.0\n",
      "娛樂 過林俊傑 1.0 0.0 0.0\n",
      "娛樂 達陣 1.0 0.0 0.0\n",
      "娛樂 遭一輛車 1.0 0.0 0.0\n",
      "娛樂 選人 1.0 0.0 0.0\n",
      "娛樂 選擇 1.0 0.0 0.0\n",
      "娛樂 選曲 1.0 0.0 0.0\n",
      "娛樂 遺產之爭 1.0 0.0 0.0\n",
      "娛樂 遺體 1.0 0.0 0.0\n",
      "娛樂 還曾 1.0 1.0 0.0\n",
      "娛樂 還能 1.0 0.0 0.0\n",
      "娛樂 還著 1.0 0.0 0.0\n",
      "娛樂 還覺 1.0 0.0 0.0\n",
      "娛樂 還請 1.0 0.0 0.0\n",
      "娛樂 還需 1.0 0.0 0.0\n",
      "娛樂 邊拍 1.0 0.0 0.0\n",
      "娛樂 邊播 1.0 0.0 0.0\n",
      "娛樂 那下 1.0 0.0 0.0\n",
      "娛樂 那年 1.0 0.0 0.0\n",
      "娛樂 那時 1.0 0.0 0.0\n",
      "娛樂 邱澤 1.0 0.0 0.0\n",
      "娛樂 邵大倫 1.0 0.0 0.0\n",
      "娛樂 邵大倫無奈 1.0 0.0 0.0\n",
      "娛樂 部份 1.0 0.0 0.0\n",
      "娛樂 部落 1.0 1.0 0.0\n",
      "娛樂 都否 1.0 0.0 0.0\n",
      "娛樂 鄉愁 1.0 0.0 0.0\n",
      "娛樂 鄰家 1.0 0.0 0.0\n",
      "娛樂 酗酒 1.0 0.0 0.0\n",
      "娛樂 酥胸 1.0 0.0 0.0\n",
      "娛樂 酥麻麻 1.0 0.0 0.0\n",
      "娛樂 酸言酸語 1.0 0.0 0.0\n",
      "娛樂 醜性 1.0 0.0 0.0\n",
      "娛樂 醫後已 1.0 0.0 0.0\n",
      "娛樂 醫生 1.0 1.0 1.0\n",
      "娛樂 醫美妞 1.0 0.0 0.0\n",
      "娛樂 里斯本 1.0 0.0 0.0\n",
      "娛樂 重疊 1.0 0.0 0.0\n",
      "娛樂 重要 1.0 0.0 0.0\n",
      "娛樂 重遊 1.0 0.0 0.0\n",
      "娛樂 野牛 1.0 0.0 0.0\n",
      "娛樂 金曲 1.0 0.0 0.0\n",
      "娛樂 金曲榜 1.0 0.0 0.0\n",
      "娛樂 金牌 1.0 0.0 0.0\n",
      "娛樂 金秀賢 1.0 0.0 0.0\n",
      "娛樂 金莎 1.0 0.0 0.0\n",
      "娛樂 金馬獎 1.0 0.0 0.0\n",
      "娛樂 銀色 1.0 0.0 0.0\n",
      "娛樂 銘章 1.0 0.0 0.0\n",
      "娛樂 錯續 1.0 0.0 0.0\n",
      "娛樂 鎮定 1.0 0.0 0.0\n",
      "娛樂 鐵肺 1.0 0.0 0.0\n",
      "娛樂 鑑定 1.0 0.0 0.0\n",
      "娛樂 閃過 1.0 0.0 0.0\n",
      "娛樂 開刀 1.0 0.0 0.0\n",
      "娛樂 開啟 1.0 0.0 0.0\n",
      "娛樂 開大陸 1.0 0.0 0.0\n",
      "娛樂 開法國 1.0 0.0 0.0\n",
      "娛樂 閨照 1.0 0.0 0.0\n",
      "娛樂 閱讀 1.0 0.0 0.0\n",
      "娛樂 關之琳 1.0 0.0 0.0\n",
      "娛樂 關心 1.0 0.0 0.0\n",
      "娛樂 關懷 1.0 0.0 0.0\n",
      "娛樂 關機 1.0 0.0 0.0\n",
      "娛樂 關注 1.0 1.0 1.0\n",
      "娛樂 限制 1.0 1.0 0.0\n",
      "娛樂 陣容 1.0 0.0 0.0\n",
      "娛樂 陰謀 1.0 0.0 0.0\n",
      "娛樂 陶昕然 1.0 0.0 0.0\n",
      "娛樂 陸續 1.0 1.0 0.0\n",
      "娛樂 陽光 1.0 0.0 0.0\n",
      "娛樂 隆媽 1.0 0.0 0.0\n",
      "娛樂 隋棠 1.0 0.0 0.0\n",
      "娛樂 階段 1.0 0.0 0.0\n",
      "娛樂 障礙 1.0 0.0 0.0\n",
      "娛樂 隨遇 1.0 0.0 0.0\n",
      "娛樂 隨隨便 1.0 0.0 0.0\n",
      "娛樂 隨韓國 1.0 0.0 0.0\n",
      "娛樂 險棋 1.0 0.0 0.0\n",
      "娛樂 隱私 1.0 0.0 0.0\n",
      "娛樂 雄導演 1.0 0.0 0.0\n",
      "娛樂 雅如 1.0 0.0 0.0\n",
      "娛樂 集全數 1.0 0.0 0.0\n",
      "娛樂 集則 1.0 0.0 0.0\n",
      "娛樂 集收視率 1.0 0.0 0.0\n",
      "娛樂 集數 1.0 0.0 0.0\n",
      "娛樂 集立馬開 1.0 0.0 0.0\n",
      "娛樂 集韓國 1.0 0.0 0.0\n",
      "娛樂 雖然 1.0 1.0 0.0\n",
      "娛樂 雖獲 1.0 0.0 0.0\n",
      "娛樂 雙子 1.0 0.0 0.0\n",
      "娛樂 難得 1.0 0.0 0.0\n",
      "娛樂 雷斯特 1.0 0.0 0.0\n",
      "娛樂 雷麗 1.0 0.0 0.0\n",
      "娛樂 電器展 1.0 0.0 0.0\n",
      "娛樂 電影界 1.0 0.0 0.0\n",
      "娛樂 電玩視角 1.0 0.0 0.0\n",
      "娛樂 電腦 1.0 0.0 0.0\n",
      "娛樂 電視 1.0 0.0 0.0\n",
      "娛樂 電視來 1.0 0.0 0.0\n",
      "娛樂 電視劇 1.0 0.0 0.0\n",
      "娛樂 震驚 1.0 0.0 1.0\n",
      "娛樂 霍血 1.0 0.0 0.0\n",
      "娛樂 露出 1.0 0.0 0.0\n",
      "娛樂 靈魂 1.0 0.0 0.0\n",
      "娛樂 青酒 1.0 0.0 0.0\n",
      "娛樂 靜靜 1.0 0.0 0.0\n",
      "娛樂 面前 1.0 1.0 0.0\n",
      "娛樂 面幾乎 1.0 0.0 0.0\n",
      "娛樂 面扎實 1.0 0.0 0.0\n",
      "娛樂 韓劇 1.0 0.0 0.0\n",
      "娛樂 韓國 1.0 0.0 0.0\n",
      "娛樂 韓國念 1.0 0.0 0.0\n",
      "娛樂 韓當練 1.0 0.0 0.0\n",
      "娛樂 音樂節 1.0 0.0 0.0\n",
      "娛樂 預想 1.0 0.0 0.0\n",
      "娛樂 預產期 1.0 0.0 0.0\n",
      "娛樂 預算 1.0 0.0 0.0\n",
      "娛樂 頓時 1.0 0.0 0.0\n",
      "娛樂 領取 1.0 0.0 0.0\n",
      "娛樂 領導 1.0 0.0 0.0\n",
      "娛樂 領證 1.0 0.0 0.0\n",
      "娛樂 領軍的 1.0 0.0 0.0\n",
      "娛樂 頻媒體 1.0 0.0 0.0\n",
      "娛樂 頻頻 1.0 0.0 0.0\n",
      "娛樂 顏孝永幫 1.0 0.0 0.0\n",
      "娛樂 類似訊息 1.0 0.0 0.0\n",
      "娛樂 顧問 1.0 1.0 0.0\n",
      "娛樂 顯無力 1.0 0.0 0.0\n",
      "娛樂 顯然 1.0 0.0 0.0\n",
      "娛樂 顴骨 1.0 0.0 0.0\n",
      "娛樂 風光 1.0 0.0 0.0\n",
      "娛樂 風格 1.0 0.0 0.0\n",
      "娛樂 風波 1.0 1.0 0.0\n",
      "娛樂 飛到 1.0 0.0 0.0\n",
      "娛樂 飛車 1.0 0.0 0.0\n",
      "娛樂 飾演 1.0 0.0 0.0\n",
      "娛樂 養成 1.0 0.0 0.0\n",
      "娛樂 餐廳 1.0 0.0 0.0\n",
      "娛樂 餘孽 1.0 0.0 0.0\n",
      "娛樂 餘韻 1.0 0.0 0.0\n",
      "娛樂 首先 1.0 0.0 0.0\n",
      "娛樂 首場 1.0 0.0 0.0\n",
      "娛樂 首歌 1.0 0.0 0.0\n",
      "娛樂 首滾 1.0 0.0 0.0\n",
      "娛樂 首演 1.0 0.0 0.0\n",
      "娛樂 首相 1.0 0.0 0.0\n",
      "娛樂 香港 1.0 0.0 0.0\n",
      "娛樂 騷動 1.0 0.0 0.0\n",
      "娛樂 驚訝 1.0 0.0 0.0\n",
      "娛樂 體悟 1.0 0.0 0.0\n",
      "娛樂 體育館 1.0 0.0 0.0\n",
      "娛樂 體重 1.0 0.0 0.0\n",
      "娛樂 高中 1.0 0.0 0.0\n",
      "娛樂 高多 1.0 0.0 0.0\n",
      "娛樂 高度 1.0 0.0 0.0\n",
      "娛樂 高調 1.0 0.0 0.0\n",
      "娛樂 高達 1.0 0.0 0.0\n",
      "娛樂 鬥得 1.0 0.0 0.0\n",
      "娛樂 魏如 1.0 0.0 0.0\n",
      "娛樂 魏男 1.0 0.0 0.0\n",
      "娛樂 魔鬼 1.0 0.0 0.0\n",
      "娛樂 魚圍 1.0 0.0 0.0\n",
      "娛樂 鳳飛飛 1.0 0.0 0.0\n",
      "娛樂 黎煥雄 1.0 0.0 0.0\n",
      "娛樂 點因 1.0 0.0 0.0\n",
      "娛樂 點檔 1.0 0.0 0.0\n",
      "娛樂 點滿 1.0 0.0 0.0\n",
      "娛樂 一個 2.0 0.0 1.0\n",
      "娛樂 一箱 2.0 0.0 0.0\n",
      "娛樂 上衣 2.0 0.0 0.0\n",
      "娛樂 不便 2.0 0.0 0.0\n",
      "娛樂 不再 2.0 0.0 0.0\n",
      "娛樂 不可 2.0 0.0 0.0\n",
      "娛樂 不定 2.0 0.0 0.0\n",
      "娛樂 不知 2.0 0.0 0.0\n",
      "娛樂 並且 2.0 0.0 0.0\n",
      "娛樂 事情 2.0 0.0 0.0\n",
      "娛樂 互動 2.0 0.0 0.0\n",
      "娛樂 人生 2.0 0.0 0.0\n",
      "娛樂 人間 2.0 0.0 0.0\n",
      "娛樂 代表 2.0 0.0 2.0\n",
      "娛樂 代言 2.0 0.0 0.0\n",
      "娛樂 伴娘 2.0 0.0 0.0\n",
      "娛樂 伴郎 2.0 0.0 0.0\n",
      "娛樂 低調 2.0 0.0 0.0\n",
      "娛樂 做好 2.0 0.0 0.0\n",
      "娛樂 元首 2.0 0.0 0.0\n",
      "娛樂 內文 2.0 0.0 0.0\n",
      "娛樂 全面 2.0 0.0 0.0\n",
      "娛樂 兩部 2.0 0.0 0.0\n",
      "娛樂 八大 2.0 0.0 0.0\n",
      "娛樂 公布 2.0 0.0 1.0\n",
      "娛樂 六月 2.0 0.0 0.0\n",
      "娛樂 其它 2.0 0.0 0.0\n",
      "娛樂 典禮 2.0 0.0 0.0\n",
      "娛樂 分享 2.0 0.0 0.0\n",
      "娛樂 到底 2.0 0.0 0.0\n",
      "娛樂 則為 2.0 0.0 0.0\n",
      "娛樂 前天 2.0 2.0 0.0\n",
      "娛樂 劉心悠 2.0 0.0 0.0\n",
      "娛樂 劉詩 2.0 0.0 0.0\n",
      "娛樂 勢必成 2.0 0.0 0.0\n",
      "娛樂 包括 2.0 0.0 2.0\n",
      "娛樂 卡加 2.0 0.0 0.0\n",
      "娛樂 印象 2.0 0.0 0.0\n",
      "娛樂 原因 2.0 1.0 0.0\n",
      "娛樂 原訂 2.0 0.0 0.0\n",
      "娛樂 參加隆 2.0 0.0 0.0\n",
      "娛樂 友人 2.0 1.0 0.0\n",
      "娛樂 取消 2.0 0.0 1.0\n",
      "娛樂 受訪 2.0 2.0 0.0\n",
      "娛樂 口水 2.0 0.0 0.0\n",
      "娛樂 合照 2.0 0.0 0.0\n",
      "娛樂 向右走 2.0 0.0 0.0\n",
      "娛樂 向左走 2.0 0.0 0.0\n",
      "娛樂 問到 2.0 0.0 0.0\n",
      "娛樂 問題 2.0 0.0 0.0\n",
      "娛樂 喝完 2.0 0.0 0.0\n",
      "娛樂 喬喬 2.0 0.0 0.0\n",
      "娛樂 單元 2.0 0.0 0.0\n",
      "娛樂 嘉賓 2.0 0.0 0.0\n",
      "娛樂 嚴重 2.0 2.0 0.0\n",
      "娛樂 四大 2.0 0.0 0.0\n",
      "娛樂 四處 2.0 0.0 0.0\n",
      "娛樂 堅強 2.0 0.0 0.0\n",
      "娛樂 場面 2.0 0.0 1.0\n",
      "娛樂 夏天 2.0 0.0 0.0\n",
      "娛樂 大人 2.0 1.0 0.0\n",
      "娛樂 大批 2.0 0.0 0.0\n",
      "娛樂 大眾 2.0 0.0 0.0\n",
      "娛樂 大部份 2.0 0.0 0.0\n",
      "娛樂 天王 2.0 0.0 0.0\n",
      "娛樂 女團 2.0 0.0 0.0\n",
      "娛樂 女孩 2.0 0.0 0.0\n",
      "娛樂 女星 2.0 0.0 0.0\n",
      "娛樂 女神 2.0 0.0 0.0\n",
      "娛樂 奶油 2.0 0.0 0.0\n",
      "娛樂 好不容易 2.0 0.0 0.0\n",
      "娛樂 好像 2.0 0.0 0.0\n",
      "娛樂 好多 2.0 0.0 0.0\n",
      "娛樂 好看 2.0 0.0 0.0\n",
      "娛樂 威士忌 2.0 0.0 0.0\n",
      "娛樂 媽媽 2.0 0.0 0.0\n",
      "娛樂 子彈 2.0 0.0 0.0\n",
      "娛樂 學員 2.0 0.0 0.0\n",
      "娛樂 學會 2.0 0.0 0.0\n",
      "娛樂 完全 2.0 0.0 0.0\n",
      "娛樂 完整 2.0 0.0 0.0\n",
      "娛樂 官方 2.0 0.0 0.0\n",
      "娛樂 家裡 2.0 0.0 0.0\n",
      "娛樂 寇乃馨 2.0 0.0 0.0\n",
      "娛樂 將成 2.0 0.0 0.0\n",
      "娛樂 專機 2.0 0.0 0.0\n",
      "娛樂 小名 2.0 0.0 0.0\n",
      "娛樂 小心 2.0 0.0 0.0\n",
      "娛樂 小桌子 2.0 0.0 0.0\n",
      "娛樂 小虎隊 2.0 0.0 0.0\n",
      "娛樂 尚未 2.0 0.0 0.0\n",
      "娛樂 就醫 2.0 0.0 0.0\n",
      "娛樂 巴黎 2.0 0.0 2.0\n",
      "娛樂 帶點 2.0 0.0 0.0\n",
      "娛樂 幕前 2.0 0.0 0.0\n",
      "娛樂 廣播 2.0 0.0 0.0\n",
      "娛樂 引起 2.0 0.0 0.0\n",
      "娛樂 形容 2.0 0.0 0.0\n",
      "娛樂 影集 2.0 0.0 0.0\n",
      "娛樂 影響 2.0 1.0 0.0\n",
      "娛樂 德烈 2.0 0.0 0.0\n",
      "娛樂 心肌梗塞 2.0 0.0 1.0\n",
      "娛樂 怎麼 2.0 0.0 0.0\n",
      "娛樂 怡蓉 2.0 0.0 0.0\n",
      "娛樂 恐怖份子 2.0 0.0 0.0\n",
      "娛樂 悄悄 2.0 0.0 1.0\n",
      "娛樂 意外 2.0 1.0 1.0\n",
      "娛樂 愛黛兒 2.0 0.0 0.0\n",
      "娛樂 感到 2.0 0.0 2.0\n",
      "娛樂 慈悲 2.0 0.0 0.0\n",
      "娛樂 我覺 2.0 0.0 0.0\n",
      "娛樂 或是 2.0 0.0 0.0\n",
      "娛樂 戴著 2.0 0.0 0.0\n",
      "娛樂 所有 2.0 0.0 0.0\n",
      "娛樂 拍攝 2.0 0.0 0.0\n",
      "娛樂 招牌 2.0 0.0 0.0\n",
      "娛樂 探視 2.0 0.0 0.0\n",
      "娛樂 接受 2.0 1.0 0.0\n",
      "娛樂 提到 2.0 0.0 0.0\n",
      "娛樂 搭乘 2.0 0.0 0.0\n",
      "娛樂 擔任 2.0 0.0 1.0\n",
      "娛樂 據悉 2.0 0.0 0.0\n",
      "娛樂 收視率 2.0 0.0 0.0\n",
      "娛樂 放心 2.0 0.0 0.0\n",
      "娛樂 故事 2.0 0.0 0.0\n",
      "娛樂 新書 2.0 0.0 0.0\n",
      "娛樂 新片 2.0 0.0 0.0\n",
      "娛樂 新聞 2.0 0.0 0.0\n",
      "娛樂 日本 2.0 0.0 0.0\n",
      "娛樂 早安 2.0 0.0 0.0\n",
      "娛樂 星星 2.0 0.0 0.0\n",
      "娛樂 曖昧 2.0 0.0 0.0\n",
      "娛樂 有人 2.0 1.0 0.0\n",
      "娛樂 有種 2.0 0.0 0.0\n",
      "娛樂 朋和陳志朋 2.0 0.0 0.0\n",
      "娛樂 本土 2.0 0.0 0.0\n",
      "娛樂 本月 2.0 0.0 0.0\n",
      "娛樂 李治廷 2.0 0.0 0.0\n",
      "娛樂 林亦莊 2.0 0.0 0.0\n",
      "娛樂 林則 2.0 0.0 0.0\n",
      "娛樂 林心如 2.0 0.0 0.0\n",
      "娛樂 林志炫 2.0 0.0 0.0\n",
      "娛樂 某間 2.0 0.0 0.0\n",
      "娛樂 條冠 2.0 0.0 0.0\n",
      "娛樂 槍戰 2.0 0.0 0.0\n",
      "娛樂 歌壇 2.0 0.0 0.0\n",
      "娛樂 歌曲 2.0 0.0 0.0\n",
      "娛樂 歐巴 2.0 0.0 0.0\n",
      "娛樂 歐弟 2.0 0.0 0.0\n",
      "娛樂 正在 2.0 1.0 0.0\n",
      "娛樂 正好 2.0 1.0 0.0\n",
      "娛樂 母親 2.0 0.0 0.0\n",
      "娛樂 民視 2.0 0.0 0.0\n",
      "娛樂 氛圍 2.0 0.0 0.0\n",
      "娛樂 求婚 2.0 0.0 0.0\n",
      "娛樂 沒辦法 2.0 0.0 0.0\n",
      "娛樂 流淚 2.0 0.0 0.0\n",
      "娛樂 浪漫 2.0 0.0 0.0\n",
      "娛樂 港星 2.0 0.0 0.0\n",
      "娛樂 準備 2.0 1.0 0.0\n",
      "娛樂 溫柔 2.0 0.0 0.0\n",
      "娛樂 火化 2.0 1.0 0.0\n",
      "娛樂 無法 2.0 2.0 0.0\n",
      "娛樂 然而 2.0 0.0 0.0\n",
      "娛樂 爆破 2.0 0.0 0.0\n",
      "娛樂 狀動脈 2.0 0.0 0.0\n",
      "娛樂 狀況 2.0 0.0 0.0\n",
      "娛樂 獎品 2.0 0.0 0.0\n",
      "娛樂 獨家 2.0 0.0 1.0\n",
      "娛樂 玩笑 2.0 0.0 0.0\n",
      "娛樂 現身 2.0 0.0 0.0\n",
      "娛樂 生活 2.0 0.0 1.0\n",
      "娛樂 留下 2.0 0.0 0.0\n",
      "娛樂 當地 2.0 0.0 0.0\n",
      "娛樂 當年 2.0 1.0 0.0\n",
      "娛樂 當攝 2.0 0.0 0.0\n",
      "娛樂 病房 2.0 0.0 0.0\n",
      "娛樂 療養 2.0 0.0 0.0\n",
      "娛樂 登場 2.0 0.0 1.0\n",
      "娛樂 相見 2.0 0.0 0.0\n",
      "娛樂 看出 2.0 0.0 0.0\n",
      "娛樂 真人秀 2.0 0.0 0.0\n",
      "娛樂 睡衣 2.0 0.0 0.0\n",
      "娛樂 知名 2.0 0.0 0.0\n",
      "娛樂 確實 2.0 0.0 0.0\n",
      "娛樂 祈福 2.0 0.0 0.0\n",
      "娛樂 稍早 2.0 0.0 0.0\n",
      "娛樂 笑容 2.0 0.0 0.0\n",
      "娛樂 精彩 2.0 0.0 0.0\n",
      "娛樂 素顏穿 2.0 0.0 0.0\n",
      "娛樂 經診斷 2.0 0.0 0.0\n",
      "娛樂 經驗 2.0 0.0 1.0\n",
      "娛樂 綜藝 2.0 0.0 0.0\n",
      "娛樂 網路 2.0 1.0 0.0\n",
      "娛樂 緋聞 2.0 0.0 0.0\n",
      "娛樂 繼續 2.0 0.0 1.0\n",
      "娛樂 美金 2.0 0.0 0.0\n",
      "娛樂 胡歌聞 2.0 0.0 0.0\n",
      "娛樂 臨時 2.0 1.0 0.0\n",
      "娛樂 至少 2.0 0.0 1.0\n",
      "娛樂 芭比 2.0 0.0 0.0\n",
      "娛樂 落淚 2.0 0.0 0.0\n",
      "娛樂 蒸發 2.0 0.0 0.0\n",
      "娛樂 薄紗 2.0 0.0 0.0\n",
      "娛樂 藝人黃安 2.0 0.0 0.0\n",
      "娛樂 蘇有 2.0 0.0 0.0\n",
      "娛樂 襪子 2.0 0.0 0.0\n",
      "娛樂 親友 2.0 0.0 0.0\n",
      "娛樂 言承旭 2.0 0.0 0.0\n",
      "娛樂 討論 2.0 0.0 0.0\n",
      "娛樂 詩婚禮 2.0 0.0 0.0\n",
      "娛樂 詩將 2.0 0.0 0.0\n",
      "娛樂 話題 2.0 0.0 0.0\n",
      "娛樂 該劇 2.0 0.0 0.0\n",
      "娛樂 誘惑 2.0 0.0 0.0\n",
      "娛樂 語氣 2.0 0.0 0.0\n",
      "娛樂 說法 2.0 1.0 0.0\n",
      "娛樂 談到 2.0 0.0 0.0\n",
      "娛樂 證實 2.0 0.0 0.0\n",
      "娛樂 貼心 2.0 0.0 0.0\n",
      "娛樂 輾過 2.0 0.0 0.0\n",
      "娛樂 辦法 2.0 0.0 0.0\n",
      "娛樂 近年 2.0 0.0 0.0\n",
      "娛樂 返台 2.0 0.0 0.0\n",
      "娛樂 透過 2.0 0.0 0.0\n",
      "娛樂 這些 2.0 0.0 0.0\n",
      "娛樂 這位 2.0 0.0 0.0\n",
      "娛樂 這樣 2.0 1.0 0.0\n",
      "娛樂 這麼 2.0 0.0 0.0\n",
      "娛樂 逝世 2.0 0.0 0.0\n",
      "娛樂 連續 2.0 0.0 0.0\n",
      "娛樂 週刊 2.0 0.0 2.0\n",
      "娛樂 過世 2.0 0.0 0.0\n",
      "娛樂 選拔 2.0 0.0 0.0\n",
      "娛樂 還好 2.0 0.0 0.0\n",
      "娛樂 那個 2.0 0.0 0.0\n",
      "娛樂 那部 2.0 0.0 0.0\n",
      "娛樂 那麼 2.0 0.0 0.0\n",
      "娛樂 郭雪 2.0 0.0 0.0\n",
      "娛樂 釋出 2.0 0.0 0.0\n",
      "娛樂 鐵塔 2.0 0.0 0.0\n",
      "娛樂 開始 2.0 0.0 0.0\n",
      "娛樂 開心 2.0 0.0 0.0\n",
      "娛樂 阻塞 2.0 0.0 0.0\n",
      "娛樂 除了 2.0 0.0 1.0\n",
      "娛樂 集結 2.0 0.0 0.0\n",
      "娛樂 霍建華 2.0 0.0 0.0\n",
      "娛樂 非常 2.0 0.0 0.0\n",
      "娛樂 音樂劇 2.0 0.0 0.0\n",
      "娛樂 預告 2.0 0.0 0.0\n",
      "娛樂 預計 2.0 0.0 1.0\n",
      "娛樂 首集 2.0 0.0 0.0\n",
      "娛樂 騷擾 2.0 0.0 0.0\n",
      "娛樂 驚人 2.0 0.0 0.0\n",
      "娛樂 驚傳 2.0 1.0 1.0\n",
      "娛樂 骨科 2.0 0.0 0.0\n",
      "娛樂 高圓圓 2.0 0.0 0.0\n",
      "娛樂 高齡 2.0 1.0 0.0\n",
      "娛樂 麥克班寧 2.0 0.0 0.0\n",
      "娛樂 點我 2.0 0.0 0.0\n",
      "娛樂 一片 3.0 0.0 0.0\n",
      "娛樂 一直 3.0 0.0 0.0\n",
      "娛樂 一點 3.0 0.0 0.0\n",
      "娛樂 不同 3.0 0.0 0.0\n",
      "娛樂 不會 3.0 0.0 1.0\n",
      "娛樂 世界 3.0 0.0 0.0\n",
      "娛樂 中央 3.0 1.0 3.0\n",
      "娛樂 中性 3.0 0.0 0.0\n",
      "娛樂 之前 3.0 0.0 0.0\n",
      "娛樂 享年 3.0 0.0 0.0\n",
      "娛樂 今晚 3.0 1.0 0.0\n",
      "娛樂 傷勢 3.0 1.0 0.0\n",
      "娛樂 僅有 3.0 0.0 0.0\n",
      "娛樂 兒童 3.0 0.0 0.0\n",
      "娛樂 冷井 3.0 0.0 0.0\n",
      "娛樂 出道 3.0 0.0 0.0\n",
      "娛樂 前夫 3.0 0.0 0.0\n",
      "娛樂 向蕙玲 3.0 0.0 0.0\n",
      "娛樂 地方 3.0 0.0 1.0\n",
      "娛樂 坦言 3.0 0.0 0.0\n",
      "娛樂 墨鏡 3.0 0.0 0.0\n",
      "娛樂 大家 3.0 0.0 3.0\n",
      "娛樂 夫妻 3.0 0.0 0.0\n",
      "娛樂 女歌迷 3.0 0.0 0.0\n",
      "娛樂 如果 3.0 0.0 3.0\n",
      "娛樂 家人 3.0 0.0 0.0\n",
      "娛樂 小朋友 3.0 0.0 0.0\n",
      "娛樂 尷尬 3.0 0.0 0.0\n",
      "娛樂 工作 3.0 2.0 1.0\n",
      "娛樂 廣播電 3.0 0.0 1.0\n",
      "娛樂 心臟繞 3.0 0.0 0.0\n",
      "娛樂 情深 3.0 0.0 0.0\n",
      "娛樂 情話 3.0 0.0 0.0\n",
      "娛樂 愛奇藝 3.0 0.0 0.0\n",
      "娛樂 愛情 3.0 0.0 0.0\n",
      "娛樂 感情 3.0 0.0 0.0\n",
      "娛樂 成為 3.0 0.0 0.0\n",
      "娛樂 所以 3.0 0.0 0.0\n",
      "娛樂 收入 3.0 0.0 0.0\n",
      "娛樂 文章 3.0 0.0 0.0\n",
      "娛樂 早日 3.0 0.0 0.0\n",
      "娛樂 明天 3.0 1.0 0.0\n",
      "娛樂 更是 3.0 0.0 0.0\n",
      "娛樂 有些 3.0 0.0 0.0\n",
      "娛樂 朋友 3.0 3.0 0.0\n",
      "娛樂 決定 3.0 0.0 1.0\n",
      "娛樂 沒有 3.0 2.0 0.0\n",
      "娛樂 活動 3.0 1.0 0.0\n",
      "娛樂 流行 3.0 0.0 0.0\n",
      "娛樂 消息 3.0 0.0 1.0\n",
      "娛樂 湯瑪士 3.0 0.0 0.0\n",
      "娛樂 滾石 3.0 0.0 0.0\n",
      "娛樂 演員 3.0 0.0 1.0\n",
      "娛樂 焦點 3.0 0.0 0.0\n",
      "娛樂 片中 3.0 0.0 0.0\n",
      "娛樂 獲得 3.0 0.0 0.0\n",
      "娛樂 現在 3.0 1.0 0.0\n",
      "娛樂 男主角 3.0 0.0 0.0\n",
      "娛樂 白宮 3.0 0.0 0.0\n",
      "娛樂 看到 3.0 1.0 0.0\n",
      "娛樂 真的 3.0 2.0 0.0\n",
      "娛樂 石元娜 3.0 0.0 0.0\n",
      "娛樂 祝福 3.0 0.0 0.0\n",
      "娛樂 經過 3.0 3.0 1.0\n",
      "娛樂 綜合 3.0 0.0 0.0\n",
      "娛樂 總統 3.0 0.0 0.0\n",
      "娛樂 老公 3.0 0.0 0.0\n",
      "娛樂 老婆 3.0 1.0 0.0\n",
      "娛樂 而且 3.0 0.0 0.0\n",
      "娛樂 花樣 3.0 0.0 0.0\n",
      "娛樂 葉婉如 3.0 0.0 0.0\n",
      "娛樂 蔡維歆 3.0 0.0 0.0\n",
      "娛樂 觀眾 3.0 0.0 0.0\n",
      "娛樂 資深 3.0 0.0 0.0\n",
      "娛樂 起來 3.0 0.0 0.0\n",
      "娛樂 路上 3.0 2.0 0.0\n",
      "娛樂 近來 3.0 0.0 0.0\n",
      "娛樂 這是 3.0 1.0 1.0\n",
      "娛樂 造型 3.0 0.0 0.0\n",
      "娛樂 離婚 3.0 0.0 0.0\n",
      "娛樂 面對 3.0 0.0 1.0\n",
      "娛樂 韓流 3.0 0.0 0.0\n",
      "娛樂 飯店 3.0 0.0 1.0\n",
      "娛樂 骨折 3.0 1.0 0.0\n",
      "娛樂 一下 4.0 0.0 1.0\n",
      "娛樂 上海 4.0 0.0 2.0\n",
      "娛樂 不少 4.0 2.0 0.0\n",
      "娛樂 中心 4.0 4.0 4.0\n",
      "娛樂 主持人 4.0 0.0 0.0\n",
      "娛樂 他們 4.0 0.0 0.0\n",
      "娛樂 以及 4.0 0.0 1.0\n",
      "娛樂 參加 4.0 0.0 1.0\n",
      "娛樂 只是 4.0 2.0 0.0\n",
      "娛樂 吳奇隆 4.0 0.0 0.0\n",
      "娛樂 回應 4.0 0.0 0.0\n",
      "娛樂 因為 4.0 4.0 0.0\n",
      "娛樂 姊姊 4.0 2.0 0.0\n",
      "娛樂 娛樂 4.0 0.0 0.0\n",
      "娛樂 婚禮 4.0 0.0 0.0\n",
      "娛樂 宋仲基 4.0 0.0 0.0\n",
      "娛樂 完成 4.0 1.0 0.0\n",
      "娛樂 專訪 4.0 0.0 1.0\n",
      "娛樂 少女 4.0 0.0 0.0\n",
      "娛樂 已經 4.0 0.0 0.0\n",
      "娛樂 希望 4.0 1.0 1.0\n",
      "娛樂 得知 4.0 1.0 0.0\n",
      "娛樂 感覺 4.0 0.0 0.0\n",
      "娛樂 手術 4.0 0.0 0.0\n",
      "娛樂 播出 4.0 0.0 0.0\n",
      "娛樂 攻佔 4.0 0.0 0.0\n",
      "娛樂 是否 4.0 0.0 0.0\n",
      "娛樂 最新 4.0 0.0 1.0\n",
      "娛樂 本片 4.0 0.0 0.0\n",
      "娛樂 林志玲 4.0 0.0 0.0\n",
      "娛樂 泰山 4.0 0.0 0.0\n",
      "娛樂 父親 4.0 1.0 0.0\n",
      "娛樂 狄倫 4.0 0.0 0.0\n",
      "娛樂 病逝 4.0 0.0 0.0\n",
      "娛樂 紛紛 4.0 0.0 0.0\n",
      "娛樂 經紀 4.0 0.0 0.0\n",
      "娛樂 美國 4.0 0.0 2.0\n",
      "娛樂 蘋果 4.0 1.0 3.0\n",
      "娛樂 還有 4.0 1.0 0.0\n",
      "娛樂 那種 4.0 0.0 0.0\n",
      "娛樂 音樂 4.0 0.0 0.0\n",
      "娛樂 一定 5.0 0.0 0.0\n",
      "娛樂 一部 5.0 0.0 0.0\n",
      "娛樂 下午 5.0 4.0 0.0\n",
      "娛樂 主演 5.0 0.0 0.0\n",
      "娛樂 劇情 5.0 0.0 0.0\n",
      "娛樂 太陽 5.0 0.0 0.0\n",
      "娛樂 姐姐 5.0 0.0 0.0\n",
      "娛樂 就是 5.0 0.0 0.0\n",
      "娛樂 弟弟 5.0 0.0 1.0\n",
      "娛樂 振興 5.0 0.0 0.0\n",
      "娛樂 昨晚 5.0 1.0 2.0\n",
      "娛樂 時間 5.0 0.0 0.0\n",
      "娛樂 曝光 5.0 0.0 0.0\n",
      "娛樂 畫面 5.0 2.0 0.0\n",
      "娛樂 結婚 5.0 0.0 0.0\n",
      "娛樂 臉書 5.0 1.0 0.0\n",
      "娛樂 英國 5.0 0.0 0.0\n",
      "娛樂 衰竭 5.0 1.0 0.0\n",
      "娛樂 電影 5.0 0.0 0.0\n",
      "娛樂 住院 6.0 0.0 0.0\n",
      "娛樂 兒子 6.0 4.0 0.0\n",
      "娛樂 可能 6.0 1.0 1.0\n",
      "娛樂 大使 6.0 0.0 1.0\n",
      "娛樂 演唱 6.0 0.0 0.0\n",
      "娛樂 胡歌 6.0 0.0 0.0\n",
      "娛樂 還是 6.0 0.0 1.0\n",
      "娛樂 出席 7.0 0.0 2.0\n",
      "娛樂 去年 7.0 5.0 6.0\n",
      "娛樂 台灣 7.0 2.0 7.0\n",
      "娛樂 導演 7.0 0.0 0.0\n",
      "娛樂 小小 7.0 0.0 0.0\n",
      "娛樂 日前 7.0 7.0 0.0\n",
      "娛樂 本內容 7.0 2.0 5.0\n",
      "娛樂 目前 7.0 4.0 1.0\n",
      "娛樂 粉絲 7.0 0.0 0.0\n",
      "娛樂 舉行 7.0 0.0 1.0\n",
      "娛樂 里島 7.0 0.0 0.0\n",
      "娛樂 不過 8.0 2.0 1.0\n",
      "娛樂 中國 8.0 0.0 1.0\n",
      "娛樂 出院 8.0 0.0 0.0\n",
      "娛樂 可以 8.0 0.0 0.0\n",
      "娛樂 台北 8.0 5.0 3.0\n",
      "娛樂 喜歡 8.0 0.0 0.0\n",
      "娛樂 歌手 8.0 0.0 0.0\n",
      "娛樂 演出 8.0 0.0 1.0\n",
      "娛樂 提供 9.0 2.0 6.0\n",
      "娛樂 透露 9.0 0.0 0.0\n",
      "娛樂 節目 10.0 0.0 2.0\n",
      "娛樂 報導 11.0 3.0 5.0\n",
      "娛樂 網友 11.0 2.0 0.0\n",
      "娛樂 表示 12.0 4.0 6.0\n",
      "娛樂 醫院 12.0 1.0 0.0\n",
      "娛樂 林良樂 16.0 0.0 0.0\n",
      "娛樂 自己 19.0 1.0 2.0\n"
     ]
    }
   ],
   "source": [
    "index = 0\n",
    "coef_features_c1_c2_c3 = []\n",
    "import re\n",
    "for feat, c1, c2, c3 in zip(vectorizer.get_feature_names(), \\\n",
    "                        clf.feature_count_[0], clf.feature_count_[1], clf.feature_count_[2]):\n",
    "    coef_features_c1_c2_c3.append(tuple([clf.coef_[0][index], feat, c1, c2, c3]))\n",
    "    index+=1\n",
    "\n",
    "#for i in sorted(coef_features_c1_c2_c3):\n",
    "#    if i[4] == max(i[2], i[3],i[4]) and i[4] >0 and  re.match(u\"[\\u4e00-\\u9fa5]+\",i[1]):\n",
    "#        print \"財經\", i[1], i[2], i[3], i[4]\n",
    "        \n",
    "#for i in sorted(coef_features_c1_c2_c3):\n",
    "#    if i[3] == max(i[2], i[3],i[4]) and i[3] >0 and  re.match(u\"[\\u4e00-\\u9fa5]+\",i[1]):\n",
    "#        print \"社會\", i[1], i[2], i[3], i[4]\n",
    "        \n",
    "for i in sorted(coef_features_c1_c2_c3):\n",
    "    if i[2] == max(i[2], i[3],i[4]) and i[2] >0 and  re.match(u\"[\\u4e00-\\u9fa5]+\",i[1]):\n",
    "        print \"娛樂\", i[1], i[2], i[3], i[4]"
   ]
  },
  {
   "cell_type": "code",
   "execution_count": 170,
   "metadata": {
    "collapsed": false
   },
   "outputs": [
    {
     "data": {
      "text/plain": [
       "SVC(C=1.0, cache_size=200, class_weight=None, coef0=0.0, degree=3, gamma=0.0,\n",
       "  kernel='linear', max_iter=-1, probability=False, random_state=None,\n",
       "  shrinking=True, tol=0.001, verbose=False)"
      ]
     },
     "execution_count": 170,
     "metadata": {},
     "output_type": "execute_result"
    }
   ],
   "source": [
    "from sklearn import svm, datasets\n",
    "\n",
    "iris = datasets.load_iris()\n",
    "X = iris.data[:, 2:4] \n",
    "Y = iris.target\n",
    "\n",
    "clf = svm.SVC(C=1.0, kernel='linear')\n",
    "clf.fit(X, Y)"
   ]
  },
  {
   "cell_type": "code",
   "execution_count": 171,
   "metadata": {
    "collapsed": false
   },
   "outputs": [
    {
     "name": "stdout",
     "output_type": "stream",
     "text": [
      "[[ 5.1  3.5  1.4  0.2]\n",
      " [ 4.9  3.   1.4  0.2]\n",
      " [ 4.7  3.2  1.3  0.2]]\n",
      "[[ 1.4  0.2]\n",
      " [ 1.4  0.2]\n",
      " [ 1.3  0.2]]\n"
     ]
    }
   ],
   "source": [
    "print iris.data[:3]\n",
    "print iris.data[:3, 2:4]"
   ]
  },
  {
   "cell_type": "code",
   "execution_count": 172,
   "metadata": {
    "collapsed": false
   },
   "outputs": [],
   "source": [
    "pred = clf.predict(X)"
   ]
  },
  {
   "cell_type": "code",
   "execution_count": 173,
   "metadata": {
    "collapsed": false
   },
   "outputs": [
    {
     "name": "stdout",
     "output_type": "stream",
     "text": [
      "[[50  0  0]\n",
      " [ 0 47  3]\n",
      " [ 0  2 48]]\n"
     ]
    }
   ],
   "source": [
    "from sklearn.metrics import confusion_matrix \n",
    "cm = confusion_matrix(Y, pred) \n",
    "print cm"
   ]
  },
  {
   "cell_type": "code",
   "execution_count": 174,
   "metadata": {
    "collapsed": true
   },
   "outputs": [],
   "source": [
    "from matplotlib.colors import ListedColormap\n",
    "import pylab as pl\n",
    "# Create color maps for 3-class classification problem, as with iris\n",
    "cmap_light = ListedColormap(['#FFAAAA', '#AAFFAA', '#AAAAFF'])\n",
    "cmap_bold = ListedColormap(['#FF0000', '#00FF00', '#0000FF'])\n",
    "\n",
    "def plot_estimator(estimator, X, y):\n",
    "    estimator.fit(X, y)\n",
    "    x_min, x_max = X[:, 0].min() - .1, X[:, 0].max() + .1\n",
    "    y_min, y_max = X[:, 1].min() - .1, X[:, 1].max() + .1\n",
    "    xx, yy = np.meshgrid(np.linspace(x_min, x_max, 100),\n",
    "                         np.linspace(y_min, y_max, 100))\n",
    "    Z = estimator.predict(np.c_[xx.ravel(), yy.ravel()])\n",
    "\n",
    "    # Put the result into a color plot\n",
    "    Z = Z.reshape(xx.shape)\n",
    "    pl.figure()\n",
    "    pl.pcolormesh(xx, yy, Z, cmap=cmap_light)\n",
    "\n",
    "    # Plot also the training points\n",
    "    pl.scatter(X[:, 0], X[:, 1], c=y, cmap=cmap_bold)\n",
    "    pl.axis('tight')\n",
    "    pl.axis('off')\n",
    "    pl.tight_layout()"
   ]
  },
  {
   "cell_type": "code",
   "execution_count": 175,
   "metadata": {
    "collapsed": false
   },
   "outputs": [
    {
     "data": {
      "image/png": "[encoded data removed]",
      "text/plain": [
       "<matplotlib.figure.Figure at 0x173aa950>"
      ]
     },
     "metadata": {},
     "output_type": "display_data"
    }
   ],
   "source": [
    "# Large Margin\n",
    "import numpy as np\n",
    "clf = svm.SVC(C=1.0, kernel='linear')\n",
    "clf.fit(X, Y)\n",
    "plot_estimator(clf,X,Y)\n"
   ]
  },
  {
   "cell_type": "code",
   "execution_count": 176,
   "metadata": {
    "collapsed": false
   },
   "outputs": [
    {
     "data": {
      "image/png": "[encoded data removed]",
      "text/plain": [
       "<matplotlib.figure.Figure at 0x17012f50>"
      ]
     },
     "metadata": {},
     "output_type": "display_data"
    }
   ],
   "source": [
    "clf = svm.SVC(C=100000.0, kernel='linear')\n",
    "clf.fit(X, Y)\n",
    "plot_estimator(clf,X,Y)"
   ]
  },
  {
   "cell_type": "code",
   "execution_count": 177,
   "metadata": {
    "collapsed": false
   },
   "outputs": [
    {
     "data": {
      "image/png": "[encoded data removed]",
      "text/plain": [
       "<matplotlib.figure.Figure at 0x170be2b0>"
      ]
     },
     "metadata": {},
     "output_type": "display_data"
    }
   ],
   "source": [
    "clf = svm.SVC(C=0.00001, kernel='linear')\n",
    "clf.fit(X, Y)\n",
    "plot_estimator(clf,X,Y)"
   ]
  },
  {
   "cell_type": "code",
   "execution_count": 178,
   "metadata": {
    "collapsed": false
   },
   "outputs": [
    {
     "data": {
      "image/png": "[encoded data removed]",
      "text/plain": [
       "<matplotlib.figure.Figure at 0x167b1a50>"
      ]
     },
     "metadata": {},
     "output_type": "display_data"
    }
   ],
   "source": [
    "# Large Margin\n",
    "import numpy as np\n",
    "#?svm.SVC\n",
    "# 'linear', 'poly', 'rbf', 'sigmoid', 'precomputed'\n",
    "clf = svm.SVC(C=1.0, kernel='poly')\n",
    "clf.fit(X, Y)\n",
    "plot_estimator(clf,X,Y)"
   ]
  },
  {
   "cell_type": "code",
   "execution_count": 219,
   "metadata": {
    "collapsed": false
   },
   "outputs": [
    {
     "data": {
      "text/plain": [
       "array([ 1,  4,  4, 40, 10, 20])"
      ]
     },
     "execution_count": 219,
     "metadata": {},
     "output_type": "execute_result"
    }
   ],
   "source": [
    "random_state = np.random.RandomState(0)\n",
    "random_state.randint(1,42,6)"
   ]
  },
  {
   "cell_type": "code",
   "execution_count": 203,
   "metadata": {
    "collapsed": false
   },
   "outputs": [],
   "source": [
    "X, Y = X[Y != 0], Y[Y != 0]\n",
    "Y = Y-1 # for it takes binary label only\n",
    "n_samples, n_features = X.shape\n"
   ]
  },
  {
   "cell_type": "code",
   "execution_count": 188,
   "metadata": {
    "collapsed": false
   },
   "outputs": [
    {
     "name": "stdout",
     "output_type": "stream",
     "text": [
      "(100, 2)\n",
      "(100,)\n"
     ]
    }
   ],
   "source": [
    "print X.shape\n",
    "print Y.shape"
   ]
  },
  {
   "cell_type": "code",
   "execution_count": 189,
   "metadata": {
    "collapsed": true
   },
   "outputs": [],
   "source": [
    "from sklearn.cross_validation import train_test_split\n",
    "X_train, X_test, y_train, y_test = train_test_split(X, Y, test_size=0.30, random_state=42)"
   ]
  },
  {
   "cell_type": "code",
   "execution_count": 190,
   "metadata": {
    "collapsed": false
   },
   "outputs": [
    {
     "name": "stdout",
     "output_type": "stream",
     "text": [
      "(30, 2)\n"
     ]
    }
   ],
   "source": [
    "print X_test.shape"
   ]
  },
  {
   "cell_type": "code",
   "execution_count": 191,
   "metadata": {
    "collapsed": false
   },
   "outputs": [],
   "source": [
    "# Run classifier\n",
    "classifier = svm.SVC(kernel='linear', probability=True)\n",
    "probas_ = classifier.fit(X_train, y_train).predict_proba(X_test)"
   ]
  },
  {
   "cell_type": "code",
   "execution_count": 192,
   "metadata": {
    "collapsed": false
   },
   "outputs": [
    {
     "name": "stdout",
     "output_type": "stream",
     "text": [
      "(70,)\n"
     ]
    }
   ],
   "source": [
    "print y_train.shape"
   ]
  },
  {
   "cell_type": "code",
   "execution_count": 194,
   "metadata": {
    "collapsed": false
   },
   "outputs": [
    {
     "name": "stdout",
     "output_type": "stream",
     "text": [
      "Area under the ROC curve : 0.972851\n"
     ]
    }
   ],
   "source": [
    "fpr, tpr, thresholds = roc_curve(y_test, probas_[:, 1])\n",
    "roc_auc = auc(fpr, tpr)\n",
    "print(\"Area under the ROC curve : %f\" % roc_auc)"
   ]
  },
  {
   "cell_type": "code",
   "execution_count": 195,
   "metadata": {
    "collapsed": false
   },
   "outputs": [
    {
     "data": {
      "image/png": "[encoded data removed]",
      "text/plain": [
       "<matplotlib.figure.Figure at 0x13c06690>"
      ]
     },
     "metadata": {},
     "output_type": "display_data"
    }
   ],
   "source": [
    "# Plot ROC curve\n",
    "pl.clf()\n",
    "pl.plot(fpr, tpr, label='ROC curve (area = %0.2f)' % roc_auc)\n",
    "pl.plot([0, 1], [0, 1], 'k--')\n",
    "pl.xlim([0.0, 1.0])\n",
    "pl.ylim([0.0, 1.0])\n",
    "pl.xlabel('False Positive Rate')\n",
    "pl.ylabel('True Positive Rate')\n",
    "pl.title('Receiver operating characteristic example')\n",
    "pl.legend(loc=\"lower right\")\n",
    "pl.show()"
   ]
  },
  {
   "cell_type": "code",
   "execution_count": null,
   "metadata": {
    "collapsed": true
   },
   "outputs": [],
   "source": []
  },
  {
   "cell_type": "code",
   "execution_count": null,
   "metadata": {
    "collapsed": true
   },
   "outputs": [],
   "source": []
  }
 ],
 "metadata": {
  "kernelspec": {
   "display_name": "Python 2",
   "language": "python",
   "name": "python2"
  },
  "language_info": {
   "codemirror_mode": {
    "name": "ipython",
    "version": 2
   },
   "file_extension": ".py",
   "mimetype": "text/x-python",
   "name": "python",
   "nbconvert_exporter": "python",
   "pygments_lexer": "ipython2",
   "version": "2.7.11"
  }
 },
 "nbformat": 4,
 "nbformat_minor": 0
}
