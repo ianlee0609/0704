{
 "cells": [
  {
   "cell_type": "code",
   "execution_count": 34,
   "metadata": {
    "collapsed": false
   },
   "outputs": [
    {
     "name": "stdout",
     "output_type": "stream",
     "text": [
      "... 46\n",
      "有片 19\n",
      "鄭捷 14\n",
      "死刑 5\n",
      "瑩雪 5\n",
      "槍決 4\n",
      "更新 4\n",
      "RTI 4\n",
      "央廣 4\n",
      "國台 4\n",
      "影片 3\n",
      "專家 3\n",
      "預防 3\n",
      "原來 3\n",
      "這樣 3\n",
      "商機 2\n",
      "接待 2\n",
      "1494 2\n",
      "成功 2\n",
      "520 2\n",
      "女主播 2\n",
      "441 2\n",
      "陸客 2\n",
      "野生 2\n",
      "這個 2\n",
      "招募 2\n",
      "週刊 2\n",
      "國昌 2\n",
      "網路 2\n",
      "明天 2\n",
      "運動 2\n",
      "星戰 2\n",
      "APP 2\n",
      "還是 2\n",
      "299 2\n",
      "金山 2\n",
      "10 2\n",
      "16 2\n",
      "服務財 2\n",
      "此議題 2\n",
      "上訴 2\n",
      "財訊 2\n"
     ]
    }
   ],
   "source": [
    "import requests\n",
    "from bs4 import  BeautifulSoup as bs\n",
    "from collections import Counter\n",
    "\n",
    "dic= Counter()\n",
    "for page in range(1,5):\n",
    "    res=requests.get('http://www.appledaily.com.tw/realtimenews/section/new/'+str(page))\n",
    "\n",
    "    soup=bs( res.text)\n",
    "    for ele in soup.select('.rtddt'):\n",
    "        title= ele.select('h1')[0].text\n",
    "        for cut in jieba.cut(title):\n",
    "            dic[cut]+=1\n",
    "for word in dic.most_common(100):\n",
    "    if(len(word[0])>=2):\n",
    "        print word[0],word[1]"
   ]
  },
  {
   "cell_type": "code",
   "execution_count": 3,
   "metadata": {
    "collapsed": true
   },
   "outputs": [
    {
     "name": "stdout",
     "output_type": "stream",
     "text": [
      "10\n"
     ]
    }
   ],
   "source": [
    "print a +5"
   ]
  },
  {
   "cell_type": "code",
   "execution_count": 12,
   "metadata": {
    "collapsed": false
   },
   "outputs": [
    {
     "name": "stdout",
     "output_type": "stream",
     "text": [
      "This is link1\n"
     ]
    }
   ],
   "source": [
    "from bs4 import BeautifulSoup as bs\n",
    "html_sample=' \\\n",
    "<html> \\\n",
    "<body> \\\n",
    "<h1 id=\"title\">Hello World</h1> \\\n",
    "<a href=\"#\" class=\"link\">This is link1</a> \\\n",
    "<a href=\"# link2\" class=\"link\">This is link2</a> \\\n",
    "</body> \\\n",
    "</html>'\n",
    "soup=bs(html_sample)\n",
    "print soup.select('.link')[0].text\n"
   ]
  },
  {
   "cell_type": "code",
   "execution_count": 27,
   "metadata": {
    "collapsed": false
   },
   "outputs": [
    {
     "name": "stdout",
     "output_type": "stream",
     "text": [
      "馬\n",
      "路上\n",
      "車子\n",
      "很多\n",
      "，\n",
      "很\n",
      "難過\n"
     ]
    }
   ],
   "source": [
    "import jieba\n",
    "word='馬路上車子很多，很難過'\n",
    "for cut in jieba.cut(word):\n",
    "    print cut\n"
   ]
  },
  {
   "cell_type": "code",
   "execution_count": null,
   "metadata": {
    "collapsed": true
   },
   "outputs": [],
   "source": []
  }
 ],
 "metadata": {
  "kernelspec": {
   "display_name": "Python 2",
   "language": "python",
   "name": "python2"
  },
  "language_info": {
   "codemirror_mode": {
    "name": "ipython",
    "version": 2
   },
   "file_extension": ".py",
   "mimetype": "text/x-python",
   "name": "python",
   "nbconvert_exporter": "python",
   "pygments_lexer": "ipython2",
   "version": "2.7.11"
  }
 },
 "nbformat": 4,
 "nbformat_minor": 0
}
